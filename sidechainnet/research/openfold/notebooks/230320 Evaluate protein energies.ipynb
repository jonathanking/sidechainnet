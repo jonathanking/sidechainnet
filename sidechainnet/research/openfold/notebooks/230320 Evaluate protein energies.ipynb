{
 "cells": [
  {
   "cell_type": "code",
   "execution_count": 1,
   "metadata": {},
   "outputs": [],
   "source": [
    "import sidechainnet as scn\n",
    "from glob import glob\n",
    "import numpy as np\n",
    "import matplotlib.pyplot as plt\n",
    "import seaborn as sns\n",
    "# set dark grid\n",
    "sns.set_style(\"darkgrid\")"
   ]
  },
  {
   "cell_type": "code",
   "execution_count": 2,
   "metadata": {},
   "outputs": [],
   "source": [
    "starting_pdb_dir = \"/net/pulsar/home/koes/jok120/acs2023/evaluation/tempval/val-before/pred/\"\n",
    "ending_pdb_dir = \"/net/pulsar/home/koes/jok120/acs2023/evaluation/tempval/val-before/true/\"\n",
    "starting_pdbs = glob(starting_pdb_dir + \"*.pdb\")\n"
   ]
  },
  {
   "cell_type": "code",
   "execution_count": 3,
   "metadata": {},
   "outputs": [
    {
     "name": "stdout",
     "output_type": "stream",
     "text": [
      "7dfe_A\n",
      "204769152347420.66 6071006.175685993\n",
      "7t71_A\n",
      "204769152347420.62 1307724772989.5322\n",
      "7vmu_A\n",
      "9.710543564732758e+16 2551999215733.688\n",
      "7dcm_A\n",
      "76488977056.45312 1163385.1838484823\n",
      "7au7_A\n",
      "76488967003.25386 10613258445743.959\n",
      "7kik_A\n",
      "76489108778.58875 6838849015616.985\n",
      "7awk_A\n",
      "36575213105.86081 36575090058.10945\n",
      "6wmk_A\n",
      "10613258445743.963 5796925.404683656\n",
      "7esx_A\n",
      "10613258445743.965 9.710543564722254e+16\n",
      "7mpz_A\n",
      "-24133.45722158537 -24133.457598348243\n",
      "7f8a_A\n",
      "6838848710151.272 204769152347420.6\n",
      "7q47_A\n",
      "6838849015617.064 1297565.642809169\n",
      "7e37_A\n",
      "10613259315330.572 76488959952.09427\n"
     ]
    }
   ],
   "source": [
    "data = {}\n",
    "for pdb_path in starting_pdbs:\n",
    "    pdb_id = \"_\".join(pdb_path.split(\"_\")[-2:]).replace(\".pdb\", \"\")\n",
    "    print(pdb_id)\n",
    "    start = scn.load_pdb(pdb_path, pdbid=pdb_id)\n",
    "    # start.add_hydrogens(add_to_heavy_atoms=True)\n",
    "    start_energy = start.get_energy(add_missing=True, return_unitless_kjmol=True, add_hydrogens_via_openmm=True)\n",
    "\n",
    "    # end = scn.load_pdb(pdb_path.replace(\"pred\", \"true\"), pdbid=pdb_id)\n",
    "    random_pdb = np.random.choice(starting_pdbs)\n",
    "    pdb_id = \"_\".join(random_pdb.split(\"_\")[-2:]).replace(\".pdb\", \"\")\n",
    "    end = scn.load_pdb(random_pdb, pdbid=pdb_id)\n",
    "    # end.add_hydrogens(add_to_heavy_atoms=True)\n",
    "    end_energy = end.get_energy(add_missing=True, return_unitless_kjmol=True, add_hydrogens_via_openmm=True)\n",
    "    data[pdb_id] = {\"start\": start_energy, \"end\": end_energy}\n",
    "    print(end_energy, start_energy)"
   ]
  },
  {
   "cell_type": "code",
   "execution_count": null,
   "metadata": {},
   "outputs": [],
   "source": []
  }
 ],
 "metadata": {
  "kernelspec": {
   "display_name": "sidechainnetv2",
   "language": "python",
   "name": "python3"
  },
  "language_info": {
   "codemirror_mode": {
    "name": "ipython",
    "version": 3
   },
   "file_extension": ".py",
   "mimetype": "text/x-python",
   "name": "python",
   "nbconvert_exporter": "python",
   "pygments_lexer": "ipython3",
   "version": "3.8.12"
  },
  "orig_nbformat": 4,
  "vscode": {
   "interpreter": {
    "hash": "2ea65d684a20c904dd0ce196a8938c08205850e9bd6d966931389d7cee446e27"
   }
  }
 },
 "nbformat": 4,
 "nbformat_minor": 2
}
