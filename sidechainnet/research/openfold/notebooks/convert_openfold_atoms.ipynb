{
 "cells": [
  {
   "cell_type": "code",
   "execution_count": 7,
   "metadata": {},
   "outputs": [],
   "source": [
    "from sidechainnet.structure.build_info import ATOM_MAP_HEAVY\n",
    "from sidechainnet.utils.sequence import ONE_TO_THREE_LETTER_MAP, THREE_TO_ONE_LETTER_MAP\n",
    "from openfold.np.residue_constants import restype_name_to_atom14_names\n",
    "\n",
    "import torch"
   ]
  },
  {
   "cell_type": "code",
   "execution_count": null,
   "metadata": {},
   "outputs": [],
   "source": [
    "def get_openfold_to_sidechainnet_mapping():\n",
    "    openfold_idx_to_scn_idx = {}\n",
    "    openfold_name_to_openfold_idx = {}\n",
    "    for resname, atom_names in restype_name_to_atom14_names.items():\n",
    "        openfold_name_to_openfold_idx[resname] = {atom_name: i for i, atom_name in enumerate(atom_names) if atom_name}\n",
    "\n",
    "    scn_name_to_scn_idx = {}\n",
    "    for resid, atom_names in ATOM_MAP_HEAVY.items():\n",
    "        # atom_names = ['N', 'CA', 'C', 'O'] + [v for v in values['atom-names'] if not v.startswith('H')]\n",
    "        resname = ONE_TO_THREE_LETTER_MAP[resid]\n",
    "        scn_name_to_scn_idx[resname] = {atom_name: i for i, atom_name in enumerate(atom_names) if atom_name != \"PAD\"}\n",
    "    \n",
    "    openfold_idx_to_scn_idx = {}\n",
    "    # Now, compare the two dictionaries to make note of where the differences are\n",
    "    for (resname, scn_atomnames) in scn_name_to_scn_idx.items():\n",
    "        rescode = THREE_TO_ONE_LETTER_MAP[resname]\n",
    "        openfold_idx_to_scn_idx[rescode] = {}\n",
    "        for scn_atomname, scn_idx in scn_atomnames.items():\n",
    "            try:\n",
    "                openfold_idx = openfold_name_to_openfold_idx[resname][scn_atomname]\n",
    "            except KeyError:\n",
    "                # openfold_idx = scn_atomname\n",
    "                # don't add this atom to the dictionary\n",
    "                continue\n",
    "            openfold_idx_to_scn_idx[rescode][openfold_idx] = scn_idx\n",
    "        openfold_idx_to_scn_idx[rescode] = (torch.tensor(list(openfold_idx_to_scn_idx[rescode].keys())), \n",
    "                                            torch.tensor(list(openfold_idx_to_scn_idx[rescode].values())))\n",
    "    \n",
    "    return openfold_idx_to_scn_idx"
   ]
  },
  {
   "cell_type": "code",
   "execution_count": 2,
   "metadata": {},
   "outputs": [],
   "source": [
    "openfold_idx_to_scn_idx = {}\n",
    "openfold_name_to_openfold_idx = {}\n",
    "for resname, atom_names in restype_name_to_atom14_names.items():\n",
    "    openfold_name_to_openfold_idx[resname] = {atom_name: i for i, atom_name in enumerate(atom_names) if atom_name}\n"
   ]
  },
  {
   "cell_type": "code",
   "execution_count": 8,
   "metadata": {},
   "outputs": [],
   "source": [
    "scn_name_to_scn_idx = {}\n",
    "for resid, atom_names in ATOM_MAP_HEAVY.items():\n",
    "    # atom_names = ['N', 'CA', 'C', 'O'] + [v for v in values['atom-names'] if not v.startswith('H')]\n",
    "    resname = ONE_TO_THREE_LETTER_MAP[resid]\n",
    "    scn_name_to_scn_idx[resname] = {atom_name: i for i, atom_name in enumerate(atom_names) if atom_name != \"PAD\"}"
   ]
  },
  {
   "cell_type": "code",
   "execution_count": 9,
   "metadata": {},
   "outputs": [
    {
     "data": {
      "text/plain": [
       "{'ALA': {'N': 0, 'CA': 1, 'C': 2, 'O': 3, 'CB': 4},\n",
       " 'ARG': {'N': 0,\n",
       "  'CA': 1,\n",
       "  'C': 2,\n",
       "  'O': 3,\n",
       "  'CB': 4,\n",
       "  'CG': 5,\n",
       "  'CD': 6,\n",
       "  'NE': 7,\n",
       "  'CZ': 8,\n",
       "  'NH1': 9,\n",
       "  'NH2': 10},\n",
       " 'ASN': {'N': 0,\n",
       "  'CA': 1,\n",
       "  'C': 2,\n",
       "  'O': 3,\n",
       "  'CB': 4,\n",
       "  'CG': 5,\n",
       "  'OD1': 6,\n",
       "  'ND2': 7},\n",
       " 'ASP': {'N': 0,\n",
       "  'CA': 1,\n",
       "  'C': 2,\n",
       "  'O': 3,\n",
       "  'CB': 4,\n",
       "  'CG': 5,\n",
       "  'OD1': 6,\n",
       "  'OD2': 7},\n",
       " 'CYS': {'N': 0, 'CA': 1, 'C': 2, 'O': 3, 'CB': 4, 'SG': 5},\n",
       " 'GLN': {'N': 0,\n",
       "  'CA': 1,\n",
       "  'C': 2,\n",
       "  'O': 3,\n",
       "  'CB': 4,\n",
       "  'CG': 5,\n",
       "  'CD': 6,\n",
       "  'OE1': 7,\n",
       "  'NE2': 8},\n",
       " 'GLU': {'N': 0,\n",
       "  'CA': 1,\n",
       "  'C': 2,\n",
       "  'O': 3,\n",
       "  'CB': 4,\n",
       "  'CG': 5,\n",
       "  'CD': 6,\n",
       "  'OE1': 7,\n",
       "  'OE2': 8},\n",
       " 'GLY': {'N': 0, 'CA': 1, 'C': 2, 'O': 3},\n",
       " 'HIS': {'N': 0,\n",
       "  'CA': 1,\n",
       "  'C': 2,\n",
       "  'O': 3,\n",
       "  'CB': 4,\n",
       "  'CG': 5,\n",
       "  'ND1': 6,\n",
       "  'CD2': 7,\n",
       "  'CE1': 8,\n",
       "  'NE2': 9},\n",
       " 'ILE': {'N': 0,\n",
       "  'CA': 1,\n",
       "  'C': 2,\n",
       "  'O': 3,\n",
       "  'CB': 4,\n",
       "  'CG1': 5,\n",
       "  'CG2': 6,\n",
       "  'CD1': 7},\n",
       " 'LEU': {'N': 0,\n",
       "  'CA': 1,\n",
       "  'C': 2,\n",
       "  'O': 3,\n",
       "  'CB': 4,\n",
       "  'CG': 5,\n",
       "  'CD1': 6,\n",
       "  'CD2': 7},\n",
       " 'LYS': {'N': 0,\n",
       "  'CA': 1,\n",
       "  'C': 2,\n",
       "  'O': 3,\n",
       "  'CB': 4,\n",
       "  'CG': 5,\n",
       "  'CD': 6,\n",
       "  'CE': 7,\n",
       "  'NZ': 8},\n",
       " 'MET': {'N': 0, 'CA': 1, 'C': 2, 'O': 3, 'CB': 4, 'CG': 5, 'SD': 6, 'CE': 7},\n",
       " 'PHE': {'N': 0,\n",
       "  'CA': 1,\n",
       "  'C': 2,\n",
       "  'O': 3,\n",
       "  'CB': 4,\n",
       "  'CG': 5,\n",
       "  'CD1': 6,\n",
       "  'CD2': 7,\n",
       "  'CE1': 8,\n",
       "  'CE2': 9,\n",
       "  'CZ': 10},\n",
       " 'PRO': {'N': 0, 'CA': 1, 'C': 2, 'O': 3, 'CB': 4, 'CG': 5, 'CD': 6},\n",
       " 'SER': {'N': 0, 'CA': 1, 'C': 2, 'O': 3, 'CB': 4, 'OG': 5},\n",
       " 'THR': {'N': 0, 'CA': 1, 'C': 2, 'O': 3, 'CB': 4, 'OG1': 5, 'CG2': 6},\n",
       " 'TRP': {'N': 0,\n",
       "  'CA': 1,\n",
       "  'C': 2,\n",
       "  'O': 3,\n",
       "  'CB': 4,\n",
       "  'CG': 5,\n",
       "  'CD1': 6,\n",
       "  'CD2': 7,\n",
       "  'NE1': 8,\n",
       "  'CE2': 9,\n",
       "  'CE3': 10,\n",
       "  'CZ2': 11,\n",
       "  'CZ3': 12,\n",
       "  'CH2': 13},\n",
       " 'TYR': {'N': 0,\n",
       "  'CA': 1,\n",
       "  'C': 2,\n",
       "  'O': 3,\n",
       "  'CB': 4,\n",
       "  'CG': 5,\n",
       "  'CD1': 6,\n",
       "  'CD2': 7,\n",
       "  'CE1': 8,\n",
       "  'CE2': 9,\n",
       "  'CZ': 10,\n",
       "  'OH': 11},\n",
       " 'VAL': {'N': 0, 'CA': 1, 'C': 2, 'O': 3, 'CB': 4, 'CG1': 5, 'CG2': 6},\n",
       " 'UNK': {}}"
      ]
     },
     "execution_count": 9,
     "metadata": {},
     "output_type": "execute_result"
    }
   ],
   "source": [
    "openfold_name_to_openfold_idx"
   ]
  },
  {
   "cell_type": "code",
   "execution_count": 10,
   "metadata": {},
   "outputs": [
    {
     "data": {
      "text/plain": [
       "{'ALA': {'N': 0, 'CA': 1, 'C': 2, 'O': 3, 'OXT': 4, 'CB': 5},\n",
       " 'ARG': {'N': 0,\n",
       "  'CA': 1,\n",
       "  'C': 2,\n",
       "  'O': 3,\n",
       "  'OXT': 4,\n",
       "  'CB': 5,\n",
       "  'CG': 6,\n",
       "  'CD': 7,\n",
       "  'NE': 8,\n",
       "  'CZ': 9,\n",
       "  'NH1': 10,\n",
       "  'NH2': 11},\n",
       " 'ASN': {'N': 0,\n",
       "  'CA': 1,\n",
       "  'C': 2,\n",
       "  'O': 3,\n",
       "  'OXT': 4,\n",
       "  'CB': 5,\n",
       "  'CG': 6,\n",
       "  'OD1': 7,\n",
       "  'ND2': 8},\n",
       " 'ASP': {'N': 0,\n",
       "  'CA': 1,\n",
       "  'C': 2,\n",
       "  'O': 3,\n",
       "  'OXT': 4,\n",
       "  'CB': 5,\n",
       "  'CG': 6,\n",
       "  'OD1': 7,\n",
       "  'OD2': 8},\n",
       " 'CYS': {'N': 0, 'CA': 1, 'C': 2, 'O': 3, 'OXT': 4, 'CB': 5, 'SG': 6},\n",
       " 'GLN': {'N': 0,\n",
       "  'CA': 1,\n",
       "  'C': 2,\n",
       "  'O': 3,\n",
       "  'OXT': 4,\n",
       "  'CB': 5,\n",
       "  'CG': 6,\n",
       "  'CD': 7,\n",
       "  'OE1': 8,\n",
       "  'NE2': 9},\n",
       " 'GLU': {'N': 0,\n",
       "  'CA': 1,\n",
       "  'C': 2,\n",
       "  'O': 3,\n",
       "  'OXT': 4,\n",
       "  'CB': 5,\n",
       "  'CG': 6,\n",
       "  'CD': 7,\n",
       "  'OE1': 8,\n",
       "  'OE2': 9},\n",
       " 'GLY': {'N': 0, 'CA': 1, 'C': 2, 'O': 3, 'OXT': 4},\n",
       " 'HIS': {'N': 0,\n",
       "  'CA': 1,\n",
       "  'C': 2,\n",
       "  'O': 3,\n",
       "  'OXT': 4,\n",
       "  'CB': 5,\n",
       "  'CG': 6,\n",
       "  'ND1': 7,\n",
       "  'CE1': 8,\n",
       "  'NE2': 9,\n",
       "  'CD2': 10},\n",
       " 'ILE': {'N': 0,\n",
       "  'CA': 1,\n",
       "  'C': 2,\n",
       "  'O': 3,\n",
       "  'OXT': 4,\n",
       "  'CB': 5,\n",
       "  'CG1': 6,\n",
       "  'CD1': 7,\n",
       "  'CG2': 8},\n",
       " 'LEU': {'N': 0,\n",
       "  'CA': 1,\n",
       "  'C': 2,\n",
       "  'O': 3,\n",
       "  'OXT': 4,\n",
       "  'CB': 5,\n",
       "  'CG': 6,\n",
       "  'CD1': 7,\n",
       "  'CD2': 8},\n",
       " 'LYS': {'N': 0,\n",
       "  'CA': 1,\n",
       "  'C': 2,\n",
       "  'O': 3,\n",
       "  'OXT': 4,\n",
       "  'CB': 5,\n",
       "  'CG': 6,\n",
       "  'CD': 7,\n",
       "  'CE': 8,\n",
       "  'NZ': 9},\n",
       " 'MET': {'N': 0,\n",
       "  'CA': 1,\n",
       "  'C': 2,\n",
       "  'O': 3,\n",
       "  'OXT': 4,\n",
       "  'CB': 5,\n",
       "  'CG': 6,\n",
       "  'SD': 7,\n",
       "  'CE': 8},\n",
       " 'PHE': {'N': 0,\n",
       "  'CA': 1,\n",
       "  'C': 2,\n",
       "  'O': 3,\n",
       "  'OXT': 4,\n",
       "  'CB': 5,\n",
       "  'CG': 6,\n",
       "  'CD1': 7,\n",
       "  'CE1': 8,\n",
       "  'CZ': 9,\n",
       "  'CE2': 10,\n",
       "  'CD2': 11},\n",
       " 'PRO': {'N': 0, 'CA': 1, 'C': 2, 'O': 3, 'OXT': 4, 'CB': 5, 'CG': 6, 'CD': 7},\n",
       " 'SER': {'N': 0, 'CA': 1, 'C': 2, 'O': 3, 'OXT': 4, 'CB': 5, 'OG': 6},\n",
       " 'THR': {'N': 0,\n",
       "  'CA': 1,\n",
       "  'C': 2,\n",
       "  'O': 3,\n",
       "  'OXT': 4,\n",
       "  'CB': 5,\n",
       "  'OG1': 6,\n",
       "  'CG2': 7},\n",
       " 'TRP': {'N': 0,\n",
       "  'CA': 1,\n",
       "  'C': 2,\n",
       "  'O': 3,\n",
       "  'OXT': 4,\n",
       "  'CB': 5,\n",
       "  'CG': 6,\n",
       "  'CD1': 7,\n",
       "  'NE1': 8,\n",
       "  'CE2': 9,\n",
       "  'CZ2': 10,\n",
       "  'CH2': 11,\n",
       "  'CZ3': 12,\n",
       "  'CE3': 13,\n",
       "  'CD2': 14},\n",
       " 'TYR': {'N': 0,\n",
       "  'CA': 1,\n",
       "  'C': 2,\n",
       "  'O': 3,\n",
       "  'OXT': 4,\n",
       "  'CB': 5,\n",
       "  'CG': 6,\n",
       "  'CD1': 7,\n",
       "  'CE1': 8,\n",
       "  'CZ': 9,\n",
       "  'OH': 10,\n",
       "  'CE2': 11,\n",
       "  'CD2': 12},\n",
       " 'VAL': {'N': 0,\n",
       "  'CA': 1,\n",
       "  'C': 2,\n",
       "  'O': 3,\n",
       "  'OXT': 4,\n",
       "  'CB': 5,\n",
       "  'CG1': 6,\n",
       "  'CG2': 7}}"
      ]
     },
     "execution_count": 10,
     "metadata": {},
     "output_type": "execute_result"
    }
   ],
   "source": [
    "scn_name_to_scn_idx"
   ]
  },
  {
   "cell_type": "code",
   "execution_count": 13,
   "metadata": {},
   "outputs": [],
   "source": [
    "openfold_idx_to_scn_idx = {}\n",
    "# Now, compare the two dictionaries to make note of where the differences are\n",
    "for (resname, scn_atomnames) in scn_name_to_scn_idx.items():\n",
    "    rescode = THREE_TO_ONE_LETTER_MAP[resname]\n",
    "    openfold_idx_to_scn_idx[rescode] = {}\n",
    "    for scn_atomname, scn_idx in scn_atomnames.items():\n",
    "        try:\n",
    "            openfold_idx = openfold_name_to_openfold_idx[resname][scn_atomname]\n",
    "        except KeyError:\n",
    "            # openfold_idx = scn_atomname\n",
    "            # don't add this atom to the dictionary\n",
    "            continue\n",
    "        openfold_idx_to_scn_idx[rescode][openfold_idx] = scn_idx\n",
    "    openfold_idx_to_scn_idx[rescode] = (torch.tensor(list(openfold_idx_to_scn_idx[rescode].keys())), \n",
    "                                        torch.tensor(list(openfold_idx_to_scn_idx[rescode].values())))"
   ]
  },
  {
   "cell_type": "code",
   "execution_count": 14,
   "metadata": {},
   "outputs": [
    {
     "data": {
      "text/plain": [
       "{'A': (tensor([0, 1, 2, 3, 4]), tensor([0, 1, 2, 3, 5])),\n",
       " 'R': (tensor([ 0,  1,  2,  3,  4,  5,  6,  7,  8,  9, 10]),\n",
       "  tensor([ 0,  1,  2,  3,  5,  6,  7,  8,  9, 10, 11])),\n",
       " 'N': (tensor([0, 1, 2, 3, 4, 5, 6, 7]), tensor([0, 1, 2, 3, 5, 6, 7, 8])),\n",
       " 'D': (tensor([0, 1, 2, 3, 4, 5, 6, 7]), tensor([0, 1, 2, 3, 5, 6, 7, 8])),\n",
       " 'C': (tensor([0, 1, 2, 3, 4, 5]), tensor([0, 1, 2, 3, 5, 6])),\n",
       " 'Q': (tensor([0, 1, 2, 3, 4, 5, 6, 7, 8]),\n",
       "  tensor([0, 1, 2, 3, 5, 6, 7, 8, 9])),\n",
       " 'E': (tensor([0, 1, 2, 3, 4, 5, 6, 7, 8]),\n",
       "  tensor([0, 1, 2, 3, 5, 6, 7, 8, 9])),\n",
       " 'G': (tensor([0, 1, 2, 3]), tensor([0, 1, 2, 3])),\n",
       " 'H': (tensor([0, 1, 2, 3, 4, 5, 6, 8, 9, 7]),\n",
       "  tensor([ 0,  1,  2,  3,  5,  6,  7,  8,  9, 10])),\n",
       " 'I': (tensor([0, 1, 2, 3, 4, 5, 7, 6]), tensor([0, 1, 2, 3, 5, 6, 7, 8])),\n",
       " 'L': (tensor([0, 1, 2, 3, 4, 5, 6, 7]), tensor([0, 1, 2, 3, 5, 6, 7, 8])),\n",
       " 'K': (tensor([0, 1, 2, 3, 4, 5, 6, 7, 8]),\n",
       "  tensor([0, 1, 2, 3, 5, 6, 7, 8, 9])),\n",
       " 'M': (tensor([0, 1, 2, 3, 4, 5, 6, 7]), tensor([0, 1, 2, 3, 5, 6, 7, 8])),\n",
       " 'F': (tensor([ 0,  1,  2,  3,  4,  5,  6,  8, 10,  9,  7]),\n",
       "  tensor([ 0,  1,  2,  3,  5,  6,  7,  8,  9, 10, 11])),\n",
       " 'P': (tensor([0, 1, 2, 3, 4, 5, 6]), tensor([0, 1, 2, 3, 5, 6, 7])),\n",
       " 'S': (tensor([0, 1, 2, 3, 4, 5]), tensor([0, 1, 2, 3, 5, 6])),\n",
       " 'T': (tensor([0, 1, 2, 3, 4, 5, 6]), tensor([0, 1, 2, 3, 5, 6, 7])),\n",
       " 'W': (tensor([ 0,  1,  2,  3,  4,  5,  6,  8,  9, 11, 13, 12, 10,  7]),\n",
       "  tensor([ 0,  1,  2,  3,  5,  6,  7,  8,  9, 10, 11, 12, 13, 14])),\n",
       " 'Y': (tensor([ 0,  1,  2,  3,  4,  5,  6,  8, 10, 11,  9,  7]),\n",
       "  tensor([ 0,  1,  2,  3,  5,  6,  7,  8,  9, 10, 11, 12])),\n",
       " 'V': (tensor([0, 1, 2, 3, 4, 5, 6]), tensor([0, 1, 2, 3, 5, 6, 7]))}"
      ]
     },
     "execution_count": 14,
     "metadata": {},
     "output_type": "execute_result"
    }
   ],
   "source": [
    "openfold_idx_to_scn_idx"
   ]
  },
  {
   "cell_type": "code",
   "execution_count": 22,
   "metadata": {},
   "outputs": [],
   "source": [
    "import torch\n",
    "\n",
    "fake_protein = torch.randn(30, 14, 3)\n",
    "new_protein = torch.zeros(30, 15, 3) * torch.nan"
   ]
  },
  {
   "cell_type": "code",
   "execution_count": 23,
   "metadata": {},
   "outputs": [
    {
     "data": {
      "text/plain": [
       "(tensor([0, 1, 2, 3, 4]), tensor([0, 1, 2, 3, 5]))"
      ]
     },
     "execution_count": 23,
     "metadata": {},
     "output_type": "execute_result"
    }
   ],
   "source": [
    "ala_select = torch.tensor([0, 1, 2, 3, 4])\n",
    "ala_target = torch.tensor([0, 1, 2, 3, 5])\n",
    "ala_select, ala_target"
   ]
  },
  {
   "cell_type": "code",
   "execution_count": 4,
   "metadata": {},
   "outputs": [
    {
     "data": {
      "text/plain": [
       "tensor([[ 0.6511, -1.4065, -0.3671],\n",
       "        [ 0.2174,  0.0221, -0.0380],\n",
       "        [-0.3844,  1.6537, -0.0294],\n",
       "        [ 0.0114,  0.2788, -0.4352],\n",
       "        [-1.1242,  1.2282, -0.0454]])"
      ]
     },
     "execution_count": 4,
     "metadata": {},
     "output_type": "execute_result"
    }
   ],
   "source": [
    "fake_protein[0][ala_select]"
   ]
  },
  {
   "cell_type": "code",
   "execution_count": 10,
   "metadata": {},
   "outputs": [
    {
     "data": {
      "text/plain": [
       "tensor([[nan, nan, nan],\n",
       "        [nan, nan, nan],\n",
       "        [nan, nan, nan],\n",
       "        [nan, nan, nan],\n",
       "        [nan, nan, nan]])"
      ]
     },
     "execution_count": 10,
     "metadata": {},
     "output_type": "execute_result"
    }
   ],
   "source": [
    "new_protein[0][ala_target]"
   ]
  },
  {
   "cell_type": "code",
   "execution_count": 11,
   "metadata": {},
   "outputs": [
    {
     "data": {
      "text/plain": [
       "tensor([[ 0.5473, -0.6941,  1.6661],\n",
       "        [ 0.7602, -0.1650, -0.6104],\n",
       "        [-1.6638,  0.1101, -0.2453],\n",
       "        [ 0.0262,  1.5561, -0.4287],\n",
       "        [    nan,     nan,     nan],\n",
       "        [ 0.4177,  0.9510,  0.8083],\n",
       "        [    nan,     nan,     nan],\n",
       "        [    nan,     nan,     nan],\n",
       "        [    nan,     nan,     nan],\n",
       "        [    nan,     nan,     nan],\n",
       "        [    nan,     nan,     nan],\n",
       "        [    nan,     nan,     nan],\n",
       "        [    nan,     nan,     nan],\n",
       "        [    nan,     nan,     nan],\n",
       "        [    nan,     nan,     nan]])"
      ]
     },
     "execution_count": 11,
     "metadata": {},
     "output_type": "execute_result"
    }
   ],
   "source": [
    "new_protein[0][ala_target] = fake_protein[0][ala_select]\n",
    "new_protein[0]"
   ]
  },
  {
   "cell_type": "code",
   "execution_count": null,
   "metadata": {},
   "outputs": [],
   "source": []
  }
 ],
 "metadata": {
  "kernelspec": {
   "display_name": "openfold_venv",
   "language": "python",
   "name": "python3"
  },
  "language_info": {
   "codemirror_mode": {
    "name": "ipython",
    "version": 3
   },
   "file_extension": ".py",
   "mimetype": "text/x-python",
   "name": "python",
   "nbconvert_exporter": "python",
   "pygments_lexer": "ipython3",
   "version": "3.7.12"
  },
  "orig_nbformat": 4,
  "vscode": {
   "interpreter": {
    "hash": "4a67a7e519464325d1b1ca35bf20b67c2fd4095fe3766391b40647687bd8455e"
   }
  }
 },
 "nbformat": 4,
 "nbformat_minor": 2
}
