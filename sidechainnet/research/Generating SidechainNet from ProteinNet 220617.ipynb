{
 "cells": [
  {
   "cell_type": "code",
   "execution_count": 1,
   "id": "a9d29b9e",
   "metadata": {},
   "outputs": [
    {
     "name": "stdout",
     "output_type": "stream",
     "text": [
      "The padding character for missing data will be nan\n"
     ]
    }
   ],
   "source": [
    "import sidechainnet as scn\n",
    "from sidechainnet.create import create, create_custom\n",
    "print(\"The padding character for missing data will be\",\n",
    "      scn.utils.measure.GLOBAL_PAD_CHAR)"
   ]
  },
  {
   "cell_type": "code",
   "execution_count": 2,
   "id": "87cd4acf",
   "metadata": {
    "scrolled": true
   },
   "outputs": [
    {
     "name": "stdout",
     "output_type": "stream",
     "text": [
      "Pre-parsed ProteinNet already downloaded.\n",
      "Re-initializing validation set splits ([]).\n",
      "Loading complete ProteinNet data (100% thinning) from /home/jok120/sidechainnet/sidechainnet/resources/proteinnet_parsed.\n",
      "Raw ProteinNet files already preprocessed (/home/jok120/sidechainnet/sidechainnet/resources/proteinnet_parsed/training_100.pkl).\n",
      "Preparing to download requested proteins via their ProteinNet IDs.\n",
      "Downloading SidechainNet specific data from RSCB PDB.\n",
      "Downloading remaining 1  sequentially.\n"
     ]
    },
    {
     "name": "stderr",
     "output_type": "stream",
     "text": [
      "1A38_2_P: 100%|█████████████████████████████████████████████████████████████████████████████████████████| 1/1 [00:02<00:00,  2.14s/it]\n"
     ]
    },
    {
     "name": "stdout",
     "output_type": "stream",
     "text": [
      "\n",
      "1 ProteinNet IDs were processed to extract sidechain data.\n",
      "No errors recorded.\n",
      "Be aware that 1 files may be using a different model number than the one\n",
      "specified by ProteinNet. See errors/MODIFIED_MODEL_WARNING.txt for a list of\n",
      "these proteins.\n",
      "Preparing to merge ProteinNet data with downloaded sidechain data.\n"
     ]
    },
    {
     "name": "stderr",
     "output_type": "stream",
     "text": [
      "100%|██████████████████████████████████████████████████████████████████████████████████████████████████| 1/1 [00:00<00:00, 366.76it/s]\n"
     ]
    },
    {
     "name": "stdout",
     "output_type": "stream",
     "text": [
      "Finished unifying sidechain information with ProteinNet data.\n",
      "0 IDs failed to combine successfully.\n",
      "1 included in CASP User-specified (User-specified% thinning).\n",
      "User-specified SidechainNet written to /home/jok120/scn220617/single_prot_test.pkl.\n",
      "To load the data in a different format, use sidechainnet.load with the desired\n",
      "options and set 'local_scn_path=/home/jok120/scn220617/single_prot_test.pkl'.\n"
     ]
    },
    {
     "name": "stderr",
     "output_type": "stream",
     "text": [
      "/home/jok120/sidechainnet/sidechainnet/utils/organize.py:192: RuntimeWarning: Mean of empty slice\n",
      "  return np.nanmean(angles, axis=0)\n"
     ]
    }
   ],
   "source": [
    "d = create_custom(['1A38_2_P'], \"single_prot_test.pkl\", sidechainnet_out=\"/home/jok120/scn220617\", regenerate_scdata=True, num_cores=1)"
   ]
  },
  {
   "cell_type": "code",
   "execution_count": 3,
   "id": "4b57720f",
   "metadata": {},
   "outputs": [
    {
     "name": "stdout",
     "output_type": "stream",
     "text": [
      "SidechainNet was loaded from /home/jok120/scn220617/single_prot_test.pkl.\n"
     ]
    }
   ],
   "source": [
    "d = scn.load(local_scn_path='/home/jok120/scn220617/single_prot_test.pkl', scn_dataset=True)"
   ]
  },
  {
   "cell_type": "code",
   "execution_count": 4,
   "id": "28fbec4f",
   "metadata": {},
   "outputs": [],
   "source": [
    "p = d[0]\n",
    "p.torch()"
   ]
  },
  {
   "cell_type": "code",
   "execution_count": 5,
   "id": "274caaf1",
   "metadata": {},
   "outputs": [
    {
     "data": {
      "text/plain": [
       "'WLDLE'"
      ]
     },
     "execution_count": 5,
     "metadata": {},
     "output_type": "execute_result"
    }
   ],
   "source": [
    "p.seq"
   ]
  },
  {
   "cell_type": "code",
   "execution_count": 6,
   "id": "dd632821",
   "metadata": {},
   "outputs": [
    {
     "data": {
      "text/plain": [
       "tensor([[    nan,  2.9864,  3.1411,  1.8979,  2.0560,  2.1353,  0.9887, -2.9177,\n",
       "         -0.0954,     nan,     nan,     nan],\n",
       "        [-2.2205, -2.7720,  3.1174,  1.9913,  2.0165,  2.1277,  1.9315,  1.3732,\n",
       "          2.8204, -1.2943,     nan,     nan],\n",
       "        [-1.8046,  2.6789, -3.0887,  1.8948,  2.0197,  2.1358,  2.3525, -2.9406,\n",
       "         -1.0214,     nan,     nan,     nan],\n",
       "        [-2.6590,  2.7039,  3.0630,  1.9808,  2.0562,  2.1439,  1.5275,  3.0964,\n",
       "          1.1357, -3.0276,     nan,     nan],\n",
       "        [-2.6066, -0.7829,     nan,  1.9416,     nan,     nan,  1.5148, -3.0244,\n",
       "         -2.8980, -0.4080,     nan,     nan]], dtype=torch.float64)"
      ]
     },
     "execution_count": 6,
     "metadata": {},
     "output_type": "execute_result"
    }
   ],
   "source": [
    "p.angles"
   ]
  },
  {
   "cell_type": "code",
   "execution_count": 9,
   "id": "6bf0180a",
   "metadata": {},
   "outputs": [
    {
     "data": {
      "text/plain": [
       "'TRP LEU ASP LEU GLU'"
      ]
     },
     "execution_count": 9,
     "metadata": {},
     "output_type": "execute_result"
    }
   ],
   "source": [
    "p.seq3"
   ]
  },
  {
   "cell_type": "code",
   "execution_count": null,
   "id": "a0ec8ac9",
   "metadata": {},
   "outputs": [],
   "source": []
  }
 ],
 "metadata": {
  "kernelspec": {
   "display_name": "Python [conda env:sidechainnetv2]",
   "language": "python",
   "name": "conda-env-sidechainnetv2-py"
  },
  "language_info": {
   "codemirror_mode": {
    "name": "ipython",
    "version": 3
   },
   "file_extension": ".py",
   "mimetype": "text/x-python",
   "name": "python",
   "nbconvert_exporter": "python",
   "pygments_lexer": "ipython3",
   "version": "3.8.12"
  }
 },
 "nbformat": 4,
 "nbformat_minor": 5
}
