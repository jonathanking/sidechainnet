{
 "cells": [
  {
   "cell_type": "code",
   "execution_count": 5,
   "id": "a9d29b9e",
   "metadata": {},
   "outputs": [
    {
     "name": "stdout",
     "output_type": "stream",
     "text": [
      "The padding character for missing data will be nan\n"
     ]
    }
   ],
   "source": [
    "import sidechainnet as scn\n",
    "from sidechainnet.create import generate_all_from_proteinnet\n",
    "import prody as pr\n",
    "\n",
    "print(\"The padding character for missing data will be\",\n",
    "      scn.utils.measure.GLOBAL_PAD_CHAR)\n",
    "pr.startLogfile(\"scngen220901\")"
   ]
  },
  {
   "cell_type": "code",
   "execution_count": 6,
   "id": "168ffa51",
   "metadata": {},
   "outputs": [
    {
     "name": "stdout",
     "output_type": "stream",
     "text": [
      "CASP 12\n",
      "Raw ProteinNet files already preprocessed (/home/jok120/proteinnet/data/casp12/pkl/training_100.pkl).\n",
      "Downloading SidechainNet specific data from RSCB PDB.\n",
      "69347 IDs OK for parallel downloading.\n"
     ]
    },
    {
     "name": "stderr",
     "output_type": "stream",
     "text": [
      "  1%|▌                                                                                                    | 387/69347 [01:05<3:13:49,  5.93it/s]Process ForkPoolWorker-22:\n",
      "Process ForkPoolWorker-19:\n",
      "Process ForkPoolWorker-26:\n",
      "  1%|▌                                                                                                    | 387/69347 [01:05<3:15:25,  5.88it/s]Process ForkPoolWorker-30:\n",
      "Process ForkPoolWorker-27:\n",
      "Process ForkPoolWorker-24:\n",
      "Process ForkPoolWorker-18:\n",
      "Process ForkPoolWorker-28:\n",
      "Process ForkPoolWorker-25:\n",
      "Process ForkPoolWorker-32:\n",
      "Process ForkPoolWorker-23:\n",
      "Process ForkPoolWorker-17:\n",
      "Process ForkPoolWorker-20:\n",
      "Process ForkPoolWorker-31:\n",
      "Traceback (most recent call last):\n",
      "Traceback (most recent call last):\n",
      "Traceback (most recent call last):\n",
      "Traceback (most recent call last):\n",
      "Process ForkPoolWorker-29:\n",
      "Traceback (most recent call last):\n",
      "Traceback (most recent call last):\n",
      "  File \"/home/jok120/anaconda3/envs/sidechainnetv2/lib/python3.8/multiprocessing/process.py\", line 315, in _bootstrap\n",
      "    self.run()\n",
      "Traceback (most recent call last):\n",
      "Traceback (most recent call last):\n",
      "  File \"/home/jok120/anaconda3/envs/sidechainnetv2/lib/python3.8/multiprocessing/process.py\", line 315, in _bootstrap\n",
      "    self.run()\n",
      "  File \"/home/jok120/anaconda3/envs/sidechainnetv2/lib/python3.8/multiprocessing/process.py\", line 315, in _bootstrap\n",
      "    self.run()\n",
      "  File \"/home/jok120/anaconda3/envs/sidechainnetv2/lib/python3.8/multiprocessing/process.py\", line 315, in _bootstrap\n",
      "    self.run()\n",
      "  File \"/home/jok120/anaconda3/envs/sidechainnetv2/lib/python3.8/multiprocessing/process.py\", line 108, in run\n",
      "    self._target(*self._args, **self._kwargs)\n",
      "  File \"/home/jok120/anaconda3/envs/sidechainnetv2/lib/python3.8/site-packages/prody/atomic/select.py\", line 902, in select\n",
      "    dummies = atoms.numDummies()\n",
      "Traceback (most recent call last):\n",
      "Traceback (most recent call last):\n",
      "Traceback (most recent call last):\n",
      "  File \"/home/jok120/anaconda3/envs/sidechainnetv2/lib/python3.8/multiprocessing/process.py\", line 315, in _bootstrap\n",
      "    self.run()\n",
      "  File \"/home/jok120/anaconda3/envs/sidechainnetv2/lib/python3.8/multiprocessing/process.py\", line 315, in _bootstrap\n",
      "    self.run()\n",
      "  File \"/home/jok120/anaconda3/envs/sidechainnetv2/lib/python3.8/multiprocessing/process.py\", line 315, in _bootstrap\n",
      "    self.run()\n",
      "  File \"/home/jok120/anaconda3/envs/sidechainnetv2/lib/python3.8/multiprocessing/process.py\", line 108, in run\n",
      "    self._target(*self._args, **self._kwargs)\n",
      "Traceback (most recent call last):\n",
      "  File \"/home/jok120/anaconda3/envs/sidechainnetv2/lib/python3.8/multiprocessing/process.py\", line 108, in run\n",
      "    self._target(*self._args, **self._kwargs)\n",
      "Traceback (most recent call last):\n",
      "  File \"/home/jok120/anaconda3/envs/sidechainnetv2/lib/python3.8/multiprocessing/process.py\", line 315, in _bootstrap\n",
      "    self.run()\n",
      "  File \"/home/jok120/anaconda3/envs/sidechainnetv2/lib/python3.8/multiprocessing/pool.py\", line 125, in worker\n",
      "    result = (True, func(*args, **kwds))\n",
      "  File \"/home/jok120/anaconda3/envs/sidechainnetv2/lib/python3.8/multiprocessing/process.py\", line 108, in run\n",
      "    self._target(*self._args, **self._kwargs)\n",
      "Traceback (most recent call last):\n",
      "\n"
     ]
    },
    {
     "ename": "KeyboardInterrupt",
     "evalue": "",
     "output_type": "error",
     "traceback": [
      "\u001b[0;31m---------------------------------------------------------------------------\u001b[0m",
      "\u001b[0;31mIndexError\u001b[0m                                Traceback (most recent call last)",
      "File \u001b[0;32m~/anaconda3/envs/sidechainnetv2/lib/python3.8/multiprocessing/pool.py:851\u001b[0m, in \u001b[0;36mIMapIterator.next\u001b[0;34m(self, timeout)\u001b[0m\n\u001b[1;32m    850\u001b[0m \u001b[38;5;28;01mtry\u001b[39;00m:\n\u001b[0;32m--> 851\u001b[0m     item \u001b[38;5;241m=\u001b[39m \u001b[38;5;28;43mself\u001b[39;49m\u001b[38;5;241;43m.\u001b[39;49m\u001b[43m_items\u001b[49m\u001b[38;5;241;43m.\u001b[39;49m\u001b[43mpopleft\u001b[49m\u001b[43m(\u001b[49m\u001b[43m)\u001b[49m\n\u001b[1;32m    852\u001b[0m \u001b[38;5;28;01mexcept\u001b[39;00m \u001b[38;5;167;01mIndexError\u001b[39;00m:\n",
      "\u001b[0;31mIndexError\u001b[0m: pop from an empty deque",
      "\nDuring handling of the above exception, another exception occurred:\n",
      "\u001b[0;31mKeyboardInterrupt\u001b[0m                         Traceback (most recent call last)",
      "Input \u001b[0;32mIn [6]\u001b[0m, in \u001b[0;36m<module>\u001b[0;34m\u001b[0m\n\u001b[0;32m----> 1\u001b[0m \u001b[43mgenerate_all_from_proteinnet\u001b[49m\u001b[43m(\u001b[49m\u001b[43mproteinnet_dir\u001b[49m\u001b[38;5;241;43m=\u001b[39;49m\u001b[38;5;124;43m\"\u001b[39;49m\u001b[38;5;124;43m/home/jok120/proteinnet/data\u001b[39;49m\u001b[38;5;124;43m\"\u001b[39;49m\u001b[43m,\u001b[49m\n\u001b[1;32m      2\u001b[0m \u001b[43m                             \u001b[49m\u001b[43msidechainnet_out\u001b[49m\u001b[38;5;241;43m=\u001b[39;49m\u001b[38;5;124;43m'\u001b[39;49m\u001b[38;5;124;43m/home/jok120/scn220901\u001b[39;49m\u001b[38;5;124;43m'\u001b[39;49m\u001b[43m,\u001b[49m\n\u001b[1;32m      3\u001b[0m \u001b[43m                             \u001b[49m\u001b[43mnum_cores\u001b[49m\u001b[38;5;241;43m=\u001b[39;49m\u001b[38;5;241;43m16\u001b[39;49m\u001b[43m,\u001b[49m\n\u001b[1;32m      4\u001b[0m \u001b[43m                             \u001b[49m\u001b[43mlimit\u001b[49m\u001b[38;5;241;43m=\u001b[39;49m\u001b[38;5;28;43;01mNone\u001b[39;49;00m\u001b[43m,\u001b[49m\n\u001b[1;32m      5\u001b[0m \u001b[43m                             \u001b[49m\u001b[43mregenerate_scdata\u001b[49m\u001b[38;5;241;43m=\u001b[39;49m\u001b[38;5;28;43;01mTrue\u001b[39;49;00m\u001b[43m)\u001b[49m\n",
      "File \u001b[0;32m~/sidechainnet/sidechainnet/create.py:509\u001b[0m, in \u001b[0;36mgenerate_all_from_proteinnet\u001b[0;34m(proteinnet_dir, sidechainnet_out, num_cores, limit, regenerate_scdata)\u001b[0m\n\u001b[1;32m    499\u001b[0m args \u001b[38;5;241m=\u001b[39m ArgsTuple(\n\u001b[1;32m    500\u001b[0m     casp_version\u001b[38;5;241m=\u001b[39mc,\n\u001b[1;32m    501\u001b[0m     thinning\u001b[38;5;241m=\u001b[39m\u001b[38;5;124m'\u001b[39m\u001b[38;5;124mall\u001b[39m\u001b[38;5;124m'\u001b[39m,\n\u001b[0;32m   (...)\u001b[0m\n\u001b[1;32m    506\u001b[0m     limit\u001b[38;5;241m=\u001b[39mlimit,\n\u001b[1;32m    507\u001b[0m     num_cores\u001b[38;5;241m=\u001b[39mnum_cores)\n\u001b[1;32m    508\u001b[0m \u001b[38;5;66;03m# Create all thinnings for the current CASP version\u001b[39;00m\n\u001b[0;32m--> 509\u001b[0m \u001b[43m_create_all\u001b[49m\u001b[43m(\u001b[49m\u001b[43margs\u001b[49m\u001b[43m)\u001b[49m\n",
      "File \u001b[0;32m~/sidechainnet/sidechainnet/create.py:282\u001b[0m, in \u001b[0;36m_create_all\u001b[0;34m(args)\u001b[0m\n\u001b[1;32m    279\u001b[0m pnids \u001b[38;5;241m=\u001b[39m pnids[:args\u001b[38;5;241m.\u001b[39mlimit]  \u001b[38;5;66;03m# Limit the length of the list for debugging\u001b[39;00m\n\u001b[1;32m    281\u001b[0m \u001b[38;5;66;03m# Using the ProteinNet IDs as a guide, download the relevant sidechain data\u001b[39;00m\n\u001b[0;32m--> 282\u001b[0m sc_only_data, sc_filename \u001b[38;5;241m=\u001b[39m \u001b[43mdownload_sidechain_data\u001b[49m\u001b[43m(\u001b[49m\n\u001b[1;32m    283\u001b[0m \u001b[43m    \u001b[49m\u001b[43mpnids\u001b[49m\u001b[43m,\u001b[49m\n\u001b[1;32m    284\u001b[0m \u001b[43m    \u001b[49m\u001b[43margs\u001b[49m\u001b[38;5;241;43m.\u001b[39;49m\u001b[43msidechainnet_out\u001b[49m\u001b[43m,\u001b[49m\n\u001b[1;32m    285\u001b[0m \u001b[43m    \u001b[49m\u001b[43margs\u001b[49m\u001b[38;5;241;43m.\u001b[39;49m\u001b[43mcasp_version\u001b[49m\u001b[43m,\u001b[49m\n\u001b[1;32m    286\u001b[0m \u001b[43m    \u001b[49m\u001b[38;5;241;43m100\u001b[39;49m\u001b[43m,\u001b[49m\n\u001b[1;32m    287\u001b[0m \u001b[43m    \u001b[49m\u001b[43margs\u001b[49m\u001b[38;5;241;43m.\u001b[39;49m\u001b[43mlimit\u001b[49m\u001b[43m,\u001b[49m\n\u001b[1;32m    288\u001b[0m \u001b[43m    \u001b[49m\u001b[43margs\u001b[49m\u001b[38;5;241;43m.\u001b[39;49m\u001b[43mproteinnet_in\u001b[49m\u001b[43m,\u001b[49m\n\u001b[1;32m    289\u001b[0m \u001b[43m    \u001b[49m\u001b[43mregenerate_scdata\u001b[49m\u001b[38;5;241;43m=\u001b[39;49m\u001b[43margs\u001b[49m\u001b[38;5;241;43m.\u001b[39;49m\u001b[43mregenerate_scdata\u001b[49m\u001b[43m,\u001b[49m\n\u001b[1;32m    290\u001b[0m \u001b[43m    \u001b[49m\u001b[43mnum_cores\u001b[49m\u001b[38;5;241;43m=\u001b[39;49m\u001b[43margs\u001b[49m\u001b[38;5;241;43m.\u001b[39;49m\u001b[43mnum_cores\u001b[49m\u001b[43m)\u001b[49m\n\u001b[1;32m    292\u001b[0m \u001b[38;5;66;03m# Finally, unify the sidechain data with ProteinNet\u001b[39;00m\n\u001b[1;32m    293\u001b[0m sidechainnet_raw_100 \u001b[38;5;241m=\u001b[39m combine_datasets(args\u001b[38;5;241m.\u001b[39mproteinnet_out, sc_only_data)\n",
      "File \u001b[0;32m~/sidechainnet/sidechainnet/utils/download.py:133\u001b[0m, in \u001b[0;36mdownload_sidechain_data\u001b[0;34m(pnids, sidechainnet_out_dir, casp_version, thinning, limit, proteinnet_in, regenerate_scdata, output_name, num_cores)\u001b[0m\n\u001b[1;32m    129\u001b[0m     \u001b[38;5;28mprint\u001b[39m(\u001b[38;5;124mf\u001b[39m\u001b[38;5;124m\"\u001b[39m\u001b[38;5;124mWill download \u001b[39m\u001b[38;5;132;01m{\u001b[39;00m\u001b[38;5;28mlen\u001b[39m(pnids)\u001b[38;5;241m-\u001b[39m\u001b[38;5;28mlen\u001b[39m(new_pnids)\u001b[38;5;132;01m}\u001b[39;00m\u001b[38;5;124m fewer pnids that were already\u001b[39m\u001b[38;5;124m\"\u001b[39m\n\u001b[1;32m    130\u001b[0m           \u001b[38;5;124m\"\u001b[39m\u001b[38;5;124m processed.\u001b[39m\u001b[38;5;124m\"\u001b[39m)\n\u001b[1;32m    132\u001b[0m \u001b[38;5;66;03m# Download the sidechain data as a dictionary and report errors.\u001b[39;00m\n\u001b[0;32m--> 133\u001b[0m sc_data, pnids_errors \u001b[38;5;241m=\u001b[39m \u001b[43mget_sidechain_data\u001b[49m\u001b[43m(\u001b[49m\u001b[43mnew_pnids\u001b[49m\u001b[43m,\u001b[49m\u001b[43m \u001b[49m\u001b[43mlimit\u001b[49m\u001b[43m,\u001b[49m\u001b[43m \u001b[49m\u001b[43mnum_cores\u001b[49m\u001b[43m)\u001b[49m\n\u001b[1;32m    134\u001b[0m \u001b[38;5;28;01mfor\u001b[39;00m p \u001b[38;5;129;01min\u001b[39;00m already_parsed_ids:\n\u001b[1;32m    135\u001b[0m     sc_data[p] \u001b[38;5;241m=\u001b[39m existing_data[p]\n",
      "File \u001b[0;32m~/sidechainnet/sidechainnet/utils/download.py:192\u001b[0m, in \u001b[0;36mget_sidechain_data\u001b[0;34m(pnids, limit, num_cores)\u001b[0m\n\u001b[1;32m    189\u001b[0m     \u001b[38;5;28mprint\u001b[39m(\u001b[38;5;124mf\u001b[39m\u001b[38;5;124m\"\u001b[39m\u001b[38;5;132;01m{\u001b[39;00m\u001b[38;5;28mlen\u001b[39m(pnids_ok_parallel)\u001b[38;5;132;01m}\u001b[39;00m\u001b[38;5;124m IDs OK for parallel downloading.\u001b[39m\u001b[38;5;124m\"\u001b[39m)\n\u001b[1;32m    190\u001b[0m     \u001b[38;5;28;01mwith\u001b[39;00m multiprocessing\u001b[38;5;241m.\u001b[39mPool(num_cores) \u001b[38;5;28;01mas\u001b[39;00m p:\n\u001b[1;32m    191\u001b[0m         results\u001b[38;5;241m.\u001b[39mextend(\n\u001b[0;32m--> 192\u001b[0m             \u001b[38;5;28;43mlist\u001b[39;49m\u001b[43m(\u001b[49m\n\u001b[1;32m    193\u001b[0m \u001b[43m                \u001b[49m\u001b[43mtqdm\u001b[49m\u001b[38;5;241;43m.\u001b[39;49m\u001b[43mtqdm\u001b[49m\u001b[43m(\u001b[49m\u001b[43mp\u001b[49m\u001b[38;5;241;43m.\u001b[39;49m\u001b[43mimap\u001b[49m\u001b[43m(\u001b[49m\u001b[43mprocess_id\u001b[49m\u001b[43m,\u001b[49m\u001b[43m \u001b[49m\u001b[43mpnids_ok_parallel\u001b[49m\u001b[43m)\u001b[49m\u001b[43m,\u001b[49m\n\u001b[1;32m    194\u001b[0m \u001b[43m                          \u001b[49m\u001b[43mtotal\u001b[49m\u001b[38;5;241;43m=\u001b[39;49m\u001b[38;5;28;43mlen\u001b[39;49m\u001b[43m(\u001b[49m\u001b[43mpnids_ok_parallel\u001b[49m\u001b[43m)\u001b[49m\u001b[43m,\u001b[49m\n\u001b[1;32m    195\u001b[0m \u001b[43m                          \u001b[49m\u001b[43mdynamic_ncols\u001b[49m\u001b[38;5;241;43m=\u001b[39;49m\u001b[38;5;28;43;01mTrue\u001b[39;49;00m\u001b[43m,\u001b[49m\n\u001b[1;32m    196\u001b[0m \u001b[43m                          \u001b[49m\u001b[43msmoothing\u001b[49m\u001b[38;5;241;43m=\u001b[39;49m\u001b[38;5;241;43m0\u001b[39;49m\u001b[43m)\u001b[49m\u001b[43m)\u001b[49m)\n\u001b[1;32m    197\u001b[0m     pnids_ok_parallel, remaining_pnids \u001b[38;5;241m=\u001b[39m get_parallel_sequential(remaining_pnids)\n\u001b[1;32m    199\u001b[0m \u001b[38;5;66;03m# Next, we can download the remaining pnids in sequential order safely.\u001b[39;00m\n",
      "File \u001b[0;32m~/anaconda3/envs/sidechainnetv2/lib/python3.8/site-packages/tqdm/std.py:1180\u001b[0m, in \u001b[0;36mtqdm.__iter__\u001b[0;34m(self)\u001b[0m\n\u001b[1;32m   1177\u001b[0m time \u001b[38;5;241m=\u001b[39m \u001b[38;5;28mself\u001b[39m\u001b[38;5;241m.\u001b[39m_time\n\u001b[1;32m   1179\u001b[0m \u001b[38;5;28;01mtry\u001b[39;00m:\n\u001b[0;32m-> 1180\u001b[0m     \u001b[38;5;28;01mfor\u001b[39;00m obj \u001b[38;5;129;01min\u001b[39;00m iterable:\n\u001b[1;32m   1181\u001b[0m         \u001b[38;5;28;01myield\u001b[39;00m obj\n\u001b[1;32m   1182\u001b[0m         \u001b[38;5;66;03m# Update and possibly print the progressbar.\u001b[39;00m\n\u001b[1;32m   1183\u001b[0m         \u001b[38;5;66;03m# Note: does not call self.update(1) for speed optimisation.\u001b[39;00m\n",
      "File \u001b[0;32m~/anaconda3/envs/sidechainnetv2/lib/python3.8/multiprocessing/pool.py:856\u001b[0m, in \u001b[0;36mIMapIterator.next\u001b[0;34m(self, timeout)\u001b[0m\n\u001b[1;32m    854\u001b[0m     \u001b[38;5;28mself\u001b[39m\u001b[38;5;241m.\u001b[39m_pool \u001b[38;5;241m=\u001b[39m \u001b[38;5;28;01mNone\u001b[39;00m\n\u001b[1;32m    855\u001b[0m     \u001b[38;5;28;01mraise\u001b[39;00m \u001b[38;5;167;01mStopIteration\u001b[39;00m \u001b[38;5;28;01mfrom\u001b[39;00m \u001b[38;5;28mNone\u001b[39m\n\u001b[0;32m--> 856\u001b[0m \u001b[38;5;28;43mself\u001b[39;49m\u001b[38;5;241;43m.\u001b[39;49m\u001b[43m_cond\u001b[49m\u001b[38;5;241;43m.\u001b[39;49m\u001b[43mwait\u001b[49m\u001b[43m(\u001b[49m\u001b[43mtimeout\u001b[49m\u001b[43m)\u001b[49m\n\u001b[1;32m    857\u001b[0m \u001b[38;5;28;01mtry\u001b[39;00m:\n\u001b[1;32m    858\u001b[0m     item \u001b[38;5;241m=\u001b[39m \u001b[38;5;28mself\u001b[39m\u001b[38;5;241m.\u001b[39m_items\u001b[38;5;241m.\u001b[39mpopleft()\n",
      "File \u001b[0;32m~/anaconda3/envs/sidechainnetv2/lib/python3.8/threading.py:302\u001b[0m, in \u001b[0;36mCondition.wait\u001b[0;34m(self, timeout)\u001b[0m\n\u001b[1;32m    300\u001b[0m \u001b[38;5;28;01mtry\u001b[39;00m:    \u001b[38;5;66;03m# restore state no matter what (e.g., KeyboardInterrupt)\u001b[39;00m\n\u001b[1;32m    301\u001b[0m     \u001b[38;5;28;01mif\u001b[39;00m timeout \u001b[38;5;129;01mis\u001b[39;00m \u001b[38;5;28;01mNone\u001b[39;00m:\n\u001b[0;32m--> 302\u001b[0m         \u001b[43mwaiter\u001b[49m\u001b[38;5;241;43m.\u001b[39;49m\u001b[43macquire\u001b[49m\u001b[43m(\u001b[49m\u001b[43m)\u001b[49m\n\u001b[1;32m    303\u001b[0m         gotit \u001b[38;5;241m=\u001b[39m \u001b[38;5;28;01mTrue\u001b[39;00m\n\u001b[1;32m    304\u001b[0m     \u001b[38;5;28;01melse\u001b[39;00m:\n",
      "\u001b[0;31mKeyboardInterrupt\u001b[0m: "
     ]
    }
   ],
   "source": [
    "generate_all_from_proteinnet(proteinnet_dir=\"/home/jok120/proteinnet/data\",\n",
    "                             sidechainnet_out='/home/jok120/scn220901',\n",
    "                             num_cores=16,\n",
    "                             limit=None,\n",
    "                             regenerate_scdata=True)"
   ]
  },
  {
   "cell_type": "code",
   "execution_count": null,
   "id": "fa8eb67b",
   "metadata": {},
   "outputs": [],
   "source": [
    "!ls /home/jok120/scn220831"
   ]
  },
  {
   "cell_type": "code",
   "execution_count": null,
   "id": "8e6110c1",
   "metadata": {},
   "outputs": [],
   "source": []
  },
  {
   "cell_type": "code",
   "execution_count": null,
   "id": "97bde2e4",
   "metadata": {},
   "outputs": [],
   "source": []
  },
  {
   "cell_type": "code",
   "execution_count": null,
   "id": "9fabeff0",
   "metadata": {},
   "outputs": [],
   "source": [
    "d = scn.load(local_scn_path=\"/home/jok120/sidechainnet_data/sidechainnet_casp12_30.pkl\", scn_dataset=True)"
   ]
  },
  {
   "cell_type": "code",
   "execution_count": null,
   "id": "be8e0b65",
   "metadata": {},
   "outputs": [],
   "source": [
    "d = scn.load(local_scn_path=\"/home/jok120/sidechainnet_data/sidechainnet_casp7_30.pkl\", scn_dataset=True)"
   ]
  },
  {
   "cell_type": "code",
   "execution_count": null,
   "id": "455a7c79",
   "metadata": {
    "scrolled": true
   },
   "outputs": [],
   "source": [
    "len(d), d[0].coords"
   ]
  },
  {
   "cell_type": "code",
   "execution_count": null,
   "id": "d700a54b",
   "metadata": {},
   "outputs": [],
   "source": [
    "!python /home/jok120/sidechainnet/sidechainnet/create.py --help"
   ]
  },
  {
   "cell_type": "code",
   "execution_count": null,
   "id": "8848e4b0",
   "metadata": {},
   "outputs": [],
   "source": [
    "%%bash\n",
    "PATH_TO_PROTEINNET_FILES=\"/home/jok120/proteinnet/data/casp12/casp12\"\n",
    "SCN_OUT=\"/home/jok120/scn220502\"\n",
    "PTN_OUT=\"/home/jok120/ptn220502\"\n",
    "python /home/jok120/sidechainnet/sidechainnet/create.py $PATH_TO_PROTEINNET_FILES \\\n",
    "--thinning=30 --sidechainnet_out=$SCN_OUT --casp_version=12"
   ]
  },
  {
   "cell_type": "code",
   "execution_count": null,
   "id": "7efaca16",
   "metadata": {},
   "outputs": [],
   "source": []
  }
 ],
 "metadata": {
  "kernelspec": {
   "display_name": "Python [conda env:sidechainnetv2]",
   "language": "python",
   "name": "conda-env-sidechainnetv2-py"
  },
  "language_info": {
   "codemirror_mode": {
    "name": "ipython",
    "version": 3
   },
   "file_extension": ".py",
   "mimetype": "text/x-python",
   "name": "python",
   "nbconvert_exporter": "python",
   "pygments_lexer": "ipython3",
   "version": "3.8.12"
  }
 },
 "nbformat": 4,
 "nbformat_minor": 5
}
