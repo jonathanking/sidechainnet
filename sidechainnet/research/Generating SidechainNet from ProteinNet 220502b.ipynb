{
 "cells": [
  {
   "cell_type": "code",
   "execution_count": 1,
   "id": "a9d29b9e",
   "metadata": {},
   "outputs": [
    {
     "name": "stdout",
     "output_type": "stream",
     "text": [
      "The padding character for missing data will be nan\n"
     ]
    }
   ],
   "source": [
    "import sidechainnet as scn\n",
    "print(\"The padding character for missing data will be\",\n",
    "      scn.utils.measure.GLOBAL_PAD_CHAR)"
   ]
  },
  {
   "cell_type": "code",
   "execution_count": 5,
   "id": "9fabeff0",
   "metadata": {},
   "outputs": [
    {
     "name": "stdout",
     "output_type": "stream",
     "text": [
      "SidechainNet was loaded from /home/jok120/sidechainnet_data/sidechainnet_casp12_30.pkl.\n"
     ]
    }
   ],
   "source": [
    "d = scn.load(local_scn_path=\"/home/jok120/sidechainnet_data/sidechainnet_casp12_30.pkl\", scn_dataset=True)"
   ]
  },
  {
   "cell_type": "code",
   "execution_count": 7,
   "id": "be8e0b65",
   "metadata": {},
   "outputs": [
    {
     "name": "stdout",
     "output_type": "stream",
     "text": [
      "SidechainNet was loaded from /home/jok120/sidechainnet_data/sidechainnet_casp7_30.pkl.\n"
     ]
    }
   ],
   "source": [
    "d = scn.load(local_scn_path=\"/home/jok120/sidechainnet_data/sidechainnet_casp7_30.pkl\", scn_dataset=True)"
   ]
  },
  {
   "cell_type": "code",
   "execution_count": 8,
   "id": "455a7c79",
   "metadata": {},
   "outputs": [
    {
     "data": {
      "text/plain": [
       "(10617,\n",
       " array([[  9.192,  64.268,   3.337],\n",
       "        [ 10.005,  64.754,   2.182],\n",
       "        [  9.98 ,  63.678,   1.068],\n",
       "        [  9.422,  62.601,   1.267],\n",
       "        [ 11.428,  65.07 ,   2.687],\n",
       "        [ 12.34 ,  65.863,   1.745],\n",
       "        [ 12.078,  66.246,   0.445],\n",
       "        [ 13.199,  66.816,  -0.122],\n",
       "        [ 14.206,  66.829,   0.806],\n",
       "        [ 15.516,  67.304,   0.703],\n",
       "        [ 16.317,  67.196,   1.812],\n",
       "        [ 15.844,  66.631,   3.013],\n",
       "        [ 14.545,  66.157,   3.118],\n",
       "        [ 13.701,  66.25 ,   2.   ],\n",
       "        [ 10.498,  63.999,  -0.119],\n",
       "        [ 10.527,  63.054,  -1.247],\n",
       "        [ 11.923,  62.867,  -1.876],\n",
       "        [ 12.959,  63.115,  -1.248],\n",
       "        [  9.56 ,  63.511,  -2.347],\n",
       "        [ 10.053,  64.644,  -3.26 ],\n",
       "        [  9.235,  64.688,  -4.54 ],\n",
       "        [ 10.025,  65.976,  -2.533],\n",
       "        [    nan,     nan,     nan],\n",
       "        [    nan,     nan,     nan],\n",
       "        [    nan,     nan,     nan],\n",
       "        [    nan,     nan,     nan],\n",
       "        [    nan,     nan,     nan],\n",
       "        [    nan,     nan,     nan],\n",
       "        [ 11.933,  62.397,  -3.119],\n",
       "        [ 13.17 ,  62.196,  -3.854],\n",
       "        [ 13.327,  63.333,  -4.862],\n",
       "        [ 12.341,  63.871,  -5.373],\n",
       "        [ 13.16 ,  60.841,  -4.559],\n",
       "        [ 14.521,  60.457,  -5.107],\n",
       "        [ 15.078,  61.208,  -5.93 ],\n",
       "        [ 15.036,  59.388,  -4.729],\n",
       "        [    nan,     nan,     nan],\n",
       "        [    nan,     nan,     nan],\n",
       "        [    nan,     nan,     nan],\n",
       "        [    nan,     nan,     nan],\n",
       "        [    nan,     nan,     nan],\n",
       "        [    nan,     nan,     nan],\n",
       "        [ 14.573,  63.625,  -5.211],\n",
       "        [ 14.894,  64.726,  -6.113],\n",
       "        [ 16.21 ,  64.509,  -6.912],\n",
       "        [ 17.066,  63.727,  -6.487],\n",
       "        [ 15.031,  65.965,  -5.213],\n",
       "        [ 15.42 ,  67.341,  -5.734],\n",
       "        [ 14.306,  67.789,  -6.642],\n",
       "        [ 15.632,  68.337,  -4.577],\n",
       "        [    nan,     nan,     nan],\n",
       "        [    nan,     nan,     nan],\n",
       "        [    nan,     nan,     nan],\n",
       "        [    nan,     nan,     nan],\n",
       "        [    nan,     nan,     nan],\n",
       "        [    nan,     nan,     nan],\n",
       "        [ 16.342,  65.145,  -8.083],\n",
       "        [ 17.586,  65.096,  -8.889],\n",
       "        [ 17.78 ,  66.39 ,  -9.692],\n",
       "        [ 16.795,  66.863, -10.297],\n",
       "        [ 17.677,  63.895,  -9.852],\n",
       "        [ 19.077,  63.817, -10.539],\n",
       "        [ 19.159,  62.88 , -11.741],\n",
       "        [ 18.338,  61.95 , -11.841],\n",
       "        [ 20.06 ,  63.072, -12.589],\n",
       "        [    nan,     nan,     nan],\n",
       "        [    nan,     nan,     nan],\n",
       "        [    nan,     nan,     nan],\n",
       "        [    nan,     nan,     nan],\n",
       "        [    nan,     nan,     nan]]))"
      ]
     },
     "execution_count": 8,
     "metadata": {},
     "output_type": "execute_result"
    }
   ],
   "source": [
    "len(d), d[0].coords"
   ]
  },
  {
   "cell_type": "code",
   "execution_count": 8,
   "id": "d700a54b",
   "metadata": {},
   "outputs": [
    {
     "name": "stdout",
     "output_type": "stream",
     "text": [
      "usage: create.py [-h] [--proteinnet_out PROTEINNET_OUT]\r\n",
      "                 [--sidechainnet_out SIDECHAINNET_OUT] [-l LIMIT]\r\n",
      "                 [--pdb_dir PDB_DIR] [--thinning THINNING] [-c CASP_VERSION]\r\n",
      "                 [--num_cores NUM_CORES] [--regenerate_scdata]\r\n",
      "                 proteinnet_in\r\n",
      "\r\n",
      "Constructs SidechainNet.\r\n",
      "\r\n",
      "positional arguments:\r\n",
      "  proteinnet_in         Path to ProteinNet raw records directory.\r\n",
      "\r\n",
      "optional arguments:\r\n",
      "  -h, --help            show this help message and exit\r\n",
      "  --proteinnet_out PROTEINNET_OUT, -po PROTEINNET_OUT\r\n",
      "                        Where to save parsed, raw ProteinNet.\r\n",
      "  --sidechainnet_out SIDECHAINNET_OUT, -so SIDECHAINNET_OUT\r\n",
      "                        Where to save SidechainNet.\r\n",
      "  -l LIMIT, --limit LIMIT\r\n",
      "                        Limit size of training set for debugging.\r\n",
      "  --pdb_dir PDB_DIR     Location to download PDB files for ProDy.\r\n",
      "  --thinning THINNING   Which 'thinning' of the ProteinNet training set to\r\n",
      "                        parse. {30,50,70,90,95,100}. Default 30.\r\n",
      "  -c CASP_VERSION, --casp_version CASP_VERSION\r\n",
      "                        CASP version.\r\n",
      "  --num_cores NUM_CORES\r\n",
      "                        Number of CPU cores to use for dataset creation.\r\n",
      "  --regenerate_scdata   If True, then regenerate the sidechain-only data even\r\n",
      "                        if it already exists locally.\r\n"
     ]
    }
   ],
   "source": [
    "!python /home/jok120/sidechainnet/sidechainnet/create.py --help"
   ]
  },
  {
   "cell_type": "code",
   "execution_count": null,
   "id": "8848e4b0",
   "metadata": {},
   "outputs": [
    {
     "name": "stdout",
     "output_type": "stream",
     "text": [
      "Downloading SidechainNet specific data from RSCB PDB.\n",
      "21254 IDs OK for parallel downloading.\n"
     ]
    }
   ],
   "source": [
    "%%bash\n",
    "PATH_TO_PROTEINNET_FILES=\"/home/jok120/proteinnet/data/casp12/casp12\"\n",
    "SCN_OUT=\"/home/jok120/scn220502\"\n",
    "PTN_OUT=\"/home/jok120/ptn220502\"\n",
    "python /home/jok120/sidechainnet/sidechainnet/create.py $PATH_TO_PROTEINNET_FILES \\\n",
    "--thinning=30 --sidechainnet_out=$SCN_OUT --casp_version=12"
   ]
  },
  {
   "cell_type": "code",
   "execution_count": null,
   "id": "7efaca16",
   "metadata": {},
   "outputs": [],
   "source": []
  }
 ],
 "metadata": {
  "kernelspec": {
   "display_name": "Python [conda env:sidechainnetv2] *",
   "language": "python",
   "name": "conda-env-sidechainnetv2-py"
  },
  "language_info": {
   "codemirror_mode": {
    "name": "ipython",
    "version": 3
   },
   "file_extension": ".py",
   "mimetype": "text/x-python",
   "name": "python",
   "nbconvert_exporter": "python",
   "pygments_lexer": "ipython3",
   "version": "3.8.12"
  }
 },
 "nbformat": 4,
 "nbformat_minor": 5
}
