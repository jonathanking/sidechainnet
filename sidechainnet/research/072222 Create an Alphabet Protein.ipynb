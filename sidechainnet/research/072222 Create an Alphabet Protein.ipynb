{
 "cells": [
  {
   "cell_type": "code",
   "execution_count": null,
   "id": "f52f42ae",
   "metadata": {},
   "outputs": [],
   "source": [
    "import prody as pr\n",
    "import sidechainnet as scn\n",
    "from sidechainnet.utils.download import get_resolution_from_pdbid\n",
    "from sidechainnet.dataloaders.SCNProtein import SCNProtein\n",
    "\n",
    "def process_pdb(filename, pdbid=\"\", include_resolution=False, scnprotein=True):\n",
    "    \"\"\"Return a dictionary containing SidechainNet-relevant data for a given PDB file.\n",
    "\n",
    "    Args:\n",
    "        filename (str): Path to existing PDB file.\n",
    "        pdbid (str): 4-letter string representing the PDB Identifier.\n",
    "        include_resolution (bool, default=False): If True, query the PDB for the protein\n",
    "            structure resolution based off of the given pdb_id.\n",
    "\n",
    "    Returns:\n",
    "        scndata (dict): A dictionary holding the parsed data attributes of the protein\n",
    "        structure. Below is a description of the keys:\n",
    "\n",
    "            The key 'seq' is a 1-letter amino acid sequence.\n",
    "            The key 'coords' is a (L x NUM_COORDS_PER_RES) x 3 numpy array.\n",
    "            The key 'angs' is a L x NUM_ANGLES numpy array.\n",
    "            The key 'is_nonstd' is a L x 1 numpy array with binary values. 1 represents\n",
    "                that the amino acid at that position was a non-standard amino acid that\n",
    "                has been modified by SidechainNet into its standard form.\n",
    "            The key 'unmodified_seq' refers to the original amino acid sequence\n",
    "                of the protein structure. Some non-standard amino acids are converted into\n",
    "                their standard form by SidechainNet before measurement. In this case, the\n",
    "                unmodified_seq variable will contain the original (3-letter code) seq.\n",
    "            The key 'resolution' is the resolution of the structure as listed on the PDB.\n",
    "    \"\"\"\n",
    "    # First, use Prody to parse the PDB file\n",
    "    chain = pr.parsePDB(filename)\n",
    "    # Next, use SidechainNet to make the relevant measurements given the Prody chain obj\n",
    "    (dihedrals_np, coords_np, observed_sequence, unmodified_sequence,\n",
    "     is_nonstd) = scn.utils.measure.get_seq_coords_and_angles(chain, replace_nonstd=True)\n",
    "    scndata = {\n",
    "        \"coords\": coords_np,\n",
    "        \"angs\": dihedrals_np,\n",
    "        \"seq\": observed_sequence,\n",
    "        \"unmodified_seq\": unmodified_sequence,\n",
    "        \"is_nonstd\": is_nonstd\n",
    "    }\n",
    "    # If requested, look up the resolution of the given PDB ID\n",
    "    if include_resolution:\n",
    "        assert pdbid, \"You must provide a PDB ID to look up the resolution.\"\n",
    "        scndata['resolution'] = get_resolution_from_pdbid(pdbid)\n",
    "        \n",
    "    if scnprotein:\n",
    "        p = SCNProtein(coordinates=scndata['coords'].reshape(len(observed_sequence), -1, 3),\n",
    "                       angles=scndata['angs'],\n",
    "                       sequence=scndata['seq'],\n",
    "                       unmodified_seq=scndata[\"unmodified_seq\"],\n",
    "                      is_modified=scndata[\"is_nonstd\"],\n",
    "                      mask='+'*len(observed_sequence),\n",
    "                      id=pdbid)\n",
    "        return p\n",
    "    return scndata"
   ]
  },
  {
   "cell_type": "code",
   "execution_count": null,
   "id": "84b98853",
   "metadata": {},
   "outputs": [],
   "source": [
    "d = process_pdb(\"/home/jok120/Downloads/alphabet.pdb\", pdbid='ALFA')"
   ]
  },
  {
   "cell_type": "code",
   "execution_count": null,
   "id": "23942cbc",
   "metadata": {},
   "outputs": [],
   "source": [
    "d"
   ]
  },
  {
   "cell_type": "code",
   "execution_count": null,
   "id": "018dc04d",
   "metadata": {},
   "outputs": [],
   "source": [
    "# d.to_3Dmol()"
   ]
  },
  {
   "cell_type": "code",
   "execution_count": null,
   "id": "17444408",
   "metadata": {},
   "outputs": [],
   "source": [
    "d.torch()\n",
    "d.fastbuild()"
   ]
  },
  {
   "cell_type": "code",
   "execution_count": null,
   "id": "12badab7",
   "metadata": {},
   "outputs": [],
   "source": []
  }
 ],
 "metadata": {
  "kernelspec": {
   "display_name": "Python [conda env:sidechainnetv2]",
   "language": "python",
   "name": "conda-env-sidechainnetv2-py"
  },
  "language_info": {
   "codemirror_mode": {
    "name": "ipython",
    "version": 3
   },
   "file_extension": ".py",
   "mimetype": "text/x-python",
   "name": "python",
   "nbconvert_exporter": "python",
   "pygments_lexer": "ipython3",
   "version": "3.8.12"
  }
 },
 "nbformat": 4,
 "nbformat_minor": 5
}
