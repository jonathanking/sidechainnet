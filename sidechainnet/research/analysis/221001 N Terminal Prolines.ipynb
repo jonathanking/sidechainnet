{
 "cells": [
  {
   "cell_type": "code",
   "execution_count": 2,
   "id": "956dbd6f",
   "metadata": {},
   "outputs": [],
   "source": [
    "import sidechainnet as scn"
   ]
  },
  {
   "cell_type": "code",
   "execution_count": null,
   "id": "c57e19d3",
   "metadata": {},
   "outputs": [],
   "source": [
    "d = scn.load(local_scn_path=\"/home/jok120/scn220905/sidechainnet_casp12_100.pkl\")\n",
    "d"
   ]
  },
  {
   "cell_type": "code",
   "execution_count": null,
   "id": "c9a6a664",
   "metadata": {},
   "outputs": [],
   "source": [
    "with open(\"/home/jok120/scn220905/proteinseqs.txt\", \"w\") as f:\n",
    "    for p in d:\n",
    "        p.trim_edges()\n",
    "        if p.seq[0] == \"P\":\n",
    "#             f.write(f\"{p.id}\\n{p.mask}\\n{p.seq}\\n\")\n",
    "            f.write(f\"{p.id} \")"
   ]
  },
  {
   "cell_type": "code",
   "execution_count": null,
   "id": "94278f24",
   "metadata": {},
   "outputs": [],
   "source": [
    "!head /home/jok120/scn220905/proteinseqs.txt"
   ]
  },
  {
   "cell_type": "code",
   "execution_count": null,
   "id": "50a4d6fe",
   "metadata": {},
   "outputs": [],
   "source": []
  },
  {
   "cell_type": "code",
   "execution_count": 3,
   "id": "7b2ee0e0",
   "metadata": {},
   "outputs": [
    {
     "ename": "TypeError",
     "evalue": "'NoneType' object is not iterable",
     "output_type": "error",
     "traceback": [
      "\u001b[0;31m---------------------------------------------------------------------------\u001b[0m",
      "\u001b[0;31mTypeError\u001b[0m                                 Traceback (most recent call last)",
      "Input \u001b[0;32mIn [3]\u001b[0m, in \u001b[0;36m<module>\u001b[0;34m\u001b[0m\n\u001b[0;32m----> 1\u001b[0m p \u001b[38;5;241m=\u001b[39m \u001b[43mscn\u001b[49m\u001b[38;5;241;43m.\u001b[39;49m\u001b[43mdataloaders\u001b[49m\u001b[38;5;241;43m.\u001b[39;49m\u001b[43mSCNProtein\u001b[49m\u001b[38;5;241;43m.\u001b[39;49m\u001b[43mSCNProtein\u001b[49m\u001b[43m(\u001b[49m\u001b[43mpkl_file\u001b[49m\u001b[38;5;241;43m=\u001b[39;49m\u001b[38;5;124;43m\"\u001b[39;49m\u001b[38;5;124;43m/home/jok120/scnmin220930/10#1JB0_12_X.pkl\u001b[39;49m\u001b[38;5;124;43m\"\u001b[39;49m\u001b[43m)\u001b[49m\n",
      "File \u001b[0;32m~/sidechainnet/sidechainnet/dataloaders/SCNProtein.py:79\u001b[0m, in \u001b[0;36mSCNProtein.__init__\u001b[0;34m(self, **kwargs)\u001b[0m\n\u001b[1;32m     76\u001b[0m     \u001b[38;5;28mself\u001b[39m\u001b[38;5;241m.\u001b[39mopenmm_forcefields \u001b[38;5;241m=\u001b[39m OPENMM_FORCEFIELDS\n\u001b[1;32m     78\u001b[0m \u001b[38;5;66;03m# Prepare data for model training\u001b[39;00m\n\u001b[0;32m---> 79\u001b[0m \u001b[38;5;28mself\u001b[39m\u001b[38;5;241m.\u001b[39mint_seq \u001b[38;5;241m=\u001b[39m \u001b[43mVOCAB\u001b[49m\u001b[38;5;241;43m.\u001b[39;49m\u001b[43mstr2ints\u001b[49m\u001b[43m(\u001b[49m\u001b[38;5;28;43mself\u001b[39;49m\u001b[38;5;241;43m.\u001b[39;49m\u001b[43mseq\u001b[49m\u001b[43m,\u001b[49m\u001b[43m \u001b[49m\u001b[43madd_sos_eos\u001b[49m\u001b[38;5;241;43m=\u001b[39;49m\u001b[38;5;28;43mself\u001b[39;49m\u001b[38;5;241;43m.\u001b[39;49m\u001b[43madd_sos_eos\u001b[49m\u001b[43m)\u001b[49m\n\u001b[1;32m     80\u001b[0m \u001b[38;5;28mself\u001b[39m\u001b[38;5;241m.\u001b[39mint_mask \u001b[38;5;241m=\u001b[39m [\u001b[38;5;241m1\u001b[39m \u001b[38;5;28;01mif\u001b[39;00m m \u001b[38;5;241m==\u001b[39m \u001b[38;5;124m\"\u001b[39m\u001b[38;5;124m+\u001b[39m\u001b[38;5;124m\"\u001b[39m \u001b[38;5;28;01melse\u001b[39;00m \u001b[38;5;241m0\u001b[39m \u001b[38;5;28;01mfor\u001b[39;00m m \u001b[38;5;129;01min\u001b[39;00m \u001b[38;5;28mself\u001b[39m\u001b[38;5;241m.\u001b[39mmask]\n\u001b[1;32m     81\u001b[0m dssp_vocab \u001b[38;5;241m=\u001b[39m DSSPVocabulary()\n",
      "File \u001b[0;32m~/sidechainnet/sidechainnet/utils/sequence.py:172\u001b[0m, in \u001b[0;36mProteinVocabulary.str2ints\u001b[0;34m(self, seq, add_sos_eos)\u001b[0m\n\u001b[1;32m    170\u001b[0m     \u001b[38;5;28;01mreturn\u001b[39;00m [\u001b[38;5;28mself\u001b[39m[\u001b[38;5;124m\"\u001b[39m\u001b[38;5;124m<\u001b[39m\u001b[38;5;124m\"\u001b[39m]] \u001b[38;5;241m+\u001b[39m [\u001b[38;5;28mself\u001b[39m[aa] \u001b[38;5;28;01mfor\u001b[39;00m aa \u001b[38;5;129;01min\u001b[39;00m seq] \u001b[38;5;241m+\u001b[39m [\u001b[38;5;28mself\u001b[39m[\u001b[38;5;124m\"\u001b[39m\u001b[38;5;124m>\u001b[39m\u001b[38;5;124m\"\u001b[39m]]\n\u001b[1;32m    171\u001b[0m \u001b[38;5;28;01melse\u001b[39;00m:\n\u001b[0;32m--> 172\u001b[0m     \u001b[38;5;28;01mreturn\u001b[39;00m [\u001b[38;5;28mself\u001b[39m[aa] \u001b[38;5;28;01mfor\u001b[39;00m aa \u001b[38;5;129;01min\u001b[39;00m seq]\n",
      "\u001b[0;31mTypeError\u001b[0m: 'NoneType' object is not iterable"
     ]
    }
   ],
   "source": [
    "p = scn.dataloaders.SCNProtein.SCNProtein(pkl_file=\"/home/jok120/scnmin220930/10#1JB0_12_X.pkl\")"
   ]
  },
  {
   "cell_type": "code",
   "execution_count": 4,
   "id": "9bcdc998",
   "metadata": {},
   "outputs": [
    {
     "ename": "ImportError",
     "evalue": "cannot import name 'get_scnprotein_from_pickle_file' from 'sidechainnet.utils.minimize_scn' (/home/jok120/sidechainnet/sidechainnet/utils/minimize_scn.py)",
     "output_type": "error",
     "traceback": [
      "\u001b[0;31m---------------------------------------------------------------------------\u001b[0m",
      "\u001b[0;31mImportError\u001b[0m                               Traceback (most recent call last)",
      "Input \u001b[0;32mIn [4]\u001b[0m, in \u001b[0;36m<module>\u001b[0;34m\u001b[0m\n\u001b[0;32m----> 1\u001b[0m \u001b[38;5;28;01mfrom\u001b[39;00m \u001b[38;5;21;01msidechainnet\u001b[39;00m\u001b[38;5;21;01m.\u001b[39;00m\u001b[38;5;21;01mutils\u001b[39;00m\u001b[38;5;21;01m.\u001b[39;00m\u001b[38;5;21;01mminimize_scn\u001b[39;00m \u001b[38;5;28;01mimport\u001b[39;00m get_scnprotein_from_pickle_file\n",
      "\u001b[0;31mImportError\u001b[0m: cannot import name 'get_scnprotein_from_pickle_file' from 'sidechainnet.utils.minimize_scn' (/home/jok120/sidechainnet/sidechainnet/utils/minimize_scn.py)"
     ]
    }
   ],
   "source": [
    "from sidechainnet.utils.minimize_scn import get_scnprotein_from_pickle_file"
   ]
  },
  {
   "cell_type": "code",
   "execution_count": null,
   "id": "df32767e",
   "metadata": {},
   "outputs": [],
   "source": []
  }
 ],
 "metadata": {
  "kernelspec": {
   "display_name": "Python [conda env:sidechainnetv2]",
   "language": "python",
   "name": "conda-env-sidechainnetv2-py"
  },
  "language_info": {
   "codemirror_mode": {
    "name": "ipython",
    "version": 3
   },
   "file_extension": ".py",
   "mimetype": "text/x-python",
   "name": "python",
   "nbconvert_exporter": "python",
   "pygments_lexer": "ipython3",
   "version": "3.8.12"
  }
 },
 "nbformat": 4,
 "nbformat_minor": 5
}
