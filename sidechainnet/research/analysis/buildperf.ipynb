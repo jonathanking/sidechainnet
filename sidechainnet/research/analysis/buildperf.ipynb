{
 "cells": [
  {
   "cell_type": "code",
   "execution_count": 1,
   "id": "5d16a82c",
   "metadata": {},
   "outputs": [
    {
     "data": {
      "text/plain": [
       "(0, True)"
      ]
     },
     "execution_count": 1,
     "metadata": {},
     "output_type": "execute_result"
    }
   ],
   "source": [
    "import sidechainnet as scn\n",
    "import torch\n",
    "import numpy as np\n",
    "import seaborn as sns\n",
    "import matplotlib.pyplot as plt\n",
    "from tqdm import tqdm\n",
    "import time\n",
    "from sidechainnet.dataloaders.SCNProtein import atom_name_pprint\n",
    "from sidechainnet.tests.test_hydrogens import load_p, get_alias\n",
    "from sidechainnet.structure import fastbuild\n",
    "from sidechainnet.structure import StructureBuilder\n",
    "from torch.autograd import gradcheck\n",
    "from torch.autograd.functional import jacobian as get_jacobian\n",
    "torch.autograd.set_detect_anomaly(True)\n",
    "torch.set_printoptions(sci_mode=False, precision=3)\n",
    "np.set_printoptions(precision=3)\n",
    "torch.cuda.current_device(), torch.cuda.is_available()"
   ]
  },
  {
   "cell_type": "code",
   "execution_count": 2,
   "id": "677c125b",
   "metadata": {},
   "outputs": [
    {
     "data": {
      "text/plain": [
       "<module 'sidechainnet.structure.fastbuild' from '/home/jok120/sidechainnet/sidechainnet/structure/fastbuild.py'>"
      ]
     },
     "execution_count": 2,
     "metadata": {},
     "output_type": "execute_result"
    }
   ],
   "source": [
    "import importlib\n",
    "importlib.reload(fastbuild)"
   ]
  },
  {
   "cell_type": "code",
   "execution_count": 7,
   "id": "16553e10",
   "metadata": {},
   "outputs": [
    {
     "name": "stdout",
     "output_type": "stream",
     "text": [
      "SidechainNet was loaded from /home/jok120/sidechainnet_data/sidechainnet_debug.pkl.\n",
      "27 (5.5%) data set entries were excluded due to missing residues.\n"
     ]
    },
    {
     "data": {
      "text/plain": [
       "SCNProtein(1A38_2_P, len=5, missing=0, split='train')"
      ]
     },
     "execution_count": 7,
     "metadata": {},
     "output_type": "execute_result"
    }
   ],
   "source": [
    "d = scn.load(12, 100, local_scn_path='/home/jok120/sidechainnet_data/sidechainnet_debug.pkl',\n",
    "scn_dir='/home/jok120/sidechainnet_data',\n",
    "  scn_dataset=True,\n",
    "  complete_structures_only=True)\n",
    "# p = d['70#4MMO_1_A']\n",
    "p = d['1A38_2_P']\n",
    "# p = d[1]\n",
    "p"
   ]
  },
  {
   "cell_type": "code",
   "execution_count": 8,
   "id": "105d6654",
   "metadata": {},
   "outputs": [
    {
     "data": {
      "application/3dmoljs_load.v0": "<div id=\"3dmolviewer_1654634043576987\"  style=\"position: relative; width: 640px; height: 480px\">\n        <p id=\"3dmolwarning_1654634043576987\" style=\"background-color:#ffcccc;color:black\">You appear to be running in JupyterLab (or JavaScript failed to load for some other reason).  You need to install the 3dmol extension: <br>\n        <tt>jupyter labextension install jupyterlab_3dmol</tt></p>\n        </div>\n<script>\n\nvar loadScriptAsync = function(uri){\n  return new Promise((resolve, reject) => {\n    var tag = document.createElement('script');\n    tag.src = uri;\n    tag.async = true;\n    tag.onload = () => {\n      resolve();\n    };\n  var firstScriptTag = document.getElementsByTagName('script')[0];\n  firstScriptTag.parentNode.insertBefore(tag, firstScriptTag);\n});\n};\n\nif(typeof $3Dmolpromise === 'undefined') {\n$3Dmolpromise = null;\n  $3Dmolpromise = loadScriptAsync('https://3dmol.org/build/3Dmol.js');\n}\n\nvar viewer_1654634043576987 = null;\nvar warn = document.getElementById(\"3dmolwarning_1654634043576987\");\nif(warn) {\n    warn.parentNode.removeChild(warn);\n}\n$3Dmolpromise.then(function() {\nviewer_1654634043576987 = $3Dmol.createViewer($(\"#3dmolviewer_1654634043576987\"),{backgroundColor:\"white\"});\nviewer_1654634043576987.zoomTo();\n\tviewer_1654634043576987.addModel(\"REMARK  pred\\nSEQRES   1 A    5  TRP LEU ASP LEU GLU                                          \\nATOM      1  N   TRP A   1       9.192  64.268   3.337  1.00  0.00           N  \\nATOM      2  CA  TRP A   1      10.005  64.754   2.182  1.00  0.00           C  \\nATOM      3  C   TRP A   1       9.980  63.678   1.068  1.00  0.00           C  \\nATOM      4  O   TRP A   1       9.422  62.601   1.267  1.00  0.00           O  \\nATOM      5  CB  TRP A   1      11.428  65.070   2.687  1.00  0.00           C  \\nATOM      6  CG  TRP A   1      12.340  65.863   1.745  1.00  0.00           C  \\nATOM      7 CD1  TRP A   1      12.078  66.246   0.445  1.00  0.00           C  \\nATOM      8 NE1  TRP A   1      13.199  66.816  -0.122  1.00  0.00           N  \\nATOM      9 CE2  TRP A   1      14.206  66.829   0.806  1.00  0.00           C  \\nATOM     10 CZ2  TRP A   1      15.516  67.304   0.703  1.00  0.00           C  \\nATOM     11 CH2  TRP A   1      16.317  67.196   1.812  1.00  0.00           C  \\nATOM     12 CZ3  TRP A   1      15.844  66.631   3.013  1.00  0.00           C  \\nATOM     13 CE3  TRP A   1      14.545  66.157   3.118  1.00  0.00           C  \\nATOM     14 CD2  TRP A   1      13.701  66.250   2.000  1.00  0.00           C  \\nATOM     15  N   LEU A   2      10.498  63.999  -0.119  1.00  0.00           N  \\nATOM     16  CA  LEU A   2      10.527  63.054  -1.247  1.00  0.00           C  \\nATOM     17  C   LEU A   2      11.923  62.867  -1.876  1.00  0.00           C  \\nATOM     18  O   LEU A   2      12.959  63.115  -1.248  1.00  0.00           O  \\nATOM     19  CB  LEU A   2       9.560  63.511  -2.347  1.00  0.00           C  \\nATOM     20  CG  LEU A   2      10.053  64.644  -3.260  1.00  0.00           C  \\nATOM     21 CD1  LEU A   2       9.235  64.688  -4.540  1.00  0.00           C  \\nATOM     22 CD2  LEU A   2      10.025  65.976  -2.533  1.00  0.00           C  \\nATOM     23  N   ASP A   3      11.933  62.397  -3.119  1.00  0.00           N  \\nATOM     24  CA  ASP A   3      13.170  62.196  -3.854  1.00  0.00           C  \\nATOM     25  C   ASP A   3      13.327  63.333  -4.862  1.00  0.00           C  \\nATOM     26  O   ASP A   3      12.341  63.871  -5.373  1.00  0.00           O  \\nATOM     27  CB  ASP A   3      13.160  60.841  -4.559  1.00  0.00           C  \\nATOM     28  CG  ASP A   3      14.521  60.457  -5.107  1.00  0.00           C  \\nATOM     29 OD1  ASP A   3      15.078  61.208  -5.930  1.00  0.00           O  \\nATOM     30 OD2  ASP A   3      15.036  59.388  -4.729  1.00  0.00           O  \\nATOM     31  N   LEU A   4      14.573  63.625  -5.211  1.00  0.00           N  \\nATOM     32  CA  LEU A   4      14.894  64.726  -6.113  1.00  0.00           C  \\nATOM     33  C   LEU A   4      16.210  64.509  -6.912  1.00  0.00           C  \\nATOM     34  O   LEU A   4      17.066  63.727  -6.487  1.00  0.00           O  \\nATOM     35  CB  LEU A   4      15.031  65.965  -5.213  1.00  0.00           C  \\nATOM     36  CG  LEU A   4      15.420  67.341  -5.734  1.00  0.00           C  \\nATOM     37 CD1  LEU A   4      14.306  67.789  -6.642  1.00  0.00           C  \\nATOM     38 CD2  LEU A   4      15.632  68.337  -4.577  1.00  0.00           C  \\nATOM     39  N   GLU A   5      16.342  65.145  -8.083  1.00  0.00           N  \\nATOM     40  CA  GLU A   5      17.586  65.096  -8.889  1.00  0.00           C  \\nATOM     41  C   GLU A   5      17.780  66.390  -9.692  1.00  0.00           C  \\nATOM     42  O   GLU A   5      16.795  66.863 -10.297  1.00  0.00           O  \\nATOM     43  CB  GLU A   5      17.677  63.895  -9.852  1.00  0.00           C  \\nATOM     44  CG  GLU A   5      19.077  63.817 -10.539  1.00  0.00           C  \\nATOM     45  CD  GLU A   5      19.159  62.880 -11.741  1.00  0.00           C  \\nATOM     46 OE1  GLU A   5      18.338  61.950 -11.841  1.00  0.00           O  \\nATOM     47 OE2  GLU A   5      20.060  63.072 -12.589  1.00  0.00           O  \\nTER\\nEND          \\n\",\"pdb\",{\"keepH\": true});\n\tviewer_1654634043576987.setStyle({\"cartoon\": {\"color\": \"spectrum\"}, \"stick\": {\"radius\": 0.15}});\n\tviewer_1654634043576987.zoomTo();\nviewer_1654634043576987.render();\n});\n</script>",
      "text/html": [
       "<div id=\"3dmolviewer_1654634043576987\"  style=\"position: relative; width: 640px; height: 480px\">\n",
       "        <p id=\"3dmolwarning_1654634043576987\" style=\"background-color:#ffcccc;color:black\">You appear to be running in JupyterLab (or JavaScript failed to load for some other reason).  You need to install the 3dmol extension: <br>\n",
       "        <tt>jupyter labextension install jupyterlab_3dmol</tt></p>\n",
       "        </div>\n",
       "<script>\n",
       "\n",
       "var loadScriptAsync = function(uri){\n",
       "  return new Promise((resolve, reject) => {\n",
       "    var tag = document.createElement('script');\n",
       "    tag.src = uri;\n",
       "    tag.async = true;\n",
       "    tag.onload = () => {\n",
       "      resolve();\n",
       "    };\n",
       "  var firstScriptTag = document.getElementsByTagName('script')[0];\n",
       "  firstScriptTag.parentNode.insertBefore(tag, firstScriptTag);\n",
       "});\n",
       "};\n",
       "\n",
       "if(typeof $3Dmolpromise === 'undefined') {\n",
       "$3Dmolpromise = null;\n",
       "  $3Dmolpromise = loadScriptAsync('https://3dmol.org/build/3Dmol.js');\n",
       "}\n",
       "\n",
       "var viewer_1654634043576987 = null;\n",
       "var warn = document.getElementById(\"3dmolwarning_1654634043576987\");\n",
       "if(warn) {\n",
       "    warn.parentNode.removeChild(warn);\n",
       "}\n",
       "$3Dmolpromise.then(function() {\n",
       "viewer_1654634043576987 = $3Dmol.createViewer($(\"#3dmolviewer_1654634043576987\"),{backgroundColor:\"white\"});\n",
       "viewer_1654634043576987.zoomTo();\n",
       "\tviewer_1654634043576987.addModel(\"REMARK  pred\\nSEQRES   1 A    5  TRP LEU ASP LEU GLU                                          \\nATOM      1  N   TRP A   1       9.192  64.268   3.337  1.00  0.00           N  \\nATOM      2  CA  TRP A   1      10.005  64.754   2.182  1.00  0.00           C  \\nATOM      3  C   TRP A   1       9.980  63.678   1.068  1.00  0.00           C  \\nATOM      4  O   TRP A   1       9.422  62.601   1.267  1.00  0.00           O  \\nATOM      5  CB  TRP A   1      11.428  65.070   2.687  1.00  0.00           C  \\nATOM      6  CG  TRP A   1      12.340  65.863   1.745  1.00  0.00           C  \\nATOM      7 CD1  TRP A   1      12.078  66.246   0.445  1.00  0.00           C  \\nATOM      8 NE1  TRP A   1      13.199  66.816  -0.122  1.00  0.00           N  \\nATOM      9 CE2  TRP A   1      14.206  66.829   0.806  1.00  0.00           C  \\nATOM     10 CZ2  TRP A   1      15.516  67.304   0.703  1.00  0.00           C  \\nATOM     11 CH2  TRP A   1      16.317  67.196   1.812  1.00  0.00           C  \\nATOM     12 CZ3  TRP A   1      15.844  66.631   3.013  1.00  0.00           C  \\nATOM     13 CE3  TRP A   1      14.545  66.157   3.118  1.00  0.00           C  \\nATOM     14 CD2  TRP A   1      13.701  66.250   2.000  1.00  0.00           C  \\nATOM     15  N   LEU A   2      10.498  63.999  -0.119  1.00  0.00           N  \\nATOM     16  CA  LEU A   2      10.527  63.054  -1.247  1.00  0.00           C  \\nATOM     17  C   LEU A   2      11.923  62.867  -1.876  1.00  0.00           C  \\nATOM     18  O   LEU A   2      12.959  63.115  -1.248  1.00  0.00           O  \\nATOM     19  CB  LEU A   2       9.560  63.511  -2.347  1.00  0.00           C  \\nATOM     20  CG  LEU A   2      10.053  64.644  -3.260  1.00  0.00           C  \\nATOM     21 CD1  LEU A   2       9.235  64.688  -4.540  1.00  0.00           C  \\nATOM     22 CD2  LEU A   2      10.025  65.976  -2.533  1.00  0.00           C  \\nATOM     23  N   ASP A   3      11.933  62.397  -3.119  1.00  0.00           N  \\nATOM     24  CA  ASP A   3      13.170  62.196  -3.854  1.00  0.00           C  \\nATOM     25  C   ASP A   3      13.327  63.333  -4.862  1.00  0.00           C  \\nATOM     26  O   ASP A   3      12.341  63.871  -5.373  1.00  0.00           O  \\nATOM     27  CB  ASP A   3      13.160  60.841  -4.559  1.00  0.00           C  \\nATOM     28  CG  ASP A   3      14.521  60.457  -5.107  1.00  0.00           C  \\nATOM     29 OD1  ASP A   3      15.078  61.208  -5.930  1.00  0.00           O  \\nATOM     30 OD2  ASP A   3      15.036  59.388  -4.729  1.00  0.00           O  \\nATOM     31  N   LEU A   4      14.573  63.625  -5.211  1.00  0.00           N  \\nATOM     32  CA  LEU A   4      14.894  64.726  -6.113  1.00  0.00           C  \\nATOM     33  C   LEU A   4      16.210  64.509  -6.912  1.00  0.00           C  \\nATOM     34  O   LEU A   4      17.066  63.727  -6.487  1.00  0.00           O  \\nATOM     35  CB  LEU A   4      15.031  65.965  -5.213  1.00  0.00           C  \\nATOM     36  CG  LEU A   4      15.420  67.341  -5.734  1.00  0.00           C  \\nATOM     37 CD1  LEU A   4      14.306  67.789  -6.642  1.00  0.00           C  \\nATOM     38 CD2  LEU A   4      15.632  68.337  -4.577  1.00  0.00           C  \\nATOM     39  N   GLU A   5      16.342  65.145  -8.083  1.00  0.00           N  \\nATOM     40  CA  GLU A   5      17.586  65.096  -8.889  1.00  0.00           C  \\nATOM     41  C   GLU A   5      17.780  66.390  -9.692  1.00  0.00           C  \\nATOM     42  O   GLU A   5      16.795  66.863 -10.297  1.00  0.00           O  \\nATOM     43  CB  GLU A   5      17.677  63.895  -9.852  1.00  0.00           C  \\nATOM     44  CG  GLU A   5      19.077  63.817 -10.539  1.00  0.00           C  \\nATOM     45  CD  GLU A   5      19.159  62.880 -11.741  1.00  0.00           C  \\nATOM     46 OE1  GLU A   5      18.338  61.950 -11.841  1.00  0.00           O  \\nATOM     47 OE2  GLU A   5      20.060  63.072 -12.589  1.00  0.00           O  \\nTER\\nEND          \\n\",\"pdb\",{\"keepH\": true});\n",
       "\tviewer_1654634043576987.setStyle({\"cartoon\": {\"color\": \"spectrum\"}, \"stick\": {\"radius\": 0.15}});\n",
       "\tviewer_1654634043576987.zoomTo();\n",
       "viewer_1654634043576987.render();\n",
       "});\n",
       "</script>"
      ]
     },
     "metadata": {},
     "output_type": "display_data"
    },
    {
     "data": {
      "text/plain": [
       "<py3Dmol.view at 0x7fa748527a60>"
      ]
     },
     "execution_count": 8,
     "metadata": {},
     "output_type": "execute_result"
    }
   ],
   "source": [
    "p.sb = None\n",
    "p.to_3Dmol()"
   ]
  },
  {
   "cell_type": "code",
   "execution_count": 9,
   "id": "38d6a022",
   "metadata": {},
   "outputs": [
    {
     "data": {
      "application/3dmoljs_load.v0": "<div id=\"3dmolviewer_16546340476168334\"  style=\"position: relative; width: 640px; height: 480px\">\n        <p id=\"3dmolwarning_16546340476168334\" style=\"background-color:#ffcccc;color:black\">You appear to be running in JupyterLab (or JavaScript failed to load for some other reason).  You need to install the 3dmol extension: <br>\n        <tt>jupyter labextension install jupyterlab_3dmol</tt></p>\n        </div>\n<script>\n\nvar loadScriptAsync = function(uri){\n  return new Promise((resolve, reject) => {\n    var tag = document.createElement('script');\n    tag.src = uri;\n    tag.async = true;\n    tag.onload = () => {\n      resolve();\n    };\n  var firstScriptTag = document.getElementsByTagName('script')[0];\n  firstScriptTag.parentNode.insertBefore(tag, firstScriptTag);\n});\n};\n\nif(typeof $3Dmolpromise === 'undefined') {\n$3Dmolpromise = null;\n  $3Dmolpromise = loadScriptAsync('https://3dmol.org/build/3Dmol.js');\n}\n\nvar viewer_16546340476168334 = null;\nvar warn = document.getElementById(\"3dmolwarning_16546340476168334\");\nif(warn) {\n    warn.parentNode.removeChild(warn);\n}\n$3Dmolpromise.then(function() {\nviewer_16546340476168334 = $3Dmol.createViewer($(\"#3dmolviewer_16546340476168334\"),{backgroundColor:\"white\"});\nviewer_16546340476168334.zoomTo();\n\tviewer_16546340476168334.addModel(\"REMARK  pred\\nSEQRES   1 A    5  TRP LEU ASP LEU GLU                                          \\nATOM      1  N   TRP A   1       0.000   0.000   0.001  1.00  0.00           N  \\nATOM      2  CA  TRP A   1       1.442   0.000   0.001  1.00  0.00           C  \\nATOM      3  C   TRP A   1       1.923   1.419   0.001  1.00  0.00           C  \\nATOM      4  O   TRP A   1       1.125   2.338  -0.164  1.00  0.00           O  \\nATOM      5  CB  TRP A   1       1.956   0.000   0.001  1.00  0.00           C  \\nATOM      6  CG  TRP A   1       2.602   0.000   0.001  1.00  0.00           C  \\nATOM      7 CD1  TRP A   1       3.378   0.000   0.001  1.00  0.00           C  \\nATOM      8 NE1  TRP A   1       3.821   0.000   0.001  1.00  0.00           N  \\nATOM      9 CE2  TRP A   1       4.329   0.000   0.001  1.00  0.00           C  \\nATOM     10 CZ2  TRP A   1       5.280   0.000   0.001  1.00  0.00           C  \\nATOM     11 CH2  TRP A   1       5.980   0.000   0.001  1.00  0.00           C  \\nATOM     12 CZ3  TRP A   1       6.680   0.000   0.001  1.00  0.00           C  \\nATOM     13 CE3  TRP A   1       7.380   0.000   0.001  1.00  0.00           C  \\nATOM     14 CD2  TRP A   1       8.082   0.000   0.001  1.00  0.00           C  \\nATOM     15  N   LEU A   2       3.271   1.640   0.190  1.00  0.00           N  \\nATOM     16  CA  LEU A   2       3.840   2.965   0.207  1.00  0.00           C  \\nATOM     17  C   LEU A   2       4.991   3.149  -0.734  1.00  0.00           C  \\nATOM     18  O   LEU A   2       5.132   2.388  -1.689  1.00  0.00           O  \\nATOM     19  CB  LEU A   2       4.306   3.307   1.619  1.00  0.00           C  \\nATOM     20  CG  LEU A   2       5.644   2.627   1.892  1.00  0.00           C  \\nATOM     21 CD1  LEU A   2       6.327   3.304   3.077  1.00  0.00           C  \\nATOM     22 CD2  LEU A   2       5.421   1.133   2.111  1.00  0.00           C  \\nATOM     23  N   ASP A   3       5.835   4.200  -0.443  1.00  0.00           N  \\nATOM     24  CA  ASP A   3       7.003   4.483  -1.241  1.00  0.00           C  \\nATOM     25  C   ASP A   3       8.214   4.002  -0.501  1.00  0.00           C  \\nATOM     26  O   ASP A   3       8.196   3.929   0.726  1.00  0.00           O  \\nATOM     27  CB  ASP A   3       7.083   5.981  -1.521  1.00  0.00           C  \\nATOM     28  CG  ASP A   3       8.129   6.284  -2.584  1.00  0.00           C  \\nATOM     29 OD1  ASP A   3       9.302   5.921  -2.346  1.00  0.00           O  \\nATOM     30 OD2  ASP A   3       7.738   6.873  -3.614  1.00  0.00           O  \\nATOM     31  N   LEU A   4       9.298   3.665  -1.284  1.00  0.00           N  \\nATOM     32  CA  LEU A   4      10.514   3.126  -0.727  1.00  0.00           C  \\nATOM     33  C   LEU A   4      11.731   3.429  -1.545  1.00  0.00           C  \\nATOM     34  O   LEU A   4      11.623   3.651  -2.749  1.00  0.00           O  \\nATOM     35  CB  LEU A   4      10.402   1.608  -0.621  1.00  0.00           C  \\nATOM     36  CG  LEU A   4      11.714   1.036  -0.091  1.00  0.00           C  \\nATOM     37 CD1  LEU A   4      11.943   1.523   1.337  1.00  0.00           C  \\nATOM     38 CD2  LEU A   4      11.662  -0.488  -0.138  1.00  0.00           C  \\nATOM     39  N   GLU A   5      12.951   3.449  -0.902  1.00  0.00           N  \\nATOM     40  CA  GLU A   5      14.200   3.634  -1.599  1.00  0.00           C  \\nATOM     41  C   GLU A   5      15.319   2.920  -0.906  1.00  0.00           C  \\nATOM     42  O   GLU A   5      15.435   2.996   0.315  1.00  0.00           O  \\nATOM     43  CB  GLU A   5      14.491   5.125  -1.743  1.00  0.00           C  \\nATOM     44  CG  GLU A   5      15.723   5.321  -2.623  1.00  0.00           C  \\nATOM     45  CD  GLU A   5      16.251   6.744  -2.518  1.00  0.00           C  \\nATOM     46 OE1  GLU A   5      15.441   7.625  -2.157  1.00  0.00           O  \\nATOM     47 OE2  GLU A   5      17.455   6.925  -2.801  1.00  0.00           O  \\nTER\\nEND          \\n\",\"pdb\",{\"keepH\": true});\n\tviewer_16546340476168334.setStyle({\"cartoon\": {\"color\": \"spectrum\"}, \"stick\": {\"radius\": 0.15}});\n\tviewer_16546340476168334.zoomTo();\nviewer_16546340476168334.render();\n});\n</script>",
      "text/html": [
       "<div id=\"3dmolviewer_16546340476168334\"  style=\"position: relative; width: 640px; height: 480px\">\n",
       "        <p id=\"3dmolwarning_16546340476168334\" style=\"background-color:#ffcccc;color:black\">You appear to be running in JupyterLab (or JavaScript failed to load for some other reason).  You need to install the 3dmol extension: <br>\n",
       "        <tt>jupyter labextension install jupyterlab_3dmol</tt></p>\n",
       "        </div>\n",
       "<script>\n",
       "\n",
       "var loadScriptAsync = function(uri){\n",
       "  return new Promise((resolve, reject) => {\n",
       "    var tag = document.createElement('script');\n",
       "    tag.src = uri;\n",
       "    tag.async = true;\n",
       "    tag.onload = () => {\n",
       "      resolve();\n",
       "    };\n",
       "  var firstScriptTag = document.getElementsByTagName('script')[0];\n",
       "  firstScriptTag.parentNode.insertBefore(tag, firstScriptTag);\n",
       "});\n",
       "};\n",
       "\n",
       "if(typeof $3Dmolpromise === 'undefined') {\n",
       "$3Dmolpromise = null;\n",
       "  $3Dmolpromise = loadScriptAsync('https://3dmol.org/build/3Dmol.js');\n",
       "}\n",
       "\n",
       "var viewer_16546340476168334 = null;\n",
       "var warn = document.getElementById(\"3dmolwarning_16546340476168334\");\n",
       "if(warn) {\n",
       "    warn.parentNode.removeChild(warn);\n",
       "}\n",
       "$3Dmolpromise.then(function() {\n",
       "viewer_16546340476168334 = $3Dmol.createViewer($(\"#3dmolviewer_16546340476168334\"),{backgroundColor:\"white\"});\n",
       "viewer_16546340476168334.zoomTo();\n",
       "\tviewer_16546340476168334.addModel(\"REMARK  pred\\nSEQRES   1 A    5  TRP LEU ASP LEU GLU                                          \\nATOM      1  N   TRP A   1       0.000   0.000   0.001  1.00  0.00           N  \\nATOM      2  CA  TRP A   1       1.442   0.000   0.001  1.00  0.00           C  \\nATOM      3  C   TRP A   1       1.923   1.419   0.001  1.00  0.00           C  \\nATOM      4  O   TRP A   1       1.125   2.338  -0.164  1.00  0.00           O  \\nATOM      5  CB  TRP A   1       1.956   0.000   0.001  1.00  0.00           C  \\nATOM      6  CG  TRP A   1       2.602   0.000   0.001  1.00  0.00           C  \\nATOM      7 CD1  TRP A   1       3.378   0.000   0.001  1.00  0.00           C  \\nATOM      8 NE1  TRP A   1       3.821   0.000   0.001  1.00  0.00           N  \\nATOM      9 CE2  TRP A   1       4.329   0.000   0.001  1.00  0.00           C  \\nATOM     10 CZ2  TRP A   1       5.280   0.000   0.001  1.00  0.00           C  \\nATOM     11 CH2  TRP A   1       5.980   0.000   0.001  1.00  0.00           C  \\nATOM     12 CZ3  TRP A   1       6.680   0.000   0.001  1.00  0.00           C  \\nATOM     13 CE3  TRP A   1       7.380   0.000   0.001  1.00  0.00           C  \\nATOM     14 CD2  TRP A   1       8.082   0.000   0.001  1.00  0.00           C  \\nATOM     15  N   LEU A   2       3.271   1.640   0.190  1.00  0.00           N  \\nATOM     16  CA  LEU A   2       3.840   2.965   0.207  1.00  0.00           C  \\nATOM     17  C   LEU A   2       4.991   3.149  -0.734  1.00  0.00           C  \\nATOM     18  O   LEU A   2       5.132   2.388  -1.689  1.00  0.00           O  \\nATOM     19  CB  LEU A   2       4.306   3.307   1.619  1.00  0.00           C  \\nATOM     20  CG  LEU A   2       5.644   2.627   1.892  1.00  0.00           C  \\nATOM     21 CD1  LEU A   2       6.327   3.304   3.077  1.00  0.00           C  \\nATOM     22 CD2  LEU A   2       5.421   1.133   2.111  1.00  0.00           C  \\nATOM     23  N   ASP A   3       5.835   4.200  -0.443  1.00  0.00           N  \\nATOM     24  CA  ASP A   3       7.003   4.483  -1.241  1.00  0.00           C  \\nATOM     25  C   ASP A   3       8.214   4.002  -0.501  1.00  0.00           C  \\nATOM     26  O   ASP A   3       8.196   3.929   0.726  1.00  0.00           O  \\nATOM     27  CB  ASP A   3       7.083   5.981  -1.521  1.00  0.00           C  \\nATOM     28  CG  ASP A   3       8.129   6.284  -2.584  1.00  0.00           C  \\nATOM     29 OD1  ASP A   3       9.302   5.921  -2.346  1.00  0.00           O  \\nATOM     30 OD2  ASP A   3       7.738   6.873  -3.614  1.00  0.00           O  \\nATOM     31  N   LEU A   4       9.298   3.665  -1.284  1.00  0.00           N  \\nATOM     32  CA  LEU A   4      10.514   3.126  -0.727  1.00  0.00           C  \\nATOM     33  C   LEU A   4      11.731   3.429  -1.545  1.00  0.00           C  \\nATOM     34  O   LEU A   4      11.623   3.651  -2.749  1.00  0.00           O  \\nATOM     35  CB  LEU A   4      10.402   1.608  -0.621  1.00  0.00           C  \\nATOM     36  CG  LEU A   4      11.714   1.036  -0.091  1.00  0.00           C  \\nATOM     37 CD1  LEU A   4      11.943   1.523   1.337  1.00  0.00           C  \\nATOM     38 CD2  LEU A   4      11.662  -0.488  -0.138  1.00  0.00           C  \\nATOM     39  N   GLU A   5      12.951   3.449  -0.902  1.00  0.00           N  \\nATOM     40  CA  GLU A   5      14.200   3.634  -1.599  1.00  0.00           C  \\nATOM     41  C   GLU A   5      15.319   2.920  -0.906  1.00  0.00           C  \\nATOM     42  O   GLU A   5      15.435   2.996   0.315  1.00  0.00           O  \\nATOM     43  CB  GLU A   5      14.491   5.125  -1.743  1.00  0.00           C  \\nATOM     44  CG  GLU A   5      15.723   5.321  -2.623  1.00  0.00           C  \\nATOM     45  CD  GLU A   5      16.251   6.744  -2.518  1.00  0.00           C  \\nATOM     46 OE1  GLU A   5      15.441   7.625  -2.157  1.00  0.00           O  \\nATOM     47 OE2  GLU A   5      17.455   6.925  -2.801  1.00  0.00           O  \\nTER\\nEND          \\n\",\"pdb\",{\"keepH\": true});\n",
       "\tviewer_16546340476168334.setStyle({\"cartoon\": {\"color\": \"spectrum\"}, \"stick\": {\"radius\": 0.15}});\n",
       "\tviewer_16546340476168334.zoomTo();\n",
       "viewer_16546340476168334.render();\n",
       "});\n",
       "</script>"
      ]
     },
     "metadata": {},
     "output_type": "display_data"
    },
    {
     "data": {
      "text/plain": [
       "<py3Dmol.view at 0x7fa7485276a0>"
      ]
     },
     "execution_count": 9,
     "metadata": {},
     "output_type": "execute_result"
    }
   ],
   "source": [
    "# p.angles[0, 6] = - 3/2 * np.pi\n",
    "\n",
    "p.sb = None\n",
    "p.to_3Dmol(from_angles=True)"
   ]
  },
  {
   "cell_type": "code",
   "execution_count": 6,
   "id": "1d5f08f5",
   "metadata": {},
   "outputs": [
    {
     "name": "stdout",
     "output_type": "stream",
     "text": [
      "CPU times: user 194 ms, sys: 8.09 ms, total: 202 ms\n",
      "Wall time: 201 ms\n"
     ]
    },
    {
     "data": {
      "text/plain": [
       "array([[ 0.000e+00,  0.000e+00,  1.000e-03],\n",
       "       [ 1.442e+00,  0.000e+00,  1.000e-03],\n",
       "       [ 1.923e+00,  1.419e+00,  1.000e-03],\n",
       "       [ 1.125e+00,  2.338e+00, -1.635e-01],\n",
       "       [ 1.956e+00,  0.000e+00,  1.000e-03],\n",
       "       [ 2.602e+00,  0.000e+00,  1.000e-03],\n",
       "       [ 3.378e+00,  0.000e+00,  1.000e-03],\n",
       "       [ 3.821e+00,  0.000e+00,  1.000e-03],\n",
       "       [ 4.329e+00,  0.000e+00,  1.000e-03],\n",
       "       [ 5.280e+00,  0.000e+00,  1.000e-03],\n",
       "       [ 5.980e+00,  0.000e+00,  1.000e-03],\n",
       "       [ 6.680e+00,  0.000e+00,  1.000e-03],\n",
       "       [ 7.380e+00,  0.000e+00,  1.000e-03],\n",
       "       [ 8.082e+00,  0.000e+00,  1.000e-03],\n",
       "       [ 3.271e+00,  1.640e+00,  1.896e-01],\n",
       "       [ 3.840e+00,  2.965e+00,  2.066e-01],\n",
       "       [ 4.991e+00,  3.149e+00, -7.343e-01],\n",
       "       [ 5.132e+00,  2.388e+00, -1.689e+00],\n",
       "       [ 4.306e+00,  3.307e+00,  1.619e+00],\n",
       "       [ 5.644e+00,  2.627e+00,  1.892e+00],\n",
       "       [ 6.327e+00,  3.304e+00,  3.077e+00],\n",
       "       [ 5.421e+00,  1.133e+00,  2.111e+00],\n",
       "       [       nan,        nan,        nan],\n",
       "       [       nan,        nan,        nan],\n",
       "       [       nan,        nan,        nan],\n",
       "       [       nan,        nan,        nan],\n",
       "       [       nan,        nan,        nan],\n",
       "       [       nan,        nan,        nan],\n",
       "       [ 5.835e+00,  4.200e+00, -4.429e-01],\n",
       "       [ 7.003e+00,  4.483e+00, -1.241e+00],\n",
       "       [ 8.214e+00,  4.002e+00, -5.012e-01],\n",
       "       [ 8.196e+00,  3.929e+00,  7.255e-01],\n",
       "       [ 7.083e+00,  5.981e+00, -1.521e+00],\n",
       "       [ 8.129e+00,  6.284e+00, -2.584e+00],\n",
       "       [ 9.302e+00,  5.921e+00, -2.346e+00],\n",
       "       [ 7.738e+00,  6.873e+00, -3.614e+00],\n",
       "       [       nan,        nan,        nan],\n",
       "       [       nan,        nan,        nan],\n",
       "       [       nan,        nan,        nan],\n",
       "       [       nan,        nan,        nan],\n",
       "       [       nan,        nan,        nan],\n",
       "       [       nan,        nan,        nan],\n",
       "       [ 9.298e+00,  3.665e+00, -1.284e+00],\n",
       "       [ 1.051e+01,  3.126e+00, -7.269e-01],\n",
       "       [ 1.173e+01,  3.429e+00, -1.545e+00],\n",
       "       [ 1.162e+01,  3.651e+00, -2.749e+00],\n",
       "       [ 1.040e+01,  1.608e+00, -6.206e-01],\n",
       "       [ 1.171e+01,  1.036e+00, -9.140e-02],\n",
       "       [ 1.194e+01,  1.523e+00,  1.337e+00],\n",
       "       [ 1.166e+01, -4.882e-01, -1.379e-01],\n",
       "       [       nan,        nan,        nan],\n",
       "       [       nan,        nan,        nan],\n",
       "       [       nan,        nan,        nan],\n",
       "       [       nan,        nan,        nan],\n",
       "       [       nan,        nan,        nan],\n",
       "       [       nan,        nan,        nan],\n",
       "       [ 1.295e+01,  3.449e+00, -9.020e-01],\n",
       "       [ 1.420e+01,  3.634e+00, -1.599e+00],\n",
       "       [ 1.532e+01,  2.920e+00, -9.059e-01],\n",
       "       [ 1.543e+01,  2.996e+00,  3.154e-01],\n",
       "       [ 1.449e+01,  5.125e+00, -1.743e+00],\n",
       "       [ 1.572e+01,  5.321e+00, -2.623e+00],\n",
       "       [ 1.625e+01,  6.744e+00, -2.518e+00],\n",
       "       [ 1.544e+01,  7.625e+00, -2.157e+00],\n",
       "       [ 1.745e+01,  6.925e+00, -2.801e+00],\n",
       "       [       nan,        nan,        nan],\n",
       "       [       nan,        nan,        nan],\n",
       "       [       nan,        nan,        nan],\n",
       "       [       nan,        nan,        nan],\n",
       "       [       nan,        nan,        nan]], dtype=float32)"
      ]
     },
     "execution_count": 6,
     "metadata": {},
     "output_type": "execute_result"
    }
   ],
   "source": [
    "%%time\n",
    "p.sb = None\n",
    "p.build_coords_from_angles(p.angles)"
   ]
  },
  {
   "cell_type": "code",
   "execution_count": null,
   "id": "b77465ce",
   "metadata": {},
   "outputs": [],
   "source": [
    "%%time\n",
    "p.sb = None\n",
    "p.build_coords_from_angles(p.angles,add_hydrogens=True)"
   ]
  },
  {
   "cell_type": "code",
   "execution_count": null,
   "id": "9800120e",
   "metadata": {},
   "outputs": [],
   "source": [
    "%%time\n",
    "ang2 = torch.Tensor(p.angles)\n",
    "ang2[0, 6] = 0  # Make arbitrary CB definition\n",
    "sb = StructureBuilder(p.seq, ang=ang2,device=p.device)\n",
    "goodcoords = sb.build()"
   ]
  },
  {
   "cell_type": "code",
   "execution_count": null,
   "id": "2b02e831",
   "metadata": {},
   "outputs": [],
   "source": [
    "p.seq"
   ]
  },
  {
   "cell_type": "code",
   "execution_count": null,
   "id": "9060c90a",
   "metadata": {},
   "outputs": [],
   "source": [
    "from sidechainnet.structure.build_info import SC_BUILD_INFO, BB_BUILD_INFO, NUM_COORDS_PER_RES, SC_ANGLES_START_POS, NUM_ANGLES\n",
    "\n",
    "def make_ncac(p,device='cpu'):\n",
    "    '''For testing make_backbone'''\n",
    "    L = len(p.seq)\n",
    "    angles = p.angles\n",
    "    ang = torch.zeros((L+1,SC_ANGLES_START_POS),device=device)\n",
    "    ang[1:] = angles.to(device)[:L,:SC_ANGLES_START_POS] \n",
    "    ang[:,3:] = np.pi-ang[:,3:] #theta\n",
    "    ang[:,:3] = 2*np.pi-ang[:,:3] #chi\n",
    "\n",
    "    sins = torch.sin(ang)\n",
    "    coss = torch.cos(ang)\n",
    "    #O needs one additional angle\n",
    "    schi = sins[:,:3].flatten()[1:-1]\n",
    "    cchi = coss[:,:3].flatten()[1:-1]\n",
    "\n",
    "    oschi = schi[3::3]\n",
    "    occhi = cchi[3::3]\n",
    "    schi = schi[:-1]\n",
    "    cchi = cchi[:-1]\n",
    "\n",
    "    stheta = sins[:,3:].flatten()[1:-2]\n",
    "    ctheta = coss[:,3:].flatten()[1:-2]\n",
    "\n",
    "    lens = torch.tensor([BB_BUILD_INFO['BONDLENS']['c-n'],BB_BUILD_INFO['BONDLENS']['n-ca'],BB_BUILD_INFO['BONDLENS']['ca-c']],device=device).repeat(L)\n",
    "    lens[0] = 0 # first atom starts at origin\n",
    "    ncacM = fastbuild.makeTmats(ctheta, stheta, cchi, schi, lens)\n",
    "\n",
    "    return ncacM"
   ]
  },
  {
   "cell_type": "code",
   "execution_count": null,
   "id": "d01bb67d",
   "metadata": {},
   "outputs": [],
   "source": [
    "p.torch()"
   ]
  },
  {
   "cell_type": "code",
   "execution_count": null,
   "id": "6daefb49",
   "metadata": {},
   "outputs": [],
   "source": [
    "fastbuild.sc_heavy_atom_build_info['CA']['sources'].dtype"
   ]
  },
  {
   "cell_type": "code",
   "execution_count": null,
   "id": "cf5cbd43",
   "metadata": {},
   "outputs": [],
   "source": [
    "importlib.reload(fastbuild)\n",
    "\n",
    "angles = p.angles.detach().clone()\n",
    "print(angles)\n",
    "angles[0, 0] = 0\n",
    "angles[0, 6] = -2/3 * np.pi\n",
    "genc = fastbuild.make_coords(p.seq,angles)"
   ]
  },
  {
   "cell_type": "code",
   "execution_count": null,
   "id": "a305b283",
   "metadata": {},
   "outputs": [],
   "source": [
    "diff = (genc.cpu()-goodcoords.reshape(genc.shape)).reshape((len(p.seq),-1))\n",
    "torch.nansum(diff*diff)"
   ]
  },
  {
   "cell_type": "code",
   "execution_count": null,
   "id": "823fbe90",
   "metadata": {
    "scrolled": true
   },
   "outputs": [],
   "source": [
    "plt.figure(figsize=(6,12))\n",
    "sns.heatmap(diff.detach().numpy()[:50],yticklabels=p.seq[:50],cmap='seismic',vmin=-2,vmax=2)"
   ]
  },
  {
   "cell_type": "code",
   "execution_count": null,
   "id": "57e27194",
   "metadata": {},
   "outputs": [],
   "source": [
    "14*3"
   ]
  },
  {
   "cell_type": "code",
   "execution_count": null,
   "id": "e5392f62",
   "metadata": {},
   "outputs": [],
   "source": [
    "p.to_3Dmol()"
   ]
  },
  {
   "cell_type": "code",
   "execution_count": null,
   "id": "f31c7086",
   "metadata": {
    "scrolled": true
   },
   "outputs": [],
   "source": [
    "%%timeit\n",
    "angles.requires_grad = False\n",
    "genc = fastbuild.make_coords(p.seq,angles)"
   ]
  },
  {
   "cell_type": "code",
   "execution_count": null,
   "id": "1728901f",
   "metadata": {},
   "outputs": [],
   "source": [
    "%%timeit\n",
    "angles.requires_grad = True\n",
    "genc = fastbuild.make_coords(p.seq,angles)"
   ]
  },
  {
   "cell_type": "code",
   "execution_count": null,
   "id": "6f3cd73f",
   "metadata": {},
   "outputs": [],
   "source": [
    "angles.requires_grad = False\n",
    "angles = angles.to('cuda')"
   ]
  },
  {
   "cell_type": "code",
   "execution_count": null,
   "id": "af11ac4f",
   "metadata": {},
   "outputs": [],
   "source": [
    "%%timeit\n",
    "genc = fastbuild.make_coords(p.seq,angles)"
   ]
  },
  {
   "cell_type": "code",
   "execution_count": null,
   "id": "55e154f1",
   "metadata": {},
   "outputs": [],
   "source": [
    "angles.requires_grad = True\n",
    "angles = angles.to('cuda')"
   ]
  },
  {
   "cell_type": "code",
   "execution_count": null,
   "id": "0a2f2e8e",
   "metadata": {},
   "outputs": [],
   "source": [
    "%%timeit\n",
    "genc = fastbuild.make_coords(p.seq,angles)"
   ]
  },
  {
   "cell_type": "code",
   "execution_count": null,
   "id": "123a253b",
   "metadata": {},
   "outputs": [],
   "source": [
    "p.torch()"
   ]
  },
  {
   "cell_type": "code",
   "execution_count": null,
   "id": "1ecc243c",
   "metadata": {},
   "outputs": [],
   "source": [
    "p.angles.requires_grad = True"
   ]
  },
  {
   "cell_type": "code",
   "execution_count": null,
   "id": "88fd69bc",
   "metadata": {},
   "outputs": [],
   "source": [
    "sb = StructureBuilder(p.seq, ang=p.angles,device=p.device,nerf_method='standard')"
   ]
  },
  {
   "cell_type": "code",
   "execution_count": null,
   "id": "3df878df",
   "metadata": {},
   "outputs": [],
   "source": [
    "%%timeit\n",
    "goodcoords = sb.build()"
   ]
  },
  {
   "cell_type": "code",
   "execution_count": null,
   "id": "4eef84af",
   "metadata": {},
   "outputs": [],
   "source": [
    "%%time\n",
    "sb.add_hydrogens()"
   ]
  },
  {
   "cell_type": "code",
   "execution_count": null,
   "id": "b793d8cb",
   "metadata": {},
   "outputs": [],
   "source": [
    "ncac = make_ncac(p)"
   ]
  },
  {
   "cell_type": "code",
   "execution_count": null,
   "id": "83b79661",
   "metadata": {},
   "outputs": [],
   "source": [
    "smn = ncac.clone().detach()\n",
    "smn.requires_grad = True\n",
    "%time backbone = fastbuild.make_backbone_(smn.clone())\n",
    "s = backbone.sum()\n",
    "%time s.backward()"
   ]
  },
  {
   "cell_type": "code",
   "execution_count": null,
   "id": "b0e533a7",
   "metadata": {},
   "outputs": [],
   "source": [
    "goodgrad = smn.grad"
   ]
  },
  {
   "cell_type": "code",
   "execution_count": null,
   "id": "bc4fd168",
   "metadata": {},
   "outputs": [],
   "source": [
    "smn = ncac.clone().detach()\n",
    "smn.requires_grad = True\n",
    "%time backbone = fastbuild.MakeBackbone.apply(smn.clone())\n",
    "s = backbone.sum()\n",
    "%time s.backward()"
   ]
  },
  {
   "cell_type": "code",
   "execution_count": null,
   "id": "f923f8af",
   "metadata": {},
   "outputs": [],
   "source": [
    "diff = (goodgrad-smn.grad).detach().numpy()"
   ]
  },
  {
   "cell_type": "code",
   "execution_count": null,
   "id": "1566a6e6",
   "metadata": {},
   "outputs": [],
   "source": [
    "err = (diff*diff).sum(axis=(1,2))"
   ]
  },
  {
   "cell_type": "code",
   "execution_count": null,
   "id": "cbec1f89",
   "metadata": {},
   "outputs": [],
   "source": [
    "plt.plot(err)\n",
    "err.max()"
   ]
  },
  {
   "cell_type": "code",
   "execution_count": null,
   "id": "48a07fdf",
   "metadata": {},
   "outputs": [],
   "source": [
    "smn = ncac.clone().detach().double()\n",
    "smn.requires_grad = True\n",
    "%time backbone = fastbuild.make_backbone_(smn.clone())\n",
    "s = backbone.sum()\n",
    "%time s.backward()\n",
    "goodgrad = smn.grad"
   ]
  },
  {
   "cell_type": "code",
   "execution_count": null,
   "id": "3237dc4a",
   "metadata": {},
   "outputs": [],
   "source": [
    "smn = ncac.clone().detach().double()\n",
    "smn.requires_grad = True\n",
    "%time backbone = fastbuild.MakeBackbone.apply(smn.clone())\n",
    "s = backbone.sum()\n",
    "%time s.backward()"
   ]
  },
  {
   "cell_type": "code",
   "execution_count": null,
   "id": "a5888ae9",
   "metadata": {},
   "outputs": [],
   "source": [
    "diff = (goodgrad-smn.grad).detach().numpy()\n",
    "err = (diff*diff).sum(axis=(1,2))\n",
    "plt.plot(err)\n",
    "err.max()"
   ]
  },
  {
   "cell_type": "code",
   "execution_count": null,
   "id": "bfa3037b",
   "metadata": {},
   "outputs": [],
   "source": []
  },
  {
   "cell_type": "code",
   "execution_count": null,
   "id": "638ecc18",
   "metadata": {},
   "outputs": [],
   "source": []
  }
 ],
 "metadata": {
  "kernelspec": {
   "display_name": "Python 3.8.12 ('sidechainnetv2')",
   "language": "python",
   "name": "python3"
  },
  "language_info": {
   "codemirror_mode": {
    "name": "ipython",
    "version": 3
   },
   "file_extension": ".py",
   "mimetype": "text/x-python",
   "name": "python",
   "nbconvert_exporter": "python",
   "pygments_lexer": "ipython3",
   "version": "3.8.12"
  },
  "vscode": {
   "interpreter": {
    "hash": "c9d7dfcb4e83d2a52f0c3bf985599fb6573ebb79d4763515fc88ba22b2df0694"
   }
  }
 },
 "nbformat": 4,
 "nbformat_minor": 5
}
