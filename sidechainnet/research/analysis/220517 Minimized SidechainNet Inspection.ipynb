{
 "cells": [
  {
   "cell_type": "code",
   "execution_count": 1,
   "id": "3213f359",
   "metadata": {},
   "outputs": [],
   "source": [
    "from glob import glob\n",
    "import os\n",
    "from pathlib import Path\n",
    "import random\n",
    "\n",
    "import sidechainnet as scn"
   ]
  },
  {
   "cell_type": "markdown",
   "id": "7fbc3d42",
   "metadata": {
    "heading_collapsed": true
   },
   "source": [
    "# Previous analysis before learning that a GPU node was failing"
   ]
  },
  {
   "cell_type": "code",
   "execution_count": 2,
   "id": "4f5c013a",
   "metadata": {
    "hidden": true,
    "scrolled": true
   },
   "outputs": [
    {
     "data": {
      "text/plain": [
       "104323"
      ]
     },
     "execution_count": 2,
     "metadata": {},
     "output_type": "execute_result"
    }
   ],
   "source": [
    "pl = scn.get_proteinnet_ids(12, \"all\", thinning=100)\n",
    "len(pl)"
   ]
  },
  {
   "cell_type": "code",
   "execution_count": 3,
   "id": "826b45fe",
   "metadata": {
    "hidden": true
   },
   "outputs": [],
   "source": [
    "def do_glob(pth):\n",
    "    items = [Path(p).stem for p in glob(pth)]\n",
    "    items_set = set(items)\n",
    "    assert len(items_set) == len(items), \"Duplicates found.\"\n",
    "    return items_set"
   ]
  },
  {
   "cell_type": "code",
   "execution_count": 4,
   "id": "e8a77f7c",
   "metadata": {
    "hidden": true
   },
   "outputs": [],
   "source": [
    "unmin = do_glob(\"/net/pulsar/home/koes/jok120/scnmin220511/unmin/*pkl\")\n",
    "\n",
    "min1 = do_glob(\"/net/pulsar/home/koes/jok120/scnmin220519/min/*pkl\")\n",
    "failed1 = do_glob(\"/net/pulsar/home/koes/jok120/scnmin220519/failed/*\")\n",
    "\n",
    "min2 = do_glob(\"/net/pulsar/home/koes/jok120/scnmin220512/min/*pkl\")\n",
    "failed2 = do_glob(\"/net/pulsar/home/koes/jok120/scnmin220512/failed/*\")"
   ]
  },
  {
   "cell_type": "code",
   "execution_count": 5,
   "id": "c788a203",
   "metadata": {
    "hidden": true
   },
   "outputs": [],
   "source": [
    "all_proteins = set(pl)"
   ]
  },
  {
   "cell_type": "code",
   "execution_count": 6,
   "id": "ff0300be",
   "metadata": {
    "hidden": true
   },
   "outputs": [],
   "source": [
    "missing1 = all_proteins - set(min1)\n",
    "missing2 = all_proteins - set(min2)"
   ]
  },
  {
   "cell_type": "code",
   "execution_count": 7,
   "id": "e570cf5c",
   "metadata": {
    "hidden": true
   },
   "outputs": [],
   "source": [
    "should_have_failed1 = missing1 - set(failed1)\n",
    "should_have_failed2 = missing2 - set(failed2)"
   ]
  },
  {
   "cell_type": "code",
   "execution_count": 8,
   "id": "d5fbc883",
   "metadata": {
    "hidden": true,
    "scrolled": true
   },
   "outputs": [
    {
     "data": {
      "text/plain": [
       "[104323, 0, 0, 0, 104323, 104323]"
      ]
     },
     "execution_count": 8,
     "metadata": {},
     "output_type": "execute_result"
    }
   ],
   "source": [
    "list(map(len, [all_proteins, unmin, min1, failed1, missing1, should_have_failed1]))"
   ]
  },
  {
   "cell_type": "markdown",
   "id": "4abf6e8f",
   "metadata": {
    "hidden": true
   },
   "source": [
    "These proteins failed to generate unminimized versions."
   ]
  },
  {
   "cell_type": "code",
   "execution_count": 10,
   "id": "77fe2939",
   "metadata": {
    "hidden": true
   },
   "outputs": [
    {
     "data": {
      "text/plain": [
       "356"
      ]
     },
     "execution_count": 10,
     "metadata": {},
     "output_type": "execute_result"
    }
   ],
   "source": [
    "did_not_make_unmin = all_proteins - unmin\n",
    "len(did_not_make_unmin)"
   ]
  },
  {
   "cell_type": "markdown",
   "id": "b789c005",
   "metadata": {
    "hidden": true
   },
   "source": [
    "These proteins failed to minimize and reported their failure."
   ]
  },
  {
   "cell_type": "code",
   "execution_count": 11,
   "id": "f71ef3f7",
   "metadata": {
    "hidden": true
   },
   "outputs": [
    {
     "data": {
      "text/plain": [
       "(44019, ['4ESF_1_A', '4WZ7_11_G', '4IZE_1_A', '3O9O_1_A', '1P5W_2_A'])"
      ]
     },
     "execution_count": 11,
     "metadata": {},
     "output_type": "execute_result"
    }
   ],
   "source": [
    "len(failed1), random.sample(failed1, 5)"
   ]
  },
  {
   "cell_type": "markdown",
   "id": "d027b4ff",
   "metadata": {
    "hidden": true
   },
   "source": [
    "These proteins failed to minimze but also did not report their failure."
   ]
  },
  {
   "cell_type": "code",
   "execution_count": 14,
   "id": "037f1ea8",
   "metadata": {
    "hidden": true
   },
   "outputs": [
    {
     "data": {
      "text/plain": [
       "(12962, ['122L_1_A', '123L_1_A', '125L_1_A', '156L_1_A', '157L_1_A'])"
      ]
     },
     "execution_count": 14,
     "metadata": {},
     "output_type": "execute_result"
    }
   ],
   "source": [
    "unknown_failures1 = unmin - min1 - failed1\n",
    "len(unknown_failures1), sorted(unknown_failures1)[:5]"
   ]
  },
  {
   "cell_type": "code",
   "execution_count": 15,
   "id": "02be771b",
   "metadata": {
    "hidden": true
   },
   "outputs": [
    {
     "data": {
      "text/plain": [
       "(13236, ['120L_1_A', '122L_1_A', '123L_1_A', '191L_1_A', '192L_1_A'])"
      ]
     },
     "execution_count": 15,
     "metadata": {},
     "output_type": "execute_result"
    }
   ],
   "source": [
    "unknown_failures2 = unmin - min2 - failed2\n",
    "len(unknown_failures2), sorted(unknown_failures2)[:5]"
   ]
  },
  {
   "cell_type": "code",
   "execution_count": 16,
   "id": "c3220b8d",
   "metadata": {
    "hidden": true
   },
   "outputs": [
    {
     "data": {
      "text/plain": [
       "False"
      ]
     },
     "execution_count": 16,
     "metadata": {},
     "output_type": "execute_result"
    }
   ],
   "source": [
    "unknown_failures1 == unknown_failures2"
   ]
  },
  {
   "cell_type": "markdown",
   "id": "54cef7cb",
   "metadata": {
    "hidden": true
   },
   "source": [
    "These proteins sucessfully minimized."
   ]
  },
  {
   "cell_type": "code",
   "execution_count": 17,
   "id": "d97ab70b",
   "metadata": {
    "hidden": true
   },
   "outputs": [
    {
     "data": {
      "text/plain": [
       "(46988, 46910, 52873)"
      ]
     },
     "execution_count": 17,
     "metadata": {},
     "output_type": "execute_result"
    }
   ],
   "source": [
    "len(min1), len(min2), len(min1.union(min2))"
   ]
  },
  {
   "cell_type": "code",
   "execution_count": 18,
   "id": "45ee3116",
   "metadata": {
    "hidden": true
   },
   "outputs": [],
   "source": [
    "all_minimized = min1.union(min2)"
   ]
  },
  {
   "cell_type": "code",
   "execution_count": 19,
   "id": "12738d06",
   "metadata": {
    "hidden": true
   },
   "outputs": [],
   "source": [
    "remaining = all_proteins - all_minimized"
   ]
  },
  {
   "cell_type": "code",
   "execution_count": 20,
   "id": "502a7d71",
   "metadata": {
    "hidden": true
   },
   "outputs": [
    {
     "data": {
      "text/plain": [
       "51451"
      ]
     },
     "execution_count": 20,
     "metadata": {},
     "output_type": "execute_result"
    }
   ],
   "source": [
    "len(remaining)"
   ]
  },
  {
   "cell_type": "code",
   "execution_count": 21,
   "id": "8c14ff89",
   "metadata": {
    "hidden": true
   },
   "outputs": [
    {
     "data": {
      "text/plain": [
       "['10#1HF2_1_A', '10#2IJR_1_A', '10#3DB9_1_A', '10#3LM3_1_A', '10#3MK8_2_B']"
      ]
     },
     "execution_count": 21,
     "metadata": {},
     "output_type": "execute_result"
    }
   ],
   "source": [
    "sorted(remaining)[:5]"
   ]
  },
  {
   "cell_type": "markdown",
   "id": "f2afd7ae",
   "metadata": {
    "hidden": true
   },
   "source": [
    "## Find reason why failed"
   ]
  },
  {
   "cell_type": "code",
   "execution_count": 23,
   "id": "74caec6a",
   "metadata": {
    "hidden": true
   },
   "outputs": [],
   "source": [
    "import os"
   ]
  },
  {
   "cell_type": "code",
   "execution_count": null,
   "id": "945c1faf",
   "metadata": {
    "hidden": true
   },
   "outputs": [],
   "source": [
    "did_not_pickle = []\n",
    "\n",
    "for scn12protein in all_proteins:\n",
    "    if scn12protein not in os.listdir(\"/net/pulsar/home/koes/jok120/scnmin220511/unmin/\")"
   ]
  },
  {
   "cell_type": "code",
   "execution_count": 24,
   "id": "14e5c49d",
   "metadata": {
    "hidden": true
   },
   "outputs": [
    {
     "data": {
      "text/plain": [
       "['3QO0_3_C.pkl',\n",
       " '3N56_2_C.pkl',\n",
       " '5FGB_3_F.pkl',\n",
       " '1T3E_2_P.pkl',\n",
       " '3N57_2_C.pkl',\n",
       " '4M38_2_E.pkl',\n",
       " '1A38_2_P.pkl',\n",
       " '1HTM_1_A.pkl',\n",
       " '3OA6_4_G.pkl',\n",
       " '4BOH_3_M.pkl',\n",
       " '4V2W_2_C.pkl',\n",
       " '4N4F_2_C.pkl',\n",
       " '1Q1S_1_A.pkl',\n",
       " '4ZJ7_2_B.pkl',\n",
       " '1O6O_2_D.pkl',\n",
       " '1TZS_3_X.pkl',\n",
       " '5HDT_2_E.pkl',\n",
       " '3E50_2_C.pkl',\n",
       " '3IFN_3_P.pkl',\n",
       " '4WNN_3_T.pkl',\n",
       " '4HDQ_3_C.pkl',\n",
       " '2B2W_3_D.pkl',\n",
       " '1YTV_2_M.pkl',\n",
       " '1KO6_2_B.pkl',\n",
       " '4EZN_2_C.pkl',\n",
       " '3IUR_2_B.pkl',\n",
       " '3N9N_2_B.pkl',\n",
       " '10#4USL_2_D.pkl',\n",
       " '5EKF_1_B.pkl',\n",
       " '3BAE_3_A.pkl',\n",
       " '4X2H_3_C.pkl',\n",
       " '2YVC_2_D.pkl',\n",
       " '3EMW_2_B.pkl',\n",
       " '3WGX_2_C.pkl',\n",
       " '4BJT_2_D.pkl',\n",
       " '4EZP_2_C.pkl',\n",
       " '3P6Z_3_C.pkl',\n",
       " '4HTV_2_B.pkl',\n",
       " '1UM2_2_C.pkl',\n",
       " '4GGD_2_C.pkl',\n",
       " '4FT4_2_P.pkl',\n",
       " '4N1A_2_G.pkl',\n",
       " '3GZ2_2_P.pkl',\n",
       " '3LGE_2_E.pkl',\n",
       " '4J6S_2_E.pkl',\n",
       " '2UXN_3_E.pkl',\n",
       " '4MMY_3_C.pkl',\n",
       " '3EGS_3_C.pkl',\n",
       " '2ATP_2_E.pkl',\n",
       " '4JLQ_2_B.pkl',\n",
       " '4GQB_3_C.pkl',\n",
       " '4WNL_2_E.pkl',\n",
       " '3ZMS_3_C.pkl',\n",
       " '1RDT_4_E.pkl',\n",
       " '4LCD_2_C.pkl',\n",
       " '4KA3_2_B.pkl',\n",
       " '4HKC_2_B.pkl',\n",
       " '10#4DT7_3_E.pkl',\n",
       " '1T7F_2_B.pkl',\n",
       " '3DRQ_3_C.pkl',\n",
       " '3W3Y_2_B.pkl',\n",
       " '4CUG_2_E.pkl',\n",
       " '50#4OO6_2_B.pkl',\n",
       " '3O71_2_B.pkl',\n",
       " '1Q1T_1_A.pkl',\n",
       " '4GBA_2_F.pkl',\n",
       " '2E4H_2_B.pkl',\n",
       " '1T79_2_B.pkl',\n",
       " '4X2O_3_C.pkl',\n",
       " '1T73_2_B.pkl',\n",
       " '2J0U_3_T.pkl',\n",
       " '4MKQ_2_C.pkl',\n",
       " '1SMF_2_I.pkl',\n",
       " '1P16_2_C.pkl',\n",
       " '5CXT_2_B.pkl',\n",
       " '5DWQ_2_F.pkl',\n",
       " '5CH1_4_E.pkl',\n",
       " '3HR5_3_R.pkl',\n",
       " '4P5H_1_1.pkl',\n",
       " '2ZPY_2_B.pkl',\n",
       " '3JRV_2_C.pkl',\n",
       " '4J1V_2_E.pkl',\n",
       " '1PWV_2_C.pkl',\n",
       " '3ICI_2_C.pkl',\n",
       " '3CDW_2_H.pkl',\n",
       " '2Y48_3_C.pkl',\n",
       " '4YXB_3_D.pkl',\n",
       " '4Q0X_3_E.pkl',\n",
       " '3BTS_2_E.pkl',\n",
       " '1TZS_2_P.pkl',\n",
       " '4JWE_2_C.pkl',\n",
       " '4NF9_2_C.pkl',\n",
       " '5DLM_3_X.pkl',\n",
       " '4MBE_4_H.pkl',\n",
       " '3QHE_2_B.pkl',\n",
       " '4M1Z_2_C.pkl',\n",
       " '2Z3F_2_I.pkl',\n",
       " '4CCN_2_C.pkl',\n",
       " '2RJF_2_B.pkl',\n",
       " '2QAS_2_B.pkl',\n",
       " '2GPO_2_C.pkl',\n",
       " '4DRW_2_E.pkl',\n",
       " '4JXT_2_B.pkl',\n",
       " '3W3X_2_B.pkl',\n",
       " '1AI1_3_P.pkl',\n",
       " '3P3N_2_B.pkl',\n",
       " '2R0L_4_B.pkl',\n",
       " '4JO1_3_P.pkl',\n",
       " '4P6Z_5_V.pkl',\n",
       " '4AR2_2_P.pkl',\n",
       " '2RPQ_2_B.pkl',\n",
       " '2AN6_2_E.pkl',\n",
       " '3ZFW_2_X.pkl',\n",
       " '10#4DAY_3_C.pkl',\n",
       " '3ZIL_2_B.pkl',\n",
       " '3WBK_2_C.pkl',\n",
       " '4P6Z_6_T.pkl',\n",
       " '2BP3_2_S.pkl',\n",
       " '4EDN_2_K.pkl',\n",
       " '2JF1_2_T.pkl',\n",
       " '3WA0_2_G.pkl',\n",
       " '4JOL_2_E.pkl',\n",
       " '3X23_2_B.pkl',\n",
       " '1P22_3_C.pkl',\n",
       " '3DCT_2_B.pkl',\n",
       " '4N4I_2_B.pkl',\n",
       " '4R32_2_B.pkl',\n",
       " '2FF6_2_H.pkl',\n",
       " '3GN8_2_C.pkl',\n",
       " '5C1B_2_V.pkl',\n",
       " '4NFT_2_E.pkl',\n",
       " '3B71_2_D.pkl',\n",
       " '4N4H_2_B.pkl',\n",
       " '3P87_2_G.pkl',\n",
       " '4WJV_3_I.pkl',\n",
       " '3OKA_2_C.pkl',\n",
       " '3W13_6_F.pkl',\n",
       " '2OD8_2_B.pkl',\n",
       " '2Y65_2_W.pkl',\n",
       " '2AO6_2_B.pkl',\n",
       " '3GJO_2_E.pkl',\n",
       " '2OVM_2_B.pkl',\n",
       " '5FBY_2_B.pkl',\n",
       " '3C9C_2_B.pkl',\n",
       " '3KMG_2_B.pkl',\n",
       " '1QX7_2_D.pkl',\n",
       " '1YCP_3_F.pkl',\n",
       " '4EN2_3_D.pkl',\n",
       " '5DMV_2_D.pkl',\n",
       " '4NUU_2_C.pkl',\n",
       " '4GUT_2_B.pkl',\n",
       " '3RZX_2_B.pkl',\n",
       " '4ZOZ_2_Y.pkl',\n",
       " '4D07_2_B.pkl',\n",
       " '1T7M_2_B.pkl',\n",
       " '1K2D_3_P.pkl',\n",
       " '5A8L_5_H.pkl',\n",
       " '4PBY_2_C.pkl',\n",
       " '3NTW_2_B.pkl',\n",
       " '3O34_2_B.pkl',\n",
       " '3ZED_2_D.pkl',\n",
       " '3IAX_2_B.pkl',\n",
       " '1GFF_3_3.pkl',\n",
       " '1FGL_2_B.pkl',\n",
       " '3MLY_3_P.pkl',\n",
       " '2Z5K_2_B.pkl',\n",
       " '1UF2_3_K.pkl',\n",
       " '2VZD_2_C.pkl',\n",
       " '3W3W_2_B.pkl',\n",
       " '4BXR_2_C.pkl',\n",
       " '2GPV_2_G.pkl',\n",
       " '4LX2_2_B.pkl',\n",
       " '5HKP_2_C.pkl',\n",
       " '4N3A_2_B.pkl',\n",
       " '4A1G_2_E.pkl',\n",
       " '4CCO_2_C.pkl',\n",
       " '5AFP_2_C.pkl',\n",
       " '4NUV_2_C.pkl',\n",
       " '3DAC_2_P.pkl',\n",
       " '4V1U_2_C.pkl',\n",
       " '4XBU_2_B.pkl',\n",
       " '2WZQ_2_C.pkl',\n",
       " '4LK9_2_B.pkl',\n",
       " '3GZ1_2_P.pkl',\n",
       " '2BRQ_2_C.pkl',\n",
       " '1U7B_2_B.pkl',\n",
       " '1HR8_3_O.pkl',\n",
       " '20#5C56_1_B.pkl',\n",
       " '2X4W_2_B.pkl',\n",
       " '4G9J_2_C.pkl',\n",
       " '4QMG_2_F.pkl',\n",
       " '3NMX_2_D.pkl',\n",
       " '3OGK_3_Q.pkl',\n",
       " '4XYI_2_B.pkl',\n",
       " '1TT5_3_E.pkl',\n",
       " '5F3Y_2_B.pkl',\n",
       " '4BZI_4_F.pkl',\n",
       " '1GJA_1_A.pkl',\n",
       " '4NAW_4_D.pkl',\n",
       " '3BQO_2_B.pkl',\n",
       " '5C6D_2_C.pkl',\n",
       " '3IZO_2_F.pkl',\n",
       " '4DJC_2_B.pkl',\n",
       " '2ZVM_2_U.pkl',\n",
       " '1FIZ_2_L.pkl',\n",
       " '4FWF_2_E.pkl',\n",
       " '4YOS_2_E.pkl',\n",
       " '2VZI_1_A.pkl',\n",
       " '3D24_2_B.pkl',\n",
       " '3TDI_2_C.pkl',\n",
       " '4UQY_2_B.pkl',\n",
       " '1G1S_2_C.pkl',\n",
       " '3DPP_2_C.pkl',\n",
       " '2V8C_2_C.pkl',\n",
       " '3MLV_3_P.pkl',\n",
       " '4U7E_2_A.pkl',\n",
       " '4NR1_2_S.pkl',\n",
       " '2Y0I_2_S.pkl',\n",
       " '2ASQ_2_B.pkl',\n",
       " '5HAX_2_B.pkl',\n",
       " '2XYI_2_B.pkl',\n",
       " '3MLU_3_P.pkl',\n",
       " '4WFD_3_C.pkl',\n",
       " '3TVT_2_B.pkl',\n",
       " '3EWT_2_E.pkl',\n",
       " '3HXI_2_C.pkl',\n",
       " '3U7X_2_C.pkl',\n",
       " '1ZLA_6_K.pkl',\n",
       " '2LSJ_2_B.pkl',\n",
       " '2GS0_2_B.pkl',\n",
       " '3MLR_3_P.pkl',\n",
       " '1SBW_2_I.pkl',\n",
       " '1YMM_3_C.pkl',\n",
       " '4GHU_2_B.pkl',\n",
       " '2IV8_2_P.pkl',\n",
       " '5DHA_4_D.pkl',\n",
       " '3R9I_2_E.pkl',\n",
       " '3OX7_2_P.pkl',\n",
       " '3ZRJ_2_X.pkl',\n",
       " '1FIW_2_L.pkl',\n",
       " '4FVL_2_C.pkl',\n",
       " '4ZOX_2_B.pkl',\n",
       " '3BUA_2_E.pkl',\n",
       " '3KV4_2_B.pkl',\n",
       " '3IEC_2_E.pkl',\n",
       " '4B6H_2_C.pkl',\n",
       " '2B9I_2_C.pkl',\n",
       " '4KP3_3_E.pkl',\n",
       " '5DH9_4_D.pkl',\n",
       " '3E1K_2_B.pkl',\n",
       " '1JAC_2_B.pkl',\n",
       " '4J2J_2_D.pkl',\n",
       " '4B7K_2_B.pkl',\n",
       " '4ISQ_2_D.pkl',\n",
       " '2JND_2_B.pkl',\n",
       " '2Z5N_2_B.pkl',\n",
       " '4BY8_1_A.pkl',\n",
       " '2M14_2_B.pkl',\n",
       " '3J92_47_1.pkl',\n",
       " '3EJH_2_E.pkl',\n",
       " '4P3W_2_G.pkl',\n",
       " '3BRD_4_D.pkl',\n",
       " '2VZG_1_A.pkl',\n",
       " '1XOK_3_C.pkl',\n",
       " '2EMS_2_B.pkl',\n",
       " '2XB2_6_G.pkl',\n",
       " '4AU3_3_E.pkl',\n",
       " '2ZNL_2_B.pkl',\n",
       " '1TOQ_2_B.pkl',\n",
       " '3SUI_2_B.pkl',\n",
       " '3S6N_7_M.pkl',\n",
       " '4V1T_2_C.pkl',\n",
       " '1UGX_2_B.pkl',\n",
       " '1UH1_2_B.pkl',\n",
       " '3OY6_2_P.pkl',\n",
       " '4YFB_2_B.pkl',\n",
       " '1MUJ_3_C.pkl',\n",
       " '4Z9V_2_C.pkl',\n",
       " '2JZ3_1_A.pkl',\n",
       " '2F8E_2_A.pkl',\n",
       " '2D7S_2_B.pkl',\n",
       " '4TXR_1_B.pkl',\n",
       " '4UWX_2_C.pkl',\n",
       " '1DIT_3_P.pkl',\n",
       " '3J92_45_w.pkl',\n",
       " '4GXB_2_B.pkl',\n",
       " '2R28_2_C.pkl',\n",
       " '2NP0_2_B.pkl',\n",
       " '4KBB_2_C.pkl',\n",
       " '2JMF_2_B.pkl',\n",
       " '5HJS_2_C.pkl',\n",
       " '2LMB_1_A.pkl',\n",
       " '4C31_3_C.pkl',\n",
       " '2XS1_2_B.pkl',\n",
       " '2V2F_1_A.pkl',\n",
       " '50#4J2X_2_B.pkl',\n",
       " '4XEF_2_B.pkl',\n",
       " '1LM8_4_H.pkl',\n",
       " '1CEK_1_A.pkl',\n",
       " '3HKI_3_C.pkl',\n",
       " '2XL1_1_A.pkl',\n",
       " '4N8C_3_X.pkl',\n",
       " '2QV1_2_C.pkl',\n",
       " '2I94_2_B.pkl',\n",
       " '4A1V_2_C.pkl',\n",
       " '4ZIH_2_B.pkl',\n",
       " '3KTP_2_B.pkl',\n",
       " '2B1A_3_P.pkl',\n",
       " '5DI9_4_D.pkl',\n",
       " '1WS5_2_B.pkl',\n",
       " '1NRQ_3_R.pkl',\n",
       " '2XAP_2_D.pkl',\n",
       " '1DS5_2_E.pkl',\n",
       " '5EN7_2_B.pkl',\n",
       " '1UGW_2_B.pkl',\n",
       " '3CM8_2_B.pkl',\n",
       " '4FTG_3_E.pkl',\n",
       " '2BBV_3_D.pkl',\n",
       " '1G70_2_B.pkl',\n",
       " '4LD3_2_B.pkl',\n",
       " '4OH4_2_F.pkl',\n",
       " '3MNZ_1_P.pkl',\n",
       " '1EBA_2_C.pkl',\n",
       " '3EHU_2_C.pkl',\n",
       " '5EFI_3_C.pkl',\n",
       " '4XST_2_F.pkl',\n",
       " '5C3G_2_B.pkl',\n",
       " '4H3P_2_B.pkl',\n",
       " '4AK4_2_B.pkl',\n",
       " '1T0J_3_C.pkl',\n",
       " '2P4R_2_T.pkl',\n",
       " '4JAA_2_S.pkl',\n",
       " '4V0W_2_B.pkl',\n",
       " '1JOT_2_B.pkl',\n",
       " '4WZX_2_E.pkl',\n",
       " '3PVL_2_B.pkl',\n",
       " '10#4IGA_2_B.pkl',\n",
       " '4XPN_2_B.pkl',\n",
       " '3IOZ_2_B.pkl',\n",
       " '4DC2_2_Z.pkl',\n",
       " '4ISR_2_D.pkl',\n",
       " '3SYN_2_E.pkl',\n",
       " '2RFD_2_C.pkl',\n",
       " '2BAP_2_D.pkl',\n",
       " '5C5E_2_G.pkl',\n",
       " '70#1XF5_1_P.pkl',\n",
       " '3ULY_2_B.pkl',\n",
       " '3RO3_2_B.pkl',\n",
       " '2P5B_2_I.pkl',\n",
       " '3AVR_2_B.pkl',\n",
       " '5FRP_2_C.pkl',\n",
       " '4C3P_2_B.pkl',\n",
       " '3UJJ_3_P.pkl',\n",
       " '2ZVV_2_Y.pkl',\n",
       " '1QZ7_2_B.pkl',\n",
       " '3DCG_3_E.pkl',\n",
       " '3BXL_2_B.pkl',\n",
       " '5F0O_2_E.pkl',\n",
       " '2HFP_2_B.pkl',\n",
       " '4JMR_2_F.pkl',\n",
       " '3UM2_2_B.pkl',\n",
       " '5HB0_2_E.pkl',\n",
       " '4TZS_2_C.pkl',\n",
       " '3BXK_2_B.pkl',\n",
       " '3P46_1_A.pkl',\n",
       " '3TEI_2_B.pkl',\n",
       " '3GLW_2_Z.pkl',\n",
       " '3BZY_1_A.pkl',\n",
       " '4A1X_2_C.pkl',\n",
       " '4BJ3_2_C.pkl',\n",
       " '3MK4_2_B.pkl',\n",
       " '2GKW_2_B.pkl',\n",
       " '1KMC_2_C.pkl',\n",
       " '2A3Z_3_C.pkl',\n",
       " '3GGZ_2_E.pkl',\n",
       " '5I3L_2_C.pkl',\n",
       " '1I4O_2_C.pkl',\n",
       " '4V98_5_AM.pkl',\n",
       " '5CRV_2_C.pkl',\n",
       " '3AUW_1_A.pkl',\n",
       " '3B23_3_C.pkl',\n",
       " '3U5P_2_I.pkl',\n",
       " '4G2V_2_B.pkl',\n",
       " '1DVA_3_X.pkl',\n",
       " '2L87_1_A.pkl',\n",
       " '4D6T_11_V.pkl',\n",
       " '4XZ1_2_B.pkl',\n",
       " '1AMT_1_A.pkl',\n",
       " '4YOO_2_X.pkl',\n",
       " '4GEQ_3_E.pkl',\n",
       " '1JDP_2_H.pkl',\n",
       " '4A1U_2_B.pkl',\n",
       " '3ZRZ_2_C.pkl',\n",
       " '3SRJ_2_C.pkl',\n",
       " '4RWF_2_B.pkl',\n",
       " '2YQ7_2_B.pkl',\n",
       " '2XUM_2_S.pkl',\n",
       " '2D11_2_E.pkl',\n",
       " '1NRO_3_R.pkl',\n",
       " '2FQ8_1_A.pkl',\n",
       " '20#1JEG_2_B.pkl',\n",
       " '1KZV_1_A.pkl',\n",
       " '4AXY_1_A.pkl',\n",
       " '3UJI_3_P.pkl',\n",
       " '1NRP_3_R.pkl',\n",
       " '2OT8_2_C.pkl',\n",
       " '3DD7_2_B.pkl',\n",
       " '4WNG_2_B.pkl',\n",
       " '4YJ4_2_B.pkl',\n",
       " '5E0U_2_D.pkl',\n",
       " '4YL6_2_B.pkl',\n",
       " '3H3P_3_S.pkl',\n",
       " '4YZ6_2_B.pkl',\n",
       " '1IHS_3_I.pkl',\n",
       " '3OGM_3_Q.pkl',\n",
       " '5FKP_3_C.pkl',\n",
       " '1I51_3_E.pkl',\n",
       " '1LQB_4_D.pkl',\n",
       " '5HB3_2_B.pkl',\n",
       " '2RKZ_2_M.pkl',\n",
       " '3FFD_3_P.pkl',\n",
       " '1CDM_2_B.pkl',\n",
       " '3UM3_2_B.pkl',\n",
       " '5IQ9_3_C.pkl',\n",
       " '2D3G_2_P.pkl',\n",
       " '2F3Z_2_B.pkl',\n",
       " '1YFN_2_E.pkl',\n",
       " '4YK9_2_B.pkl',\n",
       " '1EE7_1_A.pkl',\n",
       " '2OQJ_3_C.pkl',\n",
       " '3SI5_2_X.pkl',\n",
       " '2F3Y_2_B.pkl',\n",
       " '1BCV_1_A.pkl',\n",
       " '4XGC_6_F.pkl',\n",
       " '1CDL_2_E.pkl',\n",
       " '10#3MK8_2_B.pkl',\n",
       " '4BPK_2_C.pkl',\n",
       " '5AGW_2_C.pkl',\n",
       " '2VCP_2_D.pkl',\n",
       " '4GMN_1_B.pkl',\n",
       " '1P5K_1_A.pkl',\n",
       " '1ABI_3_I.pkl',\n",
       " '4RS9_2_B.pkl',\n",
       " '4CC9_3_C.pkl',\n",
       " '4WNE_2_B.pkl',\n",
       " '1PI8_1_A.pkl',\n",
       " '4UPU_2_B.pkl',\n",
       " '1JAV_1_A.pkl',\n",
       " '2B5K_1_A.pkl',\n",
       " '2M55_2_B.pkl',\n",
       " '2CNY_2_B.pkl',\n",
       " '4JHJ_2_C.pkl',\n",
       " '4N3B_2_B.pkl',\n",
       " '2LCO_1_A.pkl',\n",
       " '2LCN_1_A.pkl',\n",
       " '2CNZ_2_B.pkl',\n",
       " '2GDC_2_B.pkl',\n",
       " '4N3C_2_B.pkl',\n",
       " '4NM3_2_B.pkl',\n",
       " '4C5I_2_C.pkl',\n",
       " '4JIF_2_B.pkl',\n",
       " '1BRV_1_A.pkl',\n",
       " '2CO1_2_B.pkl',\n",
       " '2CO4_2_B.pkl',\n",
       " '5FML_1_A.pkl',\n",
       " '4UF2_2_B.pkl',\n",
       " '4BQK_2_C.pkl',\n",
       " '4G0D_2_W.pkl',\n",
       " '5F6L_1_J.pkl',\n",
       " '2JPY_1_A.pkl',\n",
       " '2JQ0_1_A.pkl',\n",
       " '2JQ1_1_A.pkl',\n",
       " '2LR9_1_A.pkl',\n",
       " '3R7G_2_B.pkl',\n",
       " '3AA0_3_C.pkl',\n",
       " '2O5G_2_B.pkl',\n",
       " '3MNW_1_P.pkl',\n",
       " '2MES_2_B.pkl',\n",
       " '5HAU_58_1x.pkl',\n",
       " '2YGV_2_E.pkl',\n",
       " '1R1A_4_4.pkl',\n",
       " '2HWN_2_E.pkl',\n",
       " '1KL8_2_B.pkl',\n",
       " '4Z0W_1_A.pkl',\n",
       " '2MBH_1_B.pkl',\n",
       " '5CSN_2_C.pkl',\n",
       " '4H62_1_K.pkl',\n",
       " '1NIW_2_B.pkl',\n",
       " '4PO6_2_B.pkl',\n",
       " '4FQ3_2_B.pkl',\n",
       " '1SY9_2_B.pkl',\n",
       " '1P0G_1_A.pkl',\n",
       " '1P0L_1_A.pkl',\n",
       " '2GOH_1_A.pkl',\n",
       " '1P0O_1_A.pkl',\n",
       " '1P5L_1_A.pkl',\n",
       " '1QOW_1_A.pkl',\n",
       " '3C00_1_A.pkl',\n",
       " '1T6O_3_B.pkl',\n",
       " '1OT0_1_A.pkl',\n",
       " '2CIO_2_B.pkl',\n",
       " '4MI8_2_C.pkl',\n",
       " '3QRX_2_B.pkl',\n",
       " '3R85_2_E.pkl',\n",
       " '3GXE_3_E.pkl',\n",
       " '2JRD_1_A.pkl',\n",
       " '4V0V_2_B.pkl',\n",
       " '4EFH_2_B.pkl',\n",
       " '3WYG_3_D.pkl',\n",
       " '4IRV_2_E.pkl',\n",
       " '3U1J_1_A.pkl',\n",
       " '4L67_2_B.pkl',\n",
       " '3U9Z_2_C.pkl',\n",
       " '1TTW_2_B.pkl',\n",
       " '2LOX_2_B.pkl',\n",
       " '5ET0_2_B.pkl',\n",
       " '2PQN_2_B.pkl',\n",
       " '1UVQ_3_C.pkl',\n",
       " '4ZRI_2_C.pkl',\n",
       " '2YJ1_2_B.pkl',\n",
       " '2XPN_2_B.pkl',\n",
       " '3BYA_2_B.pkl',\n",
       " '3ZI3_2_B.pkl',\n",
       " '4FDD_2_B.pkl',\n",
       " '2D10_2_E.pkl',\n",
       " '4F02_3_C.pkl',\n",
       " '3OWT_2_C.pkl',\n",
       " '2L4G_1_A.pkl',\n",
       " '2O60_2_B.pkl',\n",
       " '4OY5_1_A.pkl',\n",
       " '2MNS_1_A.pkl',\n",
       " '2LQY_1_A.pkl',\n",
       " '2MU9_1_A.pkl',\n",
       " '2MU8_1_A.pkl',\n",
       " '2MU7_1_A.pkl',\n",
       " '2MU6_1_A.pkl',\n",
       " '2MTY_1_A.pkl',\n",
       " '4G35_2_B.pkl',\n",
       " '2MTW_1_A.pkl',\n",
       " '2MSU_1_A.pkl',\n",
       " '4GUR_3_C.pkl',\n",
       " '2M5L_1_A.pkl',\n",
       " '2LWB_1_A.pkl',\n",
       " '2LUF_1_A.pkl',\n",
       " '4BQD_2_C.pkl',\n",
       " '2LS1_1_A.pkl',\n",
       " '2LNY_1_A.pkl',\n",
       " '4ZIG_2_B.pkl',\n",
       " '5EIV_2_C.pkl',\n",
       " '5HOW_1_A.pkl',\n",
       " '5HOX_1_A.pkl',\n",
       " '2LE7_1_A.pkl',\n",
       " '2L6T_1_A.pkl',\n",
       " '1BTR_1_A.pkl',\n",
       " '2FLY_1_A.pkl',\n",
       " '1CMK_2_I.pkl',\n",
       " '2L1R_2_B.pkl',\n",
       " '1DZI_2_B.pkl',\n",
       " '2LP0_2_B.pkl',\n",
       " '2MUE_1_A.pkl',\n",
       " '2MUF_1_A.pkl',\n",
       " '2MYL_1_A.pkl',\n",
       " '2CIO_d2ciob-.pkl',\n",
       " '1F0H_1_A.pkl',\n",
       " '1F0G_1_A.pkl',\n",
       " '1F0D_1_A.pkl',\n",
       " '2M32_2_B.pkl',\n",
       " '1JZP_1_A.pkl',\n",
       " '5ADX_17_d.pkl',\n",
       " '4XW6_2_B.pkl',\n",
       " '4V5H_24_AZ.pkl',\n",
       " '4UY8_8_7.pkl',\n",
       " '2MTX_1_A.pkl',\n",
       " '4O21_2_S.pkl',\n",
       " '4EHQ_2_G.pkl',\n",
       " '4DFX_2_I.pkl',\n",
       " '4B18_2_B.pkl',\n",
       " '2LKW_1_A.pkl',\n",
       " '4AA7_d4aa7a1.pkl',\n",
       " '3MLS_3_P.pkl',\n",
       " '2ZVK_2_U.pkl',\n",
       " '3C4M_2_C.pkl',\n",
       " '2WBY_2_C.pkl',\n",
       " '2W84_2_B.pkl',\n",
       " '2ORU_1_A.pkl',\n",
       " '2OJ6_d2oj6c1.pkl',\n",
       " '2N9C_1_A.pkl',\n",
       " '2N6U_1_A.pkl',\n",
       " '2N21_1_A.pkl',\n",
       " '2MYM_1_A.pkl',\n",
       " '2KXQ_2_B.pkl',\n",
       " '2KTB_1_A.pkl',\n",
       " '3MN5_2_S.pkl',\n",
       " '2JOF_1_A.pkl',\n",
       " '4QMF_2_A.pkl',\n",
       " '1O06_1_A.pkl',\n",
       " '2K7W_2_B.pkl',\n",
       " '3GP2_2_B.pkl',\n",
       " '1MOX_d1moxa4.pkl',\n",
       " '3U5O_2_I.pkl',\n",
       " '4V0U_3_E.pkl',\n",
       " '1M4E_1_A.pkl',\n",
       " '4IKA_2_D.pkl',\n",
       " '1L2Y_1_A.pkl',\n",
       " '4P2O_5_P.pkl',\n",
       " '4RJF_2_B.pkl',\n",
       " '1L1K_1_A.pkl',\n",
       " '1JSP_1_A.pkl',\n",
       " '1IBO_1_A.pkl',\n",
       " '1HO7_1_A.pkl',\n",
       " '3MN7_2_S.pkl',\n",
       " '1ZW2_2_B.pkl',\n",
       " '1FW5_1_A.pkl',\n",
       " '1FV1_3_C.pkl',\n",
       " '1Q7D_1_A.pkl',\n",
       " '1FGE_1_A.pkl',\n",
       " '1DU1_1_A.pkl',\n",
       " '5F74_2_B.pkl',\n",
       " '1DPQ_1_A.pkl',\n",
       " '1CFF_2_B.pkl',\n",
       " '1BON_1_A.pkl',\n",
       " '90#2K2I_2_B.pkl',\n",
       " '3C01_1_A.pkl',\n",
       " '5BV0_3_C.pkl',\n",
       " '1GEA_1_A.pkl',\n",
       " '2DCI_1_A.pkl',\n",
       " '1XOP_1_A.pkl',\n",
       " '1XOO_1_A.pkl',\n",
       " '1VPP_2_X.pkl',\n",
       " '1SOL_1_A.pkl',\n",
       " '1YYP_2_B.pkl',\n",
       " '1S4W_1_A.pkl',\n",
       " '3KL4_2_B.pkl',\n",
       " '4PC0_2_C.pkl',\n",
       " '2NNU_2_B.pkl',\n",
       " '1ZY3_2_B.pkl',\n",
       " '2JO4_1_A.pkl',\n",
       " '2JO5_1_A.pkl',\n",
       " '2KBC_2_A.pkl',\n",
       " '1R9I_1_A.pkl',\n",
       " '2F31_2_B.pkl',\n",
       " '1RDQ_2_I.pkl',\n",
       " '2JNR_1_A.pkl',\n",
       " '1QTX_2_B.pkl',\n",
       " '1NOV_2_D.pkl',\n",
       " '1PJM_1_A.pkl',\n",
       " '1OZS_2_B.pkl',\n",
       " '2MUD_1_A.pkl',\n",
       " '2MUG_1_A.pkl',\n",
       " '1ODR_1_A.pkl',\n",
       " '2KQS_2_B.pkl',\n",
       " '1S6C_2_B.pkl',\n",
       " '1IOG_1_A.pkl',\n",
       " '1J73_1_A.pkl',\n",
       " '1OQD_d1oqdn-.pkl',\n",
       " '1QG9_1_A.pkl',\n",
       " '1K3M_1_A.pkl',\n",
       " '4RT4_2_E.pkl',\n",
       " '1LKQ_1_A.pkl',\n",
       " '1PJN_1_A.pkl',\n",
       " '1LV4_1_A.pkl',\n",
       " '1RPC_1_A.pkl',\n",
       " '1JCA_1_A.pkl',\n",
       " '1N0X_3_P.pkl',\n",
       " '1U9G_1_A.pkl',\n",
       " '1FLL_2_X.pkl',\n",
       " '4YUU_20_W1.pkl',\n",
       " '1AVF_1_P.pkl',\n",
       " '2NLA_2_B.pkl',\n",
       " '1RPQ_2_W.pkl',\n",
       " '2YBF_2_B.pkl',\n",
       " '4CFH_3_C.pkl',\n",
       " '5AN5_1_B.pkl',\n",
       " '1G0Y_2_I.pkl',\n",
       " '4ZBJ_4_D.pkl',\n",
       " '1DSQ_1_A.pkl',\n",
       " '1EDN_1_A.pkl',\n",
       " '1EMZ_1_A.pkl',\n",
       " '2YLE_2_B.pkl',\n",
       " '2Z34_2_C.pkl',\n",
       " '1FAC_1_A.pkl',\n",
       " '2L8X_1_A.pkl',\n",
       " '3FSH_2_C.pkl',\n",
       " '1RWE_1_A.pkl',\n",
       " '4G5Q_2_E.pkl',\n",
       " '1S6W_1_A.pkl',\n",
       " '1KCN_1_A.pkl',\n",
       " '5D2M_4_G.pkl',\n",
       " '1FI0_1_A.pkl',\n",
       " '8TFV_1_A.pkl',\n",
       " '6CMH_1_A.pkl',\n",
       " '4XAI_2_P.pkl',\n",
       " '4W8P_2_B.pkl',\n",
       " '4UI9_17_T.pkl',\n",
       " '4R8T_1_A.pkl',\n",
       " '1ZRU_d1zruc2.pkl',\n",
       " '4KRM_d4krmi2.pkl',\n",
       " '4IYD_1_A.pkl',\n",
       " '4IHN_1_A.pkl',\n",
       " '4GNT_2_B.pkl',\n",
       " '4EFX_1_A.pkl',\n",
       " '4D2G_2_D.pkl',\n",
       " '4CYD_2_F.pkl',\n",
       " '4CU4_2_B.pkl',\n",
       " '1S4T_1_A.pkl',\n",
       " '2VT1_1_A.pkl',\n",
       " '4BPL_2_B.pkl',\n",
       " '3ABD_2_X.pkl',\n",
       " '3U9D_2_B.pkl',\n",
       " '3W7Y_1_A.pkl',\n",
       " '1KCO_1_A.pkl',\n",
       " '3VVI_1_A.pkl',\n",
       " '1ONT_1_A.pkl',\n",
       " '2L0Y_2_B.pkl',\n",
       " '20#2I32_2_E.pkl',\n",
       " '1ZPX_1_A.pkl',\n",
       " '2RKY_2_B.pkl',\n",
       " '5A8L_3_D.pkl',\n",
       " '2YEN_1_A.pkl',\n",
       " '4A0K_2_B.pkl',\n",
       " '1BTT_1_A.pkl',\n",
       " '3AA1_3_C.pkl',\n",
       " '5FVK_2_C.pkl',\n",
       " '2WWA_3_C.pkl',\n",
       " '4MN8_3_C.pkl',\n",
       " '3UL1_2_A.pkl',\n",
       " '1ONV_2_B.pkl',\n",
       " '3QV1_2_G.pkl',\n",
       " '2WS9_4_4.pkl',\n",
       " '4FTB_2_D.pkl',\n",
       " '2MN8_1_A.pkl',\n",
       " '2MMJ_1_A.pkl',\n",
       " '3ZDF_2_C.pkl',\n",
       " '2G48_2_C.pkl',\n",
       " '1XOF_2_B.pkl',\n",
       " '3GCM_2_D.pkl',\n",
       " '1TER_1_A.pkl',\n",
       " '1Q2J_1_A.pkl',\n",
       " '3V19_1_A.pkl',\n",
       " '4CIM_2_P.pkl',\n",
       " '3N00_2_B.pkl',\n",
       " '2MIX_1_A.pkl',\n",
       " '1VKT_1_A.pkl',\n",
       " '2MCE_1_A.pkl',\n",
       " '2LR1_2_B.pkl',\n",
       " '2L5J_1_A.pkl',\n",
       " '2KFT_2_B.pkl',\n",
       " '3PLV_2_C.pkl',\n",
       " '2JUV_1_A.pkl',\n",
       " '2JUU_1_A.pkl',\n",
       " '3JB6_3_C.pkl',\n",
       " '1XW7_1_A.pkl',\n",
       " '2JSB_1_A.pkl',\n",
       " '2I2J_1_A.pkl',\n",
       " '1YK0_2_E.pkl',\n",
       " '1YK1_2_E.pkl',\n",
       " '2G46_2_C.pkl',\n",
       " '2DPR_1_A.pkl',\n",
       " '1U0I_2_B.pkl',\n",
       " '2BN5_2_B.pkl',\n",
       " '2MMT_1_A.pkl',\n",
       " '2N6M_1_A.pkl',\n",
       " '3KQ6_1_A.pkl',\n",
       " '1BYY_1_A.pkl',\n",
       " '3GKY_1_A.pkl',\n",
       " '3DVJ_2_B.pkl',\n",
       " '2VOY_12_L.pkl',\n",
       " '2VAY_2_B.pkl',\n",
       " '2V8F_2_C.pkl',\n",
       " '1SRB_1_A.pkl',\n",
       " '1U0I_1_A.pkl',\n",
       " '1T34_2_H.pkl',\n",
       " '2BN3_1_A.pkl',\n",
       " '2MW3_1_A.pkl',\n",
       " '2MUJ_1_A.pkl',\n",
       " '2MUA_1_A.pkl',\n",
       " '2MTP_2_B.pkl',\n",
       " '4ZRK_2_E.pkl',\n",
       " '2MMW_1_A.pkl',\n",
       " '3NK4_2_C.pkl',\n",
       " '4H62_2_V.pkl',\n",
       " '4X23_7_V.pkl',\n",
       " '2LJ9_1_A.pkl',\n",
       " '4HNJ_2_C.pkl',\n",
       " '30#2VOG_2_B.pkl',\n",
       " '3M1F_2_V.pkl',\n",
       " '5BRM_2_G.pkl',\n",
       " '4G5O_2_E.pkl',\n",
       " '2A40_3_C.pkl',\n",
       " '1LJ2_2_C.pkl',\n",
       " '3SJH_2_B.pkl',\n",
       " '3RO2_2_B.pkl',\n",
       " '1BE3_11_K.pkl',\n",
       " '3UKW_2_C.pkl',\n",
       " '2N31_1_A.pkl',\n",
       " '2HZS_3_I.pkl',\n",
       " '2GWW_2_B.pkl',\n",
       " '4REY_2_B.pkl',\n",
       " '4PBZ_2_B.pkl',\n",
       " '2XQN_1_A.pkl',\n",
       " '4BWS_2_B.pkl',\n",
       " '4DJ9_2_B.pkl',\n",
       " '2WH6_2_B.pkl',\n",
       " '2WK3_2_C.pkl',\n",
       " '1CQT_4_I.pkl',\n",
       " '4UF1_2_B.pkl',\n",
       " '4JO8_2_B.pkl',\n",
       " '4XTR_4_G.pkl',\n",
       " '4H25_3_C.pkl',\n",
       " '1WN8_1_A.pkl',\n",
       " '1XKM_1_A.pkl',\n",
       " '1XR0_1_A.pkl',\n",
       " '1ZSG_2_B.pkl',\n",
       " '2C5K_1_P.pkl',\n",
       " '2A7U_1_A.pkl',\n",
       " '2AJW_1_A.pkl',\n",
       " '2BBP_1_A.pkl',\n",
       " '2K3U_2_B.pkl',\n",
       " '2E8D_1_A.pkl',\n",
       " '2H9R_2_C.pkl',\n",
       " '2LGB_1_A.pkl',\n",
       " '2LLR_1_A.pkl',\n",
       " '2LMA_1_A.pkl',\n",
       " '2M0H_1_A.pkl',\n",
       " '2M1T_1_A.pkl',\n",
       " '2M3F_1_A.pkl',\n",
       " '2N07_1_X.pkl',\n",
       " '2OFQ_2_B.pkl',\n",
       " '2OJM_1_A.pkl',\n",
       " '2OJN_1_A.pkl',\n",
       " '2LMF_1_A.pkl',\n",
       " '2OJO_1_A.pkl',\n",
       " '4OIH_2_B.pkl',\n",
       " '2PV6_1_A.pkl',\n",
       " '1WA7_2_B.pkl',\n",
       " '1TCK_1_A.pkl',\n",
       " '1TM6_1_A.pkl',\n",
       " '2JRW_1_A.pkl',\n",
       " '1PEI_1_A.pkl',\n",
       " '4BXL_2_C.pkl',\n",
       " '1BE3_d1be3k-.pkl',\n",
       " '3LBW_1_A.pkl',\n",
       " '3LON_2_B.pkl',\n",
       " '1CFG_1_A.pkl',\n",
       " '3VU5_2_B.pkl',\n",
       " '1DT7_2_X.pkl',\n",
       " '4MGP_1_A.pkl',\n",
       " '4NIQ_2_C.pkl',\n",
       " '1DU3_d1du3i3.pkl',\n",
       " '5CGN_2_E.pkl',\n",
       " '2PON_1_A.pkl',\n",
       " '1G9I_2_I.pkl',\n",
       " '1GIB_1_A.pkl',\n",
       " '2MCX_1_A.pkl',\n",
       " '1HP9_1_A.pkl',\n",
       " '1JGN_2_B.pkl',\n",
       " '2MCV_1_A.pkl',\n",
       " '1LBJ_1_A.pkl',\n",
       " '2M5B_2_B.pkl',\n",
       " '1NYB_2_A.pkl',\n",
       " '1ZVZ_2_B.pkl',\n",
       " '1RGQ_2_C.pkl',\n",
       " '1SUT_1_A.pkl',\n",
       " '1SX1_1_A.pkl',\n",
       " '1TCJ_1_A.pkl',\n",
       " '2L7L_2_B.pkl',\n",
       " '2HQH_2_E.pkl',\n",
       " '3KJ1_2_B.pkl',\n",
       " '5C3F_2_B.pkl',\n",
       " '4RWC_1_A.pkl',\n",
       " '4G5S_2_E.pkl',\n",
       " '3KF9_2_B.pkl',\n",
       " '3GXV_2_C.pkl',\n",
       " '3DVM_2_B.pkl',\n",
       " '3H0T_3_C.pkl',\n",
       " '5A8L_9_Z.pkl',\n",
       " '2WFU_1_A.pkl',\n",
       " '5A53_2_B.pkl',\n",
       " '3KJ2_2_B.pkl',\n",
       " '1EGP_2_B.pkl',\n",
       " '3UC7_1_A.pkl',\n",
       " '4UE4_2_B.pkl',\n",
       " '3B1J_2_C.pkl',\n",
       " '4TTL_1_A.pkl',\n",
       " '3MLZ_3_P.pkl',\n",
       " '2VOY_3_C.pkl',\n",
       " '2FOT_2_C.pkl',\n",
       " '3H3G_2_B.pkl',\n",
       " '2CMY_d2cmyb1.pkl',\n",
       " '2RUK_1_A.pkl',\n",
       " '1ZW3_2_B.pkl',\n",
       " '2R36_1_A.pkl',\n",
       " '2RQH_1_A.pkl',\n",
       " '4KRM_d4krmk2.pkl',\n",
       " '4JHK_2_C.pkl',\n",
       " '3J9M_46_l.pkl',\n",
       " '2LSA_1_A.pkl',\n",
       " '2L5R_1_A.pkl',\n",
       " '1DUM_1_A.pkl',\n",
       " '2XZE_2_Q.pkl',\n",
       " '2JNR_2_B.pkl',\n",
       " '2IV6_1_A.pkl',\n",
       " '3JQH_1_A.pkl',\n",
       " '2M0W_1_A.pkl',\n",
       " '1DEI_2_B.pkl',\n",
       " '2O8M_2_C.pkl',\n",
       " '2MAK_2_B.pkl',\n",
       " '10#2MNJ_1_A.pkl',\n",
       " '1B5N_1_A.pkl',\n",
       " '5GDS_3_I.pkl',\n",
       " '4UTQ_2_Z.pkl',\n",
       " '2IV5_1_A.pkl',\n",
       " '4G4L_1_A.pkl',\n",
       " '4Y4O_52_1u.pkl',\n",
       " '2MY3_2_B.pkl',\n",
       " '2N68_1_A.pkl',\n",
       " '2H4M_2_C.pkl',\n",
       " '2N1C_1_A.pkl',\n",
       " '4JQI_4_V.pkl',\n",
       " '2HSQ_2_B.pkl',\n",
       " '3J7Q_42_n.pkl',\n",
       " '2NR1_1_A.pkl',\n",
       " '2EQH_1_A.pkl',\n",
       " '1WNM_1_A.pkl',\n",
       " '2XPI_2_B.pkl',\n",
       " '2Q5D_d2q5dd-.pkl',\n",
       " '3CAY_1_A.pkl',\n",
       " '1KDL_1_A.pkl',\n",
       " '1MEQ_1_A.pkl',\n",
       " '1OEG_1_A.pkl',\n",
       " '3A1H_1_A.pkl',\n",
       " '1RIJ_1_A.pkl',\n",
       " '5ANR_3_C.pkl',\n",
       " '5ET1_2_C.pkl',\n",
       " '1WNK_1_A.pkl',\n",
       " '2N30_1_A.pkl',\n",
       " '1VF5_d1vf5g-.pkl',\n",
       " '1VDB_1_A.pkl',\n",
       " '1V28_1_A.pkl',\n",
       " '1S5R_1_A.pkl',\n",
       " '2GL7_3_C.pkl',\n",
       " '1WNN_1_A.pkl',\n",
       " '1EQ8_1_A.pkl',\n",
       " '5HVZ_2_C.pkl',\n",
       " '1JLZ_1_A.pkl',\n",
       " '3T4F_1_A.pkl',\n",
       " '1WQE_1_A.pkl',\n",
       " '2DJC_1_A.pkl',\n",
       " '1P5A_1_A.pkl',\n",
       " '1ETG_2_B.pkl',\n",
       " '3UKZ_2_C.pkl',\n",
       " '1JMT_2_B.pkl',\n",
       " '1SDB_2_B.pkl',\n",
       " '2N01_1_A.pkl',\n",
       " '1HRL_1_A.pkl',\n",
       " '20#4V3P_53_Ld.pkl',\n",
       " '1IRR_1_A.pkl',\n",
       " '2DJ9_1_A.pkl',\n",
       " '2AK0_1_A.pkl',\n",
       " '4B1W_2_M.pkl',\n",
       " '10#2MFQ_2_B.pkl',\n",
       " '1Z2T_1_A.pkl',\n",
       " '2WFU_2_B.pkl',\n",
       " '3E2U_2_E.pkl',\n",
       " '1WZ4_1_A.pkl',\n",
       " '4BWQ_2_B.pkl',\n",
       " '2VOY_4_D.pkl',\n",
       " '3JAI_39_n.pkl',\n",
       " '4THN_3_I.pkl',\n",
       " '4AFJ_2_X.pkl',\n",
       " '3D7V_2_B.pkl',\n",
       " '4CAY_3_C.pkl',\n",
       " '6RLX_1_A.pkl',\n",
       " '5CJB_2_B.pkl',\n",
       " '2JPX_1_A.pkl',\n",
       " '2VOF_2_B.pkl',\n",
       " '2C5I_1_P.pkl',\n",
       " '2PQK_2_B.pkl',\n",
       " '4CIN_2_C.pkl',\n",
       " '2EEO_1_A.pkl',\n",
       " '3U29_1_A.pkl',\n",
       " '2WFV_1_A.pkl',\n",
       " '1TQE_4_X.pkl',\n",
       " '2JSJ_1_A.pkl',\n",
       " '2YOM_1_A.pkl',\n",
       " '2WFV_2_B.pkl',\n",
       " '3UKX_2_C.pkl',\n",
       " '3C0T_2_B.pkl',\n",
       " '2MAG_1_A.pkl',\n",
       " '3WN8_1_A.pkl',\n",
       " '2NUD_2_C.pkl',\n",
       " '2CMY_2_B.pkl',\n",
       " '2MV1_2_A.pkl',\n",
       " '3UL0_2_C.pkl',\n",
       " '4D2L_2_B.pkl',\n",
       " '5CGO_1_A.pkl',\n",
       " '1H8B_2_B.pkl',\n",
       " '3P0Y_d3p0ya2.pkl',\n",
       " '3KZ0_2_C.pkl',\n",
       " '3DVK_2_B.pkl',\n",
       " ...]"
      ]
     },
     "execution_count": 24,
     "metadata": {},
     "output_type": "execute_result"
    }
   ],
   "source": [
    "os.listdir(\"/net/pulsar/home/koes/jok120/scnmin220511/unmin/\")"
   ]
  },
  {
   "cell_type": "markdown",
   "id": "664699da",
   "metadata": {},
   "source": [
    "# Analysis of minimized data"
   ]
  },
  {
   "cell_type": "code",
   "execution_count": 57,
   "id": "2e01f64b",
   "metadata": {},
   "outputs": [
    {
     "name": "stdout",
     "output_type": "stream",
     "text": [
      "SidechainNet was loaded from /home/jok120/scnmin220519/scn_minimized.pkl.\n"
     ]
    }
   ],
   "source": [
    "d = scn.load('debug', scn_dataset=True, local_scn_path='/home/jok120/scnmin220519/scn_minimized.pkl')"
   ]
  },
  {
   "cell_type": "code",
   "execution_count": 3,
   "id": "467c0500",
   "metadata": {},
   "outputs": [
    {
     "data": {
      "text/plain": [
       "53870"
      ]
     },
     "execution_count": 3,
     "metadata": {},
     "output_type": "execute_result"
    }
   ],
   "source": [
    "len(d)"
   ]
  },
  {
   "cell_type": "code",
   "execution_count": 4,
   "id": "dda9f75b",
   "metadata": {},
   "outputs": [],
   "source": [
    "import matplotlib.pyplot as plt"
   ]
  },
  {
   "cell_type": "code",
   "execution_count": 7,
   "id": "1190d1fc",
   "metadata": {},
   "outputs": [
    {
     "data": {
      "image/png": "[encoded data removed]",
      "text/plain": [
       "<Figure size 432x288 with 1 Axes>"
      ]
     },
     "metadata": {
      "needs_background": "light"
     },
     "output_type": "display_data"
    }
   ],
   "source": [
    "plt.hist(d.lengths, bins=20)\n",
    "plt.show()"
   ]
  },
  {
   "cell_type": "code",
   "execution_count": 15,
   "id": "b4e2ca6b",
   "metadata": {},
   "outputs": [
    {
     "data": {
      "text/plain": [
       "((476, 3), (476, 3))"
      ]
     },
     "execution_count": 15,
     "metadata": {},
     "output_type": "execute_result"
    }
   ],
   "source": [
    "d[2000].hcoords.shape, d[2000].coords.shape"
   ]
  },
  {
   "cell_type": "code",
   "execution_count": 18,
   "id": "264e576b",
   "metadata": {},
   "outputs": [
    {
     "data": {
      "text/plain": [
       "['train',\n",
       " 'valid-10',\n",
       " 'valid-20',\n",
       " 'valid-30',\n",
       " 'valid-40',\n",
       " 'valid-50',\n",
       " 'valid-70',\n",
       " 'valid-90',\n",
       " 'test']"
      ]
     },
     "execution_count": 18,
     "metadata": {},
     "output_type": "execute_result"
    }
   ],
   "source": [
    "d.splits"
   ]
  },
  {
   "cell_type": "code",
   "execution_count": 22,
   "id": "7e1aaca0",
   "metadata": {},
   "outputs": [
    {
     "data": {
      "text/plain": [
       "[SCNProtein(30#3HE4_1_A, len=45, missing=0, split='valid-30'),\n",
       " SCNProtein(30#3U88_2_M, len=56, missing=0, split='valid-30'),\n",
       " SCNProtein(30#3OSS_1_C, len=65, missing=0, split='valid-30'),\n",
       " SCNProtein(30#2MSE_3_D, len=73, missing=0, split='valid-30'),\n",
       " SCNProtein(30#2MY6_1_A, len=91, missing=0, split='valid-30'),\n",
       " SCNProtein(30#4ML7_2_B, len=98, missing=0, split='valid-30'),\n",
       " SCNProtein(30#2K0M_1_A, len=104, missing=0, split='valid-30'),\n",
       " SCNProtein(30#4MNN_1_A, len=165, missing=0, split='valid-30'),\n",
       " SCNProtein(30#3V68_1_A, len=248, missing=0, split='valid-30'),\n",
       " SCNProtein(30#1V7Z_1_A, len=257, missing=0, split='valid-30'),\n",
       " SCNProtein(30#3R6V_1_A, len=458, missing=0, split='valid-30'),\n",
       " SCNProtein(30#2YEQ_1_A, len=522, missing=0, split='valid-30')]"
      ]
     },
     "execution_count": 22,
     "metadata": {},
     "output_type": "execute_result"
    }
   ],
   "source": [
    "d.get_protein_list_by_split_name('valid-30')"
   ]
  },
  {
   "cell_type": "code",
   "execution_count": 26,
   "id": "bce274d2",
   "metadata": {},
   "outputs": [],
   "source": [
    "for p in d:\n",
    "    assert len(p.seq) == p.coords.shape[0] // 14\n",
    "    assert len(p.seq) == p.angles.shape[0]"
   ]
  },
  {
   "cell_type": "code",
   "execution_count": 24,
   "id": "898315f6",
   "metadata": {},
   "outputs": [
    {
     "data": {
      "text/plain": [
       "True"
      ]
     },
     "execution_count": 24,
     "metadata": {},
     "output_type": "execute_result"
    }
   ],
   "source": [
    "1 == 2 / 2 == 3 / 3"
   ]
  },
  {
   "cell_type": "code",
   "execution_count": 25,
   "id": "fbfb7873",
   "metadata": {},
   "outputs": [
    {
     "data": {
      "text/plain": [
       "True"
      ]
     },
     "execution_count": 25,
     "metadata": {},
     "output_type": "execute_result"
    }
   ],
   "source": [
    "1 == 2 / 2"
   ]
  },
  {
   "cell_type": "code",
   "execution_count": 27,
   "id": "b7a50391",
   "metadata": {},
   "outputs": [],
   "source": [
    "p = d[3].copy()"
   ]
  },
  {
   "cell_type": "code",
   "execution_count": 28,
   "id": "5d9f69c3",
   "metadata": {},
   "outputs": [
    {
     "data": {
      "text/plain": [
       "SCNProtein(4BOH_3_M, len=4, missing=0, split='train')"
      ]
     },
     "execution_count": 28,
     "metadata": {},
     "output_type": "execute_result"
    }
   ],
   "source": [
    "p"
   ]
  },
  {
   "cell_type": "code",
   "execution_count": 29,
   "id": "28f2d721",
   "metadata": {},
   "outputs": [
    {
     "data": {
      "text/plain": [
       "array([[        nan, -0.69656843,  0.06910187,  2.00253329,  2.17629692,\n",
       "         2.32617953,  1.51370858,         nan,         nan,         nan,\n",
       "                nan,         nan],\n",
       "       [-2.57927471,  1.77921977, -3.1649278 ,  1.90005246,  2.04247178,\n",
       "         2.32579977,  1.57975444,  0.91527435, -2.15420772, -1.7594586 ,\n",
       "        -1.40975295,         nan],\n",
       "       [-1.29230612,  2.57030387,  2.95268732,  1.77549132,  2.04220077,\n",
       "         1.9928925 ,  3.05486638,  0.0785785 , -0.08109314,         nan,\n",
       "                nan,         nan],\n",
       "       [-1.12117894,  2.74342036,         nan,  1.92932154,         nan,\n",
       "                nan,  3.08874644, -1.26810832, -2.95780475, -3.12458468,\n",
       "         1.47880086,  0.06874511]])"
      ]
     },
     "execution_count": 29,
     "metadata": {},
     "output_type": "execute_result"
    }
   ],
   "source": [
    "p.angles"
   ]
  },
  {
   "cell_type": "code",
   "execution_count": 30,
   "id": "702a1a16",
   "metadata": {},
   "outputs": [],
   "source": [
    "p.add_hydrogens(from_angles=True)"
   ]
  },
  {
   "cell_type": "code",
   "execution_count": 31,
   "id": "ef06cc5f",
   "metadata": {},
   "outputs": [
    {
     "data": {
      "text/plain": [
       "SCNProtein(4BOH_3_M, len=4, missing=0, split='train')"
      ]
     },
     "execution_count": 31,
     "metadata": {},
     "output_type": "execute_result"
    }
   ],
   "source": [
    "p"
   ]
  },
  {
   "cell_type": "code",
   "execution_count": 32,
   "id": "6fce495a",
   "metadata": {},
   "outputs": [
    {
     "data": {
      "application/3dmoljs_load.v0": "<div id=\"3dmolviewer_16535038486990428\"  style=\"position: relative; width: 640px; height: 480px\">\n        <p id=\"3dmolwarning_16535038486990428\" style=\"background-color:#ffcccc;color:black\">You appear to be running in JupyterLab (or JavaScript failed to load for some other reason).  You need to install the 3dmol extension: <br>\n        <tt>jupyter labextension install jupyterlab_3dmol</tt></p>\n        </div>\n<script>\n\nvar loadScriptAsync = function(uri){\n  return new Promise((resolve, reject) => {\n    var tag = document.createElement('script');\n    tag.src = uri;\n    tag.async = true;\n    tag.onload = () => {\n      resolve();\n    };\n  var firstScriptTag = document.getElementsByTagName('script')[0];\n  firstScriptTag.parentNode.insertBefore(tag, firstScriptTag);\n});\n};\n\nif(typeof $3Dmolpromise === 'undefined') {\n$3Dmolpromise = null;\n  $3Dmolpromise = loadScriptAsync('https://3dmol.org/build/3Dmol.js');\n}\n\nvar viewer_16535038486990428 = null;\nvar warn = document.getElementById(\"3dmolwarning_16535038486990428\");\nif(warn) {\n    warn.parentNode.removeChild(warn);\n}\n$3Dmolpromise.then(function() {\nviewer_16535038486990428 = $3Dmol.createViewer($(\"#3dmolviewer_16535038486990428\"),{backgroundColor:\"white\"});\nviewer_16535038486990428.zoomTo();\n\tviewer_16535038486990428.addModel(\"REMARK  pred\\nSEQRES   1 A    4  ALA LYS PRO ARG                                              \\nATOM      1  N   ALA A   1       0.000   0.000   0.001  1.00  0.00           N  \\nATOM      2  CA  ALA A   1       1.442   0.000   0.001  1.00  0.00           C  \\nATOM      3  C   ALA A   1       2.069   1.361   0.001  1.00  0.00           C  \\nATOM      4  O   ALA A   1       3.067   1.577   0.684  1.00  0.00           O  \\nATOM      5  CB  ALA A   1       2.005  -0.826  -1.152  1.00  0.00           C  \\nATOM      6  H   ALA A   1      -0.337  -0.952   0.001  1.00  0.00           H  \\nATOM      7  HA  ALA A   1       1.654  -0.450   0.971  1.00  0.00           H  \\nATOM      8 HB1  ALA A   1       3.095  -0.802  -1.118  1.00  0.00           H  \\nATOM      9 HB2  ALA A   1       1.662  -1.857  -1.063  1.00  0.00           H  \\nATOM     10 HB3  ALA A   1       1.662  -0.410  -2.099  1.00  0.00           H  \\nATOM     11  H2  ALA A   1      -0.337   0.476   0.826  1.00  0.00           H  \\nATOM     11  H3  ALA A   1      -0.337   0.476  -0.824  1.00  0.00           H  \\nATOM     13  N   LYS A   2       1.607   2.437  -0.726  1.00  0.00           N  \\nATOM     14  CA  LYS A   2       0.459   2.638  -1.575  1.00  0.00           C  \\nATOM     15  C   LYS A   2       0.822   3.603  -2.662  1.00  0.00           C  \\nATOM     16  O   LYS A   2       0.869   4.808  -2.424  1.00  0.00           O  \\nATOM     17  CB  LYS A   2      -0.709   3.162  -0.744  1.00  0.00           C  \\nATOM     18  CG  LYS A   2      -0.261   4.386   0.049  1.00  0.00           C  \\nATOM     19  CD  LYS A   2      -0.508   4.148   1.536  1.00  0.00           C  \\nATOM     20  CE  LYS A   2      -1.784   4.869   1.962  1.00  0.00           C  \\nATOM     21  NZ  LYS A   2      -1.533   6.298   2.202  1.00  0.00           N  \\nATOM     22  H   LYS A   2       2.227   3.227  -0.617  1.00  0.00           H  \\nATOM     23  HA  LYS A   2       0.202   1.676  -2.017  1.00  0.00           H  \\nATOM     24 HB2  LYS A   2      -1.629   3.174  -1.329  1.00  0.00           H  \\nATOM     25 HB3  LYS A   2      -1.195   2.542  -0.127  1.00  0.00           H  \\nATOM     26 HD2  LYS A   2      -0.479   3.116   1.884  1.00  0.00           H  \\nATOM     27 HD3  LYS A   2       0.546   4.171   2.306  1.00  0.00           H  \\nATOM     28 HE2  LYS A   2      -2.611   4.632   1.293  1.00  0.00           H  \\nATOM     29 HE3  LYS A   2      -2.288   4.425   2.780  1.00  0.00           H  \\nATOM     30 HG2  LYS A   2       0.725   4.795  -0.172  1.00  0.00           H  \\nATOM     31 HG3  LYS A   2      -0.665   5.198  -0.308  1.00  0.00           H  \\nATOM     32 HZ1  LYS A   2      -2.460   6.785   2.504  1.00  0.00           H  \\nATOM     33 HZ2  LYS A   2      -0.791   6.409   2.993  1.00  0.00           H  \\nATOM     34 HZ3  LYS A   2      -1.161   6.761   1.288  1.00  0.00           H  \\nATOM     35  N   PRO A   3       1.092   3.072  -3.906  1.00  0.00           N  \\nATOM     36  CA  PRO A   3       1.442   3.659  -5.175  1.00  0.00           C  \\nATOM     37  C   PRO A   3       0.134   4.242  -5.613  1.00  0.00           C  \\nATOM     38  O   PRO A   3      -0.919   3.687  -5.307  1.00  0.00           O  \\nATOM     39  CB  PRO A   3       1.745   2.557  -6.186  1.00  0.00           C  \\nATOM     40  CG  PRO A   3       1.469   1.196  -5.553  1.00  0.00           C  \\nATOM     41  CD  PRO A   3       1.093   1.383  -4.086  1.00  0.00           C  \\nATOM     42  HA  PRO A   3       2.283   4.345  -5.064  1.00  0.00           H  \\nATOM     43 HB2  PRO A   3       1.254   2.689  -7.150  1.00  0.00           H  \\nATOM     44 HB3  PRO A   3       2.735   2.647  -6.638  1.00  0.00           H  \\nATOM     45 HD2  PRO A   3       1.699   0.861  -3.345  1.00  0.00           H  \\nATOM     46 HD3  PRO A   3       0.178   0.889  -3.740  1.00  0.00           H  \\nATOM     47 HG2  PRO A   3       2.276   0.481  -5.713  1.00  0.00           H  \\nATOM     48 HG3  PRO A   3       0.749   0.563  -6.119  1.00  0.00           H  \\nATOM     49  N   ARG A   4       0.182   5.402  -6.358  1.00  0.00           N  \\nATOM     50  CA  ARG A   4      -1.077   5.775  -6.952  1.00  0.00           C  \\nATOM     51  C   ARG A   4      -1.512   4.747  -7.952  1.00  0.00           C  \\nATOM     52  O   ARG A   4      -2.699   4.645  -8.251  1.00  0.00           O  \\nATOM     53  CB  ARG A   4      -0.926   7.105  -7.686  1.00  0.00           C  \\nATOM     54  CG  ARG A   4      -0.805   8.236  -6.669  1.00  0.00           C  \\nATOM     55  CD  ARG A   4      -0.916   9.579  -7.386  1.00  0.00           C  \\nATOM     56  NE  ARG A   4      -0.782  10.693  -6.446  1.00  0.00           N  \\nATOM     57  CZ  ARG A   4       0.401  11.189  -6.061  1.00  0.00           C  \\nATOM     58 NH1  ARG A   4       1.533  10.716  -6.599  1.00  0.00           N  \\nATOM     59 NH2  ARG A   4       0.452  12.158  -5.137  1.00  0.00           N  \\nATOM     60  H   ARG A   4       1.044   5.920  -6.456  1.00  0.00           H  \\nATOM     61  HA  ARG A   4      -1.786   5.827  -6.126  1.00  0.00           H  \\nATOM     62 HB2  ARG A   4      -0.134   7.132  -8.435  1.00  0.00           H  \\nATOM     63 HB3  ARG A   4      -1.691   7.248  -8.442  1.00  0.00           H  \\nATOM     64 HD2  ARG A   4      -0.252   9.650  -8.247  1.00  0.00           H  \\nATOM     65 HD3  ARG A   4      -1.802   9.646  -8.018  1.00  0.00           H  \\nATOM     66 HG2  ARG A   4      -1.482   8.139  -5.820  1.00  0.00           H  \\nATOM     67 HG3  ARG A   4       0.072   8.152  -6.026  1.00  0.00           H  \\nATOM     68  HE  ARG A   4      -1.575  11.159  -6.028  1.00  0.00           H  \\nATOM     69 HH11 ARG A   4       1.495   9.986  -7.296  1.00  0.00           H  \\nATOM     70 HH12 ARG A   4       2.206  10.998  -6.381  1.00  0.00           H  \\nATOM     71 HH21 ARG A   4      -0.401  12.515  -4.731  1.00  0.00           H  \\nATOM     72 HH22 ARG A   4       1.125  12.441  -4.918  1.00  0.00           H  \\nATOM     73 OXT  ARG A   4      -0.769   3.834  -8.641  1.00  0.00           O  \\nTER\\nEND          \\n\",\"pdb\",{\"keepH\": true});\n\tviewer_16535038486990428.setStyle({\"cartoon\": {\"color\": \"spectrum\"}, \"stick\": {\"radius\": 0.15}});\n\tviewer_16535038486990428.zoomTo();\nviewer_16535038486990428.render();\n});\n</script>",
      "text/html": [
       "<div id=\"3dmolviewer_16535038486990428\"  style=\"position: relative; width: 640px; height: 480px\">\n",
       "        <p id=\"3dmolwarning_16535038486990428\" style=\"background-color:#ffcccc;color:black\">You appear to be running in JupyterLab (or JavaScript failed to load for some other reason).  You need to install the 3dmol extension: <br>\n",
       "        <tt>jupyter labextension install jupyterlab_3dmol</tt></p>\n",
       "        </div>\n",
       "<script>\n",
       "\n",
       "var loadScriptAsync = function(uri){\n",
       "  return new Promise((resolve, reject) => {\n",
       "    var tag = document.createElement('script');\n",
       "    tag.src = uri;\n",
       "    tag.async = true;\n",
       "    tag.onload = () => {\n",
       "      resolve();\n",
       "    };\n",
       "  var firstScriptTag = document.getElementsByTagName('script')[0];\n",
       "  firstScriptTag.parentNode.insertBefore(tag, firstScriptTag);\n",
       "});\n",
       "};\n",
       "\n",
       "if(typeof $3Dmolpromise === 'undefined') {\n",
       "$3Dmolpromise = null;\n",
       "  $3Dmolpromise = loadScriptAsync('https://3dmol.org/build/3Dmol.js');\n",
       "}\n",
       "\n",
       "var viewer_16535038486990428 = null;\n",
       "var warn = document.getElementById(\"3dmolwarning_16535038486990428\");\n",
       "if(warn) {\n",
       "    warn.parentNode.removeChild(warn);\n",
       "}\n",
       "$3Dmolpromise.then(function() {\n",
       "viewer_16535038486990428 = $3Dmol.createViewer($(\"#3dmolviewer_16535038486990428\"),{backgroundColor:\"white\"});\n",
       "viewer_16535038486990428.zoomTo();\n",
       "\tviewer_16535038486990428.addModel(\"REMARK  pred\\nSEQRES   1 A    4  ALA LYS PRO ARG                                              \\nATOM      1  N   ALA A   1       0.000   0.000   0.001  1.00  0.00           N  \\nATOM      2  CA  ALA A   1       1.442   0.000   0.001  1.00  0.00           C  \\nATOM      3  C   ALA A   1       2.069   1.361   0.001  1.00  0.00           C  \\nATOM      4  O   ALA A   1       3.067   1.577   0.684  1.00  0.00           O  \\nATOM      5  CB  ALA A   1       2.005  -0.826  -1.152  1.00  0.00           C  \\nATOM      6  H   ALA A   1      -0.337  -0.952   0.001  1.00  0.00           H  \\nATOM      7  HA  ALA A   1       1.654  -0.450   0.971  1.00  0.00           H  \\nATOM      8 HB1  ALA A   1       3.095  -0.802  -1.118  1.00  0.00           H  \\nATOM      9 HB2  ALA A   1       1.662  -1.857  -1.063  1.00  0.00           H  \\nATOM     10 HB3  ALA A   1       1.662  -0.410  -2.099  1.00  0.00           H  \\nATOM     11  H2  ALA A   1      -0.337   0.476   0.826  1.00  0.00           H  \\nATOM     11  H3  ALA A   1      -0.337   0.476  -0.824  1.00  0.00           H  \\nATOM     13  N   LYS A   2       1.607   2.437  -0.726  1.00  0.00           N  \\nATOM     14  CA  LYS A   2       0.459   2.638  -1.575  1.00  0.00           C  \\nATOM     15  C   LYS A   2       0.822   3.603  -2.662  1.00  0.00           C  \\nATOM     16  O   LYS A   2       0.869   4.808  -2.424  1.00  0.00           O  \\nATOM     17  CB  LYS A   2      -0.709   3.162  -0.744  1.00  0.00           C  \\nATOM     18  CG  LYS A   2      -0.261   4.386   0.049  1.00  0.00           C  \\nATOM     19  CD  LYS A   2      -0.508   4.148   1.536  1.00  0.00           C  \\nATOM     20  CE  LYS A   2      -1.784   4.869   1.962  1.00  0.00           C  \\nATOM     21  NZ  LYS A   2      -1.533   6.298   2.202  1.00  0.00           N  \\nATOM     22  H   LYS A   2       2.227   3.227  -0.617  1.00  0.00           H  \\nATOM     23  HA  LYS A   2       0.202   1.676  -2.017  1.00  0.00           H  \\nATOM     24 HB2  LYS A   2      -1.629   3.174  -1.329  1.00  0.00           H  \\nATOM     25 HB3  LYS A   2      -1.195   2.542  -0.127  1.00  0.00           H  \\nATOM     26 HD2  LYS A   2      -0.479   3.116   1.884  1.00  0.00           H  \\nATOM     27 HD3  LYS A   2       0.546   4.171   2.306  1.00  0.00           H  \\nATOM     28 HE2  LYS A   2      -2.611   4.632   1.293  1.00  0.00           H  \\nATOM     29 HE3  LYS A   2      -2.288   4.425   2.780  1.00  0.00           H  \\nATOM     30 HG2  LYS A   2       0.725   4.795  -0.172  1.00  0.00           H  \\nATOM     31 HG3  LYS A   2      -0.665   5.198  -0.308  1.00  0.00           H  \\nATOM     32 HZ1  LYS A   2      -2.460   6.785   2.504  1.00  0.00           H  \\nATOM     33 HZ2  LYS A   2      -0.791   6.409   2.993  1.00  0.00           H  \\nATOM     34 HZ3  LYS A   2      -1.161   6.761   1.288  1.00  0.00           H  \\nATOM     35  N   PRO A   3       1.092   3.072  -3.906  1.00  0.00           N  \\nATOM     36  CA  PRO A   3       1.442   3.659  -5.175  1.00  0.00           C  \\nATOM     37  C   PRO A   3       0.134   4.242  -5.613  1.00  0.00           C  \\nATOM     38  O   PRO A   3      -0.919   3.687  -5.307  1.00  0.00           O  \\nATOM     39  CB  PRO A   3       1.745   2.557  -6.186  1.00  0.00           C  \\nATOM     40  CG  PRO A   3       1.469   1.196  -5.553  1.00  0.00           C  \\nATOM     41  CD  PRO A   3       1.093   1.383  -4.086  1.00  0.00           C  \\nATOM     42  HA  PRO A   3       2.283   4.345  -5.064  1.00  0.00           H  \\nATOM     43 HB2  PRO A   3       1.254   2.689  -7.150  1.00  0.00           H  \\nATOM     44 HB3  PRO A   3       2.735   2.647  -6.638  1.00  0.00           H  \\nATOM     45 HD2  PRO A   3       1.699   0.861  -3.345  1.00  0.00           H  \\nATOM     46 HD3  PRO A   3       0.178   0.889  -3.740  1.00  0.00           H  \\nATOM     47 HG2  PRO A   3       2.276   0.481  -5.713  1.00  0.00           H  \\nATOM     48 HG3  PRO A   3       0.749   0.563  -6.119  1.00  0.00           H  \\nATOM     49  N   ARG A   4       0.182   5.402  -6.358  1.00  0.00           N  \\nATOM     50  CA  ARG A   4      -1.077   5.775  -6.952  1.00  0.00           C  \\nATOM     51  C   ARG A   4      -1.512   4.747  -7.952  1.00  0.00           C  \\nATOM     52  O   ARG A   4      -2.699   4.645  -8.251  1.00  0.00           O  \\nATOM     53  CB  ARG A   4      -0.926   7.105  -7.686  1.00  0.00           C  \\nATOM     54  CG  ARG A   4      -0.805   8.236  -6.669  1.00  0.00           C  \\nATOM     55  CD  ARG A   4      -0.916   9.579  -7.386  1.00  0.00           C  \\nATOM     56  NE  ARG A   4      -0.782  10.693  -6.446  1.00  0.00           N  \\nATOM     57  CZ  ARG A   4       0.401  11.189  -6.061  1.00  0.00           C  \\nATOM     58 NH1  ARG A   4       1.533  10.716  -6.599  1.00  0.00           N  \\nATOM     59 NH2  ARG A   4       0.452  12.158  -5.137  1.00  0.00           N  \\nATOM     60  H   ARG A   4       1.044   5.920  -6.456  1.00  0.00           H  \\nATOM     61  HA  ARG A   4      -1.786   5.827  -6.126  1.00  0.00           H  \\nATOM     62 HB2  ARG A   4      -0.134   7.132  -8.435  1.00  0.00           H  \\nATOM     63 HB3  ARG A   4      -1.691   7.248  -8.442  1.00  0.00           H  \\nATOM     64 HD2  ARG A   4      -0.252   9.650  -8.247  1.00  0.00           H  \\nATOM     65 HD3  ARG A   4      -1.802   9.646  -8.018  1.00  0.00           H  \\nATOM     66 HG2  ARG A   4      -1.482   8.139  -5.820  1.00  0.00           H  \\nATOM     67 HG3  ARG A   4       0.072   8.152  -6.026  1.00  0.00           H  \\nATOM     68  HE  ARG A   4      -1.575  11.159  -6.028  1.00  0.00           H  \\nATOM     69 HH11 ARG A   4       1.495   9.986  -7.296  1.00  0.00           H  \\nATOM     70 HH12 ARG A   4       2.206  10.998  -6.381  1.00  0.00           H  \\nATOM     71 HH21 ARG A   4      -0.401  12.515  -4.731  1.00  0.00           H  \\nATOM     72 HH22 ARG A   4       1.125  12.441  -4.918  1.00  0.00           H  \\nATOM     73 OXT  ARG A   4      -0.769   3.834  -8.641  1.00  0.00           O  \\nTER\\nEND          \\n\",\"pdb\",{\"keepH\": true});\n",
       "\tviewer_16535038486990428.setStyle({\"cartoon\": {\"color\": \"spectrum\"}, \"stick\": {\"radius\": 0.15}});\n",
       "\tviewer_16535038486990428.zoomTo();\n",
       "viewer_16535038486990428.render();\n",
       "});\n",
       "</script>"
      ]
     },
     "metadata": {},
     "output_type": "display_data"
    },
    {
     "data": {
      "text/plain": [
       "<py3Dmol.view at 0x7fd3df0967c0>"
      ]
     },
     "execution_count": 32,
     "metadata": {},
     "output_type": "execute_result"
    }
   ],
   "source": [
    "p.to_3Dmol()"
   ]
  },
  {
   "cell_type": "code",
   "execution_count": 33,
   "id": "50c04301",
   "metadata": {
    "scrolled": true
   },
   "outputs": [
    {
     "data": {
      "text/plain": [
       "array([[ 0.00000000e+00,  0.00000000e+00,  1.00000005e-03],\n",
       "       [ 1.44200003e+00,  0.00000000e+00,  1.00000005e-03],\n",
       "       [ 2.06883645e+00,  1.36054409e+00,  1.00000005e-03],\n",
       "       [ 3.06746459e+00,  1.57703996e+00,  6.83870673e-01],\n",
       "       [ 2.00545621e+00, -8.25976372e-01, -1.15180337e+00],\n",
       "       [-3.37144925e-01, -9.52067897e-01,  1.00000005e-03],\n",
       "       [ 1.65379572e+00, -4.49804217e-01,  9.71009672e-01],\n",
       "       [ 3.09467559e+00, -8.01953851e-01, -1.11827543e+00],\n",
       "       [ 1.66236670e+00, -1.85672099e+00, -1.06261164e+00],\n",
       "       [ 1.66236686e+00, -4.10075494e-01, -2.09912396e+00],\n",
       "       [-3.37144937e-01,  4.76034029e-01,  8.25514985e-01],\n",
       "       [-3.37144949e-01,  4.76033868e-01, -8.23515125e-01],\n",
       "       [            nan,             nan,             nan],\n",
       "       [            nan,             nan,             nan],\n",
       "       [            nan,             nan,             nan],\n",
       "       [            nan,             nan,             nan],\n",
       "       [            nan,             nan,             nan],\n",
       "       [            nan,             nan,             nan],\n",
       "       [            nan,             nan,             nan],\n",
       "       [            nan,             nan,             nan],\n",
       "       [            nan,             nan,             nan],\n",
       "       [            nan,             nan,             nan],\n",
       "       [            nan,             nan,             nan],\n",
       "       [            nan,             nan,             nan],\n",
       "       [            nan,             nan,             nan],\n",
       "       [            nan,             nan,             nan],\n",
       "       [ 1.60736895e+00,  2.43734169e+00, -7.26457953e-01],\n",
       "       [ 4.58714247e-01,  2.63799047e+00, -1.57480729e+00],\n",
       "       [ 8.21929216e-01,  3.60270810e+00, -2.66172886e+00],\n",
       "       [ 8.68737578e-01,  4.80751848e+00, -2.42364860e+00],\n",
       "       [-7.08997011e-01,  3.16241384e+00, -7.44080663e-01],\n",
       "       [-2.60504097e-01,  4.38626385e+00,  4.94688153e-02],\n",
       "       [-5.08090854e-01,  4.14808130e+00,  1.53629303e+00],\n",
       "       [-1.78405881e+00,  4.86870289e+00,  1.96206963e+00],\n",
       "       [-1.53282762e+00,  6.29803181e+00,  2.20236659e+00],\n",
       "       [ 2.22704554e+00,  3.22741556e+00, -6.17443264e-01],\n",
       "       [ 2.01635510e-01,  1.67551553e+00, -2.01713371e+00],\n",
       "       [-1.62893174e+00,  3.17413394e+00, -1.32861707e+00],\n",
       "       [-1.19542359e+00,  2.54207822e+00, -1.27194244e-01],\n",
       "       [-4.78914864e-01,  3.11556287e+00,  1.88436560e+00],\n",
       "       [ 5.45936921e-01,  4.17068231e+00,  2.30583154e+00],\n",
       "       [-2.61102254e+00,  4.63191394e+00,  1.29262057e+00],\n",
       "       [-2.28794721e+00,  4.42510228e+00,  2.78019697e+00],\n",
       "       [ 7.25410431e-01,  4.79498609e+00, -1.71932948e-01],\n",
       "       [-6.65430264e-01,  5.19783869e+00, -3.07776354e-01],\n",
       "       [-2.46024320e+00,  6.78475703e+00,  2.50419265e+00],\n",
       "       [-7.90780272e-01,  6.40913802e+00,  2.99301276e+00],\n",
       "       [-1.16103449e+00,  6.76082717e+00,  1.28820540e+00],\n",
       "       [            nan,             nan,             nan],\n",
       "       [            nan,             nan,             nan],\n",
       "       [            nan,             nan,             nan],\n",
       "       [            nan,             nan,             nan],\n",
       "       [ 1.09179842e+00,  3.07243919e+00, -3.90576530e+00],\n",
       "       [ 1.44249392e+00,  3.65948558e+00, -5.17531347e+00],\n",
       "       [ 1.33752584e-01,  4.24201775e+00, -5.61332750e+00],\n",
       "       [-9.19161081e-01,  3.68709421e+00, -5.30693960e+00],\n",
       "       [ 1.74526691e+00,  2.55682874e+00, -6.18583441e+00],\n",
       "       [ 1.46913755e+00,  1.19600821e+00, -5.55290794e+00],\n",
       "       [ 1.09335732e+00,  1.38339221e+00, -4.08581829e+00],\n",
       "       [ 2.28259182e+00,  4.34508801e+00, -5.06447744e+00],\n",
       "       [ 1.25385835e+00,  2.68907595e+00, -7.14974746e+00],\n",
       "       [ 2.73538012e+00,  2.64698085e+00, -6.63769525e+00],\n",
       "       [ 1.69897935e+00,  8.61458431e-01, -3.34493560e+00],\n",
       "       [ 1.78389258e-01,  8.88866631e-01, -3.73961393e+00],\n",
       "       [ 2.27642068e+00,  4.81261405e-01, -5.71269225e+00],\n",
       "       [ 7.48623376e-01,  5.62687536e-01, -6.11945427e+00],\n",
       "       [            nan,             nan,             nan],\n",
       "       [            nan,             nan,             nan],\n",
       "       [            nan,             nan,             nan],\n",
       "       [            nan,             nan,             nan],\n",
       "       [            nan,             nan,             nan],\n",
       "       [            nan,             nan,             nan],\n",
       "       [            nan,             nan,             nan],\n",
       "       [            nan,             nan,             nan],\n",
       "       [            nan,             nan,             nan],\n",
       "       [            nan,             nan,             nan],\n",
       "       [            nan,             nan,             nan],\n",
       "       [            nan,             nan,             nan],\n",
       "       [ 1.82301283e-01,  5.40195513e+00, -6.35752487e+00],\n",
       "       [-1.07707071e+00,  5.77525806e+00, -6.95249653e+00],\n",
       "       [-1.51162899e+00,  4.74722385e+00, -7.95165062e+00],\n",
       "       [-2.69913769e+00,  4.64505816e+00, -8.25136185e+00],\n",
       "       [-9.25511003e-01,  7.10492563e+00, -7.68576956e+00],\n",
       "       [-8.04815531e-01,  8.23646545e+00, -6.66904593e+00],\n",
       "       [-9.16403890e-01,  9.57915497e+00, -7.38557243e+00],\n",
       "       [-7.82351434e-01,  1.06928082e+01, -6.44633102e+00],\n",
       "       [ 4.01138961e-01,  1.11892347e+01, -6.06095982e+00],\n",
       "       [ 1.53341889e+00,  1.07164192e+01, -6.59946537e+00],\n",
       "       [ 4.52349603e-01,  1.21584768e+01, -5.13708305e+00],\n",
       "       [ 1.04371166e+00,  5.92004108e+00, -6.45580626e+00],\n",
       "       [-1.78621507e+00,  5.82731247e+00, -6.12635803e+00],\n",
       "       [-1.33823875e-01,  7.13180527e+00, -8.43450786e+00],\n",
       "       [-1.69064889e+00,  7.24847441e+00, -8.44236538e+00],\n",
       "       [-2.51933119e-01,  9.65008163e+00, -8.24670429e+00],\n",
       "       [-1.80210386e+00,  9.64563900e+00, -8.01764116e+00],\n",
       "       [-1.48166832e+00,  8.13911001e+00, -5.82022775e+00],\n",
       "       [ 7.19589547e-02,  8.15208912e+00, -6.02609300e+00],\n",
       "       [-1.57479024e+00,  1.11588802e+01, -6.02809954e+00],\n",
       "       [ 1.49481962e+00,  9.98587126e+00, -7.29581999e+00],\n",
       "       [ 2.20577278e+00,  1.09984444e+01, -6.38053194e+00],\n",
       "       [-4.01085239e-01,  1.25148525e+01, -4.73119475e+00],\n",
       "       [ 1.12470328e+00,  1.24405021e+01, -4.91814954e+00],\n",
       "       [-7.69158483e-01,  3.83424163e+00, -8.64135838e+00],\n",
       "       [            nan,             nan,             nan]])"
      ]
     },
     "execution_count": 33,
     "metadata": {},
     "output_type": "execute_result"
    }
   ],
   "source": [
    "p.hcoords"
   ]
  },
  {
   "cell_type": "code",
   "execution_count": 41,
   "id": "c61ea8b5",
   "metadata": {},
   "outputs": [
    {
     "name": "stdout",
     "output_type": "stream",
     "text": [
      "[0.    0.    0.001] N\n",
      "[1.44200003e+00 0.00000000e+00 1.00000005e-03] CA\n",
      "[2.06883645e+00 1.36054409e+00 1.00000005e-03] C\n",
      "[3.06746459 1.57703996 0.68387067] O\n",
      "[ 2.00545621 -0.82597637 -1.15180337] CB\n",
      "[-0.33714493 -0.9520679   0.001     ] H\n",
      "[ 1.65379572 -0.44980422  0.97100967] HA\n",
      "[ 3.09467559 -0.80195385 -1.11827543] HB1\n",
      "[ 1.6623667  -1.85672099 -1.06261164] HB2\n",
      "[ 1.66236686 -0.41007549 -2.09912396] HB3\n",
      "[-0.33714494  0.47603403  0.82551499] H2\n",
      "[-0.33714495  0.47603387 -0.82351512] H3\n",
      "[nan nan nan] PAD\n",
      "[nan nan nan] PAD\n",
      "[nan nan nan] PAD\n",
      "[nan nan nan] PAD\n",
      "[nan nan nan] PAD\n",
      "[nan nan nan] PAD\n",
      "[nan nan nan] PAD\n",
      "[nan nan nan] PAD\n",
      "[nan nan nan] PAD\n",
      "[nan nan nan] PAD\n",
      "[nan nan nan] PAD\n",
      "[nan nan nan] PAD\n",
      "[nan nan nan] PAD\n",
      "[nan nan nan] PAD\n",
      "[1.44200003e+00 0.00000000e+00 1.00000005e-03] N\n",
      "[2.06883645e+00 1.36054409e+00 1.00000005e-03] CA\n",
      "[3.06746459 1.57703996 0.68387067] C\n",
      "[ 2.00545621 -0.82597637 -1.15180337] O\n",
      "[-0.33714493 -0.9520679   0.001     ] CB\n",
      "[ 1.65379572 -0.44980422  0.97100967] CG\n",
      "[ 3.09467559 -0.80195385 -1.11827543] CD\n",
      "[ 1.6623667  -1.85672099 -1.06261164] CE\n",
      "[ 1.66236686 -0.41007549 -2.09912396] NZ\n",
      "[-0.33714494  0.47603403  0.82551499] H\n",
      "[-0.33714495  0.47603387 -0.82351512] HA\n",
      "[nan nan nan] HB2\n",
      "[nan nan nan] HB3\n",
      "[nan nan nan] HD2\n",
      "[nan nan nan] HD3\n",
      "[nan nan nan] HE2\n",
      "[nan nan nan] HE3\n",
      "[nan nan nan] HG2\n",
      "[nan nan nan] HG3\n",
      "[nan nan nan] HZ1\n",
      "[nan nan nan] HZ2\n",
      "[nan nan nan] HZ3\n",
      "[nan nan nan] PAD\n",
      "[nan nan nan] PAD\n",
      "[nan nan nan] PAD\n",
      "[ 1.60736895  2.43734169 -0.72645795] PAD\n",
      "[2.06883645e+00 1.36054409e+00 1.00000005e-03] N\n",
      "[3.06746459 1.57703996 0.68387067] CA\n",
      "[ 2.00545621 -0.82597637 -1.15180337] C\n",
      "[-0.33714493 -0.9520679   0.001     ] O\n",
      "[ 1.65379572 -0.44980422  0.97100967] CB\n",
      "[ 3.09467559 -0.80195385 -1.11827543] CG\n",
      "[ 1.6623667  -1.85672099 -1.06261164] CD\n",
      "[ 1.66236686 -0.41007549 -2.09912396] HA\n",
      "[-0.33714494  0.47603403  0.82551499] HB2\n",
      "[-0.33714495  0.47603387 -0.82351512] HB3\n",
      "[nan nan nan] HD2\n",
      "[nan nan nan] HD3\n",
      "[nan nan nan] HG2\n",
      "[nan nan nan] HG3\n",
      "[nan nan nan] PAD\n",
      "[nan nan nan] PAD\n",
      "[nan nan nan] PAD\n",
      "[nan nan nan] PAD\n",
      "[nan nan nan] PAD\n",
      "[nan nan nan] PAD\n",
      "[nan nan nan] PAD\n",
      "[nan nan nan] PAD\n",
      "[nan nan nan] PAD\n",
      "[nan nan nan] PAD\n",
      "[ 1.60736895  2.43734169 -0.72645795] PAD\n",
      "[ 0.45871425  2.63799047 -1.57480729] PAD\n",
      "[3.06746459 1.57703996 0.68387067] N\n",
      "[ 2.00545621 -0.82597637 -1.15180337] CA\n",
      "[-0.33714493 -0.9520679   0.001     ] C\n",
      "[ 1.65379572 -0.44980422  0.97100967] O\n",
      "[ 3.09467559 -0.80195385 -1.11827543] CB\n",
      "[ 1.6623667  -1.85672099 -1.06261164] CG\n",
      "[ 1.66236686 -0.41007549 -2.09912396] CD\n",
      "[-0.33714494  0.47603403  0.82551499] NE\n",
      "[-0.33714495  0.47603387 -0.82351512] CZ\n",
      "[nan nan nan] NH1\n",
      "[nan nan nan] NH2\n",
      "[nan nan nan] H\n",
      "[nan nan nan] HA\n",
      "[nan nan nan] HB2\n",
      "[nan nan nan] HB3\n",
      "[nan nan nan] HD2\n",
      "[nan nan nan] HD3\n",
      "[nan nan nan] HG2\n",
      "[nan nan nan] HG3\n",
      "[nan nan nan] HE\n",
      "[nan nan nan] HH11\n",
      "[nan nan nan] HH12\n",
      "[nan nan nan] HH21\n",
      "[ 1.60736895  2.43734169 -0.72645795] HH22\n",
      "[ 0.45871425  2.63799047 -1.57480729] OXT\n",
      "[ 0.82192922  3.6027081  -2.66172886] PAD\n"
     ]
    },
    {
     "ename": "IndexError",
     "evalue": "list index out of range",
     "output_type": "error",
     "traceback": [
      "\u001b[0;31m---------------------------------------------------------------------------\u001b[0m",
      "\u001b[0;31mIndexError\u001b[0m                                Traceback (most recent call last)",
      "Input \u001b[0;32mIn [41]\u001b[0m, in \u001b[0;36m<module>\u001b[0;34m\u001b[0m\n\u001b[1;32m      2\u001b[0m \u001b[38;5;28;01mfor\u001b[39;00m i \u001b[38;5;129;01min\u001b[39;00m \u001b[38;5;28mrange\u001b[39m(\u001b[38;5;28mlen\u001b[39m(p\u001b[38;5;241m.\u001b[39mhcoords)):\n\u001b[1;32m      3\u001b[0m     \u001b[38;5;28;01mfor\u001b[39;00m x, j \u001b[38;5;129;01min\u001b[39;00m \u001b[38;5;28menumerate\u001b[39m(\u001b[38;5;28mrange\u001b[39m(i, i\u001b[38;5;241m+\u001b[39m\u001b[38;5;241m26\u001b[39m)):\n\u001b[0;32m----> 4\u001b[0m         \u001b[38;5;28mprint\u001b[39m(p\u001b[38;5;241m.\u001b[39mhcoords[j], \u001b[43mnames\u001b[49m\u001b[43m[\u001b[49m\u001b[43mi\u001b[49m\u001b[43m]\u001b[49m[x])\n",
      "\u001b[0;31mIndexError\u001b[0m: list index out of range"
     ]
    }
   ],
   "source": [
    "names = p.get_atom_names()\n",
    "for i in range(len(p.hcoords)):\n",
    "    for x, j in enumerate(range(i, i+26)):\n",
    "        print(p.hcoords[j], names[i][x])"
   ]
  },
  {
   "cell_type": "code",
   "execution_count": 43,
   "id": "1a48de72",
   "metadata": {
    "scrolled": true
   },
   "outputs": [
    {
     "name": "stdout",
     "output_type": "stream",
     "text": [
      "0  N    [0.    0.    0.001]\n",
      "1  CA   [1.44200003e+00 0.00000000e+00 1.00000005e-03]\n",
      "2  C    [2.06883645e+00 1.36054409e+00 1.00000005e-03]\n",
      "3  O    [3.06746459 1.57703996 0.68387067]\n",
      "4  CB   [ 2.00545621 -0.82597637 -1.15180337]\n",
      "5  H    [-0.33714493 -0.9520679   0.001     ]\n",
      "6  HA   [ 1.65379572 -0.44980422  0.97100967]\n",
      "7  HB1  [ 3.09467559 -0.80195385 -1.11827543]\n",
      "8  HB2  [ 1.6623667  -1.85672099 -1.06261164]\n",
      "9  HB3  [ 1.66236686 -0.41007549 -2.09912396]\n",
      "10 H2   [-0.33714494  0.47603403  0.82551499]\n",
      "11 H3   [-0.33714495  0.47603387 -0.82351512]\n",
      "12 PAD  [nan nan nan]\n",
      "13 PAD  [nan nan nan]\n",
      "14 PAD  [nan nan nan]\n",
      "15 PAD  [nan nan nan]\n",
      "16 PAD  [nan nan nan]\n",
      "17 PAD  [nan nan nan]\n",
      "18 PAD  [nan nan nan]\n",
      "19 PAD  [nan nan nan]\n",
      "20 PAD  [nan nan nan]\n",
      "21 PAD  [nan nan nan]\n",
      "22 PAD  [nan nan nan]\n",
      "23 PAD  [nan nan nan]\n",
      "24 PAD  [nan nan nan]\n",
      "25 PAD  [nan nan nan]\n",
      "26 N    [ 1.60736895  2.43734169 -0.72645795]\n",
      "27 CA   [ 0.45871425  2.63799047 -1.57480729]\n",
      "28 C    [ 0.82192922  3.6027081  -2.66172886]\n",
      "29 O    [ 0.86873758  4.80751848 -2.4236486 ]\n",
      "30 CB   [-0.70899701  3.16241384 -0.74408066]\n",
      "31 CG   [-0.2605041   4.38626385  0.04946882]\n",
      "32 CD   [-0.50809085  4.1480813   1.53629303]\n",
      "33 CE   [-1.78405881  4.86870289  1.96206963]\n",
      "34 NZ   [-1.53282762  6.29803181  2.20236659]\n",
      "35 H    [ 2.22704554  3.22741556 -0.61744326]\n",
      "36 HA   [ 0.20163551  1.67551553 -2.01713371]\n",
      "37 HB2  [-1.62893174  3.17413394 -1.32861707]\n",
      "38 HB3  [-1.19542359  2.54207822 -0.12719424]\n",
      "39 HD2  [-0.47891486  3.11556287  1.8843656 ]\n",
      "40 HD3  [0.54593692 4.17068231 2.30583154]\n",
      "41 HE2  [-2.61102254  4.63191394  1.29262057]\n",
      "42 HE3  [-2.28794721  4.42510228  2.78019697]\n",
      "43 HG2  [ 0.72541043  4.79498609 -0.17193295]\n",
      "44 HG3  [-0.66543026  5.19783869 -0.30777635]\n",
      "45 HZ1  [-2.4602432   6.78475703  2.50419265]\n",
      "46 HZ2  [-0.79078027  6.40913802  2.99301276]\n",
      "47 HZ3  [-1.16103449  6.76082717  1.2882054 ]\n",
      "48 PAD  [nan nan nan]\n",
      "49 PAD  [nan nan nan]\n",
      "50 PAD  [nan nan nan]\n",
      "51 PAD  [nan nan nan]\n",
      "52 N    [ 1.09179842  3.07243919 -3.9057653 ]\n",
      "53 CA   [ 1.44249392  3.65948558 -5.17531347]\n",
      "54 C    [ 0.13375258  4.24201775 -5.6133275 ]\n",
      "55 O    [-0.91916108  3.68709421 -5.3069396 ]\n",
      "56 CB   [ 1.74526691  2.55682874 -6.18583441]\n",
      "57 CG   [ 1.46913755  1.19600821 -5.55290794]\n",
      "58 CD   [ 1.09335732  1.38339221 -4.08581829]\n",
      "59 HA   [ 2.28259182  4.34508801 -5.06447744]\n",
      "60 HB2  [ 1.25385835  2.68907595 -7.14974746]\n",
      "61 HB3  [ 2.73538012  2.64698085 -6.63769525]\n",
      "62 HD2  [ 1.69897935  0.86145843 -3.3449356 ]\n",
      "63 HD3  [ 0.17838926  0.88886663 -3.73961393]\n",
      "64 HG2  [ 2.27642068  0.4812614  -5.71269225]\n",
      "65 HG3  [ 0.74862338  0.56268754 -6.11945427]\n",
      "66 PAD  [nan nan nan]\n",
      "67 PAD  [nan nan nan]\n",
      "68 PAD  [nan nan nan]\n",
      "69 PAD  [nan nan nan]\n",
      "70 PAD  [nan nan nan]\n",
      "71 PAD  [nan nan nan]\n",
      "72 PAD  [nan nan nan]\n",
      "73 PAD  [nan nan nan]\n",
      "74 PAD  [nan nan nan]\n",
      "75 PAD  [nan nan nan]\n",
      "76 PAD  [nan nan nan]\n",
      "77 PAD  [nan nan nan]\n",
      "78 N    [ 0.18230128  5.40195513 -6.35752487]\n",
      "79 CA   [-1.07707071  5.77525806 -6.95249653]\n",
      "80 C    [-1.51162899  4.74722385 -7.95165062]\n",
      "81 O    [-2.69913769  4.64505816 -8.25136185]\n",
      "82 CB   [-0.925511    7.10492563 -7.68576956]\n",
      "83 CG   [-0.80481553  8.23646545 -6.66904593]\n",
      "84 CD   [-0.91640389  9.57915497 -7.38557243]\n",
      "85 NE   [-0.78235143 10.69280815 -6.44633102]\n",
      "86 CZ   [ 0.40113896 11.18923473 -6.06095982]\n",
      "87 NH1  [ 1.53341889 10.71641922 -6.59946537]\n",
      "88 NH2  [ 0.4523496  12.15847683 -5.13708305]\n",
      "89 H    [ 1.04371166  5.92004108 -6.45580626]\n",
      "90 HA   [-1.78621507  5.82731247 -6.12635803]\n",
      "91 HB2  [-0.13382387  7.13180527 -8.43450786]\n",
      "92 HB3  [-1.69064889  7.24847441 -8.44236538]\n",
      "93 HD2  [-0.25193312  9.65008163 -8.24670429]\n",
      "94 HD3  [-1.80210386  9.645639   -8.01764116]\n",
      "95 HG2  [-1.48166832  8.13911001 -5.82022775]\n",
      "96 HG3  [ 0.07195895  8.15208912 -6.026093  ]\n",
      "97 HE   [-1.57479024 11.15888023 -6.02809954]\n",
      "98 HH11 [ 1.49481962  9.98587126 -7.29581999]\n",
      "99 HH12 [ 2.20577278 10.9984444  -6.38053194]\n",
      "100 HH21 [-0.40108524 12.51485253 -4.73119475]\n",
      "101 HH22 [ 1.12470328 12.44050213 -4.91814954]\n",
      "102 OXT  [-0.76915848  3.83424163 -8.64135838]\n",
      "103 PAD  [nan nan nan]\n"
     ]
    }
   ],
   "source": [
    "p.torch()\n",
    "p.get_atom_names(zip_coords=True)"
   ]
  },
  {
   "cell_type": "code",
   "execution_count": 49,
   "id": "1c4fda8c",
   "metadata": {},
   "outputs": [
    {
     "name": "stdout",
     "output_type": "stream",
     "text": [
      "SidechainNet was loaded from /home/jok120/sidechainnet_data/sidechainnet_casp12_100.pkl.\n"
     ]
    }
   ],
   "source": [
    "d2 = scn.load('debug', local_scn_path=\"/home/jok120/sidechainnet_data/sidechainnet_casp12_100.pkl\", scn_dataset=True)"
   ]
  },
  {
   "cell_type": "code",
   "execution_count": 53,
   "id": "54449194",
   "metadata": {},
   "outputs": [
    {
     "name": "stdout",
     "output_type": "stream",
     "text": [
      "SCNProtein(4V6W_9_Ad, len=52, missing=0, split='train')\n",
      "SCNProtein(50#3J9M_48_o, len=94, missing=0, split='valid-50')\n"
     ]
    }
   ],
   "source": [
    "for minp in d:\n",
    "    try:\n",
    "        unminp = d2[minp.id]\n",
    "        minp.coords = unminp.coords\n",
    "        minp.hcoords = unminp.hcoords\n",
    "        minp.angles = unminp.angles\n",
    "    except KeyError:\n",
    "        print(minp)"
   ]
  },
  {
   "cell_type": "code",
   "execution_count": 55,
   "id": "b504d620",
   "metadata": {
    "scrolled": true
   },
   "outputs": [
    {
     "name": "stdout",
     "output_type": "stream",
     "text": [
      "SCNProtein(4V6W_76_Cn, len=25, missing=0, split='train')\n",
      "SCNProtein(4V6W_73_Cl, len=50, missing=0, split='train')\n",
      "SCNProtein(4V6W_75_Cm, len=52, missing=0, split='train')\n",
      "SCNProtein(4V6W_24_Ae, len=58, missing=0, split='train')\n",
      "SCNProtein(4V6W_22_Ac, len=62, missing=0, split='train')\n",
      "SCNProtein(4V6W_72_Ck, len=70, missing=0, split='train')\n",
      "SCNProtein(4V6W_19_AZ, len=74, missing=0, split='train')\n",
      "SCNProtein(4V6W_25_Af, len=80, missing=0, split='train')\n",
      "SCNProtein(4V6W_17_AV, len=82, missing=0, split='train')\n",
      "SCNProtein(4V6W_21_Ab, len=84, missing=0, split='train')\n",
      "SCNProtein(4V6W_77_Cp, len=91, missing=0, split='train')\n",
      "SCNProtein(4V6W_71_Cj, len=92, missing=0, split='train')\n",
      "SCNProtein(4V6W_4_AK, len=95, missing=0, split='train')\n",
      "SCNProtein(4V6W_65_Cc, len=100, missing=0, split='train')\n",
      "SCNProtein(4V6W_3_AU, len=102, missing=0, split='train')\n",
      "SCNProtein(4V6W_78_Co, len=104, missing=0, split='train')\n",
      "SCNProtein(4V6W_20_Aa, len=107, missing=0, split='train')\n",
      "SCNProtein(4V6W_66_Cd, len=111, missing=0, split='train')\n",
      "SCNProtein(4V6W_70_Ci, len=113, missing=0, split='train')\n",
      "SCNProtein(4V6W_69_Cg, len=113, missing=0, split='train')\n",
      "SCNProtein(4V6W_55_CU, len=116, missing=0, split='train')\n",
      "SCNProtein(4V6W_7_AM, len=119, missing=0, split='train')\n",
      "SCNProtein(4V6W_12_AR, len=120, missing=0, split='train')\n",
      "SCNProtein(4V6W_56_CX, len=120, missing=0, split='train')\n",
      "SCNProtein(4V6W_35_Ah, len=121, missing=63, split='train')\n",
      "SCNProtein(4V6W_61_Ch, len=123, missing=0, split='train')\n",
      "SCNProtein(4V6W_13_AP, len=124, missing=0, split='train')\n",
      "SCNProtein(4V6W_18_AY, len=126, missing=0, split='train')\n",
      "SCNProtein(4V6W_32_AW, len=129, missing=0, split='train')\n",
      "SCNProtein(4V6W_58_CW, len=130, missing=0, split='train')\n",
      "SCNProtein(4V6W_57_CY, len=131, missing=0, split='train')\n",
      "SCNProtein(4V6W_67_Ce, len=132, missing=0, split='train')\n",
      "SCNProtein(4V6W_59_CZ, len=134, missing=0, split='train')\n",
      "SCNProtein(4V6W_5_AO, len=134, missing=0, split='train')\n",
      "SCNProtein(4V6W_43_CV, len=134, missing=0, split='train')\n",
      "SCNProtein(4V6W_60_Cr, len=134, missing=0, split='train')\n",
      "SCNProtein(4V6W_8_AS, len=137, missing=0, split='train')\n",
      "SCNProtein(4V6W_6_AX, len=143, missing=0, split='train')\n",
      "SCNProtein(4V6W_34_AQ, len=148, missing=0, split='train')\n",
      "SCNProtein(4V6W_45_Ca, len=149, missing=0, split='train')\n",
      "SCNProtein(4V6W_10_AN, len=150, missing=0, split='train')\n",
      "SCNProtein(4V6W_14_AT, len=154, missing=0, split='train')\n",
      "SCNProtein(4V6W_11_AL, len=155, missing=0, split='train')\n",
      "SCNProtein(4V6W_68_Cf, len=157, missing=0, split='train')\n",
      "SCNProtein(4V6W_40_CK, len=158, missing=0, split='train')\n",
      "SCNProtein(4V6W_53_CT, len=158, missing=0, split='train')\n",
      "SCNProtein(4V6W_44_CM, len=159, missing=0, split='train')\n",
      "SCNProtein(4V6W_52_CS, len=173, missing=0, split='train')\n",
      "SCNProtein(4V6W_26_AJ, len=181, missing=0, split='train')\n",
      "SCNProtein(4V6W_79_CJ, len=182, missing=0, split='train')\n",
      "SCNProtein(4V6W_54_CP, len=185, missing=0, split='train')\n",
      "SCNProtein(4V6W_49_CQ, len=187, missing=0, split='train')\n",
      "SCNProtein(4V6W_30_AF, len=190, missing=0, split='train')\n",
      "SCNProtein(4V6W_80_CH, len=190, missing=0, split='train')\n",
      "SCNProtein(4V6W_31_AH, len=194, missing=0, split='train')\n",
      "SCNProtein(4V6W_50_CR, len=203, missing=0, split='train')\n",
      "SCNProtein(4V6W_46_CN, len=203, missing=0, split='train')\n",
      "SCNProtein(4V6W_41_CO, len=205, missing=0, split='train')\n",
      "SCNProtein(4V6W_33_AI, len=207, missing=0, split='train')\n",
      "SCNProtein(4V6W_42_CL, len=210, missing=0, split='train')\n",
      "SCNProtein(4V6W_47_CI, len=217, missing=0, split='train')\n",
      "SCNProtein(4V6W_16_AA, len=218, missing=0, split='train')\n",
      "SCNProtein(4V6W_38_Cz, len=218, missing=1, split='train')\n",
      "SCNProtein(4V6W_15_AB, len=220, missing=0, split='train')\n",
      "SCNProtein(4V6W_39_Cq, len=223, missing=0, split='train')\n",
      "SCNProtein(4V6W_28_AC, len=227, missing=0, split='train')\n",
      "SCNProtein(4V6W_23_AD, len=227, missing=0, split='train')\n",
      "SCNProtein(4V6W_81_CE, len=228, missing=0, split='train')\n",
      "SCNProtein(4V6W_64_CF, len=229, missing=0, split='train')\n",
      "SCNProtein(4V6W_29_AG, len=231, missing=0, split='train')\n",
      "SCNProtein(4V6W_82_CG, len=241, missing=0, split='train')\n",
      "SCNProtein(4V6W_51_CA, len=253, missing=0, split='train')\n",
      "SCNProtein(4V6W_27_AE, len=261, missing=0, split='train')\n",
      "SCNProtein(4V6W_48_CD, len=290, missing=0, split='train')\n",
      "SCNProtein(4V6W_2_Ag, len=318, missing=0, split='train')\n",
      "SCNProtein(4V6W_74_CC, len=392, missing=0, split='train')\n",
      "SCNProtein(4V6W_63_CB, len=414, missing=0, split='train')\n",
      "SCNProtein(4V6W_1_Az, len=841, missing=4, split='train')\n"
     ]
    }
   ],
   "source": [
    "for p in d2:\n",
    "    if \"4V6W\" in p.id:\n",
    "        print(p)"
   ]
  },
  {
   "cell_type": "code",
   "execution_count": 58,
   "id": "207e13ab",
   "metadata": {},
   "outputs": [
    {
     "name": "stdout",
     "output_type": "stream",
     "text": [
      "2 (0.0%) data set entries were excluded by user-defined function.\n"
     ]
    }
   ],
   "source": [
    "d.filter(lambda prot: prot.id not in [\"4V6W_9_Ad\", \"50#3J9M_48_o\"])"
   ]
  },
  {
   "cell_type": "code",
   "execution_count": 54,
   "id": "fe5c2c7a",
   "metadata": {},
   "outputs": [],
   "source": [
    "d.pickle(\"/home/jok120/scnmin220519/scn_uminimized.pkl\",\n",
    "         description='An unminimized complement to scnmin220519/scn_minimized.pkl.')"
   ]
  },
  {
   "cell_type": "code",
   "execution_count": 59,
   "id": "24ab0223",
   "metadata": {},
   "outputs": [],
   "source": [
    "d.pickle(\"/home/jok120/scnmin220519/scn_minimizedv2.pkl\",\n",
    "         description='A minimized version of SidechainNet created on May 25, 2022.')"
   ]
  },
  {
   "cell_type": "code",
   "execution_count": 60,
   "id": "7615bfe3",
   "metadata": {},
   "outputs": [],
   "source": [
    "del d2"
   ]
  },
  {
   "cell_type": "code",
   "execution_count": 2,
   "id": "9ecb303a",
   "metadata": {},
   "outputs": [
    {
     "name": "stdout",
     "output_type": "stream",
     "text": [
      "SidechainNet was loaded from /home/jok120/scnmin220519/scn_minimized.pkl.\n",
      "SCNDataset(n=53870)\n",
      "SidechainNet was loaded from /home/jok120/scnmin220519/scn_minimizedv2.pkl.\n",
      "SCNDataset(n=53868)\n"
     ]
    }
   ],
   "source": [
    "x = scn.load('debug', scn_dataset=True, local_scn_path='/home/jok120/scnmin220519/scn_minimized.pkl')\n",
    "print(x)\n",
    "y = scn.load('debug', scn_dataset=True, local_scn_path='/home/jok120/scnmin220519/scn_minimizedv2.pkl')\n",
    "print(y)"
   ]
  },
  {
   "cell_type": "code",
   "execution_count": 9,
   "id": "733aa620",
   "metadata": {
    "scrolled": true
   },
   "outputs": [
    {
     "name": "stdout",
     "output_type": "stream",
     "text": [
      "SidechainNet was loaded from /home/jok120/scnmin220519/scn_unminimized.pkl.\n",
      "SCNDataset(n=53870)\n"
     ]
    }
   ],
   "source": [
    "z = scn.load('debug', scn_dataset=True, local_scn_path='/home/jok120/scnmin220519/scn_unminimized.pkl')\n",
    "print(z)"
   ]
  },
  {
   "cell_type": "code",
   "execution_count": 10,
   "id": "03f40ec9",
   "metadata": {},
   "outputs": [
    {
     "name": "stdout",
     "output_type": "stream",
     "text": [
      "2 (0.0%) data set entries were excluded by user-defined function.\n"
     ]
    }
   ],
   "source": [
    "z.filter(lambda prot: prot.id not in [\"4V6W_9_Ad\", \"50#3J9M_48_o\"])"
   ]
  },
  {
   "cell_type": "code",
   "execution_count": 11,
   "id": "81fa6c68",
   "metadata": {},
   "outputs": [
    {
     "data": {
      "text/plain": [
       "SCNDataset(n=53868)"
      ]
     },
     "execution_count": 11,
     "metadata": {},
     "output_type": "execute_result"
    }
   ],
   "source": [
    "z"
   ]
  },
  {
   "cell_type": "code",
   "execution_count": 12,
   "id": "647d05d7",
   "metadata": {},
   "outputs": [],
   "source": [
    "z.pickle(\"/home/jok120/scnmin220519/scn_unminimized.pkl\",\n",
    "         description='An unminimized complement to scnmin220519/scn_minimized.pkl.')"
   ]
  },
  {
   "cell_type": "code",
   "execution_count": null,
   "id": "2c0361c7",
   "metadata": {},
   "outputs": [],
   "source": []
  }
 ],
 "metadata": {
  "kernelspec": {
   "display_name": "sidechainnetv2",
   "language": "python",
   "name": "python3"
  },
  "language_info": {
   "codemirror_mode": {
    "name": "ipython",
    "version": 3
   },
   "file_extension": ".py",
   "mimetype": "text/x-python",
   "name": "python",
   "nbconvert_exporter": "python",
   "pygments_lexer": "ipython3",
   "version": "3.8.12"
  },
  "vscode": {
   "interpreter": {
    "hash": "2ea65d684a20c904dd0ce196a8938c08205850e9bd6d966931389d7cee446e27"
   }
  }
 },
 "nbformat": 4,
 "nbformat_minor": 5
}
