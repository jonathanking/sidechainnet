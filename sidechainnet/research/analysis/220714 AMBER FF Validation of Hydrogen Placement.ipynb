{
 "cells": [
  {
   "cell_type": "code",
   "execution_count": 1,
   "id": "a0dc726a",
   "metadata": {
    "code_folding": [
     16
    ]
   },
   "outputs": [],
   "source": [
    "import sidechainnet as scn\n",
    "from sidechainnet.dataloaders.SCNProtein import SCNProtein\n",
    "import numpy as np\n",
    "nan = np.nan\n",
    "import torch\n",
    "np.set_printoptions(suppress=True)\n",
    "torch.set_printoptions(threshold=10_000)\n",
    "torch.set_printoptions(profile=\"full\")\n",
    "from sidechainnet.structure.fastbuild import AA2NUM\n",
    "from sidechainnet.tests.test_fastbuild import alphabet_protein\n",
    "import seaborn as sns\n",
    "from sidechainnet.research.build_parameter_optim.optimize_build_params import BuildParamOptimizer"
   ]
  },
  {
   "cell_type": "markdown",
   "id": "2e45d641",
   "metadata": {},
   "source": [
    "# Part 2"
   ]
  },
  {
   "cell_type": "code",
   "execution_count": 6,
   "id": "450b8c48",
   "metadata": {},
   "outputs": [
    {
     "name": "stdout",
     "output_type": "stream",
     "text": [
      "Removing <openmm.openmm.NonbondedForce; proxy of <Swig Object of type 'OpenMM::NonbondedForce *' at 0x7f89f8ae7f00> >.\n"
     ]
    },
    {
     "data": {
      "application/3dmoljs_load.v0": "<div id=\"3dmolviewer_16590450956603985\"  style=\"position: relative; width: 640px; height: 480px\">\n        <p id=\"3dmolwarning_16590450956603985\" style=\"background-color:#ffcccc;color:black\">You appear to be running in JupyterLab (or JavaScript failed to load for some other reason).  You need to install the 3dmol extension: <br>\n        <tt>jupyter labextension install jupyterlab_3dmol</tt></p>\n        </div>\n<script>\n\nvar loadScriptAsync = function(uri){\n  return new Promise((resolve, reject) => {\n    var tag = document.createElement('script');\n    tag.src = uri;\n    tag.async = true;\n    tag.onload = () => {\n      resolve();\n    };\n  var firstScriptTag = document.getElementsByTagName('script')[0];\n  firstScriptTag.parentNode.insertBefore(tag, firstScriptTag);\n});\n};\n\nif(typeof $3Dmolpromise === 'undefined') {\n$3Dmolpromise = null;\n  $3Dmolpromise = loadScriptAsync('https://3dmol.org/build/3Dmol.js');\n}\n\nvar viewer_16590450956603985 = null;\nvar warn = document.getElementById(\"3dmolwarning_16590450956603985\");\nif(warn) {\n    warn.parentNode.removeChild(warn);\n}\n$3Dmolpromise.then(function() {\nviewer_16590450956603985 = $3Dmol.createViewer($(\"#3dmolviewer_16590450956603985\"),{backgroundColor:\"white\"});\nviewer_16590450956603985.zoomTo();\n\tviewer_16590450956603985.addModel(\"REMARK  pred\\nSEQRES   1 A   20  ALA CYS ASP GLU PHE GLY HIS ILE LYS LEU MET ASN PRO          \\nSEQRES   2 A   20  GLN ARG SER THR VAL TRP TYR                                  \\nATOM      1  N   ALA A   1       0.000   0.000   0.000  1.00  0.00           N  \\nATOM      2  CA  ALA A   1       1.442  -0.000  -0.000  1.00  0.00           C  \\nATOM      3  C   ALA A   1       1.980   1.398   0.000  1.00  0.00           C  \\nATOM      4  O   ALA A   1       2.132   1.998  -1.062  1.00  0.00           O  \\nATOM      5  H1  ALA A   1      -0.505   0.875  -0.000  1.00  0.00           H  \\nATOM      6  H2  ALA A   1      -0.505  -0.437   0.757  1.00  0.00           H  \\nATOM      7  H3  ALA A   1      -0.505  -0.437  -0.757  1.00  0.00           H  \\nATOM      8  CB  ALA A   1       1.956  -0.480  -1.354  1.00  0.00           C  \\nATOM      9  HA  ALA A   1       1.806  -0.667   0.781  1.00  0.00           H  \\nATOM     10 HB1  ALA A   1       1.112  -0.710  -2.004  1.00  0.00           H  \\nATOM     11 HB2  ALA A   1       2.563   0.303  -1.811  1.00  0.00           H  \\nATOM     12 HB3  ALA A   1       2.563  -1.375  -1.217  1.00  0.00           H  \\nATOM     13  N   CYS A   2       2.336   2.103   1.131  1.00  0.00           N  \\nATOM     14  CA  CYS A   2       2.766   3.469   1.297  1.00  0.00           C  \\nATOM     15  C   CYS A   2       4.204   3.630   0.910  1.00  0.00           C  \\nATOM     16  O   CYS A   2       5.060   2.904   1.410  1.00  0.00           O  \\nATOM     17  H   CYS A   2       2.318   1.651   2.034  1.00  0.00           H  \\nATOM     18  CB  CYS A   2       2.556   3.901   2.746  1.00  0.00           C  \\nATOM     19  SG  CYS A   2       3.002   5.649   2.897  1.00  0.00           S  \\nATOM     20  HA  CYS A   2       2.184   4.116   0.640  1.00  0.00           H  \\nATOM     21 HB2  CYS A   2       3.187   3.299   3.400  1.00  0.00           H  \\nATOM     22 HB3  CYS A   2       1.510   3.760   3.020  1.00  0.00           H  \\nATOM     23  HG  CYS A   2       2.734   5.749   4.202  1.00  0.00           H  \\nATOM     24  N   ASP A   3       4.433   4.627  -0.015  1.00  0.00           N  \\nATOM     25  CA  ASP A   3       5.793   4.914  -0.399  1.00  0.00           C  \\nATOM     26  C   ASP A   3       6.461   5.805   0.602  1.00  0.00           C  \\nATOM     27  O   ASP A   3       5.798   6.334   1.493  1.00  0.00           O  \\nATOM     28  H   ASP A   3       3.656   5.140  -0.408  1.00  0.00           H  \\nATOM     29  CB  ASP A   3       5.812   5.555  -1.784  1.00  0.00           C  \\nATOM     30  CG  ASP A   3       5.045   6.869  -1.790  1.00  0.00           C  \\nATOM     31 OD1  ASP A   3       5.528   7.811  -1.125  1.00  0.00           O  \\nATOM     32 OD2  ASP A   3       3.990   6.908  -2.459  1.00  0.00           O  \\nATOM     33  HA  ASP A   3       6.367   3.987  -0.422  1.00  0.00           H  \\nATOM     34 HB2  ASP A   3       5.351   4.879  -2.504  1.00  0.00           H  \\nATOM     35 HB3  ASP A   3       6.843   5.751  -2.079  1.00  0.00           H  \\nATOM     36  N   GLU A   4       7.820   6.011   0.494  1.00  0.00           N  \\nATOM     37  CA  GLU A   4       8.688   6.790   1.342  1.00  0.00           C  \\nATOM     38  C   GLU A   4       8.175   8.189   1.502  1.00  0.00           C  \\nATOM     39  O   GLU A   4       8.675   8.934   2.342  1.00  0.00           O  \\nATOM     40  H   GLU A   4       8.337   5.584  -0.261  1.00  0.00           H  \\nATOM     41  CB  GLU A   4      10.099   6.801   0.762  1.00  0.00           C  \\nATOM     42  CG  GLU A   4      10.710   5.408   0.883  1.00  0.00           C  \\nATOM     43  CD  GLU A   4      12.163   5.406   0.430  1.00  0.00           C  \\nATOM     44 OE1  GLU A   4      13.031   5.608   1.306  1.00  0.00           O  \\nATOM     45 OE2  GLU A   4      12.379   5.202  -0.785  1.00  0.00           O  \\nATOM     46  HA  GLU A   4       8.711   6.353   2.340  1.00  0.00           H  \\nATOM     47 HB2  GLU A   4      10.713   7.515   1.311  1.00  0.00           H  \\nATOM     48 HB3  GLU A   4      10.059   7.090  -0.289  1.00  0.00           H  \\nATOM     49 HG2  GLU A   4      10.150   4.710   0.261  1.00  0.00           H  \\nATOM     50 HG3  GLU A   4      10.669   5.082   1.922  1.00  0.00           H  \\nATOM     51  N   PHE A   5       7.141   8.566   0.671  1.00  0.00           N  \\nATOM     52  CA  PHE A   5       6.666   9.927   0.690  1.00  0.00           C  \\nATOM     53  C   PHE A   5       5.258   9.993   1.198  1.00  0.00           C  \\nATOM     54  O   PHE A   5       4.631  11.049   1.137  1.00  0.00           O  \\nATOM     55  H   PHE A   5       6.719   7.890   0.051  1.00  0.00           H  \\nATOM     56  CB  PHE A   5       6.756  10.523  -0.712  1.00  0.00           C  \\nATOM     57  CG  PHE A   5       8.166  10.635  -1.242  1.00  0.00           C  \\nATOM     58 CD1  PHE A   5       8.926  11.780  -0.974  1.00  0.00           C  \\nATOM     59 CE1  PHE A   5      10.233  11.883  -1.466  1.00  0.00           C  \\nATOM     60  CZ  PHE A   5      10.780  10.842  -2.225  1.00  0.00           C  \\nATOM     61 CE2  PHE A   5      10.020   9.697  -2.493  1.00  0.00           C  \\nATOM     62 CD2  PHE A   5       8.713   9.593  -2.002  1.00  0.00           C  \\nATOM     63  HA  PHE A   5       7.277  10.517   1.373  1.00  0.00           H  \\nATOM     64 HB2  PHE A   5       6.334  11.528  -0.709  1.00  0.00           H  \\nATOM     65 HB3  PHE A   5       6.199   9.898  -1.410  1.00  0.00           H  \\nATOM     66 HD1  PHE A   5       8.504  12.583  -0.389  1.00  0.00           H  \\nATOM     67 HE1  PHE A   5      10.819  12.766  -1.259  1.00  0.00           H  \\nATOM     68  HZ  PHE A   5      11.788  10.922  -2.604  1.00  0.00           H  \\nATOM     69 HE2  PHE A   5      10.442   8.894  -3.079  1.00  0.00           H  \\nATOM     70 HD2  PHE A   5       8.127   8.710  -2.208  1.00  0.00           H  \\nATOM     71  N   GLY A   6       4.716   8.839   1.723  1.00  0.00           N  \\nATOM     72  CA  GLY A   6       3.416   8.776   2.344  1.00  0.00           C  \\nATOM     73  C   GLY A   6       2.295   8.681   1.355  1.00  0.00           C  \\nATOM     74  O   GLY A   6       1.141   8.907   1.711  1.00  0.00           O  \\nATOM     75  H   GLY A   6       5.237   7.974   1.685  1.00  0.00           H  \\nATOM     76 HA2  GLY A   6       3.254   9.673   2.941  1.00  0.00           H  \\nATOM     77 HA3  GLY A   6       3.362   7.897   2.987  1.00  0.00           H  \\nATOM     78  N   HIS A   7       2.626   8.337   0.061  1.00  0.00           N  \\nATOM     79  CA  HIS A   7       1.592   8.141  -0.924  1.00  0.00           C  \\nATOM     80  C   HIS A   7       1.061   6.741  -0.878  1.00  0.00           C  \\nATOM     81  O   HIS A   7       1.839   5.789  -0.845  1.00  0.00           O  \\nATOM     82  H   HIS A   7       3.596   8.223  -0.198  1.00  0.00           H  \\nATOM     83  CB  HIS A   7       2.137   8.459  -2.313  1.00  0.00           C  \\nATOM     84  CG  HIS A   7       2.618   9.878  -2.447  1.00  0.00           C  \\nATOM     85 ND1  HIS A   7       3.931  10.196  -2.753  1.00  0.00           N  \\nATOM     86 CE1  HIS A   7       4.034  11.535  -2.799  1.00  0.00           C  \\nATOM     87 NE2  HIS A   7       2.832  12.050  -2.531  1.00  0.00           N  \\nATOM     88 CD2  HIS A   7       1.949  10.994  -2.311  1.00  0.00           C  \\nATOM     89  HA  HIS A   7       0.751   8.800  -0.706  1.00  0.00           H  \\nATOM     90 HB2  HIS A   7       1.354   8.306  -3.056  1.00  0.00           H  \\nATOM     91 HB3  HIS A   7       2.979   7.803  -2.533  1.00  0.00           H  \\nATOM     92 HD1  HIS A   7       4.609   9.461  -2.897  1.00  0.00           H  \\nATOM     93 HE1  HIS A   7       4.984  11.996  -3.024  1.00  0.00           H  \\nATOM     94 HD2  HIS A   7       0.914  11.194  -2.077  1.00  0.00           H  \\nATOM     95  N   ILE A   8      -0.312   6.613  -0.877  1.00  0.00           N  \\nATOM     96  CA  ILE A   8      -0.891   5.293  -0.893  1.00  0.00           C  \\nATOM     97  C   ILE A   8      -1.245   4.913  -2.299  1.00  0.00           C  \\nATOM     98  O   ILE A   8      -2.150   5.502  -2.885  1.00  0.00           O  \\nATOM     99  H   ILE A   8      -0.896   7.438  -0.864  1.00  0.00           H  \\nATOM    100  CB  ILE A   8      -2.119   5.258   0.013  1.00  0.00           C  \\nATOM    101 CG1  ILE A   8      -1.719   5.665   1.428  1.00  0.00           C  \\nATOM    102 CD1  ILE A   8      -2.974   5.895   2.265  1.00  0.00           C  \\nATOM    103 CG2  ILE A   8      -2.742   3.866  -0.027  1.00  0.00           C  \\nATOM    104  HA  ILE A   8      -0.158   4.570  -0.536  1.00  0.00           H  \\nATOM    105  HB  ILE A   8      -2.870   5.952  -0.366  1.00  0.00           H  \\nATOM    106 HG12 ILE A   8      -1.134   6.584   1.391  1.00  0.00           H  \\nATOM    107 HG13 ILE A   8      -1.122   4.873   1.879  1.00  0.00           H  \\nATOM    108 HD11 ILE A   8      -3.858   5.714   1.654  1.00  0.00           H  \\nATOM    109 HD12 ILE A   8      -2.974   5.212   3.115  1.00  0.00           H  \\nATOM    110 HD13 ILE A   8      -2.987   6.923   2.627  1.00  0.00           H  \\nATOM    111 HG21 ILE A   8      -2.162   3.227  -0.693  1.00  0.00           H  \\nATOM    112 HG22 ILE A   8      -2.743   3.439   0.976  1.00  0.00           H  \\nATOM    113 HG23 ILE A   8      -3.767   3.936  -0.392  1.00  0.00           H  \\nATOM    114  N   LYS A   9      -0.490   3.890  -2.833  1.00  0.00           N  \\nATOM    115  CA  LYS A   9      -0.792   3.380  -4.148  1.00  0.00           C  \\nATOM    116  C   LYS A   9      -1.923   2.399  -4.098  1.00  0.00           C  \\nATOM    117  O   LYS A   9      -1.715   1.239  -3.750  1.00  0.00           O  \\nATOM    118  H   LYS A   9       0.276   3.498  -2.304  1.00  0.00           H  \\nATOM    119  CB  LYS A   9       0.453   2.733  -4.747  1.00  0.00           C  \\nATOM    120  CG  LYS A   9       0.273   2.583  -6.255  1.00  0.00           C  \\nATOM    121  CD  LYS A   9       1.577   2.094  -6.878  1.00  0.00           C  \\nATOM    122  CE  LYS A   9       1.634   2.519  -8.342  1.00  0.00           C  \\nATOM    123  NZ  LYS A   9       2.884   2.074  -8.978  1.00  0.00           N  \\nATOM    124  HA  LYS A   9      -1.118   4.199  -4.789  1.00  0.00           H  \\nATOM    125 HB2  LYS A   9       0.604   1.751  -4.300  1.00  0.00           H  \\nATOM    126 HB3  LYS A   9       1.322   3.360  -4.547  1.00  0.00           H  \\nATOM    127 HG2  LYS A   9       0.003   3.546  -6.688  1.00  0.00           H  \\nATOM    128 HG3  LYS A   9      -0.519   1.861  -6.457  1.00  0.00           H  \\nATOM    129 HD2  LYS A   9       1.626   1.007  -6.814  1.00  0.00           H  \\nATOM    130 HD3  LYS A   9       2.421   2.527  -6.341  1.00  0.00           H  \\nATOM    131 HE2  LYS A   9       1.579   3.606  -8.408  1.00  0.00           H  \\nATOM    132 HE3  LYS A   9       0.794   2.080  -8.881  1.00  0.00           H  \\nATOM    133 HZ1  LYS A   9       3.446   1.576  -8.303  1.00  0.00           H  \\nATOM    134 HZ2  LYS A   9       3.395   2.877  -9.314  1.00  0.00           H  \\nATOM    135 HZ3  LYS A   9       2.669   1.464  -9.753  1.00  0.00           H  \\nATOM    136  N   LEU A  10      -3.138   2.935  -4.469  1.00  0.00           N  \\nATOM    137  CA  LEU A  10      -4.291   2.069  -4.476  1.00  0.00           C  \\nATOM    138  C   LEU A  10      -4.422   1.366  -5.793  1.00  0.00           C  \\nATOM    139  O   LEU A  10      -4.876   1.963  -6.766  1.00  0.00           O  \\nATOM    140  H   LEU A  10      -3.203   3.909  -4.725  1.00  0.00           H  \\nATOM    141  CB  LEU A  10      -5.548   2.883  -4.183  1.00  0.00           C  \\nATOM    142  CG  LEU A  10      -5.454   3.478  -2.781  1.00  0.00           C  \\nATOM    143 CD1  LEU A  10      -6.523   4.554  -2.612  1.00  0.00           C  \\nATOM    144 CD2  LEU A  10      -5.671   2.379  -1.745  1.00  0.00           C  \\nATOM    145  HA  LEU A  10      -4.173   1.299  -3.713  1.00  0.00           H  \\nATOM    146 HB2  LEU A  10      -6.423   2.236  -4.245  1.00  0.00           H  \\nATOM    147 HB3  LEU A  10      -5.639   3.687  -4.913  1.00  0.00           H  \\nATOM    148  HG  LEU A  10      -4.468   3.921  -2.639  1.00  0.00           H  \\nATOM    149 HD11 LEU A  10      -7.100   4.641  -3.532  1.00  0.00           H  \\nATOM    150 HD12 LEU A  10      -7.187   4.280  -1.792  1.00  0.00           H  \\nATOM    151 HD13 LEU A  10      -6.047   5.509  -2.390  1.00  0.00           H  \\nATOM    152 HD21 LEU A  10      -5.841   1.429  -2.253  1.00  0.00           H  \\nATOM    153 HD22 LEU A  10      -4.788   2.297  -1.111  1.00  0.00           H  \\nATOM    154 HD23 LEU A  10      -6.538   2.623  -1.132  1.00  0.00           H  \\nATOM    155  N   MET A  11      -4.019   0.049  -5.865  1.00  0.00           N  \\nATOM    156  CA  MET A  11      -4.065  -0.777  -7.046  1.00  0.00           C  \\nATOM    157  C   MET A  11      -5.479  -0.997  -7.489  1.00  0.00           C  \\nATOM    158  O   MET A  11      -5.810  -2.075  -7.977  1.00  0.00           O  \\nATOM    159  H   MET A  11      -3.655  -0.414  -5.044  1.00  0.00           H  \\nATOM    160  CB  MET A  11      -3.379  -2.112  -6.768  1.00  0.00           C  \\nATOM    161  CG  MET A  11      -1.891  -1.879  -6.527  1.00  0.00           C  \\nATOM    162  SD  MET A  11      -0.796  -3.048  -7.370  1.00  0.00           S  \\nATOM    163  CE  MET A  11       0.655  -2.896  -6.298  1.00  0.00           C  \\nATOM    164  HA  MET A  11      -3.552  -0.271  -7.864  1.00  0.00           H  \\nATOM    165 HB2  MET A  11      -3.509  -2.773  -7.625  1.00  0.00           H  \\nATOM    166 HB3  MET A  11      -3.822  -2.571  -5.884  1.00  0.00           H  \\nATOM    167 HG2  MET A  11      -1.677  -1.960  -5.461  1.00  0.00           H  \\nATOM    168 HG3  MET A  11      -1.617  -0.883  -6.877  1.00  0.00           H  \\nATOM    169 HE1  MET A  11       0.387  -3.182  -5.281  1.00  0.00           H  \\nATOM    170 HE2  MET A  11       1.446  -3.551  -6.662  1.00  0.00           H  \\nATOM    171 HE3  MET A  11       1.006  -1.865  -6.305  1.00  0.00           H  \\nATOM    172  N   ASN A  12      -6.349   0.060  -7.317  1.00  0.00           N  \\nATOM    173  CA  ASN A  12      -7.675  -0.057  -7.871  1.00  0.00           C  \\nATOM    174  C   ASN A  12      -7.772   0.608  -9.210  1.00  0.00           C  \\nATOM    175  O   ASN A  12      -7.618   1.824  -9.305  1.00  0.00           O  \\nATOM    176  H   ASN A  12      -6.049   0.883  -6.815  1.00  0.00           H  \\nATOM    177  CB  ASN A  12      -8.692   0.533  -6.899  1.00  0.00           C  \\nATOM    178  CG  ASN A  12     -10.095   0.025  -7.200  1.00  0.00           C  \\nATOM    179 OD1  ASN A  12     -10.261  -1.087  -7.696  1.00  0.00           O  \\nATOM    180 ND2  ASN A  12     -11.105   0.845  -6.898  1.00  0.00           N  \\nATOM    181  HA  ASN A  12      -7.906  -1.108  -8.042  1.00  0.00           H  \\nATOM    182 HB2  ASN A  12      -8.690   1.619  -6.984  1.00  0.00           H  \\nATOM    183 HB3  ASN A  12      -8.430   0.248  -5.880  1.00  0.00           H  \\nATOM    184 HD21 ASN A  12     -10.917   1.749  -6.491  1.00  0.00           H  \\nATOM    185 HD22 ASN A  12     -12.058   0.559  -7.076  1.00  0.00           H  \\nATOM    186  N   PRO A  13      -8.033  -0.122 -10.350  1.00  0.00           N  \\nATOM    187  CA  PRO A  13      -8.015   0.314 -11.725  1.00  0.00           C  \\nATOM    188  C   PRO A  13      -8.997   1.412 -11.997  1.00  0.00           C  \\nATOM    189  O   PRO A  13      -9.020   1.957 -13.098  1.00  0.00           O  \\nATOM    190  CB  PRO A  13      -8.386  -0.968 -12.465  1.00  0.00           C  \\nATOM    191  CG  PRO A  13      -8.891  -1.883 -11.353  1.00  0.00           C  \\nATOM    192  CD  PRO A  13      -8.454  -1.329 -10.000  1.00  0.00           C  \\nATOM    193  HA  PRO A  13      -7.021   0.681 -11.978  1.00  0.00           H  \\nATOM    194 HB2  PRO A  13      -7.504  -1.368 -12.965  1.00  0.00           H  \\nATOM    195 HB3  PRO A  13      -9.156  -0.751 -13.206  1.00  0.00           H  \\nATOM    196 HG2  PRO A  13      -8.475  -2.882 -11.487  1.00  0.00           H  \\nATOM    197 HG3  PRO A  13      -9.979  -1.936 -11.390  1.00  0.00           H  \\nATOM    198 HD2  PRO A  13      -9.335  -1.116  -9.393  1.00  0.00           H  \\nATOM    199 HD3  PRO A  13      -7.831  -2.063  -9.490  1.00  0.00           H  \\nATOM    200  N   GLN A  14      -9.870   1.802 -11.003  1.00  0.00           N  \\nATOM    201  CA  GLN A  14     -10.927   2.744 -11.276  1.00  0.00           C  \\nATOM    202  C   GLN A  14     -10.868   3.911 -10.338  1.00  0.00           C  \\nATOM    203  O   GLN A  14     -11.899   4.505 -10.031  1.00  0.00           O  \\nATOM    204  H   GLN A  14      -9.773   1.428 -10.070  1.00  0.00           H  \\nATOM    205  CB  GLN A  14     -12.279   2.043 -11.175  1.00  0.00           C  \\nATOM    206  CG  GLN A  14     -12.613   1.386 -12.512  1.00  0.00           C  \\nATOM    207  CD  GLN A  14     -13.935   0.636 -12.438  1.00  0.00           C  \\nATOM    208 OE1  GLN A  14     -14.536   0.539 -11.371  1.00  0.00           O  \\nATOM    209 NE2  GLN A  14     -14.386   0.107 -13.578  1.00  0.00           N  \\nATOM    210  HA  GLN A  14     -10.804   3.148 -12.281  1.00  0.00           H  \\nATOM    211 HB2  GLN A  14     -13.050   2.773 -10.927  1.00  0.00           H  \\nATOM    212 HB3  GLN A  14     -12.237   1.281 -10.397  1.00  0.00           H  \\nATOM    213 HG2  GLN A  14     -11.826   0.680 -12.776  1.00  0.00           H  \\nATOM    214 HG3  GLN A  14     -12.688   2.151 -13.284  1.00  0.00           H  \\nATOM    215 HE21 GLN A  14     -13.855   0.215 -14.430  1.00  0.00           H  \\nATOM    216 HE22 GLN A  14     -15.259  -0.402 -13.588  1.00  0.00           H  \\nATOM    217  N   ARG A  15      -9.752   4.446  -9.732  1.00  0.00           N  \\nATOM    218  CA  ARG A  15      -9.806   5.741  -9.098  1.00  0.00           C  \\nATOM    219  C   ARG A  15      -8.747   5.872  -8.047  1.00  0.00           C  \\nATOM    220  O   ARG A  15      -8.672   5.042  -7.143  1.00  0.00           O  \\nATOM    221  H   ARG A  15      -8.883   3.932  -9.728  1.00  0.00           H  \\nATOM    222  CB  ARG A  15     -11.190   5.958  -8.492  1.00  0.00           C  \\nATOM    223  CG  ARG A  15     -12.154   6.428  -9.578  1.00  0.00           C  \\nATOM    224  CD  ARG A  15     -13.323   7.169  -8.936  1.00  0.00           C  \\nATOM    225  NE  ARG A  15     -13.913   8.132  -9.865  1.00  0.00           N  \\nATOM    226  CZ  ARG A  15     -14.947   8.923  -9.544  1.00  0.00           C  \\nATOM    227 NH1  ARG A  15     -15.488   8.854  -8.321  1.00  0.00           N  \\nATOM    228 NH2  ARG A  15     -15.438   9.782 -10.448  1.00  0.00           N  \\nATOM    229  HA  ARG A  15      -9.610   6.517  -9.837  1.00  0.00           H  \\nATOM    230 HB2  ARG A  15     -11.130   6.714  -7.709  1.00  0.00           H  \\nATOM    231 HB3  ARG A  15     -11.552   5.022  -8.066  1.00  0.00           H  \\nATOM    232 HG2  ARG A  15     -12.529   5.565 -10.129  1.00  0.00           H  \\nATOM    233 HG3  ARG A  15     -11.632   7.097 -10.263  1.00  0.00           H  \\nATOM    234 HD2  ARG A  15     -12.973   7.706  -8.054  1.00  0.00           H  \\nATOM    235 HD3  ARG A  15     -14.091   6.453  -8.643  1.00  0.00           H  \\nATOM    236  HE  ARG A  15     -13.523   8.205 -10.794  1.00  0.00           H  \\nATOM    237 HH11 ARG A  15     -15.117   8.207  -7.640  1.00  0.00           H  \\nATOM    238 HH12 ARG A  15     -16.267   9.450  -8.079  1.00  0.00           H  \\nATOM    239 HH21 ARG A  15     -15.030   9.834 -11.370  1.00  0.00           H  \\nATOM    240 HH22 ARG A  15     -16.217  10.378 -10.206  1.00  0.00           H  \\nATOM    241  N   SER A  16      -7.877   6.938  -8.131  1.00  0.00           N  \\nATOM    242  CA  SER A  16      -7.422   8.303  -8.030  1.00  0.00           C  \\nATOM    243  C   SER A  16      -6.554   8.496  -6.824  1.00  0.00           C  \\nATOM    244  O   SER A  16      -7.030   8.372  -5.698  1.00  0.00           O  \\nATOM    245  H   SER A  16      -6.932   6.794  -8.459  1.00  0.00           H  \\nATOM    246  CB  SER A  16      -8.623   9.242  -7.972  1.00  0.00           C  \\nATOM    247  OG  SER A  16      -9.391   9.096  -9.145  1.00  0.00           O  \\nATOM    248  HA  SER A  16      -6.812   8.549  -8.899  1.00  0.00           H  \\nATOM    249 HB2  SER A  16      -8.275  10.272  -7.892  1.00  0.00           H  \\nATOM    250 HB3  SER A  16      -9.235   8.997  -7.105  1.00  0.00           H  \\nATOM    251  HG  SER A  16     -10.142   9.693  -9.094  1.00  0.00           H  \\nATOM    252  N   THR A  17      -5.233   8.812  -7.064  1.00  0.00           N  \\nATOM    253  CA  THR A  17      -4.213   9.261  -6.149  1.00  0.00           C  \\nATOM    254  C   THR A  17      -4.670  10.471  -5.395  1.00  0.00           C  \\nATOM    255  O   THR A  17      -4.370  11.594  -5.794  1.00  0.00           O  \\nATOM    256  H   THR A  17      -4.859   8.741  -7.999  1.00  0.00           H  \\nATOM    257  CB  THR A  17      -2.930   9.566  -6.918  1.00  0.00           C  \\nATOM    258 OG1  THR A  17      -2.572   8.447  -7.699  1.00  0.00           O  \\nATOM    259 CG2  THR A  17      -1.810   9.886  -5.934  1.00  0.00           C  \\nATOM    260  HA  THR A  17      -4.015   8.481  -5.414  1.00  0.00           H  \\nATOM    261  HB  THR A  17      -3.092  10.425  -7.569  1.00  0.00           H  \\nATOM    262 HG1  THR A  17      -1.765   8.654  -8.176  1.00  0.00           H  \\nATOM    263 HG21 THR A  17      -2.191   9.821  -4.915  1.00  0.00           H  \\nATOM    264 HG22 THR A  17      -0.996   9.172  -6.063  1.00  0.00           H  \\nATOM    265 HG23 THR A  17      -1.440  10.895  -6.119  1.00  0.00           H  \\nATOM    266  N   VAL A  18      -5.430  10.377  -4.248  1.00  0.00           N  \\nATOM    267  CA  VAL A  18      -5.739  11.433  -3.316  1.00  0.00           C  \\nATOM    268  C   VAL A  18      -4.513  11.793  -2.534  1.00  0.00           C  \\nATOM    269  O   VAL A  18      -4.038  10.992  -1.732  1.00  0.00           O  \\nATOM    270  H   VAL A  18      -5.839   9.492  -3.984  1.00  0.00           H  \\nATOM    271  CB  VAL A  18      -6.871  10.990  -2.394  1.00  0.00           C  \\nATOM    272 CG1  VAL A  18      -7.237  12.133  -1.451  1.00  0.00           C  \\nATOM    273 CG2  VAL A  18      -8.066  10.545  -3.232  1.00  0.00           C  \\nATOM    274  HA  VAL A  18      -6.047  12.324  -3.864  1.00  0.00           H  \\nATOM    275  HB  VAL A  18      -6.549  10.128  -1.810  1.00  0.00           H  \\nATOM    276 HG11 VAL A  18      -6.603  12.995  -1.660  1.00  0.00           H  \\nATOM    277 HG12 VAL A  18      -8.282  12.407  -1.600  1.00  0.00           H  \\nATOM    278 HG13 VAL A  18      -7.089  11.816  -0.419  1.00  0.00           H  \\nATOM    279 HG21 VAL A  18      -7.827  10.649  -4.290  1.00  0.00           H  \\nATOM    280 HG22 VAL A  18      -8.296   9.502  -3.013  1.00  0.00           H  \\nATOM    281 HG23 VAL A  18      -8.930  11.165  -2.992  1.00  0.00           H  \\nATOM    282  N   TRP A  19      -3.934  13.029  -2.729  1.00  0.00           N  \\nATOM    283  CA  TRP A  19      -2.857  13.822  -2.190  1.00  0.00           C  \\nATOM    284  C   TRP A  19      -3.173  14.279  -0.799  1.00  0.00           C  \\nATOM    285  O   TRP A  19      -3.567  15.427  -0.604  1.00  0.00           O  \\nATOM    286  H   TRP A  19      -4.294  13.649  -3.441  1.00  0.00           H  \\nATOM    287  CB  TRP A  19      -2.595  15.020  -3.098  1.00  0.00           C  \\nATOM    288  CG  TRP A  19      -2.356  14.700  -4.538  1.00  0.00           C  \\nATOM    289 CD1  TRP A  19      -3.315  14.645  -5.490  1.00  0.00           C  \\nATOM    290 NE1  TRP A  19      -2.724  14.322  -6.696  1.00  0.00           N  \\nATOM    291 CE2  TRP A  19      -1.361  14.156  -6.565  1.00  0.00           C  \\nATOM    292 CZ2  TRP A  19      -0.350  13.831  -7.478  1.00  0.00           C  \\nATOM    293 CH2  TRP A  19       0.978  13.730  -7.045  1.00  0.00           C  \\nATOM    294 CZ3  TRP A  19       1.295  13.954  -5.700  1.00  0.00           C  \\nATOM    295 CE3  TRP A  19       0.284  14.278  -4.787  1.00  0.00           C  \\nATOM    296 CD2  TRP A  19      -1.047  14.379  -5.221  1.00  0.00           C  \\nATOM    297  HA  TRP A  19      -1.954  13.214  -2.126  1.00  0.00           H  \\nATOM    298 HB2  TRP A  19      -1.709  15.553  -2.752  1.00  0.00           H  \\nATOM    299 HB3  TRP A  19      -3.454  15.691  -3.072  1.00  0.00           H  \\nATOM    300 HD1  TRP A  19      -4.345  14.842  -5.231  1.00  0.00           H  \\nATOM    301 HE1  TRP A  19      -3.245  14.224  -7.556  1.00  0.00           H  \\nATOM    302 HZ2  TRP A  19      -0.595  13.659  -8.515  1.00  0.00           H  \\nATOM    303 HH2  TRP A  19       1.757  13.480  -7.750  1.00  0.00           H  \\nATOM    304 HZ3  TRP A  19       2.319  13.876  -5.367  1.00  0.00           H  \\nATOM    305 HE3  TRP A  19       0.529  14.450  -3.750  1.00  0.00           H  \\nATOM    306  N   TYR A  20      -3.044  13.466   0.307  1.00  0.00           N  \\nATOM    307  CA  TYR A  20      -2.938  14.188   1.550  1.00  0.00           C  \\nATOM    308  C   TYR A  20      -1.507  14.483   1.879  1.00  0.00           C  \\nATOM    309  O   TYR A  20      -1.209  15.533   2.444  1.00  0.00           O  \\nATOM    310 OXT  TYR A  20      -0.630  13.674   1.585  1.00  0.00           O  \\nATOM    311  H   TYR A  20      -3.032  12.462   0.196  1.00  0.00           H  \\nATOM    312  CB  TYR A  20      -3.586  13.381   2.671  1.00  0.00           C  \\nATOM    313  CG  TYR A  20      -5.067  13.154   2.488  1.00  0.00           C  \\nATOM    314 CD1  TYR A  20      -5.982  14.124   2.916  1.00  0.00           C  \\nATOM    315 CE1  TYR A  20      -7.356  13.914   2.747  1.00  0.00           C  \\nATOM    316  CZ  TYR A  20      -7.818  12.727   2.145  1.00  0.00           C  \\nATOM    317  OH  TYR A  20      -9.156  12.522   1.980  1.00  0.00           O  \\nATOM    318 CE2  TYR A  20      -6.897  11.751   1.714  1.00  0.00           C  \\nATOM    319 CD2  TYR A  20      -5.523  11.961   1.884  1.00  0.00           C  \\nATOM    320  HA  TYR A  20      -3.445  15.149   1.457  1.00  0.00           H  \\nATOM    321 HB2  TYR A  20      -3.455  13.904   3.619  1.00  0.00           H  \\nATOM    322 HB3  TYR A  20      -3.115  12.399   2.731  1.00  0.00           H  \\nATOM    323 HD1  TYR A  20      -5.628  15.034   3.377  1.00  0.00           H  \\nATOM    324 HE1  TYR A  20      -8.061  14.662   3.077  1.00  0.00           H  \\nATOM    325  HH  TYR A  20      -9.358  11.682   1.561  1.00  0.00           H  \\nATOM    326 HE2  TYR A  20      -7.251  10.840   1.253  1.00  0.00           H  \\nATOM    327 HD2  TYR A  20      -4.818  11.213   1.554  1.00  0.00           H  \\nTER\\nEND          \\n\",\"pdb\",{\"keepH\": true});\n\tviewer_16590450956603985.setStyle({\"cartoon\": {\"color\": \"spectrum\"}, \"stick\": {\"radius\": 0.15}});\n\tviewer_16590450956603985.zoomTo();\nviewer_16590450956603985.render();\n});\n</script>",
      "text/html": [
       "<div id=\"3dmolviewer_16590450956603985\"  style=\"position: relative; width: 640px; height: 480px\">\n",
       "        <p id=\"3dmolwarning_16590450956603985\" style=\"background-color:#ffcccc;color:black\">You appear to be running in JupyterLab (or JavaScript failed to load for some other reason).  You need to install the 3dmol extension: <br>\n",
       "        <tt>jupyter labextension install jupyterlab_3dmol</tt></p>\n",
       "        </div>\n",
       "<script>\n",
       "\n",
       "var loadScriptAsync = function(uri){\n",
       "  return new Promise((resolve, reject) => {\n",
       "    var tag = document.createElement('script');\n",
       "    tag.src = uri;\n",
       "    tag.async = true;\n",
       "    tag.onload = () => {\n",
       "      resolve();\n",
       "    };\n",
       "  var firstScriptTag = document.getElementsByTagName('script')[0];\n",
       "  firstScriptTag.parentNode.insertBefore(tag, firstScriptTag);\n",
       "});\n",
       "};\n",
       "\n",
       "if(typeof $3Dmolpromise === 'undefined') {\n",
       "$3Dmolpromise = null;\n",
       "  $3Dmolpromise = loadScriptAsync('https://3dmol.org/build/3Dmol.js');\n",
       "}\n",
       "\n",
       "var viewer_16590450956603985 = null;\n",
       "var warn = document.getElementById(\"3dmolwarning_16590450956603985\");\n",
       "if(warn) {\n",
       "    warn.parentNode.removeChild(warn);\n",
       "}\n",
       "$3Dmolpromise.then(function() {\n",
       "viewer_16590450956603985 = $3Dmol.createViewer($(\"#3dmolviewer_16590450956603985\"),{backgroundColor:\"white\"});\n",
       "viewer_16590450956603985.zoomTo();\n",
       "\tviewer_16590450956603985.addModel(\"REMARK  pred\\nSEQRES   1 A   20  ALA CYS ASP GLU PHE GLY HIS ILE LYS LEU MET ASN PRO          \\nSEQRES   2 A   20  GLN ARG SER THR VAL TRP TYR                                  \\nATOM      1  N   ALA A   1       0.000   0.000   0.000  1.00  0.00           N  \\nATOM      2  CA  ALA A   1       1.442  -0.000  -0.000  1.00  0.00           C  \\nATOM      3  C   ALA A   1       1.980   1.398   0.000  1.00  0.00           C  \\nATOM      4  O   ALA A   1       2.132   1.998  -1.062  1.00  0.00           O  \\nATOM      5  H1  ALA A   1      -0.505   0.875  -0.000  1.00  0.00           H  \\nATOM      6  H2  ALA A   1      -0.505  -0.437   0.757  1.00  0.00           H  \\nATOM      7  H3  ALA A   1      -0.505  -0.437  -0.757  1.00  0.00           H  \\nATOM      8  CB  ALA A   1       1.956  -0.480  -1.354  1.00  0.00           C  \\nATOM      9  HA  ALA A   1       1.806  -0.667   0.781  1.00  0.00           H  \\nATOM     10 HB1  ALA A   1       1.112  -0.710  -2.004  1.00  0.00           H  \\nATOM     11 HB2  ALA A   1       2.563   0.303  -1.811  1.00  0.00           H  \\nATOM     12 HB3  ALA A   1       2.563  -1.375  -1.217  1.00  0.00           H  \\nATOM     13  N   CYS A   2       2.336   2.103   1.131  1.00  0.00           N  \\nATOM     14  CA  CYS A   2       2.766   3.469   1.297  1.00  0.00           C  \\nATOM     15  C   CYS A   2       4.204   3.630   0.910  1.00  0.00           C  \\nATOM     16  O   CYS A   2       5.060   2.904   1.410  1.00  0.00           O  \\nATOM     17  H   CYS A   2       2.318   1.651   2.034  1.00  0.00           H  \\nATOM     18  CB  CYS A   2       2.556   3.901   2.746  1.00  0.00           C  \\nATOM     19  SG  CYS A   2       3.002   5.649   2.897  1.00  0.00           S  \\nATOM     20  HA  CYS A   2       2.184   4.116   0.640  1.00  0.00           H  \\nATOM     21 HB2  CYS A   2       3.187   3.299   3.400  1.00  0.00           H  \\nATOM     22 HB3  CYS A   2       1.510   3.760   3.020  1.00  0.00           H  \\nATOM     23  HG  CYS A   2       2.734   5.749   4.202  1.00  0.00           H  \\nATOM     24  N   ASP A   3       4.433   4.627  -0.015  1.00  0.00           N  \\nATOM     25  CA  ASP A   3       5.793   4.914  -0.399  1.00  0.00           C  \\nATOM     26  C   ASP A   3       6.461   5.805   0.602  1.00  0.00           C  \\nATOM     27  O   ASP A   3       5.798   6.334   1.493  1.00  0.00           O  \\nATOM     28  H   ASP A   3       3.656   5.140  -0.408  1.00  0.00           H  \\nATOM     29  CB  ASP A   3       5.812   5.555  -1.784  1.00  0.00           C  \\nATOM     30  CG  ASP A   3       5.045   6.869  -1.790  1.00  0.00           C  \\nATOM     31 OD1  ASP A   3       5.528   7.811  -1.125  1.00  0.00           O  \\nATOM     32 OD2  ASP A   3       3.990   6.908  -2.459  1.00  0.00           O  \\nATOM     33  HA  ASP A   3       6.367   3.987  -0.422  1.00  0.00           H  \\nATOM     34 HB2  ASP A   3       5.351   4.879  -2.504  1.00  0.00           H  \\nATOM     35 HB3  ASP A   3       6.843   5.751  -2.079  1.00  0.00           H  \\nATOM     36  N   GLU A   4       7.820   6.011   0.494  1.00  0.00           N  \\nATOM     37  CA  GLU A   4       8.688   6.790   1.342  1.00  0.00           C  \\nATOM     38  C   GLU A   4       8.175   8.189   1.502  1.00  0.00           C  \\nATOM     39  O   GLU A   4       8.675   8.934   2.342  1.00  0.00           O  \\nATOM     40  H   GLU A   4       8.337   5.584  -0.261  1.00  0.00           H  \\nATOM     41  CB  GLU A   4      10.099   6.801   0.762  1.00  0.00           C  \\nATOM     42  CG  GLU A   4      10.710   5.408   0.883  1.00  0.00           C  \\nATOM     43  CD  GLU A   4      12.163   5.406   0.430  1.00  0.00           C  \\nATOM     44 OE1  GLU A   4      13.031   5.608   1.306  1.00  0.00           O  \\nATOM     45 OE2  GLU A   4      12.379   5.202  -0.785  1.00  0.00           O  \\nATOM     46  HA  GLU A   4       8.711   6.353   2.340  1.00  0.00           H  \\nATOM     47 HB2  GLU A   4      10.713   7.515   1.311  1.00  0.00           H  \\nATOM     48 HB3  GLU A   4      10.059   7.090  -0.289  1.00  0.00           H  \\nATOM     49 HG2  GLU A   4      10.150   4.710   0.261  1.00  0.00           H  \\nATOM     50 HG3  GLU A   4      10.669   5.082   1.922  1.00  0.00           H  \\nATOM     51  N   PHE A   5       7.141   8.566   0.671  1.00  0.00           N  \\nATOM     52  CA  PHE A   5       6.666   9.927   0.690  1.00  0.00           C  \\nATOM     53  C   PHE A   5       5.258   9.993   1.198  1.00  0.00           C  \\nATOM     54  O   PHE A   5       4.631  11.049   1.137  1.00  0.00           O  \\nATOM     55  H   PHE A   5       6.719   7.890   0.051  1.00  0.00           H  \\nATOM     56  CB  PHE A   5       6.756  10.523  -0.712  1.00  0.00           C  \\nATOM     57  CG  PHE A   5       8.166  10.635  -1.242  1.00  0.00           C  \\nATOM     58 CD1  PHE A   5       8.926  11.780  -0.974  1.00  0.00           C  \\nATOM     59 CE1  PHE A   5      10.233  11.883  -1.466  1.00  0.00           C  \\nATOM     60  CZ  PHE A   5      10.780  10.842  -2.225  1.00  0.00           C  \\nATOM     61 CE2  PHE A   5      10.020   9.697  -2.493  1.00  0.00           C  \\nATOM     62 CD2  PHE A   5       8.713   9.593  -2.002  1.00  0.00           C  \\nATOM     63  HA  PHE A   5       7.277  10.517   1.373  1.00  0.00           H  \\nATOM     64 HB2  PHE A   5       6.334  11.528  -0.709  1.00  0.00           H  \\nATOM     65 HB3  PHE A   5       6.199   9.898  -1.410  1.00  0.00           H  \\nATOM     66 HD1  PHE A   5       8.504  12.583  -0.389  1.00  0.00           H  \\nATOM     67 HE1  PHE A   5      10.819  12.766  -1.259  1.00  0.00           H  \\nATOM     68  HZ  PHE A   5      11.788  10.922  -2.604  1.00  0.00           H  \\nATOM     69 HE2  PHE A   5      10.442   8.894  -3.079  1.00  0.00           H  \\nATOM     70 HD2  PHE A   5       8.127   8.710  -2.208  1.00  0.00           H  \\nATOM     71  N   GLY A   6       4.716   8.839   1.723  1.00  0.00           N  \\nATOM     72  CA  GLY A   6       3.416   8.776   2.344  1.00  0.00           C  \\nATOM     73  C   GLY A   6       2.295   8.681   1.355  1.00  0.00           C  \\nATOM     74  O   GLY A   6       1.141   8.907   1.711  1.00  0.00           O  \\nATOM     75  H   GLY A   6       5.237   7.974   1.685  1.00  0.00           H  \\nATOM     76 HA2  GLY A   6       3.254   9.673   2.941  1.00  0.00           H  \\nATOM     77 HA3  GLY A   6       3.362   7.897   2.987  1.00  0.00           H  \\nATOM     78  N   HIS A   7       2.626   8.337   0.061  1.00  0.00           N  \\nATOM     79  CA  HIS A   7       1.592   8.141  -0.924  1.00  0.00           C  \\nATOM     80  C   HIS A   7       1.061   6.741  -0.878  1.00  0.00           C  \\nATOM     81  O   HIS A   7       1.839   5.789  -0.845  1.00  0.00           O  \\nATOM     82  H   HIS A   7       3.596   8.223  -0.198  1.00  0.00           H  \\nATOM     83  CB  HIS A   7       2.137   8.459  -2.313  1.00  0.00           C  \\nATOM     84  CG  HIS A   7       2.618   9.878  -2.447  1.00  0.00           C  \\nATOM     85 ND1  HIS A   7       3.931  10.196  -2.753  1.00  0.00           N  \\nATOM     86 CE1  HIS A   7       4.034  11.535  -2.799  1.00  0.00           C  \\nATOM     87 NE2  HIS A   7       2.832  12.050  -2.531  1.00  0.00           N  \\nATOM     88 CD2  HIS A   7       1.949  10.994  -2.311  1.00  0.00           C  \\nATOM     89  HA  HIS A   7       0.751   8.800  -0.706  1.00  0.00           H  \\nATOM     90 HB2  HIS A   7       1.354   8.306  -3.056  1.00  0.00           H  \\nATOM     91 HB3  HIS A   7       2.979   7.803  -2.533  1.00  0.00           H  \\nATOM     92 HD1  HIS A   7       4.609   9.461  -2.897  1.00  0.00           H  \\nATOM     93 HE1  HIS A   7       4.984  11.996  -3.024  1.00  0.00           H  \\nATOM     94 HD2  HIS A   7       0.914  11.194  -2.077  1.00  0.00           H  \\nATOM     95  N   ILE A   8      -0.312   6.613  -0.877  1.00  0.00           N  \\nATOM     96  CA  ILE A   8      -0.891   5.293  -0.893  1.00  0.00           C  \\nATOM     97  C   ILE A   8      -1.245   4.913  -2.299  1.00  0.00           C  \\nATOM     98  O   ILE A   8      -2.150   5.502  -2.885  1.00  0.00           O  \\nATOM     99  H   ILE A   8      -0.896   7.438  -0.864  1.00  0.00           H  \\nATOM    100  CB  ILE A   8      -2.119   5.258   0.013  1.00  0.00           C  \\nATOM    101 CG1  ILE A   8      -1.719   5.665   1.428  1.00  0.00           C  \\nATOM    102 CD1  ILE A   8      -2.974   5.895   2.265  1.00  0.00           C  \\nATOM    103 CG2  ILE A   8      -2.742   3.866  -0.027  1.00  0.00           C  \\nATOM    104  HA  ILE A   8      -0.158   4.570  -0.536  1.00  0.00           H  \\nATOM    105  HB  ILE A   8      -2.870   5.952  -0.366  1.00  0.00           H  \\nATOM    106 HG12 ILE A   8      -1.134   6.584   1.391  1.00  0.00           H  \\nATOM    107 HG13 ILE A   8      -1.122   4.873   1.879  1.00  0.00           H  \\nATOM    108 HD11 ILE A   8      -3.858   5.714   1.654  1.00  0.00           H  \\nATOM    109 HD12 ILE A   8      -2.974   5.212   3.115  1.00  0.00           H  \\nATOM    110 HD13 ILE A   8      -2.987   6.923   2.627  1.00  0.00           H  \\nATOM    111 HG21 ILE A   8      -2.162   3.227  -0.693  1.00  0.00           H  \\nATOM    112 HG22 ILE A   8      -2.743   3.439   0.976  1.00  0.00           H  \\nATOM    113 HG23 ILE A   8      -3.767   3.936  -0.392  1.00  0.00           H  \\nATOM    114  N   LYS A   9      -0.490   3.890  -2.833  1.00  0.00           N  \\nATOM    115  CA  LYS A   9      -0.792   3.380  -4.148  1.00  0.00           C  \\nATOM    116  C   LYS A   9      -1.923   2.399  -4.098  1.00  0.00           C  \\nATOM    117  O   LYS A   9      -1.715   1.239  -3.750  1.00  0.00           O  \\nATOM    118  H   LYS A   9       0.276   3.498  -2.304  1.00  0.00           H  \\nATOM    119  CB  LYS A   9       0.453   2.733  -4.747  1.00  0.00           C  \\nATOM    120  CG  LYS A   9       0.273   2.583  -6.255  1.00  0.00           C  \\nATOM    121  CD  LYS A   9       1.577   2.094  -6.878  1.00  0.00           C  \\nATOM    122  CE  LYS A   9       1.634   2.519  -8.342  1.00  0.00           C  \\nATOM    123  NZ  LYS A   9       2.884   2.074  -8.978  1.00  0.00           N  \\nATOM    124  HA  LYS A   9      -1.118   4.199  -4.789  1.00  0.00           H  \\nATOM    125 HB2  LYS A   9       0.604   1.751  -4.300  1.00  0.00           H  \\nATOM    126 HB3  LYS A   9       1.322   3.360  -4.547  1.00  0.00           H  \\nATOM    127 HG2  LYS A   9       0.003   3.546  -6.688  1.00  0.00           H  \\nATOM    128 HG3  LYS A   9      -0.519   1.861  -6.457  1.00  0.00           H  \\nATOM    129 HD2  LYS A   9       1.626   1.007  -6.814  1.00  0.00           H  \\nATOM    130 HD3  LYS A   9       2.421   2.527  -6.341  1.00  0.00           H  \\nATOM    131 HE2  LYS A   9       1.579   3.606  -8.408  1.00  0.00           H  \\nATOM    132 HE3  LYS A   9       0.794   2.080  -8.881  1.00  0.00           H  \\nATOM    133 HZ1  LYS A   9       3.446   1.576  -8.303  1.00  0.00           H  \\nATOM    134 HZ2  LYS A   9       3.395   2.877  -9.314  1.00  0.00           H  \\nATOM    135 HZ3  LYS A   9       2.669   1.464  -9.753  1.00  0.00           H  \\nATOM    136  N   LEU A  10      -3.138   2.935  -4.469  1.00  0.00           N  \\nATOM    137  CA  LEU A  10      -4.291   2.069  -4.476  1.00  0.00           C  \\nATOM    138  C   LEU A  10      -4.422   1.366  -5.793  1.00  0.00           C  \\nATOM    139  O   LEU A  10      -4.876   1.963  -6.766  1.00  0.00           O  \\nATOM    140  H   LEU A  10      -3.203   3.909  -4.725  1.00  0.00           H  \\nATOM    141  CB  LEU A  10      -5.548   2.883  -4.183  1.00  0.00           C  \\nATOM    142  CG  LEU A  10      -5.454   3.478  -2.781  1.00  0.00           C  \\nATOM    143 CD1  LEU A  10      -6.523   4.554  -2.612  1.00  0.00           C  \\nATOM    144 CD2  LEU A  10      -5.671   2.379  -1.745  1.00  0.00           C  \\nATOM    145  HA  LEU A  10      -4.173   1.299  -3.713  1.00  0.00           H  \\nATOM    146 HB2  LEU A  10      -6.423   2.236  -4.245  1.00  0.00           H  \\nATOM    147 HB3  LEU A  10      -5.639   3.687  -4.913  1.00  0.00           H  \\nATOM    148  HG  LEU A  10      -4.468   3.921  -2.639  1.00  0.00           H  \\nATOM    149 HD11 LEU A  10      -7.100   4.641  -3.532  1.00  0.00           H  \\nATOM    150 HD12 LEU A  10      -7.187   4.280  -1.792  1.00  0.00           H  \\nATOM    151 HD13 LEU A  10      -6.047   5.509  -2.390  1.00  0.00           H  \\nATOM    152 HD21 LEU A  10      -5.841   1.429  -2.253  1.00  0.00           H  \\nATOM    153 HD22 LEU A  10      -4.788   2.297  -1.111  1.00  0.00           H  \\nATOM    154 HD23 LEU A  10      -6.538   2.623  -1.132  1.00  0.00           H  \\nATOM    155  N   MET A  11      -4.019   0.049  -5.865  1.00  0.00           N  \\nATOM    156  CA  MET A  11      -4.065  -0.777  -7.046  1.00  0.00           C  \\nATOM    157  C   MET A  11      -5.479  -0.997  -7.489  1.00  0.00           C  \\nATOM    158  O   MET A  11      -5.810  -2.075  -7.977  1.00  0.00           O  \\nATOM    159  H   MET A  11      -3.655  -0.414  -5.044  1.00  0.00           H  \\nATOM    160  CB  MET A  11      -3.379  -2.112  -6.768  1.00  0.00           C  \\nATOM    161  CG  MET A  11      -1.891  -1.879  -6.527  1.00  0.00           C  \\nATOM    162  SD  MET A  11      -0.796  -3.048  -7.370  1.00  0.00           S  \\nATOM    163  CE  MET A  11       0.655  -2.896  -6.298  1.00  0.00           C  \\nATOM    164  HA  MET A  11      -3.552  -0.271  -7.864  1.00  0.00           H  \\nATOM    165 HB2  MET A  11      -3.509  -2.773  -7.625  1.00  0.00           H  \\nATOM    166 HB3  MET A  11      -3.822  -2.571  -5.884  1.00  0.00           H  \\nATOM    167 HG2  MET A  11      -1.677  -1.960  -5.461  1.00  0.00           H  \\nATOM    168 HG3  MET A  11      -1.617  -0.883  -6.877  1.00  0.00           H  \\nATOM    169 HE1  MET A  11       0.387  -3.182  -5.281  1.00  0.00           H  \\nATOM    170 HE2  MET A  11       1.446  -3.551  -6.662  1.00  0.00           H  \\nATOM    171 HE3  MET A  11       1.006  -1.865  -6.305  1.00  0.00           H  \\nATOM    172  N   ASN A  12      -6.349   0.060  -7.317  1.00  0.00           N  \\nATOM    173  CA  ASN A  12      -7.675  -0.057  -7.871  1.00  0.00           C  \\nATOM    174  C   ASN A  12      -7.772   0.608  -9.210  1.00  0.00           C  \\nATOM    175  O   ASN A  12      -7.618   1.824  -9.305  1.00  0.00           O  \\nATOM    176  H   ASN A  12      -6.049   0.883  -6.815  1.00  0.00           H  \\nATOM    177  CB  ASN A  12      -8.692   0.533  -6.899  1.00  0.00           C  \\nATOM    178  CG  ASN A  12     -10.095   0.025  -7.200  1.00  0.00           C  \\nATOM    179 OD1  ASN A  12     -10.261  -1.087  -7.696  1.00  0.00           O  \\nATOM    180 ND2  ASN A  12     -11.105   0.845  -6.898  1.00  0.00           N  \\nATOM    181  HA  ASN A  12      -7.906  -1.108  -8.042  1.00  0.00           H  \\nATOM    182 HB2  ASN A  12      -8.690   1.619  -6.984  1.00  0.00           H  \\nATOM    183 HB3  ASN A  12      -8.430   0.248  -5.880  1.00  0.00           H  \\nATOM    184 HD21 ASN A  12     -10.917   1.749  -6.491  1.00  0.00           H  \\nATOM    185 HD22 ASN A  12     -12.058   0.559  -7.076  1.00  0.00           H  \\nATOM    186  N   PRO A  13      -8.033  -0.122 -10.350  1.00  0.00           N  \\nATOM    187  CA  PRO A  13      -8.015   0.314 -11.725  1.00  0.00           C  \\nATOM    188  C   PRO A  13      -8.997   1.412 -11.997  1.00  0.00           C  \\nATOM    189  O   PRO A  13      -9.020   1.957 -13.098  1.00  0.00           O  \\nATOM    190  CB  PRO A  13      -8.386  -0.968 -12.465  1.00  0.00           C  \\nATOM    191  CG  PRO A  13      -8.891  -1.883 -11.353  1.00  0.00           C  \\nATOM    192  CD  PRO A  13      -8.454  -1.329 -10.000  1.00  0.00           C  \\nATOM    193  HA  PRO A  13      -7.021   0.681 -11.978  1.00  0.00           H  \\nATOM    194 HB2  PRO A  13      -7.504  -1.368 -12.965  1.00  0.00           H  \\nATOM    195 HB3  PRO A  13      -9.156  -0.751 -13.206  1.00  0.00           H  \\nATOM    196 HG2  PRO A  13      -8.475  -2.882 -11.487  1.00  0.00           H  \\nATOM    197 HG3  PRO A  13      -9.979  -1.936 -11.390  1.00  0.00           H  \\nATOM    198 HD2  PRO A  13      -9.335  -1.116  -9.393  1.00  0.00           H  \\nATOM    199 HD3  PRO A  13      -7.831  -2.063  -9.490  1.00  0.00           H  \\nATOM    200  N   GLN A  14      -9.870   1.802 -11.003  1.00  0.00           N  \\nATOM    201  CA  GLN A  14     -10.927   2.744 -11.276  1.00  0.00           C  \\nATOM    202  C   GLN A  14     -10.868   3.911 -10.338  1.00  0.00           C  \\nATOM    203  O   GLN A  14     -11.899   4.505 -10.031  1.00  0.00           O  \\nATOM    204  H   GLN A  14      -9.773   1.428 -10.070  1.00  0.00           H  \\nATOM    205  CB  GLN A  14     -12.279   2.043 -11.175  1.00  0.00           C  \\nATOM    206  CG  GLN A  14     -12.613   1.386 -12.512  1.00  0.00           C  \\nATOM    207  CD  GLN A  14     -13.935   0.636 -12.438  1.00  0.00           C  \\nATOM    208 OE1  GLN A  14     -14.536   0.539 -11.371  1.00  0.00           O  \\nATOM    209 NE2  GLN A  14     -14.386   0.107 -13.578  1.00  0.00           N  \\nATOM    210  HA  GLN A  14     -10.804   3.148 -12.281  1.00  0.00           H  \\nATOM    211 HB2  GLN A  14     -13.050   2.773 -10.927  1.00  0.00           H  \\nATOM    212 HB3  GLN A  14     -12.237   1.281 -10.397  1.00  0.00           H  \\nATOM    213 HG2  GLN A  14     -11.826   0.680 -12.776  1.00  0.00           H  \\nATOM    214 HG3  GLN A  14     -12.688   2.151 -13.284  1.00  0.00           H  \\nATOM    215 HE21 GLN A  14     -13.855   0.215 -14.430  1.00  0.00           H  \\nATOM    216 HE22 GLN A  14     -15.259  -0.402 -13.588  1.00  0.00           H  \\nATOM    217  N   ARG A  15      -9.752   4.446  -9.732  1.00  0.00           N  \\nATOM    218  CA  ARG A  15      -9.806   5.741  -9.098  1.00  0.00           C  \\nATOM    219  C   ARG A  15      -8.747   5.872  -8.047  1.00  0.00           C  \\nATOM    220  O   ARG A  15      -8.672   5.042  -7.143  1.00  0.00           O  \\nATOM    221  H   ARG A  15      -8.883   3.932  -9.728  1.00  0.00           H  \\nATOM    222  CB  ARG A  15     -11.190   5.958  -8.492  1.00  0.00           C  \\nATOM    223  CG  ARG A  15     -12.154   6.428  -9.578  1.00  0.00           C  \\nATOM    224  CD  ARG A  15     -13.323   7.169  -8.936  1.00  0.00           C  \\nATOM    225  NE  ARG A  15     -13.913   8.132  -9.865  1.00  0.00           N  \\nATOM    226  CZ  ARG A  15     -14.947   8.923  -9.544  1.00  0.00           C  \\nATOM    227 NH1  ARG A  15     -15.488   8.854  -8.321  1.00  0.00           N  \\nATOM    228 NH2  ARG A  15     -15.438   9.782 -10.448  1.00  0.00           N  \\nATOM    229  HA  ARG A  15      -9.610   6.517  -9.837  1.00  0.00           H  \\nATOM    230 HB2  ARG A  15     -11.130   6.714  -7.709  1.00  0.00           H  \\nATOM    231 HB3  ARG A  15     -11.552   5.022  -8.066  1.00  0.00           H  \\nATOM    232 HG2  ARG A  15     -12.529   5.565 -10.129  1.00  0.00           H  \\nATOM    233 HG3  ARG A  15     -11.632   7.097 -10.263  1.00  0.00           H  \\nATOM    234 HD2  ARG A  15     -12.973   7.706  -8.054  1.00  0.00           H  \\nATOM    235 HD3  ARG A  15     -14.091   6.453  -8.643  1.00  0.00           H  \\nATOM    236  HE  ARG A  15     -13.523   8.205 -10.794  1.00  0.00           H  \\nATOM    237 HH11 ARG A  15     -15.117   8.207  -7.640  1.00  0.00           H  \\nATOM    238 HH12 ARG A  15     -16.267   9.450  -8.079  1.00  0.00           H  \\nATOM    239 HH21 ARG A  15     -15.030   9.834 -11.370  1.00  0.00           H  \\nATOM    240 HH22 ARG A  15     -16.217  10.378 -10.206  1.00  0.00           H  \\nATOM    241  N   SER A  16      -7.877   6.938  -8.131  1.00  0.00           N  \\nATOM    242  CA  SER A  16      -7.422   8.303  -8.030  1.00  0.00           C  \\nATOM    243  C   SER A  16      -6.554   8.496  -6.824  1.00  0.00           C  \\nATOM    244  O   SER A  16      -7.030   8.372  -5.698  1.00  0.00           O  \\nATOM    245  H   SER A  16      -6.932   6.794  -8.459  1.00  0.00           H  \\nATOM    246  CB  SER A  16      -8.623   9.242  -7.972  1.00  0.00           C  \\nATOM    247  OG  SER A  16      -9.391   9.096  -9.145  1.00  0.00           O  \\nATOM    248  HA  SER A  16      -6.812   8.549  -8.899  1.00  0.00           H  \\nATOM    249 HB2  SER A  16      -8.275  10.272  -7.892  1.00  0.00           H  \\nATOM    250 HB3  SER A  16      -9.235   8.997  -7.105  1.00  0.00           H  \\nATOM    251  HG  SER A  16     -10.142   9.693  -9.094  1.00  0.00           H  \\nATOM    252  N   THR A  17      -5.233   8.812  -7.064  1.00  0.00           N  \\nATOM    253  CA  THR A  17      -4.213   9.261  -6.149  1.00  0.00           C  \\nATOM    254  C   THR A  17      -4.670  10.471  -5.395  1.00  0.00           C  \\nATOM    255  O   THR A  17      -4.370  11.594  -5.794  1.00  0.00           O  \\nATOM    256  H   THR A  17      -4.859   8.741  -7.999  1.00  0.00           H  \\nATOM    257  CB  THR A  17      -2.930   9.566  -6.918  1.00  0.00           C  \\nATOM    258 OG1  THR A  17      -2.572   8.447  -7.699  1.00  0.00           O  \\nATOM    259 CG2  THR A  17      -1.810   9.886  -5.934  1.00  0.00           C  \\nATOM    260  HA  THR A  17      -4.015   8.481  -5.414  1.00  0.00           H  \\nATOM    261  HB  THR A  17      -3.092  10.425  -7.569  1.00  0.00           H  \\nATOM    262 HG1  THR A  17      -1.765   8.654  -8.176  1.00  0.00           H  \\nATOM    263 HG21 THR A  17      -2.191   9.821  -4.915  1.00  0.00           H  \\nATOM    264 HG22 THR A  17      -0.996   9.172  -6.063  1.00  0.00           H  \\nATOM    265 HG23 THR A  17      -1.440  10.895  -6.119  1.00  0.00           H  \\nATOM    266  N   VAL A  18      -5.430  10.377  -4.248  1.00  0.00           N  \\nATOM    267  CA  VAL A  18      -5.739  11.433  -3.316  1.00  0.00           C  \\nATOM    268  C   VAL A  18      -4.513  11.793  -2.534  1.00  0.00           C  \\nATOM    269  O   VAL A  18      -4.038  10.992  -1.732  1.00  0.00           O  \\nATOM    270  H   VAL A  18      -5.839   9.492  -3.984  1.00  0.00           H  \\nATOM    271  CB  VAL A  18      -6.871  10.990  -2.394  1.00  0.00           C  \\nATOM    272 CG1  VAL A  18      -7.237  12.133  -1.451  1.00  0.00           C  \\nATOM    273 CG2  VAL A  18      -8.066  10.545  -3.232  1.00  0.00           C  \\nATOM    274  HA  VAL A  18      -6.047  12.324  -3.864  1.00  0.00           H  \\nATOM    275  HB  VAL A  18      -6.549  10.128  -1.810  1.00  0.00           H  \\nATOM    276 HG11 VAL A  18      -6.603  12.995  -1.660  1.00  0.00           H  \\nATOM    277 HG12 VAL A  18      -8.282  12.407  -1.600  1.00  0.00           H  \\nATOM    278 HG13 VAL A  18      -7.089  11.816  -0.419  1.00  0.00           H  \\nATOM    279 HG21 VAL A  18      -7.827  10.649  -4.290  1.00  0.00           H  \\nATOM    280 HG22 VAL A  18      -8.296   9.502  -3.013  1.00  0.00           H  \\nATOM    281 HG23 VAL A  18      -8.930  11.165  -2.992  1.00  0.00           H  \\nATOM    282  N   TRP A  19      -3.934  13.029  -2.729  1.00  0.00           N  \\nATOM    283  CA  TRP A  19      -2.857  13.822  -2.190  1.00  0.00           C  \\nATOM    284  C   TRP A  19      -3.173  14.279  -0.799  1.00  0.00           C  \\nATOM    285  O   TRP A  19      -3.567  15.427  -0.604  1.00  0.00           O  \\nATOM    286  H   TRP A  19      -4.294  13.649  -3.441  1.00  0.00           H  \\nATOM    287  CB  TRP A  19      -2.595  15.020  -3.098  1.00  0.00           C  \\nATOM    288  CG  TRP A  19      -2.356  14.700  -4.538  1.00  0.00           C  \\nATOM    289 CD1  TRP A  19      -3.315  14.645  -5.490  1.00  0.00           C  \\nATOM    290 NE1  TRP A  19      -2.724  14.322  -6.696  1.00  0.00           N  \\nATOM    291 CE2  TRP A  19      -1.361  14.156  -6.565  1.00  0.00           C  \\nATOM    292 CZ2  TRP A  19      -0.350  13.831  -7.478  1.00  0.00           C  \\nATOM    293 CH2  TRP A  19       0.978  13.730  -7.045  1.00  0.00           C  \\nATOM    294 CZ3  TRP A  19       1.295  13.954  -5.700  1.00  0.00           C  \\nATOM    295 CE3  TRP A  19       0.284  14.278  -4.787  1.00  0.00           C  \\nATOM    296 CD2  TRP A  19      -1.047  14.379  -5.221  1.00  0.00           C  \\nATOM    297  HA  TRP A  19      -1.954  13.214  -2.126  1.00  0.00           H  \\nATOM    298 HB2  TRP A  19      -1.709  15.553  -2.752  1.00  0.00           H  \\nATOM    299 HB3  TRP A  19      -3.454  15.691  -3.072  1.00  0.00           H  \\nATOM    300 HD1  TRP A  19      -4.345  14.842  -5.231  1.00  0.00           H  \\nATOM    301 HE1  TRP A  19      -3.245  14.224  -7.556  1.00  0.00           H  \\nATOM    302 HZ2  TRP A  19      -0.595  13.659  -8.515  1.00  0.00           H  \\nATOM    303 HH2  TRP A  19       1.757  13.480  -7.750  1.00  0.00           H  \\nATOM    304 HZ3  TRP A  19       2.319  13.876  -5.367  1.00  0.00           H  \\nATOM    305 HE3  TRP A  19       0.529  14.450  -3.750  1.00  0.00           H  \\nATOM    306  N   TYR A  20      -3.044  13.466   0.307  1.00  0.00           N  \\nATOM    307  CA  TYR A  20      -2.938  14.188   1.550  1.00  0.00           C  \\nATOM    308  C   TYR A  20      -1.507  14.483   1.879  1.00  0.00           C  \\nATOM    309  O   TYR A  20      -1.209  15.533   2.444  1.00  0.00           O  \\nATOM    310 OXT  TYR A  20      -0.630  13.674   1.585  1.00  0.00           O  \\nATOM    311  H   TYR A  20      -3.032  12.462   0.196  1.00  0.00           H  \\nATOM    312  CB  TYR A  20      -3.586  13.381   2.671  1.00  0.00           C  \\nATOM    313  CG  TYR A  20      -5.067  13.154   2.488  1.00  0.00           C  \\nATOM    314 CD1  TYR A  20      -5.982  14.124   2.916  1.00  0.00           C  \\nATOM    315 CE1  TYR A  20      -7.356  13.914   2.747  1.00  0.00           C  \\nATOM    316  CZ  TYR A  20      -7.818  12.727   2.145  1.00  0.00           C  \\nATOM    317  OH  TYR A  20      -9.156  12.522   1.980  1.00  0.00           O  \\nATOM    318 CE2  TYR A  20      -6.897  11.751   1.714  1.00  0.00           C  \\nATOM    319 CD2  TYR A  20      -5.523  11.961   1.884  1.00  0.00           C  \\nATOM    320  HA  TYR A  20      -3.445  15.149   1.457  1.00  0.00           H  \\nATOM    321 HB2  TYR A  20      -3.455  13.904   3.619  1.00  0.00           H  \\nATOM    322 HB3  TYR A  20      -3.115  12.399   2.731  1.00  0.00           H  \\nATOM    323 HD1  TYR A  20      -5.628  15.034   3.377  1.00  0.00           H  \\nATOM    324 HE1  TYR A  20      -8.061  14.662   3.077  1.00  0.00           H  \\nATOM    325  HH  TYR A  20      -9.358  11.682   1.561  1.00  0.00           H  \\nATOM    326 HE2  TYR A  20      -7.251  10.840   1.253  1.00  0.00           H  \\nATOM    327 HD2  TYR A  20      -4.818  11.213   1.554  1.00  0.00           H  \\nTER\\nEND          \\n\",\"pdb\",{\"keepH\": true});\n",
       "\tviewer_16590450956603985.setStyle({\"cartoon\": {\"color\": \"spectrum\"}, \"stick\": {\"radius\": 0.15}});\n",
       "\tviewer_16590450956603985.zoomTo();\n",
       "viewer_16590450956603985.render();\n",
       "});\n",
       "</script>"
      ]
     },
     "metadata": {},
     "output_type": "display_data"
    },
    {
     "data": {
      "text/plain": [
       "<py3Dmol.view at 0x7f8b300ae910>"
      ]
     },
     "execution_count": 6,
     "metadata": {},
     "output_type": "execute_result"
    }
   ],
   "source": [
    "p = alphabet_protein()\n",
    "p2 = alphabet_protein()\n",
    "bpo = BuildParamOptimizer(p,\n",
    "                          opt_bond_lengths=True,\n",
    "                          opt_thetas=True,\n",
    "                          opt_chis=True,\n",
    "                          )\n",
    "p.to_3Dmol()"
   ]
  },
  {
   "cell_type": "code",
   "execution_count": 7,
   "id": "f7d8c9dc",
   "metadata": {},
   "outputs": [],
   "source": [
    "p.to_pdb(\"/home/jok120/Downloads/min_alfa00.pdb\")"
   ]
  },
  {
   "cell_type": "code",
   "execution_count": 8,
   "id": "cf24969f",
   "metadata": {},
   "outputs": [
    {
     "data": {
      "text/plain": [
       "Quantity(value=46950045.55039975, unit=kilojoule/mole)"
      ]
     },
     "execution_count": 8,
     "metadata": {},
     "output_type": "execute_result"
    }
   ],
   "source": [
    "p.get_energy()"
   ]
  },
  {
   "cell_type": "code",
   "execution_count": 14,
   "id": "e5987226",
   "metadata": {
    "scrolled": true
   },
   "outputs": [
    {
     "name": "stderr",
     "output_type": "stream",
     "text": [
      "100%|███████████████████████████████████████████████████████████████████| 10000/10000 [07:12<00:00, 23.12it/s, loss=-22.19]\n"
     ]
    }
   ],
   "source": [
    "_ = bpo.optimize(opt='SGD', lr=1e-6, steps=10000)"
   ]
  },
  {
   "cell_type": "code",
   "execution_count": 16,
   "id": "79e4c3eb",
   "metadata": {},
   "outputs": [
    {
     "data": {
      "text/plain": [
       "<AxesSubplot:>"
      ]
     },
     "execution_count": 16,
     "metadata": {},
     "output_type": "execute_result"
    },
    {
     "data": {
      "image/png": "[encoded data removed]",
      "text/plain": [
       "<Figure size 432x288 with 1 Axes>"
      ]
     },
     "metadata": {
      "needs_background": "light"
     },
     "output_type": "display_data"
    }
   ],
   "source": [
    "import matplotlib.pyplot as plt\n",
    "start = 0\n",
    "sns.lineplot(x=list(range(len(bpo.losses[start:]))), y=bpo.losses[start:])\n",
    "# plt.ylim(0, 1000)"
   ]
  },
  {
   "cell_type": "code",
   "execution_count": 17,
   "id": "137e6af3",
   "metadata": {},
   "outputs": [],
   "source": [
    "p.fastbuild(add_hydrogens=True, build_params=bpo.build_params, inplace=True)"
   ]
  },
  {
   "cell_type": "code",
   "execution_count": 18,
   "id": "cdc10cd1",
   "metadata": {},
   "outputs": [
    {
     "data": {
      "text/plain": [
       "Quantity(value=-22.187141204189743, unit=kilojoule/mole)"
      ]
     },
     "execution_count": 18,
     "metadata": {},
     "output_type": "execute_result"
    }
   ],
   "source": [
    "p.get_energy()"
   ]
  },
  {
   "cell_type": "code",
   "execution_count": 19,
   "id": "7f82ed74",
   "metadata": {},
   "outputs": [],
   "source": [
    "p.to_pdb(\"/home/jok120/Downloads/min_alfa08.pdb\")"
   ]
  },
  {
   "cell_type": "code",
   "execution_count": null,
   "id": "c060582a",
   "metadata": {},
   "outputs": [],
   "source": [
    "p3 = alphabet_protein()\n",
    "p3.fastbuild(add_hydrogens=True, build_params=None, inplace=True)"
   ]
  },
  {
   "cell_type": "code",
   "execution_count": null,
   "id": "2098ecfd",
   "metadata": {
    "scrolled": false
   },
   "outputs": [],
   "source": [
    "p.to_3Dmol(other_protein=p3)"
   ]
  },
  {
   "cell_type": "code",
   "execution_count": null,
   "id": "391f455e",
   "metadata": {},
   "outputs": [],
   "source": [
    "bpo.build_params"
   ]
  },
  {
   "cell_type": "code",
   "execution_count": 21,
   "id": "6a2fa6b4",
   "metadata": {},
   "outputs": [],
   "source": [
    "import pickle"
   ]
  },
  {
   "cell_type": "code",
   "execution_count": 22,
   "id": "e8ef754c",
   "metadata": {},
   "outputs": [],
   "source": [
    "with open(\"/home/jok120/sidechainnet/sidechainnet/resources/build_params.pkl\", \"wb\") as f:\n",
    "    pickle.dump(bpo.build_params, f)"
   ]
  },
  {
   "cell_type": "code",
   "execution_count": null,
   "id": "0776affb",
   "metadata": {},
   "outputs": [],
   "source": [
    "!ls -hlt /home/jok120/sidechainnet/sidechainnet/research/build_parameter_optim/"
   ]
  },
  {
   "cell_type": "code",
   "execution_count": null,
   "id": "3064970a",
   "metadata": {},
   "outputs": [],
   "source": [
    "with open(\"/home/jok120/sidechainnet/sidechainnet/research/build_parameter_optim/build_params.pkl\", \"rb\") as f:\n",
    "    bp2 = pickle.load(f)"
   ]
  },
  {
   "cell_type": "code",
   "execution_count": null,
   "id": "3b8cb1cf",
   "metadata": {},
   "outputs": [],
   "source": [
    "bp2"
   ]
  },
  {
   "cell_type": "markdown",
   "id": "671aa047",
   "metadata": {},
   "source": [
    "# Try small protein"
   ]
  },
  {
   "cell_type": "code",
   "execution_count": null,
   "id": "1691a0ab",
   "metadata": {},
   "outputs": [],
   "source": [
    "from sidechainnet.tests.test_fastbuild import get_p\n",
    "p = get_p()\n",
    "p2 = get_p()\n",
    "bpo = BuildParamOptimizer(p,\n",
    "                          opt_bond_lengths=True,\n",
    "                          opt_thetas=True,\n",
    "                          opt_chis=True,\n",
    "                          )\n",
    "p.to_3Dmol()"
   ]
  },
  {
   "cell_type": "code",
   "execution_count": null,
   "id": "9dc77fc9",
   "metadata": {},
   "outputs": [],
   "source": [
    "p.to_pdb(\"/home/jok120/Downloads/min_p00.pdb\")"
   ]
  },
  {
   "cell_type": "code",
   "execution_count": null,
   "id": "72f9b195",
   "metadata": {},
   "outputs": [],
   "source": [
    "p.get_energy()"
   ]
  },
  {
   "cell_type": "code",
   "execution_count": null,
   "id": "55ee0d45",
   "metadata": {},
   "outputs": [],
   "source": [
    "_ = bpo.optimize(opt='SGD', lr=1e-6, steps=1000)"
   ]
  },
  {
   "cell_type": "code",
   "execution_count": null,
   "id": "00370dc5",
   "metadata": {},
   "outputs": [],
   "source": [
    "import matplotlib.pyplot as plt\n",
    "start = 0\n",
    "sns.lineplot(x=list(range(len(bpo.losses[start:]))), y=bpo.losses[start:])\n",
    "# plt.ylim(0, 1000)"
   ]
  },
  {
   "cell_type": "code",
   "execution_count": null,
   "id": "a2e37235",
   "metadata": {},
   "outputs": [],
   "source": [
    "p.fastbuild(add_hydrogens=True, build_params=bpo.build_params, inplace=True)"
   ]
  },
  {
   "cell_type": "code",
   "execution_count": null,
   "id": "a171f463",
   "metadata": {},
   "outputs": [],
   "source": [
    "p.get_energy()"
   ]
  },
  {
   "cell_type": "code",
   "execution_count": null,
   "id": "0902c82b",
   "metadata": {},
   "outputs": [],
   "source": [
    "p.to_pdb(\"/home/jok120/Downloads/min_p01.pdb\")"
   ]
  },
  {
   "cell_type": "code",
   "execution_count": null,
   "id": "c879e274",
   "metadata": {},
   "outputs": [],
   "source": [
    "p3 = get_p()\n",
    "p3.fastbuild(add_hydrogens=True, build_params=None, inplace=True)"
   ]
  },
  {
   "cell_type": "code",
   "execution_count": null,
   "id": "88d16a8d",
   "metadata": {
    "scrolled": false
   },
   "outputs": [],
   "source": [
    "p.to_3Dmol(other_protein=p3)"
   ]
  },
  {
   "cell_type": "code",
   "execution_count": null,
   "id": "55a75e3b",
   "metadata": {},
   "outputs": [],
   "source": [
    "AA2NUM[\"L\"]"
   ]
  },
  {
   "cell_type": "code",
   "execution_count": null,
   "id": "c8d579dd",
   "metadata": {},
   "outputs": [],
   "source": [
    "bpo.build_params['CA'].keys()"
   ]
  },
  {
   "cell_type": "code",
   "execution_count": null,
   "id": "aa9e931f",
   "metadata": {},
   "outputs": [],
   "source": [
    "for key in bpo.build_params['CA'].keys():\n",
    "    print(key)\n",
    "    print(bpo.build_params['CA'][key][9])"
   ]
  },
  {
   "cell_type": "markdown",
   "id": "784da077",
   "metadata": {},
   "source": [
    "# LBFGS"
   ]
  },
  {
   "cell_type": "code",
   "execution_count": null,
   "id": "b13fe4aa",
   "metadata": {},
   "outputs": [],
   "source": [
    "dp = alphabet_protein()\n",
    "bpo = BuildParamOptimizer(p)"
   ]
  },
  {
   "cell_type": "code",
   "execution_count": null,
   "id": "5c7b56ba",
   "metadata": {},
   "outputs": [],
   "source": [
    "p2 = alphabet_protein()"
   ]
  },
  {
   "cell_type": "code",
   "execution_count": null,
   "id": "4591cfa0",
   "metadata": {},
   "outputs": [],
   "source": [
    "p.to_3Dmol()"
   ]
  },
  {
   "cell_type": "code",
   "execution_count": null,
   "id": "9417863a",
   "metadata": {},
   "outputs": [],
   "source": [
    "bpo.optimize(opt='LBFGS', steps=50)"
   ]
  },
  {
   "cell_type": "code",
   "execution_count": null,
   "id": "bbb54eb6",
   "metadata": {},
   "outputs": [],
   "source": [
    "sns.lineplot(x=list(range(len(bpo.losses))), y=bpo.losses)"
   ]
  },
  {
   "cell_type": "code",
   "execution_count": null,
   "id": "adb22ec4",
   "metadata": {},
   "outputs": [],
   "source": [
    "p.fastbuild(add_hydrogens=True, build_params=bpo.build_params, inplace=True)"
   ]
  },
  {
   "cell_type": "code",
   "execution_count": null,
   "id": "d435c47f",
   "metadata": {},
   "outputs": [],
   "source": [
    "p3 = alphabet_protein()\n",
    "p3.fastbuild(add_hydrogens=True, build_params=None, inplace=True)"
   ]
  },
  {
   "cell_type": "code",
   "execution_count": null,
   "id": "b92a9b3d",
   "metadata": {
    "scrolled": true
   },
   "outputs": [],
   "source": [
    "p.to_3Dmol(other_protein=p3)"
   ]
  },
  {
   "cell_type": "markdown",
   "id": "71034039",
   "metadata": {},
   "source": [
    "# Part 1"
   ]
  },
  {
   "cell_type": "code",
   "execution_count": null,
   "id": "3e575328",
   "metadata": {},
   "outputs": [],
   "source": [
    "p2 = scn.load_pdb(\"/home/jok120/Downloads/alfa_af2_pred.pdb\")\n",
    "p2.torch()"
   ]
  },
  {
   "cell_type": "code",
   "execution_count": null,
   "id": "c6fae2b0",
   "metadata": {},
   "outputs": [],
   "source": [
    "# p = alphabet_protein()\n",
    "p = p2"
   ]
  },
  {
   "cell_type": "code",
   "execution_count": null,
   "id": "b6f1f2b4",
   "metadata": {},
   "outputs": [],
   "source": [
    "p.coords.shape"
   ]
  },
  {
   "cell_type": "code",
   "execution_count": null,
   "id": "acd29a0e",
   "metadata": {},
   "outputs": [],
   "source": [
    "p.get_atom_names(zip_coords=True, pprint=True)"
   ]
  },
  {
   "cell_type": "code",
   "execution_count": null,
   "id": "5f01bfa1",
   "metadata": {
    "scrolled": false
   },
   "outputs": [],
   "source": [
    "p.to_3Dmol()"
   ]
  },
  {
   "cell_type": "code",
   "execution_count": null,
   "id": "028d9665",
   "metadata": {},
   "outputs": [],
   "source": [
    "c = p.fastbuild(inplace=True)"
   ]
  },
  {
   "cell_type": "code",
   "execution_count": null,
   "id": "3ff07b2c",
   "metadata": {},
   "outputs": [],
   "source": [
    "c.shape"
   ]
  },
  {
   "cell_type": "code",
   "execution_count": null,
   "id": "5f1ebbb9",
   "metadata": {},
   "outputs": [],
   "source": [
    "p.has_hydrogens"
   ]
  },
  {
   "cell_type": "code",
   "execution_count": null,
   "id": "f1eefb0f",
   "metadata": {},
   "outputs": [],
   "source": []
  },
  {
   "cell_type": "code",
   "execution_count": null,
   "id": "a505b53b",
   "metadata": {},
   "outputs": [],
   "source": [
    "p.to_3Dmol()"
   ]
  },
  {
   "cell_type": "code",
   "execution_count": null,
   "id": "18ab6a49",
   "metadata": {},
   "outputs": [],
   "source": [
    "p.fastbuild(add_hydrogens=True, inplace=True)"
   ]
  },
  {
   "cell_type": "code",
   "execution_count": null,
   "id": "a6416727",
   "metadata": {},
   "outputs": [],
   "source": [
    "p.hcoords.shape"
   ]
  },
  {
   "cell_type": "code",
   "execution_count": null,
   "id": "9f110672",
   "metadata": {},
   "outputs": [],
   "source": [
    "p.to_3Dmol()"
   ]
  },
  {
   "cell_type": "code",
   "execution_count": null,
   "id": "b3e1e24a",
   "metadata": {},
   "outputs": [],
   "source": [
    "p.hcoords.shape, p.coords.shape"
   ]
  },
  {
   "cell_type": "code",
   "execution_count": null,
   "id": "9a625017",
   "metadata": {},
   "outputs": [],
   "source": [
    "p.to_pdb(\"/home/jok120/Downloads/build_alfa03.pdb\")"
   ]
  },
  {
   "cell_type": "code",
   "execution_count": null,
   "id": "c6e9ea57",
   "metadata": {},
   "outputs": [],
   "source": [
    "# Load the protein created by alphafold\n",
    "p2 = scn.load_pdb(\"/home/jok120/Downloads/alfa_af2_pred.pdb\")\n",
    "p2.torch()"
   ]
  },
  {
   "cell_type": "code",
   "execution_count": null,
   "id": "ed50864e",
   "metadata": {},
   "outputs": [],
   "source": [
    "p2.coords[0]"
   ]
  },
  {
   "cell_type": "code",
   "execution_count": null,
   "id": "521cff20",
   "metadata": {
    "scrolled": false
   },
   "outputs": [],
   "source": [
    "p2.get_atom_names(True, True)"
   ]
  },
  {
   "cell_type": "code",
   "execution_count": null,
   "id": "0e9bddad",
   "metadata": {},
   "outputs": [],
   "source": [
    "p2.seq"
   ]
  },
  {
   "cell_type": "code",
   "execution_count": null,
   "id": "9a86e5a0",
   "metadata": {},
   "outputs": [],
   "source": [
    "p2.to_3Dmol()"
   ]
  },
  {
   "cell_type": "code",
   "execution_count": null,
   "id": "8900431e",
   "metadata": {},
   "outputs": [],
   "source": [
    "p2.coords.shape"
   ]
  },
  {
   "cell_type": "code",
   "execution_count": null,
   "id": "618866a0",
   "metadata": {},
   "outputs": [],
   "source": [
    "torch.tensor(p2.angles)"
   ]
  },
  {
   "cell_type": "code",
   "execution_count": null,
   "id": "11c3051e",
   "metadata": {},
   "outputs": [],
   "source": [
    "d = scn.load(\"debug\", with_pytorch='dataloaders', dynamic_batching=False)"
   ]
  },
  {
   "cell_type": "code",
   "execution_count": null,
   "id": "f7cd7159",
   "metadata": {},
   "outputs": [],
   "source": [
    "d.keys()"
   ]
  },
  {
   "cell_type": "code",
   "execution_count": null,
   "id": "711393ae",
   "metadata": {},
   "outputs": [],
   "source": [
    "batch = next(iter(d['train']))"
   ]
  },
  {
   "cell_type": "code",
   "execution_count": null,
   "id": "1baebc5a",
   "metadata": {},
   "outputs": [],
   "source": [
    "batch."
   ]
  },
  {
   "cell_type": "code",
   "execution_count": null,
   "id": "8ce8adf0",
   "metadata": {},
   "outputs": [],
   "source": [
    "(batch.seqs[4] == 0).all(dim=-1)"
   ]
  },
  {
   "cell_type": "code",
   "execution_count": null,
   "id": "4e527a2b",
   "metadata": {},
   "outputs": [],
   "source": [
    "max((max(llist) for llist in [d[split].dataset.lengths for split in d.keys()]))"
   ]
  },
  {
   "cell_type": "code",
   "execution_count": null,
   "id": "55e337bc",
   "metadata": {},
   "outputs": [],
   "source": [
    "hcoords = p.fastbuild(add_hydrogens=True)\n",
    "p.coords = hcoords\n",
    "p.hcoords = hcoords\n",
    "p.has_hydrogens=True\n",
    "p.to_3Dmol()"
   ]
  },
  {
   "cell_type": "markdown",
   "id": "b7bf14a2",
   "metadata": {},
   "source": [
    "# Simple energy minimization"
   ]
  },
  {
   "cell_type": "code",
   "execution_count": null,
   "id": "266bbe8d",
   "metadata": {},
   "outputs": [],
   "source": [
    "p.get_energy()"
   ]
  },
  {
   "cell_type": "code",
   "execution_count": null,
   "id": "b79e58bb",
   "metadata": {
    "scrolled": true
   },
   "outputs": [],
   "source": [
    "p.get_atom_names(pprint=True)"
   ]
  },
  {
   "cell_type": "code",
   "execution_count": null,
   "id": "10704151",
   "metadata": {
    "scrolled": false
   },
   "outputs": [],
   "source": [
    "p.get_forces(pprint=True)"
   ]
  },
  {
   "cell_type": "code",
   "execution_count": null,
   "id": "9c54c84d",
   "metadata": {},
   "outputs": [],
   "source": [
    "p.to_3Dmol()"
   ]
  },
  {
   "cell_type": "code",
   "execution_count": null,
   "id": "fe7b3567",
   "metadata": {},
   "outputs": [],
   "source": [
    "p.minimize()"
   ]
  },
  {
   "cell_type": "code",
   "execution_count": null,
   "id": "1f68e34a",
   "metadata": {},
   "outputs": [],
   "source": [
    "p.write_ending_positions_to_pdbfile(\"/home/jok120/Downloads/predhmin02.pdb\")"
   ]
  },
  {
   "cell_type": "code",
   "execution_count": null,
   "id": "8b7544f5",
   "metadata": {},
   "outputs": [],
   "source": [
    "p._hcoords_for_openmm"
   ]
  },
  {
   "cell_type": "markdown",
   "id": "4b57f87e",
   "metadata": {},
   "source": [
    "# Trying to optimize hand-written parameters"
   ]
  },
  {
   "cell_type": "code",
   "execution_count": null,
   "id": "8a9e422e",
   "metadata": {},
   "outputs": [],
   "source": [
    "p.system.getForces()"
   ]
  },
  {
   "cell_type": "code",
   "execution_count": null,
   "id": "61855932",
   "metadata": {},
   "outputs": [],
   "source": [
    "p.minimize(nonbonded_interactions=False)"
   ]
  },
  {
   "cell_type": "code",
   "execution_count": null,
   "id": "143ff12d",
   "metadata": {},
   "outputs": [],
   "source": [
    "p.write_ending_positions_to_pdbfile(\"/home/jok120/Downloads/predhmin03.pdb\")"
   ]
  },
  {
   "cell_type": "code",
   "execution_count": null,
   "id": "780ed518",
   "metadata": {},
   "outputs": [],
   "source": [
    "p."
   ]
  }
 ],
 "metadata": {
  "kernelspec": {
   "display_name": "Python [conda env:sidechainnetv2]",
   "language": "python",
   "name": "conda-env-sidechainnetv2-py"
  },
  "language_info": {
   "codemirror_mode": {
    "name": "ipython",
    "version": 3
   },
   "file_extension": ".py",
   "mimetype": "text/x-python",
   "name": "python",
   "nbconvert_exporter": "python",
   "pygments_lexer": "ipython3",
   "version": "3.8.12"
  }
 },
 "nbformat": 4,
 "nbformat_minor": 5
}
