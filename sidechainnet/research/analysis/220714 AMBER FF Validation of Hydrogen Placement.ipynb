{
 "cells": [
  {
   "cell_type": "code",
   "execution_count": 1,
   "id": "a0dc726a",
   "metadata": {
    "code_folding": [
     16
    ]
   },
   "outputs": [],
   "source": [
    "import sidechainnet as scn\n",
    "from sidechainnet.dataloaders.SCNProtein import SCNProtein\n",
    "import numpy as np\n",
    "nan = np.nan\n",
    "import torch\n",
    "np.set_printoptions(suppress=True)\n",
    "torch.set_printoptions(threshold=10_000)\n",
    "torch.set_printoptions(profile=\"full\")\n",
    "\n",
    "from sidechainnet.tests.test_fastbuild import alphabet_protein"
   ]
  },
  {
   "cell_type": "code",
   "execution_count": 2,
   "id": "fdfabe91",
   "metadata": {},
   "outputs": [],
   "source": [
    "p2 = scn.load_pdb(\"/home/jok120/Downloads/alfa_af2_pred.pdb\")\n",
    "p2.torch()"
   ]
  },
  {
   "cell_type": "code",
   "execution_count": 3,
   "id": "bedb2e4c",
   "metadata": {},
   "outputs": [],
   "source": [
    "# p = alphabet_protein()\n",
    "p = p2"
   ]
  },
  {
   "cell_type": "code",
   "execution_count": 4,
   "id": "86b80e4c",
   "metadata": {},
   "outputs": [
    {
     "data": {
      "text/plain": [
       "torch.Size([20, 15, 3])"
      ]
     },
     "execution_count": 4,
     "metadata": {},
     "output_type": "execute_result"
    }
   ],
   "source": [
    "p.coords.shape"
   ]
  },
  {
   "cell_type": "code",
   "execution_count": 5,
   "id": "1d9f27d2",
   "metadata": {},
   "outputs": [
    {
     "name": "stdout",
     "output_type": "stream",
     "text": [
      "0    1    2    3    4    5    6    7    8    9    10   11   12   13   14  \n",
      "N    CA   C    O    OXT  CB   PAD  PAD  PAD  PAD  PAD  PAD  PAD  PAD  PAD \n",
      "N    CA   C    O    OXT  CB   SG   PAD  PAD  PAD  PAD  PAD  PAD  PAD  PAD \n",
      "N    CA   C    O    OXT  CB   CG   OD1  OD2  PAD  PAD  PAD  PAD  PAD  PAD \n",
      "N    CA   C    O    OXT  CB   CG   CD   OE1  OE2  PAD  PAD  PAD  PAD  PAD \n",
      "N    CA   C    O    OXT  CB   CG   CD1  CE1  CZ   CE2  CD2  PAD  PAD  PAD \n",
      "N    CA   C    O    OXT  PAD  PAD  PAD  PAD  PAD  PAD  PAD  PAD  PAD  PAD \n",
      "N    CA   C    O    OXT  CB   CG   ND1  CE1  NE2  CD2  PAD  PAD  PAD  PAD \n",
      "N    CA   C    O    OXT  CB   CG1  CD1  CG2  PAD  PAD  PAD  PAD  PAD  PAD \n",
      "N    CA   C    O    OXT  CB   CG   CD   CE   NZ   PAD  PAD  PAD  PAD  PAD \n",
      "N    CA   C    O    OXT  CB   CG   CD1  CD2  PAD  PAD  PAD  PAD  PAD  PAD \n",
      "N    CA   C    O    OXT  CB   CG   SD   CE   PAD  PAD  PAD  PAD  PAD  PAD \n",
      "N    CA   C    O    OXT  CB   CG   OD1  ND2  PAD  PAD  PAD  PAD  PAD  PAD \n",
      "N    CA   C    O    OXT  CB   CG   CD   PAD  PAD  PAD  PAD  PAD  PAD  PAD \n",
      "N    CA   C    O    OXT  CB   CG   CD   OE1  NE2  PAD  PAD  PAD  PAD  PAD \n",
      "N    CA   C    O    OXT  CB   CG   CD   NE   CZ   NH1  NH2  PAD  PAD  PAD \n",
      "N    CA   C    O    OXT  CB   OG   PAD  PAD  PAD  PAD  PAD  PAD  PAD  PAD \n",
      "N    CA   C    O    OXT  CB   OG1  CG2  PAD  PAD  PAD  PAD  PAD  PAD  PAD \n",
      "N    CA   C    O    OXT  CB   CG1  CG2  PAD  PAD  PAD  PAD  PAD  PAD  PAD \n",
      "N    CA   C    O    OXT  CB   CG   CD1  NE1  CE2  CZ2  CH2  CZ3  CE3  CD2 \n",
      "N    CA   C    O    OXT  CB   CG   CD1  CE1  CZ   OH   CE2  CD2  PAD  PAD \n"
     ]
    }
   ],
   "source": [
    "p.get_atom_names(zip_coords=True, pprint=True)"
   ]
  },
  {
   "cell_type": "code",
   "execution_count": 6,
   "id": "fd29e045",
   "metadata": {
    "scrolled": false
   },
   "outputs": [
    {
     "data": {
      "application/3dmoljs_load.v0": "<div id=\"3dmolviewer_165878567138952\"  style=\"position: relative; width: 640px; height: 480px\">\n        <p id=\"3dmolwarning_165878567138952\" style=\"background-color:#ffcccc;color:black\">You appear to be running in JupyterLab (or JavaScript failed to load for some other reason).  You need to install the 3dmol extension: <br>\n        <tt>jupyter labextension install jupyterlab_3dmol</tt></p>\n        </div>\n<script>\n\nvar loadScriptAsync = function(uri){\n  return new Promise((resolve, reject) => {\n    var tag = document.createElement('script');\n    tag.src = uri;\n    tag.async = true;\n    tag.onload = () => {\n      resolve();\n    };\n  var firstScriptTag = document.getElementsByTagName('script')[0];\n  firstScriptTag.parentNode.insertBefore(tag, firstScriptTag);\n});\n};\n\nif(typeof $3Dmolpromise === 'undefined') {\n$3Dmolpromise = null;\n  $3Dmolpromise = loadScriptAsync('https://3dmol.org/build/3Dmol.js');\n}\n\nvar viewer_165878567138952 = null;\nvar warn = document.getElementById(\"3dmolwarning_165878567138952\");\nif(warn) {\n    warn.parentNode.removeChild(warn);\n}\n$3Dmolpromise.then(function() {\nviewer_165878567138952 = $3Dmol.createViewer($(\"#3dmolviewer_165878567138952\"),{backgroundColor:\"white\"});\nviewer_165878567138952.zoomTo();\n\tviewer_165878567138952.addModel(\"REMARK  pred\\nSEQRES   1 A   20  ALA CYS ASP GLU PHE GLY HIS ILE LYS LEU MET ASN PRO          \\nSEQRES   2 A   20  GLN ARG SER THR VAL TRP TYR                                  \\nATOM      1  N   ALA A   1      -6.994  -2.641  -4.793  1.00  0.00           N  \\nATOM      2  CA  ALA A   1      -7.045  -1.342  -5.459  1.00  0.00           C  \\nATOM      3  C   ALA A   1      -5.654  -0.724  -5.563  1.00  0.00           C  \\nATOM      4  O   ALA A   1      -4.915  -0.675  -4.577  1.00  0.00           O  \\nATOM      5  CB  ALA A   1      -7.989  -0.400  -4.715  1.00  0.00           C  \\nATOM      6  N   CYS A   2      -4.902  -0.837  -6.543  1.00  0.00           N  \\nATOM      7  CA  CYS A   2      -3.526  -0.400  -6.748  1.00  0.00           C  \\nATOM      8  C   CYS A   2      -3.467   1.093  -7.050  1.00  0.00           C  \\nATOM      9  O   CYS A   2      -4.354   1.632  -7.713  1.00  0.00           O  \\nATOM     10  CB  CYS A   2      -2.878  -1.186  -7.888  1.00  0.00           C  \\nATOM     11  SG  CYS A   2      -1.136  -0.786  -8.149  1.00  0.00           S  \\nATOM     12  N   ASP A   3      -2.576   1.831  -6.202  1.00  0.00           N  \\nATOM     13  CA  ASP A   3      -2.389   3.256  -6.456  1.00  0.00           C  \\nATOM     14  C   ASP A   3      -1.377   3.487  -7.575  1.00  0.00           C  \\nATOM     15  O   ASP A   3      -0.895   2.533  -8.190  1.00  0.00           O  \\nATOM     16  CB  ASP A   3      -1.937   3.973  -5.182  1.00  0.00           C  \\nATOM     17  CG  ASP A   3      -0.611   3.459  -4.651  1.00  0.00           C  \\nATOM     18 OD1  ASP A   3       0.429   3.655  -5.315  1.00  0.00           O  \\nATOM     19 OD2  ASP A   3      -0.607   2.850  -3.559  1.00  0.00           O  \\nATOM     20  N   GLU A   4      -1.247   4.659  -8.037  1.00  0.00           N  \\nATOM     21  CA  GLU A   4      -0.382   5.128  -9.115  1.00  0.00           C  \\nATOM     22  C   GLU A   4       1.069   4.721  -8.875  1.00  0.00           C  \\nATOM     23  O   GLU A   4       1.858   4.629  -9.817  1.00  0.00           O  \\nATOM     24  CB  GLU A   4      -0.483   6.649  -9.263  1.00  0.00           C  \\nATOM     25  CG  GLU A   4      -1.828   7.127  -9.793  1.00  0.00           C  \\nATOM     26  CD  GLU A   4      -1.873   8.624 -10.051  1.00  0.00           C  \\nATOM     27 OE1  GLU A   4      -1.574   9.054 -11.188  1.00  0.00           O  \\nATOM     28 OE2  GLU A   4      -2.209   9.375  -9.107  1.00  0.00           O  \\nATOM     29  N   PHE A   5       1.358   4.226  -7.673  1.00  0.00           N  \\nATOM     30  CA  PHE A   5       2.741   3.916  -7.329  1.00  0.00           C  \\nATOM     31  C   PHE A   5       2.926   2.417  -7.126  1.00  0.00           C  \\nATOM     32  O   PHE A   5       4.042   1.951  -6.889  1.00  0.00           O  \\nATOM     33  CB  PHE A   5       3.164   4.673  -6.066  1.00  0.00           C  \\nATOM     34  CG  PHE A   5       3.164   6.170  -6.227  1.00  0.00           C  \\nATOM     35 CD1  PHE A   5       4.291   6.831  -6.701  1.00  0.00           C  \\nATOM     36 CE1  PHE A   5       4.294   8.216  -6.850  1.00  0.00           C  \\nATOM     37  CZ  PHE A   5       3.163   8.948  -6.523  1.00  0.00           C  \\nATOM     38 CE2  PHE A   5       2.034   8.299  -6.050  1.00  0.00           C  \\nATOM     39 CD2  PHE A   5       2.038   6.915  -5.903  1.00  0.00           C  \\nATOM     40  N   GLY A   6       1.852   1.579  -7.468  1.00  0.00           N  \\nATOM     41  CA  GLY A   6       1.918   0.127  -7.430  1.00  0.00           C  \\nATOM     42  C   GLY A   6       1.730  -0.443  -6.036  1.00  0.00           C  \\nATOM     43  O   GLY A   6       2.140  -1.572  -5.761  1.00  0.00           O  \\nATOM     44  N   HIS A   7       1.216   0.383  -5.098  1.00  0.00           N  \\nATOM     45  CA  HIS A   7       0.923  -0.119  -3.761  1.00  0.00           C  \\nATOM     46  C   HIS A   7      -0.464  -0.751  -3.702  1.00  0.00           C  \\nATOM     47  O   HIS A   7      -1.399  -0.269  -4.346  1.00  0.00           O  \\nATOM     48  CB  HIS A   7       1.030   1.007  -2.730  1.00  0.00           C  \\nATOM     49  CG  HIS A   7       2.388   1.632  -2.664  1.00  0.00           C  \\nATOM     50 ND1  HIS A   7       2.607   2.965  -2.934  1.00  0.00           N  \\nATOM     51 CE1  HIS A   7       3.895   3.230  -2.794  1.00  0.00           C  \\nATOM     52 NE2  HIS A   7       4.517   2.117  -2.443  1.00  0.00           N  \\nATOM     53 CD2  HIS A   7       3.595   1.103  -2.355  1.00  0.00           C  \\nATOM     54  N   ILE A   8      -0.537  -1.908  -3.128  1.00  0.00           N  \\nATOM     55  CA  ILE A   8      -1.842  -2.544  -2.983  1.00  0.00           C  \\nATOM     56  C   ILE A   8      -2.404  -2.258  -1.592  1.00  0.00           C  \\nATOM     57  O   ILE A   8      -1.750  -2.534  -0.583  1.00  0.00           O  \\nATOM     58  CB  ILE A   8      -1.757  -4.068  -3.223  1.00  0.00           C  \\nATOM     59 CG1  ILE A   8      -1.192  -4.358  -4.619  1.00  0.00           C  \\nATOM     60 CD1  ILE A   8      -0.826  -5.818  -4.847  1.00  0.00           C  \\nATOM     61 CG2  ILE A   8      -3.131  -4.721  -3.043  1.00  0.00           C  \\nATOM     62  N   LYS A   9      -3.450  -1.488  -1.570  1.00  0.00           N  \\nATOM     63  CA  LYS A   9      -4.128  -1.211  -0.306  1.00  0.00           C  \\nATOM     64  C   LYS A   9      -5.071  -2.349   0.072  1.00  0.00           C  \\nATOM     65  O   LYS A   9      -5.907  -2.764  -0.734  1.00  0.00           O  \\nATOM     66  CB  LYS A   9      -4.901   0.106  -0.389  1.00  0.00           C  \\nATOM     67  CG  LYS A   9      -5.289   0.682   0.965  1.00  0.00           C  \\nATOM     68  CD  LYS A   9      -5.906   2.068   0.827  1.00  0.00           C  \\nATOM     69  CE  LYS A   9      -5.735   2.886   2.100  1.00  0.00           C  \\nATOM     70  NZ  LYS A   9      -6.330   4.249   1.966  1.00  0.00           N  \\nATOM     71  N   LEU A  10      -4.568  -3.180   0.971  1.00  0.00           N  \\nATOM     72  CA  LEU A  10      -5.396  -4.294   1.420  1.00  0.00           C  \\nATOM     73  C   LEU A  10      -6.279  -3.877   2.592  1.00  0.00           C  \\nATOM     74  O   LEU A  10      -5.827  -3.170   3.495  1.00  0.00           O  \\nATOM     75  CB  LEU A  10      -4.521  -5.484   1.824  1.00  0.00           C  \\nATOM     76  CG  LEU A  10      -3.675  -6.111   0.714  1.00  0.00           C  \\nATOM     77 CD1  LEU A  10      -2.622  -7.038   1.310  1.00  0.00           C  \\nATOM     78 CD2  LEU A  10      -4.561  -6.863  -0.273  1.00  0.00           C  \\nATOM     79  N   MET A  11      -7.540  -3.621   2.350  1.00  0.00           N  \\nATOM     80  CA  MET A  11      -8.526  -3.203   3.343  1.00  0.00           C  \\nATOM     81  C   MET A  11      -8.757  -4.301   4.375  1.00  0.00           C  \\nATOM     82  O   MET A  11      -9.896  -4.558   4.770  1.00  0.00           O  \\nATOM     83  CB  MET A  11      -9.847  -2.834   2.667  1.00  0.00           C  \\nATOM     84  CG  MET A  11      -9.758  -1.604   1.777  1.00  0.00           C  \\nATOM     85  SD  MET A  11     -11.173  -0.460   2.016  1.00  0.00           S  \\nATOM     86  CE  MET A  11     -11.153   0.409   0.423  1.00  0.00           C  \\nATOM     87  N   ASN A  12      -7.778  -4.972   4.689  1.00  0.00           N  \\nATOM     88  CA  ASN A  12      -7.923  -5.925   5.785  1.00  0.00           C  \\nATOM     89  C   ASN A  12      -7.430  -5.340   7.105  1.00  0.00           C  \\nATOM     90  O   ASN A  12      -6.318  -4.814   7.179  1.00  0.00           O  \\nATOM     91  CB  ASN A  12      -7.178  -7.224   5.469  1.00  0.00           C  \\nATOM     92  CG  ASN A  12      -7.655  -8.390   6.312  1.00  0.00           C  \\nATOM     93 OD1  ASN A  12      -8.819  -8.443   6.719  1.00  0.00           O  \\nATOM     94 ND2  ASN A  12      -6.760  -9.334   6.580  1.00  0.00           N  \\nATOM     95  N   PRO A  13      -8.263  -5.136   8.117  1.00  0.00           N  \\nATOM     96  CA  PRO A  13      -8.011  -4.454   9.389  1.00  0.00           C  \\nATOM     97  C   PRO A  13      -6.904  -5.117  10.205  1.00  0.00           C  \\nATOM     98  O   PRO A  13      -6.297  -4.474  11.066  1.00  0.00           O  \\nATOM     99  CB  PRO A  13      -9.356  -4.551  10.113  1.00  0.00           C  \\nATOM    100  CG  PRO A  13     -10.140  -5.554   9.331  1.00  0.00           C  \\nATOM    101  CD  PRO A  13      -9.478  -5.741   7.996  1.00  0.00           C  \\nATOM    102  N   GLN A  14      -6.385  -6.237   9.789  1.00  0.00           N  \\nATOM    103  CA  GLN A  14      -5.441  -6.977  10.619  1.00  0.00           C  \\nATOM    104  C   GLN A  14      -4.139  -7.243   9.869  1.00  0.00           C  \\nATOM    105  O   GLN A  14      -3.149  -7.672  10.465  1.00  0.00           O  \\nATOM    106  CB  GLN A  14      -6.056  -8.296  11.087  1.00  0.00           C  \\nATOM    107  CG  GLN A  14      -6.891  -8.170  12.355  1.00  0.00           C  \\nATOM    108  CD  GLN A  14      -7.526  -9.483  12.772  1.00  0.00           C  \\nATOM    109 OE1  GLN A  14      -7.426 -10.490  12.064  1.00  0.00           O  \\nATOM    110 NE2  GLN A  14      -8.185  -9.483  13.926  1.00  0.00           N  \\nATOM    111  N   ARG A  15      -3.592  -6.507   8.923  1.00  0.00           N  \\nATOM    112  CA  ARG A  15      -2.208  -6.724   8.516  1.00  0.00           C  \\nATOM    113  C   ARG A  15      -1.971  -6.232   7.092  1.00  0.00           C  \\nATOM    114  O   ARG A  15      -2.785  -6.481   6.201  1.00  0.00           O  \\nATOM    115  CB  ARG A  15      -1.840  -8.205   8.626  1.00  0.00           C  \\nATOM    116  CG  ARG A  15      -1.460  -8.643  10.031  1.00  0.00           C  \\nATOM    117  CD  ARG A  15      -0.598  -9.898  10.018  1.00  0.00           C  \\nATOM    118  NE  ARG A  15       0.252  -9.981  11.202  1.00  0.00           N  \\nATOM    119  CZ  ARG A  15       1.116 -10.962  11.448  1.00  0.00           C  \\nATOM    120 NH1  ARG A  15       1.263 -11.966  10.592  1.00  0.00           N  \\nATOM    121 NH2  ARG A  15       1.840 -10.938  12.558  1.00  0.00           N  \\nATOM    122  N   SER A  16      -1.006  -5.367   6.890  1.00  0.00           N  \\nATOM    123  CA  SER A  16       0.360  -4.877   6.731  1.00  0.00           C  \\nATOM    124  C   SER A  16       0.688  -4.623   5.264  1.00  0.00           C  \\nATOM    125  O   SER A  16       0.365  -5.440   4.399  1.00  0.00           O  \\nATOM    126  CB  SER A  16       1.359  -5.874   7.320  1.00  0.00           C  \\nATOM    127  OG  SER A  16       1.119  -6.069   8.703  1.00  0.00           O  \\nATOM    128  N   THR A  17       0.904  -3.418   4.935  1.00  0.00           N  \\nATOM    129  CA  THR A  17       1.440  -2.873   3.693  1.00  0.00           C  \\nATOM    130  C   THR A  17       2.780  -3.519   3.353  1.00  0.00           C  \\nATOM    131  O   THR A  17       3.674  -3.590   4.199  1.00  0.00           O  \\nATOM    132  CB  THR A  17       1.611  -1.345   3.782  1.00  0.00           C  \\nATOM    133 OG1  THR A  17       0.372  -0.754   4.190  1.00  0.00           O  \\nATOM    134 CG2  THR A  17       2.022  -0.758   2.435  1.00  0.00           C  \\nATOM    135  N   VAL A  18       2.860  -4.629   2.725  1.00  0.00           N  \\nATOM    136  CA  VAL A  18       4.055  -5.232   2.144  1.00  0.00           C  \\nATOM    137  C   VAL A  18       4.481  -4.444   0.907  1.00  0.00           C  \\nATOM    138  O   VAL A  18       3.648  -4.103   0.063  1.00  0.00           O  \\nATOM    139  CB  VAL A  18       3.823  -6.715   1.778  1.00  0.00           C  \\nATOM    140 CG1  VAL A  18       5.103  -7.343   1.230  1.00  0.00           C  \\nATOM    141 CG2  VAL A  18       3.322  -7.491   2.994  1.00  0.00           C  \\nATOM    142  N   TRP A  19       5.700  -3.703   0.944  1.00  0.00           N  \\nATOM    143  CA  TRP A  19       6.529  -2.905   0.047  1.00  0.00           C  \\nATOM    144  C   TRP A  19       7.190  -3.783  -1.010  1.00  0.00           C  \\nATOM    145  O   TRP A  19       7.878  -4.752  -0.680  1.00  0.00           O  \\nATOM    146  CB  TRP A  19       7.598  -2.144   0.836  1.00  0.00           C  \\nATOM    147  CG  TRP A  19       7.050  -1.315   1.960  1.00  0.00           C  \\nATOM    148 CD1  TRP A  19       6.878  -1.701   3.260  1.00  0.00           C  \\nATOM    149 NE1  TRP A  19       6.347  -0.667   3.994  1.00  0.00           N  \\nATOM    150 CE2  TRP A  19       6.166   0.413   3.172  1.00  0.00           C  \\nATOM    151 CZ2  TRP A  19       5.660   1.684   3.452  1.00  0.00           C  \\nATOM    152 CH2  TRP A  19       5.592   2.581   2.417  1.00  0.00           C  \\nATOM    153 CZ3  TRP A  19       6.014   2.241   1.122  1.00  0.00           C  \\nATOM    154 CE3  TRP A  19       6.518   0.977   0.841  1.00  0.00           C  \\nATOM    155 CD2  TRP A  19       6.599   0.040   1.880  1.00  0.00           C  \\nATOM    156  N   TYR A  20       6.554  -4.220  -2.084  1.00  0.00           N  \\nATOM    157  CA  TYR A  20       7.442  -4.621  -3.170  1.00  0.00           C  \\nATOM    158  C   TYR A  20       7.732  -3.449  -4.099  1.00  0.00           C  \\nATOM    159  O   TYR A  20       6.866  -2.602  -4.330  1.00  0.00           O  \\nATOM    160  CB  TYR A  20       6.829  -5.778  -3.965  1.00  0.00           C  \\nATOM    161  CG  TYR A  20       6.638  -7.038  -3.155  1.00  0.00           C  \\nATOM    162 CD1  TYR A  20       7.677  -7.952  -2.999  1.00  0.00           C  \\nATOM    163 CE1  TYR A  20       7.506  -9.115  -2.255  1.00  0.00           C  \\nATOM    164  CZ  TYR A  20       6.284  -9.368  -1.660  1.00  0.00           C  \\nATOM    165  OH  TYR A  20       6.109 -10.517  -0.923  1.00  0.00           O  \\nATOM    166 CE2  TYR A  20       5.237  -8.476  -1.800  1.00  0.00           C  \\nATOM    167 CD2  TYR A  20       5.420  -7.316  -2.546  1.00  0.00           C  \\nTER\\nEND          \\n\",\"pdb\",{\"keepH\": true});\n\tviewer_165878567138952.setStyle({\"cartoon\": {\"color\": \"spectrum\"}, \"stick\": {\"radius\": 0.15}});\n\tviewer_165878567138952.zoomTo();\nviewer_165878567138952.render();\n});\n</script>",
      "text/html": [
       "<div id=\"3dmolviewer_165878567138952\"  style=\"position: relative; width: 640px; height: 480px\">\n",
       "        <p id=\"3dmolwarning_165878567138952\" style=\"background-color:#ffcccc;color:black\">You appear to be running in JupyterLab (or JavaScript failed to load for some other reason).  You need to install the 3dmol extension: <br>\n",
       "        <tt>jupyter labextension install jupyterlab_3dmol</tt></p>\n",
       "        </div>\n",
       "<script>\n",
       "\n",
       "var loadScriptAsync = function(uri){\n",
       "  return new Promise((resolve, reject) => {\n",
       "    var tag = document.createElement('script');\n",
       "    tag.src = uri;\n",
       "    tag.async = true;\n",
       "    tag.onload = () => {\n",
       "      resolve();\n",
       "    };\n",
       "  var firstScriptTag = document.getElementsByTagName('script')[0];\n",
       "  firstScriptTag.parentNode.insertBefore(tag, firstScriptTag);\n",
       "});\n",
       "};\n",
       "\n",
       "if(typeof $3Dmolpromise === 'undefined') {\n",
       "$3Dmolpromise = null;\n",
       "  $3Dmolpromise = loadScriptAsync('https://3dmol.org/build/3Dmol.js');\n",
       "}\n",
       "\n",
       "var viewer_165878567138952 = null;\n",
       "var warn = document.getElementById(\"3dmolwarning_165878567138952\");\n",
       "if(warn) {\n",
       "    warn.parentNode.removeChild(warn);\n",
       "}\n",
       "$3Dmolpromise.then(function() {\n",
       "viewer_165878567138952 = $3Dmol.createViewer($(\"#3dmolviewer_165878567138952\"),{backgroundColor:\"white\"});\n",
       "viewer_165878567138952.zoomTo();\n",
       "\tviewer_165878567138952.addModel(\"REMARK  pred\\nSEQRES   1 A   20  ALA CYS ASP GLU PHE GLY HIS ILE LYS LEU MET ASN PRO          \\nSEQRES   2 A   20  GLN ARG SER THR VAL TRP TYR                                  \\nATOM      1  N   ALA A   1      -6.994  -2.641  -4.793  1.00  0.00           N  \\nATOM      2  CA  ALA A   1      -7.045  -1.342  -5.459  1.00  0.00           C  \\nATOM      3  C   ALA A   1      -5.654  -0.724  -5.563  1.00  0.00           C  \\nATOM      4  O   ALA A   1      -4.915  -0.675  -4.577  1.00  0.00           O  \\nATOM      5  CB  ALA A   1      -7.989  -0.400  -4.715  1.00  0.00           C  \\nATOM      6  N   CYS A   2      -4.902  -0.837  -6.543  1.00  0.00           N  \\nATOM      7  CA  CYS A   2      -3.526  -0.400  -6.748  1.00  0.00           C  \\nATOM      8  C   CYS A   2      -3.467   1.093  -7.050  1.00  0.00           C  \\nATOM      9  O   CYS A   2      -4.354   1.632  -7.713  1.00  0.00           O  \\nATOM     10  CB  CYS A   2      -2.878  -1.186  -7.888  1.00  0.00           C  \\nATOM     11  SG  CYS A   2      -1.136  -0.786  -8.149  1.00  0.00           S  \\nATOM     12  N   ASP A   3      -2.576   1.831  -6.202  1.00  0.00           N  \\nATOM     13  CA  ASP A   3      -2.389   3.256  -6.456  1.00  0.00           C  \\nATOM     14  C   ASP A   3      -1.377   3.487  -7.575  1.00  0.00           C  \\nATOM     15  O   ASP A   3      -0.895   2.533  -8.190  1.00  0.00           O  \\nATOM     16  CB  ASP A   3      -1.937   3.973  -5.182  1.00  0.00           C  \\nATOM     17  CG  ASP A   3      -0.611   3.459  -4.651  1.00  0.00           C  \\nATOM     18 OD1  ASP A   3       0.429   3.655  -5.315  1.00  0.00           O  \\nATOM     19 OD2  ASP A   3      -0.607   2.850  -3.559  1.00  0.00           O  \\nATOM     20  N   GLU A   4      -1.247   4.659  -8.037  1.00  0.00           N  \\nATOM     21  CA  GLU A   4      -0.382   5.128  -9.115  1.00  0.00           C  \\nATOM     22  C   GLU A   4       1.069   4.721  -8.875  1.00  0.00           C  \\nATOM     23  O   GLU A   4       1.858   4.629  -9.817  1.00  0.00           O  \\nATOM     24  CB  GLU A   4      -0.483   6.649  -9.263  1.00  0.00           C  \\nATOM     25  CG  GLU A   4      -1.828   7.127  -9.793  1.00  0.00           C  \\nATOM     26  CD  GLU A   4      -1.873   8.624 -10.051  1.00  0.00           C  \\nATOM     27 OE1  GLU A   4      -1.574   9.054 -11.188  1.00  0.00           O  \\nATOM     28 OE2  GLU A   4      -2.209   9.375  -9.107  1.00  0.00           O  \\nATOM     29  N   PHE A   5       1.358   4.226  -7.673  1.00  0.00           N  \\nATOM     30  CA  PHE A   5       2.741   3.916  -7.329  1.00  0.00           C  \\nATOM     31  C   PHE A   5       2.926   2.417  -7.126  1.00  0.00           C  \\nATOM     32  O   PHE A   5       4.042   1.951  -6.889  1.00  0.00           O  \\nATOM     33  CB  PHE A   5       3.164   4.673  -6.066  1.00  0.00           C  \\nATOM     34  CG  PHE A   5       3.164   6.170  -6.227  1.00  0.00           C  \\nATOM     35 CD1  PHE A   5       4.291   6.831  -6.701  1.00  0.00           C  \\nATOM     36 CE1  PHE A   5       4.294   8.216  -6.850  1.00  0.00           C  \\nATOM     37  CZ  PHE A   5       3.163   8.948  -6.523  1.00  0.00           C  \\nATOM     38 CE2  PHE A   5       2.034   8.299  -6.050  1.00  0.00           C  \\nATOM     39 CD2  PHE A   5       2.038   6.915  -5.903  1.00  0.00           C  \\nATOM     40  N   GLY A   6       1.852   1.579  -7.468  1.00  0.00           N  \\nATOM     41  CA  GLY A   6       1.918   0.127  -7.430  1.00  0.00           C  \\nATOM     42  C   GLY A   6       1.730  -0.443  -6.036  1.00  0.00           C  \\nATOM     43  O   GLY A   6       2.140  -1.572  -5.761  1.00  0.00           O  \\nATOM     44  N   HIS A   7       1.216   0.383  -5.098  1.00  0.00           N  \\nATOM     45  CA  HIS A   7       0.923  -0.119  -3.761  1.00  0.00           C  \\nATOM     46  C   HIS A   7      -0.464  -0.751  -3.702  1.00  0.00           C  \\nATOM     47  O   HIS A   7      -1.399  -0.269  -4.346  1.00  0.00           O  \\nATOM     48  CB  HIS A   7       1.030   1.007  -2.730  1.00  0.00           C  \\nATOM     49  CG  HIS A   7       2.388   1.632  -2.664  1.00  0.00           C  \\nATOM     50 ND1  HIS A   7       2.607   2.965  -2.934  1.00  0.00           N  \\nATOM     51 CE1  HIS A   7       3.895   3.230  -2.794  1.00  0.00           C  \\nATOM     52 NE2  HIS A   7       4.517   2.117  -2.443  1.00  0.00           N  \\nATOM     53 CD2  HIS A   7       3.595   1.103  -2.355  1.00  0.00           C  \\nATOM     54  N   ILE A   8      -0.537  -1.908  -3.128  1.00  0.00           N  \\nATOM     55  CA  ILE A   8      -1.842  -2.544  -2.983  1.00  0.00           C  \\nATOM     56  C   ILE A   8      -2.404  -2.258  -1.592  1.00  0.00           C  \\nATOM     57  O   ILE A   8      -1.750  -2.534  -0.583  1.00  0.00           O  \\nATOM     58  CB  ILE A   8      -1.757  -4.068  -3.223  1.00  0.00           C  \\nATOM     59 CG1  ILE A   8      -1.192  -4.358  -4.619  1.00  0.00           C  \\nATOM     60 CD1  ILE A   8      -0.826  -5.818  -4.847  1.00  0.00           C  \\nATOM     61 CG2  ILE A   8      -3.131  -4.721  -3.043  1.00  0.00           C  \\nATOM     62  N   LYS A   9      -3.450  -1.488  -1.570  1.00  0.00           N  \\nATOM     63  CA  LYS A   9      -4.128  -1.211  -0.306  1.00  0.00           C  \\nATOM     64  C   LYS A   9      -5.071  -2.349   0.072  1.00  0.00           C  \\nATOM     65  O   LYS A   9      -5.907  -2.764  -0.734  1.00  0.00           O  \\nATOM     66  CB  LYS A   9      -4.901   0.106  -0.389  1.00  0.00           C  \\nATOM     67  CG  LYS A   9      -5.289   0.682   0.965  1.00  0.00           C  \\nATOM     68  CD  LYS A   9      -5.906   2.068   0.827  1.00  0.00           C  \\nATOM     69  CE  LYS A   9      -5.735   2.886   2.100  1.00  0.00           C  \\nATOM     70  NZ  LYS A   9      -6.330   4.249   1.966  1.00  0.00           N  \\nATOM     71  N   LEU A  10      -4.568  -3.180   0.971  1.00  0.00           N  \\nATOM     72  CA  LEU A  10      -5.396  -4.294   1.420  1.00  0.00           C  \\nATOM     73  C   LEU A  10      -6.279  -3.877   2.592  1.00  0.00           C  \\nATOM     74  O   LEU A  10      -5.827  -3.170   3.495  1.00  0.00           O  \\nATOM     75  CB  LEU A  10      -4.521  -5.484   1.824  1.00  0.00           C  \\nATOM     76  CG  LEU A  10      -3.675  -6.111   0.714  1.00  0.00           C  \\nATOM     77 CD1  LEU A  10      -2.622  -7.038   1.310  1.00  0.00           C  \\nATOM     78 CD2  LEU A  10      -4.561  -6.863  -0.273  1.00  0.00           C  \\nATOM     79  N   MET A  11      -7.540  -3.621   2.350  1.00  0.00           N  \\nATOM     80  CA  MET A  11      -8.526  -3.203   3.343  1.00  0.00           C  \\nATOM     81  C   MET A  11      -8.757  -4.301   4.375  1.00  0.00           C  \\nATOM     82  O   MET A  11      -9.896  -4.558   4.770  1.00  0.00           O  \\nATOM     83  CB  MET A  11      -9.847  -2.834   2.667  1.00  0.00           C  \\nATOM     84  CG  MET A  11      -9.758  -1.604   1.777  1.00  0.00           C  \\nATOM     85  SD  MET A  11     -11.173  -0.460   2.016  1.00  0.00           S  \\nATOM     86  CE  MET A  11     -11.153   0.409   0.423  1.00  0.00           C  \\nATOM     87  N   ASN A  12      -7.778  -4.972   4.689  1.00  0.00           N  \\nATOM     88  CA  ASN A  12      -7.923  -5.925   5.785  1.00  0.00           C  \\nATOM     89  C   ASN A  12      -7.430  -5.340   7.105  1.00  0.00           C  \\nATOM     90  O   ASN A  12      -6.318  -4.814   7.179  1.00  0.00           O  \\nATOM     91  CB  ASN A  12      -7.178  -7.224   5.469  1.00  0.00           C  \\nATOM     92  CG  ASN A  12      -7.655  -8.390   6.312  1.00  0.00           C  \\nATOM     93 OD1  ASN A  12      -8.819  -8.443   6.719  1.00  0.00           O  \\nATOM     94 ND2  ASN A  12      -6.760  -9.334   6.580  1.00  0.00           N  \\nATOM     95  N   PRO A  13      -8.263  -5.136   8.117  1.00  0.00           N  \\nATOM     96  CA  PRO A  13      -8.011  -4.454   9.389  1.00  0.00           C  \\nATOM     97  C   PRO A  13      -6.904  -5.117  10.205  1.00  0.00           C  \\nATOM     98  O   PRO A  13      -6.297  -4.474  11.066  1.00  0.00           O  \\nATOM     99  CB  PRO A  13      -9.356  -4.551  10.113  1.00  0.00           C  \\nATOM    100  CG  PRO A  13     -10.140  -5.554   9.331  1.00  0.00           C  \\nATOM    101  CD  PRO A  13      -9.478  -5.741   7.996  1.00  0.00           C  \\nATOM    102  N   GLN A  14      -6.385  -6.237   9.789  1.00  0.00           N  \\nATOM    103  CA  GLN A  14      -5.441  -6.977  10.619  1.00  0.00           C  \\nATOM    104  C   GLN A  14      -4.139  -7.243   9.869  1.00  0.00           C  \\nATOM    105  O   GLN A  14      -3.149  -7.672  10.465  1.00  0.00           O  \\nATOM    106  CB  GLN A  14      -6.056  -8.296  11.087  1.00  0.00           C  \\nATOM    107  CG  GLN A  14      -6.891  -8.170  12.355  1.00  0.00           C  \\nATOM    108  CD  GLN A  14      -7.526  -9.483  12.772  1.00  0.00           C  \\nATOM    109 OE1  GLN A  14      -7.426 -10.490  12.064  1.00  0.00           O  \\nATOM    110 NE2  GLN A  14      -8.185  -9.483  13.926  1.00  0.00           N  \\nATOM    111  N   ARG A  15      -3.592  -6.507   8.923  1.00  0.00           N  \\nATOM    112  CA  ARG A  15      -2.208  -6.724   8.516  1.00  0.00           C  \\nATOM    113  C   ARG A  15      -1.971  -6.232   7.092  1.00  0.00           C  \\nATOM    114  O   ARG A  15      -2.785  -6.481   6.201  1.00  0.00           O  \\nATOM    115  CB  ARG A  15      -1.840  -8.205   8.626  1.00  0.00           C  \\nATOM    116  CG  ARG A  15      -1.460  -8.643  10.031  1.00  0.00           C  \\nATOM    117  CD  ARG A  15      -0.598  -9.898  10.018  1.00  0.00           C  \\nATOM    118  NE  ARG A  15       0.252  -9.981  11.202  1.00  0.00           N  \\nATOM    119  CZ  ARG A  15       1.116 -10.962  11.448  1.00  0.00           C  \\nATOM    120 NH1  ARG A  15       1.263 -11.966  10.592  1.00  0.00           N  \\nATOM    121 NH2  ARG A  15       1.840 -10.938  12.558  1.00  0.00           N  \\nATOM    122  N   SER A  16      -1.006  -5.367   6.890  1.00  0.00           N  \\nATOM    123  CA  SER A  16       0.360  -4.877   6.731  1.00  0.00           C  \\nATOM    124  C   SER A  16       0.688  -4.623   5.264  1.00  0.00           C  \\nATOM    125  O   SER A  16       0.365  -5.440   4.399  1.00  0.00           O  \\nATOM    126  CB  SER A  16       1.359  -5.874   7.320  1.00  0.00           C  \\nATOM    127  OG  SER A  16       1.119  -6.069   8.703  1.00  0.00           O  \\nATOM    128  N   THR A  17       0.904  -3.418   4.935  1.00  0.00           N  \\nATOM    129  CA  THR A  17       1.440  -2.873   3.693  1.00  0.00           C  \\nATOM    130  C   THR A  17       2.780  -3.519   3.353  1.00  0.00           C  \\nATOM    131  O   THR A  17       3.674  -3.590   4.199  1.00  0.00           O  \\nATOM    132  CB  THR A  17       1.611  -1.345   3.782  1.00  0.00           C  \\nATOM    133 OG1  THR A  17       0.372  -0.754   4.190  1.00  0.00           O  \\nATOM    134 CG2  THR A  17       2.022  -0.758   2.435  1.00  0.00           C  \\nATOM    135  N   VAL A  18       2.860  -4.629   2.725  1.00  0.00           N  \\nATOM    136  CA  VAL A  18       4.055  -5.232   2.144  1.00  0.00           C  \\nATOM    137  C   VAL A  18       4.481  -4.444   0.907  1.00  0.00           C  \\nATOM    138  O   VAL A  18       3.648  -4.103   0.063  1.00  0.00           O  \\nATOM    139  CB  VAL A  18       3.823  -6.715   1.778  1.00  0.00           C  \\nATOM    140 CG1  VAL A  18       5.103  -7.343   1.230  1.00  0.00           C  \\nATOM    141 CG2  VAL A  18       3.322  -7.491   2.994  1.00  0.00           C  \\nATOM    142  N   TRP A  19       5.700  -3.703   0.944  1.00  0.00           N  \\nATOM    143  CA  TRP A  19       6.529  -2.905   0.047  1.00  0.00           C  \\nATOM    144  C   TRP A  19       7.190  -3.783  -1.010  1.00  0.00           C  \\nATOM    145  O   TRP A  19       7.878  -4.752  -0.680  1.00  0.00           O  \\nATOM    146  CB  TRP A  19       7.598  -2.144   0.836  1.00  0.00           C  \\nATOM    147  CG  TRP A  19       7.050  -1.315   1.960  1.00  0.00           C  \\nATOM    148 CD1  TRP A  19       6.878  -1.701   3.260  1.00  0.00           C  \\nATOM    149 NE1  TRP A  19       6.347  -0.667   3.994  1.00  0.00           N  \\nATOM    150 CE2  TRP A  19       6.166   0.413   3.172  1.00  0.00           C  \\nATOM    151 CZ2  TRP A  19       5.660   1.684   3.452  1.00  0.00           C  \\nATOM    152 CH2  TRP A  19       5.592   2.581   2.417  1.00  0.00           C  \\nATOM    153 CZ3  TRP A  19       6.014   2.241   1.122  1.00  0.00           C  \\nATOM    154 CE3  TRP A  19       6.518   0.977   0.841  1.00  0.00           C  \\nATOM    155 CD2  TRP A  19       6.599   0.040   1.880  1.00  0.00           C  \\nATOM    156  N   TYR A  20       6.554  -4.220  -2.084  1.00  0.00           N  \\nATOM    157  CA  TYR A  20       7.442  -4.621  -3.170  1.00  0.00           C  \\nATOM    158  C   TYR A  20       7.732  -3.449  -4.099  1.00  0.00           C  \\nATOM    159  O   TYR A  20       6.866  -2.602  -4.330  1.00  0.00           O  \\nATOM    160  CB  TYR A  20       6.829  -5.778  -3.965  1.00  0.00           C  \\nATOM    161  CG  TYR A  20       6.638  -7.038  -3.155  1.00  0.00           C  \\nATOM    162 CD1  TYR A  20       7.677  -7.952  -2.999  1.00  0.00           C  \\nATOM    163 CE1  TYR A  20       7.506  -9.115  -2.255  1.00  0.00           C  \\nATOM    164  CZ  TYR A  20       6.284  -9.368  -1.660  1.00  0.00           C  \\nATOM    165  OH  TYR A  20       6.109 -10.517  -0.923  1.00  0.00           O  \\nATOM    166 CE2  TYR A  20       5.237  -8.476  -1.800  1.00  0.00           C  \\nATOM    167 CD2  TYR A  20       5.420  -7.316  -2.546  1.00  0.00           C  \\nTER\\nEND          \\n\",\"pdb\",{\"keepH\": true});\n",
       "\tviewer_165878567138952.setStyle({\"cartoon\": {\"color\": \"spectrum\"}, \"stick\": {\"radius\": 0.15}});\n",
       "\tviewer_165878567138952.zoomTo();\n",
       "viewer_165878567138952.render();\n",
       "});\n",
       "</script>"
      ]
     },
     "metadata": {},
     "output_type": "display_data"
    },
    {
     "data": {
      "text/plain": [
       "<py3Dmol.view at 0x7f868c2f1460>"
      ]
     },
     "execution_count": 6,
     "metadata": {},
     "output_type": "execute_result"
    }
   ],
   "source": [
    "p.to_3Dmol()"
   ]
  },
  {
   "cell_type": "code",
   "execution_count": 7,
   "id": "e53fff10",
   "metadata": {},
   "outputs": [],
   "source": [
    "c = p.fastbuild(inplace=True)"
   ]
  },
  {
   "cell_type": "code",
   "execution_count": 8,
   "id": "0cf9af39",
   "metadata": {},
   "outputs": [
    {
     "ename": "AttributeError",
     "evalue": "'NoneType' object has no attribute 'shape'",
     "output_type": "error",
     "traceback": [
      "\u001b[0;31m---------------------------------------------------------------------------\u001b[0m",
      "\u001b[0;31mAttributeError\u001b[0m                            Traceback (most recent call last)",
      "Input \u001b[0;32mIn [8]\u001b[0m, in \u001b[0;36m<module>\u001b[0;34m\u001b[0m\n\u001b[0;32m----> 1\u001b[0m \u001b[43mc\u001b[49m\u001b[38;5;241;43m.\u001b[39;49m\u001b[43mshape\u001b[49m\n",
      "\u001b[0;31mAttributeError\u001b[0m: 'NoneType' object has no attribute 'shape'"
     ]
    }
   ],
   "source": [
    "c.shape"
   ]
  },
  {
   "cell_type": "code",
   "execution_count": null,
   "id": "d8e9bd66",
   "metadata": {},
   "outputs": [],
   "source": [
    "p.has_hydrogens"
   ]
  },
  {
   "cell_type": "code",
   "execution_count": null,
   "id": "1cbc1cd3",
   "metadata": {},
   "outputs": [],
   "source": []
  },
  {
   "cell_type": "code",
   "execution_count": 9,
   "id": "6de8ae77",
   "metadata": {},
   "outputs": [
    {
     "data": {
      "application/3dmoljs_load.v0": "<div id=\"3dmolviewer_16587856732144537\"  style=\"position: relative; width: 640px; height: 480px\">\n        <p id=\"3dmolwarning_16587856732144537\" style=\"background-color:#ffcccc;color:black\">You appear to be running in JupyterLab (or JavaScript failed to load for some other reason).  You need to install the 3dmol extension: <br>\n        <tt>jupyter labextension install jupyterlab_3dmol</tt></p>\n        </div>\n<script>\n\nvar loadScriptAsync = function(uri){\n  return new Promise((resolve, reject) => {\n    var tag = document.createElement('script');\n    tag.src = uri;\n    tag.async = true;\n    tag.onload = () => {\n      resolve();\n    };\n  var firstScriptTag = document.getElementsByTagName('script')[0];\n  firstScriptTag.parentNode.insertBefore(tag, firstScriptTag);\n});\n};\n\nif(typeof $3Dmolpromise === 'undefined') {\n$3Dmolpromise = null;\n  $3Dmolpromise = loadScriptAsync('https://3dmol.org/build/3Dmol.js');\n}\n\nvar viewer_16587856732144537 = null;\nvar warn = document.getElementById(\"3dmolwarning_16587856732144537\");\nif(warn) {\n    warn.parentNode.removeChild(warn);\n}\n$3Dmolpromise.then(function() {\nviewer_16587856732144537 = $3Dmol.createViewer($(\"#3dmolviewer_16587856732144537\"),{backgroundColor:\"white\"});\nviewer_16587856732144537.zoomTo();\n\tviewer_16587856732144537.addModel(\"REMARK  pred\\nSEQRES   1 A   20  ALA CYS ASP GLU PHE GLY HIS ILE LYS LEU MET ASN PRO          \\nSEQRES   2 A   20  GLN ARG SER THR VAL TRP TYR                                  \\nATOM      1  N   ALA A   1       0.000   0.000   0.000  1.00  0.00           N  \\nATOM      2  CA  ALA A   1       1.442  -0.000  -0.000  1.00  0.00           C  \\nATOM      3  C   ALA A   1       1.981   1.398   0.000  1.00  0.00           C  \\nATOM      4  O   ALA A   1       2.132   1.998  -1.062  1.00  0.00           O  \\nATOM      5  N   CYS A   2       2.336   2.103   1.131  1.00  0.00           N  \\nATOM      6  CA  CYS A   2       2.766   3.469   1.297  1.00  0.00           C  \\nATOM      7  C   CYS A   2       4.204   3.630   0.910  1.00  0.00           C  \\nATOM      8  O   CYS A   2       5.060   2.904   1.410  1.00  0.00           O  \\nATOM      9  CB  CYS A   2       2.556   3.901   2.746  1.00  0.00           C  \\nATOM     10  SG  CYS A   2       3.002   5.649   2.897  1.00  0.00           S  \\nATOM     11  N   ASP A   3       4.433   4.627  -0.015  1.00  0.00           N  \\nATOM     12  CA  ASP A   3       5.793   4.913  -0.399  1.00  0.00           C  \\nATOM     13  C   ASP A   3       6.461   5.805   0.602  1.00  0.00           C  \\nATOM     14  O   ASP A   3       5.798   6.334   1.493  1.00  0.00           O  \\nATOM     15  CB  ASP A   3       5.812   5.554  -1.784  1.00  0.00           C  \\nATOM     16  CG  ASP A   3       5.045   6.869  -1.790  1.00  0.00           C  \\nATOM     17 OD1  ASP A   3       5.529   7.811  -1.125  1.00  0.00           O  \\nATOM     18 OD2  ASP A   3       3.990   6.908  -2.459  1.00  0.00           O  \\nATOM     19  N   GLU A   4       7.820   6.011   0.494  1.00  0.00           N  \\nATOM     20  CA  GLU A   4       8.688   6.790   1.342  1.00  0.00           C  \\nATOM     21  C   GLU A   4       8.175   8.189   1.502  1.00  0.00           C  \\nATOM     22  O   GLU A   4       8.675   8.934   2.341  1.00  0.00           O  \\nATOM     23  CB  GLU A   4      10.099   6.801   0.762  1.00  0.00           C  \\nATOM     24  CG  GLU A   4      10.710   5.408   0.883  1.00  0.00           C  \\nATOM     25  CD  GLU A   4      12.163   5.405   0.430  1.00  0.00           C  \\nATOM     26 OE1  GLU A   4      13.031   5.608   1.306  1.00  0.00           O  \\nATOM     27 OE2  GLU A   4      12.379   5.201  -0.784  1.00  0.00           O  \\nATOM     28  N   PHE A   5       7.142   8.566   0.671  1.00  0.00           N  \\nATOM     29  CA  PHE A   5       6.666   9.927   0.689  1.00  0.00           C  \\nATOM     30  C   PHE A   5       5.258   9.993   1.197  1.00  0.00           C  \\nATOM     31  O   PHE A   5       4.632  11.049   1.136  1.00  0.00           O  \\nATOM     32  CB  PHE A   5       6.757  10.523  -0.713  1.00  0.00           C  \\nATOM     33  CG  PHE A   5       8.167  10.634  -1.243  1.00  0.00           C  \\nATOM     34 CD1  PHE A   5       8.927  11.779  -0.975  1.00  0.00           C  \\nATOM     35 CE1  PHE A   5      10.233  11.883  -1.466  1.00  0.00           C  \\nATOM     36  CZ  PHE A   5      10.780  10.841  -2.225  1.00  0.00           C  \\nATOM     37 CE2  PHE A   5      10.021   9.697  -2.493  1.00  0.00           C  \\nATOM     38 CD2  PHE A   5       8.714   9.593  -2.002  1.00  0.00           C  \\nATOM     39  N   GLY A   6       4.717   8.839   1.722  1.00  0.00           N  \\nATOM     40  CA  GLY A   6       3.417   8.776   2.343  1.00  0.00           C  \\nATOM     41  C   GLY A   6       2.295   8.682   1.354  1.00  0.00           C  \\nATOM     42  O   GLY A   6       1.141   8.907   1.710  1.00  0.00           O  \\nATOM     43  N   HIS A   7       2.627   8.337   0.060  1.00  0.00           N  \\nATOM     44  CA  HIS A   7       1.592   8.141  -0.925  1.00  0.00           C  \\nATOM     45  C   HIS A   7       1.062   6.741  -0.879  1.00  0.00           C  \\nATOM     46  O   HIS A   7       1.839   5.789  -0.845  1.00  0.00           O  \\nATOM     47  CB  HIS A   7       2.138   8.459  -2.314  1.00  0.00           C  \\nATOM     48  CG  HIS A   7       2.619   9.878  -2.448  1.00  0.00           C  \\nATOM     49 ND1  HIS A   7       3.932  10.196  -2.754  1.00  0.00           N  \\nATOM     50 CE1  HIS A   7       4.035  11.534  -2.800  1.00  0.00           C  \\nATOM     51 NE2  HIS A   7       2.833  12.050  -2.532  1.00  0.00           N  \\nATOM     52 CD2  HIS A   7       1.950  10.993  -2.312  1.00  0.00           C  \\nATOM     53  N   ILE A   8      -0.312   6.613  -0.878  1.00  0.00           N  \\nATOM     54  CA  ILE A   8      -0.891   5.293  -0.894  1.00  0.00           C  \\nATOM     55  C   ILE A   8      -1.244   4.913  -2.299  1.00  0.00           C  \\nATOM     56  O   ILE A   8      -2.149   5.502  -2.886  1.00  0.00           O  \\nATOM     57  CB  ILE A   8      -2.118   5.259   0.012  1.00  0.00           C  \\nATOM     58 CG1  ILE A   8      -1.719   5.666   1.427  1.00  0.00           C  \\nATOM     59 CD1  ILE A   8      -2.973   5.896   2.264  1.00  0.00           C  \\nATOM     60 CG2  ILE A   8      -2.742   3.866  -0.028  1.00  0.00           C  \\nATOM     61  N   LYS A   9      -0.489   3.890  -2.834  1.00  0.00           N  \\nATOM     62  CA  LYS A   9      -0.792   3.380  -4.148  1.00  0.00           C  \\nATOM     63  C   LYS A   9      -1.922   2.399  -4.099  1.00  0.00           C  \\nATOM     64  O   LYS A   9      -1.714   1.239  -3.751  1.00  0.00           O  \\nATOM     65  CB  LYS A   9       0.454   2.733  -4.748  1.00  0.00           C  \\nATOM     66  CG  LYS A   9       0.273   2.582  -6.256  1.00  0.00           C  \\nATOM     67  CD  LYS A   9       1.578   2.093  -6.878  1.00  0.00           C  \\nATOM     68  CE  LYS A   9       1.635   2.519  -8.343  1.00  0.00           C  \\nATOM     69  NZ  LYS A   9       2.884   2.073  -8.978  1.00  0.00           N  \\nATOM     70  N   LEU A  10      -3.138   2.935  -4.470  1.00  0.00           N  \\nATOM     71  CA  LEU A  10      -4.291   2.069  -4.477  1.00  0.00           C  \\nATOM     72  C   LEU A  10      -4.421   1.366  -5.794  1.00  0.00           C  \\nATOM     73  O   LEU A  10      -4.875   1.963  -6.767  1.00  0.00           O  \\nATOM     74  CB  LEU A  10      -5.547   2.883  -4.184  1.00  0.00           C  \\nATOM     75  CG  LEU A  10      -5.454   3.478  -2.782  1.00  0.00           C  \\nATOM     76 CD1  LEU A  10      -6.523   4.554  -2.613  1.00  0.00           C  \\nATOM     77  N   MET A  11      -4.019   0.049  -5.866  1.00  0.00           N  \\nATOM     78  CA  MET A  11      -4.065  -0.777  -7.047  1.00  0.00           C  \\nATOM     79  C   MET A  11      -5.479  -0.997  -7.490  1.00  0.00           C  \\nATOM     80  O   MET A  11      -5.809  -2.076  -7.977  1.00  0.00           O  \\nATOM     81  CB  MET A  11      -3.379  -2.112  -6.768  1.00  0.00           C  \\nATOM     82  CG  MET A  11      -1.890  -1.879  -6.528  1.00  0.00           C  \\nATOM     83  SD  MET A  11      -0.795  -3.049  -7.370  1.00  0.00           S  \\nATOM     84  CE  MET A  11       0.655  -2.897  -6.298  1.00  0.00           C  \\nATOM     85  N   ASN A  12      -6.348   0.060  -7.318  1.00  0.00           N  \\nATOM     86  CA  ASN A  12      -7.674  -0.057  -7.872  1.00  0.00           C  \\nATOM     87  C   ASN A  12      -7.771   0.608  -9.211  1.00  0.00           C  \\nATOM     88  O   ASN A  12      -7.617   1.823  -9.306  1.00  0.00           O  \\nATOM     89  CB  ASN A  12      -8.692   0.533  -6.901  1.00  0.00           C  \\nATOM     90  CG  ASN A  12     -10.095   0.025  -7.201  1.00  0.00           C  \\nATOM     91 OD1  ASN A  12     -10.261  -1.087  -7.698  1.00  0.00           O  \\nATOM     92 ND2  ASN A  12     -11.105   0.844  -6.899  1.00  0.00           N  \\nATOM     93  N   PRO A  13      -8.032  -0.123 -10.351  1.00  0.00           N  \\nATOM     94  CA  PRO A  13      -8.014   0.313 -11.726  1.00  0.00           C  \\nATOM     95  C   PRO A  13      -8.996   1.411 -11.998  1.00  0.00           C  \\nATOM     96  O   PRO A  13      -9.019   1.956 -13.099  1.00  0.00           O  \\nATOM     97  CB  PRO A  13      -8.385  -0.969 -12.466  1.00  0.00           C  \\nATOM     98  CG  PRO A  13      -8.889  -1.884 -11.354  1.00  0.00           C  \\nATOM     99  CD  PRO A  13      -8.453  -1.329 -10.001  1.00  0.00           C  \\nATOM    100  N   GLN A  14      -9.869   1.802 -11.004  1.00  0.00           N  \\nATOM    101  CA  GLN A  14     -10.926   2.743 -11.278  1.00  0.00           C  \\nATOM    102  C   GLN A  14     -10.867   3.910 -10.340  1.00  0.00           C  \\nATOM    103  O   GLN A  14     -11.898   4.504 -10.033  1.00  0.00           O  \\nATOM    104  CB  GLN A  14     -12.278   2.043 -11.177  1.00  0.00           C  \\nATOM    105  CG  GLN A  14     -12.611   1.385 -12.513  1.00  0.00           C  \\nATOM    106  CD  GLN A  14     -13.934   0.635 -12.440  1.00  0.00           C  \\nATOM    107 OE1  GLN A  14     -14.535   0.538 -11.373  1.00  0.00           O  \\nATOM    108 NE2  GLN A  14     -14.385   0.106 -13.580  1.00  0.00           N  \\nATOM    109  N   ARG A  15      -9.751   4.446  -9.734  1.00  0.00           N  \\nATOM    110  CA  ARG A  15      -9.806   5.740  -9.100  1.00  0.00           C  \\nATOM    111  C   ARG A  15      -8.746   5.871  -8.049  1.00  0.00           C  \\nATOM    112  O   ARG A  15      -8.671   5.042  -7.145  1.00  0.00           O  \\nATOM    113  CB  ARG A  15     -11.189   5.958  -8.494  1.00  0.00           C  \\nATOM    114  CG  ARG A  15     -12.153   6.427  -9.580  1.00  0.00           C  \\nATOM    115  CD  ARG A  15     -13.322   7.168  -8.939  1.00  0.00           C  \\nATOM    116  NE  ARG A  15     -13.912   8.132  -9.868  1.00  0.00           N  \\nATOM    117  CZ  ARG A  15     -14.946   8.922  -9.548  1.00  0.00           C  \\nATOM    118 NH1  ARG A  15     -15.487   8.854  -8.324  1.00  0.00           N  \\nATOM    119 NH2  ARG A  15     -15.438   9.781 -10.451  1.00  0.00           N  \\nATOM    120  N   SER A  16      -7.876   6.938  -8.134  1.00  0.00           N  \\nATOM    121  CA  SER A  16      -7.421   8.302  -8.032  1.00  0.00           C  \\nATOM    122  C   SER A  16      -6.553   8.497  -6.827  1.00  0.00           C  \\nATOM    123  O   SER A  16      -7.029   8.373  -5.701  1.00  0.00           O  \\nATOM    124  CB  SER A  16      -8.622   9.242  -7.975  1.00  0.00           C  \\nATOM    125  OG  SER A  16      -9.391   9.096  -9.148  1.00  0.00           O  \\nATOM    126  N   THR A  17      -5.233   8.813  -7.067  1.00  0.00           N  \\nATOM    127  CA  THR A  17      -4.212   9.261  -6.152  1.00  0.00           C  \\nATOM    128  C   THR A  17      -4.670  10.472  -5.398  1.00  0.00           C  \\nATOM    129  O   THR A  17      -4.370  11.594  -5.798  1.00  0.00           O  \\nATOM    130  CB  THR A  17      -2.930   9.566  -6.921  1.00  0.00           C  \\nATOM    131 OG1  THR A  17      -2.572   8.447  -7.702  1.00  0.00           O  \\nATOM    132 CG2  THR A  17      -1.809   9.886  -5.936  1.00  0.00           C  \\nATOM    133  N   VAL A  18      -5.429  10.378  -4.251  1.00  0.00           N  \\nATOM    134  CA  VAL A  18      -5.738  11.434  -3.319  1.00  0.00           C  \\nATOM    135  C   VAL A  18      -4.512  11.794  -2.537  1.00  0.00           C  \\nATOM    136  O   VAL A  18      -4.038  10.993  -1.735  1.00  0.00           O  \\nATOM    137  CB  VAL A  18      -6.871  10.991  -2.397  1.00  0.00           C  \\nATOM    138 CG1  VAL A  18      -7.237  12.135  -1.455  1.00  0.00           C  \\nATOM    139 CG2  VAL A  18      -8.066  10.546  -3.235  1.00  0.00           C  \\nATOM    140  N   TRP A  19      -3.933  13.030  -2.733  1.00  0.00           N  \\nATOM    141  CA  TRP A  19      -2.856  13.823  -2.194  1.00  0.00           C  \\nATOM    142  C   TRP A  19      -3.172  14.281  -0.803  1.00  0.00           C  \\nATOM    143  O   TRP A  19      -3.566  15.429  -0.608  1.00  0.00           O  \\nATOM    144  CB  TRP A  19      -2.595  15.021  -3.102  1.00  0.00           C  \\nATOM    145  CG  TRP A  19      -2.356  14.700  -4.542  1.00  0.00           C  \\nATOM    146 CD1  TRP A  19      -3.314  14.646  -5.494  1.00  0.00           C  \\nATOM    147 NE1  TRP A  19      -2.724  14.322  -6.699  1.00  0.00           N  \\nATOM    148 CE2  TRP A  19      -1.360  14.156  -6.568  1.00  0.00           C  \\nATOM    149 CZ2  TRP A  19      -0.349  13.832  -7.481  1.00  0.00           C  \\nATOM    150 CH2  TRP A  19       0.978  13.731  -7.049  1.00  0.00           C  \\nATOM    151 CZ3  TRP A  19       1.296  13.954  -5.704  1.00  0.00           C  \\nATOM    152 CE3  TRP A  19       0.285  14.279  -4.791  1.00  0.00           C  \\nATOM    153 CD2  TRP A  19      -1.047  14.380  -5.224  1.00  0.00           C  \\nATOM    154  N   TYR A  20      -3.044  13.467   0.303  1.00  0.00           N  \\nATOM    155  CA  TYR A  20      -2.937  14.190   1.546  1.00  0.00           C  \\nATOM    156  C   TYR A  20      -1.506  14.484   1.876  1.00  0.00           C  \\nATOM    157  O   TYR A  20      -1.209  15.535   2.440  1.00  0.00           O  \\nATOM    158 OXT  TYR A  20      -0.629  13.675   1.581  1.00  0.00           O  \\nTER\\nEND          \\n\",\"pdb\",{\"keepH\": true});\n\tviewer_16587856732144537.setStyle({\"cartoon\": {\"color\": \"spectrum\"}, \"stick\": {\"radius\": 0.15}});\n\tviewer_16587856732144537.zoomTo();\nviewer_16587856732144537.render();\n});\n</script>",
      "text/html": [
       "<div id=\"3dmolviewer_16587856732144537\"  style=\"position: relative; width: 640px; height: 480px\">\n",
       "        <p id=\"3dmolwarning_16587856732144537\" style=\"background-color:#ffcccc;color:black\">You appear to be running in JupyterLab (or JavaScript failed to load for some other reason).  You need to install the 3dmol extension: <br>\n",
       "        <tt>jupyter labextension install jupyterlab_3dmol</tt></p>\n",
       "        </div>\n",
       "<script>\n",
       "\n",
       "var loadScriptAsync = function(uri){\n",
       "  return new Promise((resolve, reject) => {\n",
       "    var tag = document.createElement('script');\n",
       "    tag.src = uri;\n",
       "    tag.async = true;\n",
       "    tag.onload = () => {\n",
       "      resolve();\n",
       "    };\n",
       "  var firstScriptTag = document.getElementsByTagName('script')[0];\n",
       "  firstScriptTag.parentNode.insertBefore(tag, firstScriptTag);\n",
       "});\n",
       "};\n",
       "\n",
       "if(typeof $3Dmolpromise === 'undefined') {\n",
       "$3Dmolpromise = null;\n",
       "  $3Dmolpromise = loadScriptAsync('https://3dmol.org/build/3Dmol.js');\n",
       "}\n",
       "\n",
       "var viewer_16587856732144537 = null;\n",
       "var warn = document.getElementById(\"3dmolwarning_16587856732144537\");\n",
       "if(warn) {\n",
       "    warn.parentNode.removeChild(warn);\n",
       "}\n",
       "$3Dmolpromise.then(function() {\n",
       "viewer_16587856732144537 = $3Dmol.createViewer($(\"#3dmolviewer_16587856732144537\"),{backgroundColor:\"white\"});\n",
       "viewer_16587856732144537.zoomTo();\n",
       "\tviewer_16587856732144537.addModel(\"REMARK  pred\\nSEQRES   1 A   20  ALA CYS ASP GLU PHE GLY HIS ILE LYS LEU MET ASN PRO          \\nSEQRES   2 A   20  GLN ARG SER THR VAL TRP TYR                                  \\nATOM      1  N   ALA A   1       0.000   0.000   0.000  1.00  0.00           N  \\nATOM      2  CA  ALA A   1       1.442  -0.000  -0.000  1.00  0.00           C  \\nATOM      3  C   ALA A   1       1.981   1.398   0.000  1.00  0.00           C  \\nATOM      4  O   ALA A   1       2.132   1.998  -1.062  1.00  0.00           O  \\nATOM      5  N   CYS A   2       2.336   2.103   1.131  1.00  0.00           N  \\nATOM      6  CA  CYS A   2       2.766   3.469   1.297  1.00  0.00           C  \\nATOM      7  C   CYS A   2       4.204   3.630   0.910  1.00  0.00           C  \\nATOM      8  O   CYS A   2       5.060   2.904   1.410  1.00  0.00           O  \\nATOM      9  CB  CYS A   2       2.556   3.901   2.746  1.00  0.00           C  \\nATOM     10  SG  CYS A   2       3.002   5.649   2.897  1.00  0.00           S  \\nATOM     11  N   ASP A   3       4.433   4.627  -0.015  1.00  0.00           N  \\nATOM     12  CA  ASP A   3       5.793   4.913  -0.399  1.00  0.00           C  \\nATOM     13  C   ASP A   3       6.461   5.805   0.602  1.00  0.00           C  \\nATOM     14  O   ASP A   3       5.798   6.334   1.493  1.00  0.00           O  \\nATOM     15  CB  ASP A   3       5.812   5.554  -1.784  1.00  0.00           C  \\nATOM     16  CG  ASP A   3       5.045   6.869  -1.790  1.00  0.00           C  \\nATOM     17 OD1  ASP A   3       5.529   7.811  -1.125  1.00  0.00           O  \\nATOM     18 OD2  ASP A   3       3.990   6.908  -2.459  1.00  0.00           O  \\nATOM     19  N   GLU A   4       7.820   6.011   0.494  1.00  0.00           N  \\nATOM     20  CA  GLU A   4       8.688   6.790   1.342  1.00  0.00           C  \\nATOM     21  C   GLU A   4       8.175   8.189   1.502  1.00  0.00           C  \\nATOM     22  O   GLU A   4       8.675   8.934   2.341  1.00  0.00           O  \\nATOM     23  CB  GLU A   4      10.099   6.801   0.762  1.00  0.00           C  \\nATOM     24  CG  GLU A   4      10.710   5.408   0.883  1.00  0.00           C  \\nATOM     25  CD  GLU A   4      12.163   5.405   0.430  1.00  0.00           C  \\nATOM     26 OE1  GLU A   4      13.031   5.608   1.306  1.00  0.00           O  \\nATOM     27 OE2  GLU A   4      12.379   5.201  -0.784  1.00  0.00           O  \\nATOM     28  N   PHE A   5       7.142   8.566   0.671  1.00  0.00           N  \\nATOM     29  CA  PHE A   5       6.666   9.927   0.689  1.00  0.00           C  \\nATOM     30  C   PHE A   5       5.258   9.993   1.197  1.00  0.00           C  \\nATOM     31  O   PHE A   5       4.632  11.049   1.136  1.00  0.00           O  \\nATOM     32  CB  PHE A   5       6.757  10.523  -0.713  1.00  0.00           C  \\nATOM     33  CG  PHE A   5       8.167  10.634  -1.243  1.00  0.00           C  \\nATOM     34 CD1  PHE A   5       8.927  11.779  -0.975  1.00  0.00           C  \\nATOM     35 CE1  PHE A   5      10.233  11.883  -1.466  1.00  0.00           C  \\nATOM     36  CZ  PHE A   5      10.780  10.841  -2.225  1.00  0.00           C  \\nATOM     37 CE2  PHE A   5      10.021   9.697  -2.493  1.00  0.00           C  \\nATOM     38 CD2  PHE A   5       8.714   9.593  -2.002  1.00  0.00           C  \\nATOM     39  N   GLY A   6       4.717   8.839   1.722  1.00  0.00           N  \\nATOM     40  CA  GLY A   6       3.417   8.776   2.343  1.00  0.00           C  \\nATOM     41  C   GLY A   6       2.295   8.682   1.354  1.00  0.00           C  \\nATOM     42  O   GLY A   6       1.141   8.907   1.710  1.00  0.00           O  \\nATOM     43  N   HIS A   7       2.627   8.337   0.060  1.00  0.00           N  \\nATOM     44  CA  HIS A   7       1.592   8.141  -0.925  1.00  0.00           C  \\nATOM     45  C   HIS A   7       1.062   6.741  -0.879  1.00  0.00           C  \\nATOM     46  O   HIS A   7       1.839   5.789  -0.845  1.00  0.00           O  \\nATOM     47  CB  HIS A   7       2.138   8.459  -2.314  1.00  0.00           C  \\nATOM     48  CG  HIS A   7       2.619   9.878  -2.448  1.00  0.00           C  \\nATOM     49 ND1  HIS A   7       3.932  10.196  -2.754  1.00  0.00           N  \\nATOM     50 CE1  HIS A   7       4.035  11.534  -2.800  1.00  0.00           C  \\nATOM     51 NE2  HIS A   7       2.833  12.050  -2.532  1.00  0.00           N  \\nATOM     52 CD2  HIS A   7       1.950  10.993  -2.312  1.00  0.00           C  \\nATOM     53  N   ILE A   8      -0.312   6.613  -0.878  1.00  0.00           N  \\nATOM     54  CA  ILE A   8      -0.891   5.293  -0.894  1.00  0.00           C  \\nATOM     55  C   ILE A   8      -1.244   4.913  -2.299  1.00  0.00           C  \\nATOM     56  O   ILE A   8      -2.149   5.502  -2.886  1.00  0.00           O  \\nATOM     57  CB  ILE A   8      -2.118   5.259   0.012  1.00  0.00           C  \\nATOM     58 CG1  ILE A   8      -1.719   5.666   1.427  1.00  0.00           C  \\nATOM     59 CD1  ILE A   8      -2.973   5.896   2.264  1.00  0.00           C  \\nATOM     60 CG2  ILE A   8      -2.742   3.866  -0.028  1.00  0.00           C  \\nATOM     61  N   LYS A   9      -0.489   3.890  -2.834  1.00  0.00           N  \\nATOM     62  CA  LYS A   9      -0.792   3.380  -4.148  1.00  0.00           C  \\nATOM     63  C   LYS A   9      -1.922   2.399  -4.099  1.00  0.00           C  \\nATOM     64  O   LYS A   9      -1.714   1.239  -3.751  1.00  0.00           O  \\nATOM     65  CB  LYS A   9       0.454   2.733  -4.748  1.00  0.00           C  \\nATOM     66  CG  LYS A   9       0.273   2.582  -6.256  1.00  0.00           C  \\nATOM     67  CD  LYS A   9       1.578   2.093  -6.878  1.00  0.00           C  \\nATOM     68  CE  LYS A   9       1.635   2.519  -8.343  1.00  0.00           C  \\nATOM     69  NZ  LYS A   9       2.884   2.073  -8.978  1.00  0.00           N  \\nATOM     70  N   LEU A  10      -3.138   2.935  -4.470  1.00  0.00           N  \\nATOM     71  CA  LEU A  10      -4.291   2.069  -4.477  1.00  0.00           C  \\nATOM     72  C   LEU A  10      -4.421   1.366  -5.794  1.00  0.00           C  \\nATOM     73  O   LEU A  10      -4.875   1.963  -6.767  1.00  0.00           O  \\nATOM     74  CB  LEU A  10      -5.547   2.883  -4.184  1.00  0.00           C  \\nATOM     75  CG  LEU A  10      -5.454   3.478  -2.782  1.00  0.00           C  \\nATOM     76 CD1  LEU A  10      -6.523   4.554  -2.613  1.00  0.00           C  \\nATOM     77  N   MET A  11      -4.019   0.049  -5.866  1.00  0.00           N  \\nATOM     78  CA  MET A  11      -4.065  -0.777  -7.047  1.00  0.00           C  \\nATOM     79  C   MET A  11      -5.479  -0.997  -7.490  1.00  0.00           C  \\nATOM     80  O   MET A  11      -5.809  -2.076  -7.977  1.00  0.00           O  \\nATOM     81  CB  MET A  11      -3.379  -2.112  -6.768  1.00  0.00           C  \\nATOM     82  CG  MET A  11      -1.890  -1.879  -6.528  1.00  0.00           C  \\nATOM     83  SD  MET A  11      -0.795  -3.049  -7.370  1.00  0.00           S  \\nATOM     84  CE  MET A  11       0.655  -2.897  -6.298  1.00  0.00           C  \\nATOM     85  N   ASN A  12      -6.348   0.060  -7.318  1.00  0.00           N  \\nATOM     86  CA  ASN A  12      -7.674  -0.057  -7.872  1.00  0.00           C  \\nATOM     87  C   ASN A  12      -7.771   0.608  -9.211  1.00  0.00           C  \\nATOM     88  O   ASN A  12      -7.617   1.823  -9.306  1.00  0.00           O  \\nATOM     89  CB  ASN A  12      -8.692   0.533  -6.901  1.00  0.00           C  \\nATOM     90  CG  ASN A  12     -10.095   0.025  -7.201  1.00  0.00           C  \\nATOM     91 OD1  ASN A  12     -10.261  -1.087  -7.698  1.00  0.00           O  \\nATOM     92 ND2  ASN A  12     -11.105   0.844  -6.899  1.00  0.00           N  \\nATOM     93  N   PRO A  13      -8.032  -0.123 -10.351  1.00  0.00           N  \\nATOM     94  CA  PRO A  13      -8.014   0.313 -11.726  1.00  0.00           C  \\nATOM     95  C   PRO A  13      -8.996   1.411 -11.998  1.00  0.00           C  \\nATOM     96  O   PRO A  13      -9.019   1.956 -13.099  1.00  0.00           O  \\nATOM     97  CB  PRO A  13      -8.385  -0.969 -12.466  1.00  0.00           C  \\nATOM     98  CG  PRO A  13      -8.889  -1.884 -11.354  1.00  0.00           C  \\nATOM     99  CD  PRO A  13      -8.453  -1.329 -10.001  1.00  0.00           C  \\nATOM    100  N   GLN A  14      -9.869   1.802 -11.004  1.00  0.00           N  \\nATOM    101  CA  GLN A  14     -10.926   2.743 -11.278  1.00  0.00           C  \\nATOM    102  C   GLN A  14     -10.867   3.910 -10.340  1.00  0.00           C  \\nATOM    103  O   GLN A  14     -11.898   4.504 -10.033  1.00  0.00           O  \\nATOM    104  CB  GLN A  14     -12.278   2.043 -11.177  1.00  0.00           C  \\nATOM    105  CG  GLN A  14     -12.611   1.385 -12.513  1.00  0.00           C  \\nATOM    106  CD  GLN A  14     -13.934   0.635 -12.440  1.00  0.00           C  \\nATOM    107 OE1  GLN A  14     -14.535   0.538 -11.373  1.00  0.00           O  \\nATOM    108 NE2  GLN A  14     -14.385   0.106 -13.580  1.00  0.00           N  \\nATOM    109  N   ARG A  15      -9.751   4.446  -9.734  1.00  0.00           N  \\nATOM    110  CA  ARG A  15      -9.806   5.740  -9.100  1.00  0.00           C  \\nATOM    111  C   ARG A  15      -8.746   5.871  -8.049  1.00  0.00           C  \\nATOM    112  O   ARG A  15      -8.671   5.042  -7.145  1.00  0.00           O  \\nATOM    113  CB  ARG A  15     -11.189   5.958  -8.494  1.00  0.00           C  \\nATOM    114  CG  ARG A  15     -12.153   6.427  -9.580  1.00  0.00           C  \\nATOM    115  CD  ARG A  15     -13.322   7.168  -8.939  1.00  0.00           C  \\nATOM    116  NE  ARG A  15     -13.912   8.132  -9.868  1.00  0.00           N  \\nATOM    117  CZ  ARG A  15     -14.946   8.922  -9.548  1.00  0.00           C  \\nATOM    118 NH1  ARG A  15     -15.487   8.854  -8.324  1.00  0.00           N  \\nATOM    119 NH2  ARG A  15     -15.438   9.781 -10.451  1.00  0.00           N  \\nATOM    120  N   SER A  16      -7.876   6.938  -8.134  1.00  0.00           N  \\nATOM    121  CA  SER A  16      -7.421   8.302  -8.032  1.00  0.00           C  \\nATOM    122  C   SER A  16      -6.553   8.497  -6.827  1.00  0.00           C  \\nATOM    123  O   SER A  16      -7.029   8.373  -5.701  1.00  0.00           O  \\nATOM    124  CB  SER A  16      -8.622   9.242  -7.975  1.00  0.00           C  \\nATOM    125  OG  SER A  16      -9.391   9.096  -9.148  1.00  0.00           O  \\nATOM    126  N   THR A  17      -5.233   8.813  -7.067  1.00  0.00           N  \\nATOM    127  CA  THR A  17      -4.212   9.261  -6.152  1.00  0.00           C  \\nATOM    128  C   THR A  17      -4.670  10.472  -5.398  1.00  0.00           C  \\nATOM    129  O   THR A  17      -4.370  11.594  -5.798  1.00  0.00           O  \\nATOM    130  CB  THR A  17      -2.930   9.566  -6.921  1.00  0.00           C  \\nATOM    131 OG1  THR A  17      -2.572   8.447  -7.702  1.00  0.00           O  \\nATOM    132 CG2  THR A  17      -1.809   9.886  -5.936  1.00  0.00           C  \\nATOM    133  N   VAL A  18      -5.429  10.378  -4.251  1.00  0.00           N  \\nATOM    134  CA  VAL A  18      -5.738  11.434  -3.319  1.00  0.00           C  \\nATOM    135  C   VAL A  18      -4.512  11.794  -2.537  1.00  0.00           C  \\nATOM    136  O   VAL A  18      -4.038  10.993  -1.735  1.00  0.00           O  \\nATOM    137  CB  VAL A  18      -6.871  10.991  -2.397  1.00  0.00           C  \\nATOM    138 CG1  VAL A  18      -7.237  12.135  -1.455  1.00  0.00           C  \\nATOM    139 CG2  VAL A  18      -8.066  10.546  -3.235  1.00  0.00           C  \\nATOM    140  N   TRP A  19      -3.933  13.030  -2.733  1.00  0.00           N  \\nATOM    141  CA  TRP A  19      -2.856  13.823  -2.194  1.00  0.00           C  \\nATOM    142  C   TRP A  19      -3.172  14.281  -0.803  1.00  0.00           C  \\nATOM    143  O   TRP A  19      -3.566  15.429  -0.608  1.00  0.00           O  \\nATOM    144  CB  TRP A  19      -2.595  15.021  -3.102  1.00  0.00           C  \\nATOM    145  CG  TRP A  19      -2.356  14.700  -4.542  1.00  0.00           C  \\nATOM    146 CD1  TRP A  19      -3.314  14.646  -5.494  1.00  0.00           C  \\nATOM    147 NE1  TRP A  19      -2.724  14.322  -6.699  1.00  0.00           N  \\nATOM    148 CE2  TRP A  19      -1.360  14.156  -6.568  1.00  0.00           C  \\nATOM    149 CZ2  TRP A  19      -0.349  13.832  -7.481  1.00  0.00           C  \\nATOM    150 CH2  TRP A  19       0.978  13.731  -7.049  1.00  0.00           C  \\nATOM    151 CZ3  TRP A  19       1.296  13.954  -5.704  1.00  0.00           C  \\nATOM    152 CE3  TRP A  19       0.285  14.279  -4.791  1.00  0.00           C  \\nATOM    153 CD2  TRP A  19      -1.047  14.380  -5.224  1.00  0.00           C  \\nATOM    154  N   TYR A  20      -3.044  13.467   0.303  1.00  0.00           N  \\nATOM    155  CA  TYR A  20      -2.937  14.190   1.546  1.00  0.00           C  \\nATOM    156  C   TYR A  20      -1.506  14.484   1.876  1.00  0.00           C  \\nATOM    157  O   TYR A  20      -1.209  15.535   2.440  1.00  0.00           O  \\nATOM    158 OXT  TYR A  20      -0.629  13.675   1.581  1.00  0.00           O  \\nTER\\nEND          \\n\",\"pdb\",{\"keepH\": true});\n",
       "\tviewer_16587856732144537.setStyle({\"cartoon\": {\"color\": \"spectrum\"}, \"stick\": {\"radius\": 0.15}});\n",
       "\tviewer_16587856732144537.zoomTo();\n",
       "viewer_16587856732144537.render();\n",
       "});\n",
       "</script>"
      ]
     },
     "metadata": {},
     "output_type": "display_data"
    },
    {
     "data": {
      "text/plain": [
       "<py3Dmol.view at 0x7f85584c8910>"
      ]
     },
     "execution_count": 9,
     "metadata": {},
     "output_type": "execute_result"
    }
   ],
   "source": [
    "p.to_3Dmol()"
   ]
  },
  {
   "cell_type": "code",
   "execution_count": 10,
   "id": "d16ffc31",
   "metadata": {},
   "outputs": [],
   "source": [
    "p.fastbuild(add_hydrogens=True, inplace=True)"
   ]
  },
  {
   "cell_type": "code",
   "execution_count": 11,
   "id": "38a27522",
   "metadata": {},
   "outputs": [
    {
     "data": {
      "text/plain": [
       "torch.Size([20, 27, 3])"
      ]
     },
     "execution_count": 11,
     "metadata": {},
     "output_type": "execute_result"
    }
   ],
   "source": [
    "p.hcoords.shape"
   ]
  },
  {
   "cell_type": "code",
   "execution_count": 12,
   "id": "0403d441",
   "metadata": {},
   "outputs": [
    {
     "data": {
      "application/3dmoljs_load.v0": "<div id=\"3dmolviewer_16587856751317174\"  style=\"position: relative; width: 640px; height: 480px\">\n        <p id=\"3dmolwarning_16587856751317174\" style=\"background-color:#ffcccc;color:black\">You appear to be running in JupyterLab (or JavaScript failed to load for some other reason).  You need to install the 3dmol extension: <br>\n        <tt>jupyter labextension install jupyterlab_3dmol</tt></p>\n        </div>\n<script>\n\nvar loadScriptAsync = function(uri){\n  return new Promise((resolve, reject) => {\n    var tag = document.createElement('script');\n    tag.src = uri;\n    tag.async = true;\n    tag.onload = () => {\n      resolve();\n    };\n  var firstScriptTag = document.getElementsByTagName('script')[0];\n  firstScriptTag.parentNode.insertBefore(tag, firstScriptTag);\n});\n};\n\nif(typeof $3Dmolpromise === 'undefined') {\n$3Dmolpromise = null;\n  $3Dmolpromise = loadScriptAsync('https://3dmol.org/build/3Dmol.js');\n}\n\nvar viewer_16587856751317174 = null;\nvar warn = document.getElementById(\"3dmolwarning_16587856751317174\");\nif(warn) {\n    warn.parentNode.removeChild(warn);\n}\n$3Dmolpromise.then(function() {\nviewer_16587856751317174 = $3Dmol.createViewer($(\"#3dmolviewer_16587856751317174\"),{backgroundColor:\"white\"});\nviewer_16587856751317174.zoomTo();\n\tviewer_16587856751317174.addModel(\"REMARK  pred\\nSEQRES   1 A   20  ALA CYS ASP GLU PHE GLY HIS ILE LYS LEU MET ASN PRO          \\nSEQRES   2 A   20  GLN ARG SER THR VAL TRP TYR                                  \\nATOM      1  N   ALA A   1       0.000   0.000   0.000  1.00  0.00           N  \\nATOM      2  CA  ALA A   1       1.442  -0.000  -0.000  1.00  0.00           C  \\nATOM      3  C   ALA A   1       1.981   1.398   0.000  1.00  0.00           C  \\nATOM      4  O   ALA A   1       2.132   1.998  -1.062  1.00  0.00           O  \\nATOM      5  H1  ALA A   1      -0.505   0.875  -0.000  1.00  0.00           H  \\nATOM      6  H2  ALA A   1      -0.505  -0.437   0.757  1.00  0.00           H  \\nATOM      7  H3  ALA A   1      -0.505  -0.437  -0.757  1.00  0.00           H  \\nATOM      8  CB  ALA A   1       1.956  -0.480  -1.354  1.00  0.00           C  \\nATOM      9  HA  ALA A   1       1.806  -0.667   0.781  1.00  0.00           H  \\nATOM     10 HB1  ALA A   1       1.112  -0.710  -2.004  1.00  0.00           H  \\nATOM     11 HB2  ALA A   1       2.563   0.303  -1.811  1.00  0.00           H  \\nATOM     12 HB3  ALA A   1       2.563  -1.375  -1.217  1.00  0.00           H  \\nATOM     13  N   CYS A   2       2.336   2.103   1.131  1.00  0.00           N  \\nATOM     14  CA  CYS A   2       2.766   3.469   1.297  1.00  0.00           C  \\nATOM     15  C   CYS A   2       4.204   3.630   0.910  1.00  0.00           C  \\nATOM     16  O   CYS A   2       5.060   2.904   1.410  1.00  0.00           O  \\nATOM     17  H   CYS A   2       2.318   1.651   2.034  1.00  0.00           H  \\nATOM     18  CB  CYS A   2       2.556   3.901   2.746  1.00  0.00           C  \\nATOM     19  SG  CYS A   2       3.002   5.649   2.897  1.00  0.00           S  \\nATOM     20  HA  CYS A   2       2.184   4.116   0.640  1.00  0.00           H  \\nATOM     21 HB2  CYS A   2       3.187   3.299   3.400  1.00  0.00           H  \\nATOM     22 HB3  CYS A   2       1.510   3.761   3.020  1.00  0.00           H  \\nATOM     23  HG  CYS A   2       2.734   5.749   4.202  1.00  0.00           H  \\nATOM     24  N   ASP A   3       4.433   4.627  -0.015  1.00  0.00           N  \\nATOM     25  CA  ASP A   3       5.793   4.913  -0.399  1.00  0.00           C  \\nATOM     26  C   ASP A   3       6.461   5.805   0.602  1.00  0.00           C  \\nATOM     27  O   ASP A   3       5.798   6.334   1.493  1.00  0.00           O  \\nATOM     28  H   ASP A   3       3.657   5.140  -0.408  1.00  0.00           H  \\nATOM     29  CB  ASP A   3       5.812   5.554  -1.784  1.00  0.00           C  \\nATOM     30  CG  ASP A   3       5.045   6.869  -1.790  1.00  0.00           C  \\nATOM     31 OD1  ASP A   3       5.529   7.811  -1.125  1.00  0.00           O  \\nATOM     32 OD2  ASP A   3       3.990   6.908  -2.459  1.00  0.00           O  \\nATOM     33  HA  ASP A   3       6.367   3.987  -0.422  1.00  0.00           H  \\nATOM     34 HB2  ASP A   3       5.351   4.879  -2.504  1.00  0.00           H  \\nATOM     35 HB3  ASP A   3       6.843   5.751  -2.080  1.00  0.00           H  \\nATOM     36  N   GLU A   4       7.820   6.011   0.494  1.00  0.00           N  \\nATOM     37  CA  GLU A   4       8.688   6.790   1.342  1.00  0.00           C  \\nATOM     38  C   GLU A   4       8.175   8.189   1.502  1.00  0.00           C  \\nATOM     39  O   GLU A   4       8.675   8.934   2.341  1.00  0.00           O  \\nATOM     40  H   GLU A   4       8.337   5.583  -0.261  1.00  0.00           H  \\nATOM     41  CB  GLU A   4      10.099   6.801   0.762  1.00  0.00           C  \\nATOM     42  CG  GLU A   4      10.710   5.408   0.883  1.00  0.00           C  \\nATOM     43  CD  GLU A   4      12.163   5.405   0.430  1.00  0.00           C  \\nATOM     44 OE1  GLU A   4      13.031   5.608   1.306  1.00  0.00           O  \\nATOM     45 OE2  GLU A   4      12.379   5.201  -0.784  1.00  0.00           O  \\nATOM     46  HA  GLU A   4       8.711   6.353   2.340  1.00  0.00           H  \\nATOM     47 HB2  GLU A   4      10.713   7.515   1.311  1.00  0.00           H  \\nATOM     48 HB3  GLU A   4      10.059   7.089  -0.289  1.00  0.00           H  \\nATOM     49 HG2  GLU A   4      10.150   4.709   0.261  1.00  0.00           H  \\nATOM     50 HG3  GLU A   4      10.669   5.081   1.922  1.00  0.00           H  \\nATOM     51  N   PHE A   5       7.142   8.566   0.671  1.00  0.00           N  \\nATOM     52  CA  PHE A   5       6.666   9.927   0.689  1.00  0.00           C  \\nATOM     53  C   PHE A   5       5.258   9.993   1.197  1.00  0.00           C  \\nATOM     54  O   PHE A   5       4.632  11.049   1.136  1.00  0.00           O  \\nATOM     55  H   PHE A   5       6.719   7.889   0.051  1.00  0.00           H  \\nATOM     56  CB  PHE A   5       6.757  10.523  -0.713  1.00  0.00           C  \\nATOM     57  CG  PHE A   5       8.167  10.634  -1.243  1.00  0.00           C  \\nATOM     58 CD1  PHE A   5       8.927  11.779  -0.975  1.00  0.00           C  \\nATOM     59 CE1  PHE A   5      10.233  11.883  -1.466  1.00  0.00           C  \\nATOM     60  CZ  PHE A   5      10.780  10.841  -2.225  1.00  0.00           C  \\nATOM     61 CE2  PHE A   5      10.021   9.697  -2.493  1.00  0.00           C  \\nATOM     62 CD2  PHE A   5       8.714   9.593  -2.002  1.00  0.00           C  \\nATOM     63  HA  PHE A   5       7.278  10.517   1.372  1.00  0.00           H  \\nATOM     64 HB2  PHE A   5       6.335  11.528  -0.709  1.00  0.00           H  \\nATOM     65 HB3  PHE A   5       6.200   9.898  -1.411  1.00  0.00           H  \\nATOM     66 HD1  PHE A   5       8.505  12.583  -0.389  1.00  0.00           H  \\nATOM     67 HE1  PHE A   5      10.820  12.766  -1.259  1.00  0.00           H  \\nATOM     68  HZ  PHE A   5      11.789  10.921  -2.604  1.00  0.00           H  \\nATOM     69 HE2  PHE A   5      10.443   8.893  -3.079  1.00  0.00           H  \\nATOM     70  N   GLY A   6       4.717   8.839   1.722  1.00  0.00           N  \\nATOM     71  CA  GLY A   6       3.417   8.776   2.343  1.00  0.00           C  \\nATOM     72  C   GLY A   6       2.295   8.682   1.354  1.00  0.00           C  \\nATOM     73  O   GLY A   6       1.141   8.907   1.710  1.00  0.00           O  \\nATOM     74  H   GLY A   6       5.237   7.974   1.684  1.00  0.00           H  \\nATOM     75 HA2  GLY A   6       3.254   9.673   2.940  1.00  0.00           H  \\nATOM     76 HA3  GLY A   6       3.363   7.897   2.986  1.00  0.00           H  \\nATOM     77  N   HIS A   7       2.627   8.337   0.060  1.00  0.00           N  \\nATOM     78  CA  HIS A   7       1.592   8.141  -0.925  1.00  0.00           C  \\nATOM     79  C   HIS A   7       1.062   6.741  -0.879  1.00  0.00           C  \\nATOM     80  O   HIS A   7       1.839   5.789  -0.845  1.00  0.00           O  \\nATOM     81  H   HIS A   7       3.596   8.223  -0.199  1.00  0.00           H  \\nATOM     82  CB  HIS A   7       2.138   8.459  -2.314  1.00  0.00           C  \\nATOM     83  CG  HIS A   7       2.619   9.878  -2.448  1.00  0.00           C  \\nATOM     84 ND1  HIS A   7       3.932  10.196  -2.754  1.00  0.00           N  \\nATOM     85 CE1  HIS A   7       4.035  11.534  -2.800  1.00  0.00           C  \\nATOM     86 NE2  HIS A   7       2.833  12.050  -2.532  1.00  0.00           N  \\nATOM     87 CD2  HIS A   7       1.950  10.993  -2.312  1.00  0.00           C  \\nATOM     88  HA  HIS A   7       0.752   8.800  -0.707  1.00  0.00           H  \\nATOM     89 HB2  HIS A   7       1.355   8.306  -3.056  1.00  0.00           H  \\nATOM     90 HB3  HIS A   7       2.980   7.803  -2.534  1.00  0.00           H  \\nATOM     91 HD1  HIS A   7       4.610   9.461  -2.897  1.00  0.00           H  \\nATOM     92 HE1  HIS A   7       4.985  11.995  -3.025  1.00  0.00           H  \\nATOM     93 HD2  HIS A   7       0.915  11.194  -2.078  1.00  0.00           H  \\nATOM     94  N   ILE A   8      -0.312   6.613  -0.878  1.00  0.00           N  \\nATOM     95  CA  ILE A   8      -0.891   5.293  -0.894  1.00  0.00           C  \\nATOM     96  C   ILE A   8      -1.244   4.913  -2.299  1.00  0.00           C  \\nATOM     97  O   ILE A   8      -2.149   5.502  -2.886  1.00  0.00           O  \\nATOM     98  H   ILE A   8      -0.895   7.438  -0.865  1.00  0.00           H  \\nATOM     99  CB  ILE A   8      -2.118   5.259   0.012  1.00  0.00           C  \\nATOM    100 CG1  ILE A   8      -1.719   5.666   1.427  1.00  0.00           C  \\nATOM    101 CD1  ILE A   8      -2.973   5.896   2.264  1.00  0.00           C  \\nATOM    102 CG2  ILE A   8      -2.742   3.866  -0.028  1.00  0.00           C  \\nATOM    103  HA  ILE A   8      -0.158   4.570  -0.537  1.00  0.00           H  \\nATOM    104  HB  ILE A   8      -2.869   5.952  -0.367  1.00  0.00           H  \\nATOM    105 HG12 ILE A   8      -1.134   6.585   1.390  1.00  0.00           H  \\nATOM    106 HG13 ILE A   8      -1.121   4.873   1.878  1.00  0.00           H  \\nATOM    107 HD11 ILE A   8      -3.857   5.715   1.653  1.00  0.00           H  \\nATOM    108 HD12 ILE A   8      -2.974   5.213   3.114  1.00  0.00           H  \\nATOM    109 HD13 ILE A   8      -2.987   6.924   2.625  1.00  0.00           H  \\nATOM    110 HG21 ILE A   8      -2.162   3.227  -0.694  1.00  0.00           H  \\nATOM    111 HG21 ILE A   8      -2.743   3.439   0.975  1.00  0.00           H  \\nATOM    112 HG21 ILE A   8      -3.766   3.937  -0.393  1.00  0.00           H  \\nATOM    113  N   LYS A   9      -0.489   3.890  -2.834  1.00  0.00           N  \\nATOM    114  CA  LYS A   9      -0.792   3.380  -4.148  1.00  0.00           C  \\nATOM    115  C   LYS A   9      -1.922   2.399  -4.099  1.00  0.00           C  \\nATOM    116  O   LYS A   9      -1.714   1.239  -3.751  1.00  0.00           O  \\nATOM    117  H   LYS A   9       0.276   3.498  -2.305  1.00  0.00           H  \\nATOM    118  CB  LYS A   9       0.454   2.733  -4.748  1.00  0.00           C  \\nATOM    119  CG  LYS A   9       0.273   2.582  -6.256  1.00  0.00           C  \\nATOM    120  CD  LYS A   9       1.578   2.093  -6.878  1.00  0.00           C  \\nATOM    121  CE  LYS A   9       1.635   2.519  -8.343  1.00  0.00           C  \\nATOM    122  NZ  LYS A   9       2.884   2.073  -8.978  1.00  0.00           N  \\nATOM    123  HA  LYS A   9      -1.117   4.199  -4.790  1.00  0.00           H  \\nATOM    124 HB2  LYS A   9       0.604   1.750  -4.301  1.00  0.00           H  \\nATOM    125 HB3  LYS A   9       1.322   3.360  -4.547  1.00  0.00           H  \\nATOM    126 HG2  LYS A   9       0.004   3.546  -6.688  1.00  0.00           H  \\nATOM    127 HG3  LYS A   9      -0.518   1.861  -6.458  1.00  0.00           H  \\nATOM    128 HD2  LYS A   9       1.627   1.006  -6.814  1.00  0.00           H  \\nATOM    129 HD3  LYS A   9       2.422   2.526  -6.342  1.00  0.00           H  \\nATOM    130 HE2  LYS A   9       1.580   3.605  -8.408  1.00  0.00           H  \\nATOM    131 HE3  LYS A   9       0.795   2.080  -8.882  1.00  0.00           H  \\nATOM    132 HZ1  LYS A   9       3.447   1.575  -8.303  1.00  0.00           H  \\nATOM    133 HZ2  LYS A   9       3.396   2.877  -9.314  1.00  0.00           H  \\nATOM    134 HZ3  LYS A   9       2.670   1.463  -9.753  1.00  0.00           H  \\nATOM    135  N   LEU A  10      -3.138   2.935  -4.470  1.00  0.00           N  \\nATOM    136  CA  LEU A  10      -4.291   2.069  -4.477  1.00  0.00           C  \\nATOM    137  C   LEU A  10      -4.421   1.366  -5.794  1.00  0.00           C  \\nATOM    138  O   LEU A  10      -4.875   1.963  -6.767  1.00  0.00           O  \\nATOM    139  H   LEU A  10      -3.203   3.910  -4.726  1.00  0.00           H  \\nATOM    140  CB  LEU A  10      -5.547   2.883  -4.184  1.00  0.00           C  \\nATOM    141  CG  LEU A  10      -5.454   3.478  -2.782  1.00  0.00           C  \\nATOM    142 CD1  LEU A  10      -6.523   4.554  -2.613  1.00  0.00           C  \\nATOM    143 CD2  LEU A  10      -5.670   2.379  -1.747  1.00  0.00           C  \\nATOM    144  HA  LEU A  10      -4.173   1.299  -3.714  1.00  0.00           H  \\nATOM    145 HB2  LEU A  10      -6.423   2.237  -4.246  1.00  0.00           H  \\nATOM    146 HB3  LEU A  10      -5.638   3.687  -4.915  1.00  0.00           H  \\nATOM    147  HG  LEU A  10      -5.608   2.693  -2.043  1.00  0.00           H  \\nATOM    148 HD11 LEU A  10      -7.100   4.642  -3.533  1.00  0.00           H  \\nATOM    149 HD12 LEU A  10      -7.187   4.281  -1.793  1.00  0.00           H  \\nATOM    150 HD13 LEU A  10      -6.046   5.509  -2.391  1.00  0.00           H  \\nATOM    151 HD21 LEU A  10      -5.841   1.430  -2.254  1.00  0.00           H  \\nATOM    152 HD22 LEU A  10      -4.788   2.298  -1.112  1.00  0.00           H  \\nATOM    153 HD23 LEU A  10      -6.537   2.623  -1.133  1.00  0.00           H  \\nATOM    154  N   MET A  11      -4.019   0.049  -5.866  1.00  0.00           N  \\nATOM    155  CA  MET A  11      -4.065  -0.777  -7.047  1.00  0.00           C  \\nATOM    156  C   MET A  11      -5.479  -0.997  -7.490  1.00  0.00           C  \\nATOM    157  O   MET A  11      -5.809  -2.076  -7.977  1.00  0.00           O  \\nATOM    158  H   MET A  11      -3.655  -0.414  -5.045  1.00  0.00           H  \\nATOM    159  CB  MET A  11      -3.379  -2.112  -6.768  1.00  0.00           C  \\nATOM    160  CG  MET A  11      -1.890  -1.879  -6.528  1.00  0.00           C  \\nATOM    161  SD  MET A  11      -0.795  -3.049  -7.370  1.00  0.00           S  \\nATOM    162  CE  MET A  11       0.655  -2.897  -6.298  1.00  0.00           C  \\nATOM    163  HA  MET A  11      -3.552  -0.271  -7.865  1.00  0.00           H  \\nATOM    164 HB2  MET A  11      -3.509  -2.773  -7.625  1.00  0.00           H  \\nATOM    165 HB3  MET A  11      -3.822  -2.571  -5.885  1.00  0.00           H  \\nATOM    166 HG2  MET A  11      -1.677  -1.960  -5.462  1.00  0.00           H  \\nATOM    167 HG3  MET A  11      -1.616  -0.884  -6.877  1.00  0.00           H  \\nATOM    168 HE1  MET A  11       0.387  -3.182  -5.281  1.00  0.00           H  \\nATOM    169 HE2  MET A  11       1.447  -3.552  -6.662  1.00  0.00           H  \\nATOM    170 HE3  MET A  11       1.006  -1.865  -6.305  1.00  0.00           H  \\nATOM    171  N   ASN A  12      -6.348   0.060  -7.318  1.00  0.00           N  \\nATOM    172  CA  ASN A  12      -7.674  -0.057  -7.872  1.00  0.00           C  \\nATOM    173  C   ASN A  12      -7.771   0.608  -9.211  1.00  0.00           C  \\nATOM    174  O   ASN A  12      -7.617   1.823  -9.306  1.00  0.00           O  \\nATOM    175  H   ASN A  12      -6.049   0.883  -6.816  1.00  0.00           H  \\nATOM    176  CB  ASN A  12      -8.692   0.533  -6.901  1.00  0.00           C  \\nATOM    177  CG  ASN A  12     -10.095   0.025  -7.201  1.00  0.00           C  \\nATOM    178 OD1  ASN A  12     -10.261  -1.087  -7.698  1.00  0.00           O  \\nATOM    179 ND2  ASN A  12     -11.105   0.844  -6.899  1.00  0.00           N  \\nATOM    180  HA  ASN A  12      -7.905  -1.109  -8.043  1.00  0.00           H  \\nATOM    181 HB2  ASN A  12      -8.689   1.619  -6.986  1.00  0.00           H  \\nATOM    182 HB3  ASN A  12      -8.429   0.248  -5.882  1.00  0.00           H  \\nATOM    183 HD21 ASN A  12     -10.916   1.749  -6.492  1.00  0.00           H  \\nATOM    184 HD22 ASN A  12     -12.057   0.559  -7.077  1.00  0.00           H  \\nATOM    185  N   PRO A  13      -8.032  -0.123 -10.351  1.00  0.00           N  \\nATOM    186  CA  PRO A  13      -8.014   0.313 -11.726  1.00  0.00           C  \\nATOM    187  C   PRO A  13      -8.996   1.411 -11.998  1.00  0.00           C  \\nATOM    188  O   PRO A  13      -9.019   1.956 -13.099  1.00  0.00           O  \\nATOM    189  CB  PRO A  13      -8.385  -0.969 -12.466  1.00  0.00           C  \\nATOM    190  CG  PRO A  13      -8.889  -1.884 -11.354  1.00  0.00           C  \\nATOM    191  CD  PRO A  13      -8.453  -1.329 -10.001  1.00  0.00           C  \\nATOM    192  HA  PRO A  13      -7.020   0.680 -11.979  1.00  0.00           H  \\nATOM    193 HB2  PRO A  13      -7.503  -1.369 -12.966  1.00  0.00           H  \\nATOM    194 HB3  PRO A  13      -9.155  -0.752 -13.207  1.00  0.00           H  \\nATOM    195 HG2  PRO A  13      -8.473  -2.883 -11.488  1.00  0.00           H  \\nATOM    196 HG3  PRO A  13      -9.978  -1.936 -11.391  1.00  0.00           H  \\nATOM    197 HD2  PRO A  13      -9.334  -1.117  -9.394  1.00  0.00           H  \\nATOM    198 HD3  PRO A  13      -7.829  -2.063  -9.491  1.00  0.00           H  \\nATOM    199  N   GLN A  14      -9.869   1.802 -11.004  1.00  0.00           N  \\nATOM    200  CA  GLN A  14     -10.926   2.743 -11.278  1.00  0.00           C  \\nATOM    201  C   GLN A  14     -10.867   3.910 -10.340  1.00  0.00           C  \\nATOM    202  O   GLN A  14     -11.898   4.504 -10.033  1.00  0.00           O  \\nATOM    203  H   GLN A  14      -9.772   1.428 -10.071  1.00  0.00           H  \\nATOM    204  CB  GLN A  14     -12.278   2.043 -11.177  1.00  0.00           C  \\nATOM    205  CG  GLN A  14     -12.611   1.385 -12.513  1.00  0.00           C  \\nATOM    206  CD  GLN A  14     -13.934   0.635 -12.440  1.00  0.00           C  \\nATOM    207 OE1  GLN A  14     -14.535   0.538 -11.373  1.00  0.00           O  \\nATOM    208 NE2  GLN A  14     -14.385   0.106 -13.580  1.00  0.00           N  \\nATOM    209  HA  GLN A  14     -10.803   3.147 -12.283  1.00  0.00           H  \\nATOM    210 HB2  GLN A  14     -13.049   2.772 -10.930  1.00  0.00           H  \\nATOM    211 HB3  GLN A  14     -12.236   1.281 -10.399  1.00  0.00           H  \\nATOM    212 HG2  GLN A  14     -11.825   0.679 -12.778  1.00  0.00           H  \\nATOM    213 HG3  GLN A  14     -12.687   2.150 -13.286  1.00  0.00           H  \\nATOM    214 HE21 GLN A  14     -13.853   0.214 -14.432  1.00  0.00           H  \\nATOM    215 HE22 GLN A  14     -15.257  -0.403 -13.590  1.00  0.00           H  \\nATOM    216  N   ARG A  15      -9.751   4.446  -9.734  1.00  0.00           N  \\nATOM    217  CA  ARG A  15      -9.806   5.740  -9.100  1.00  0.00           C  \\nATOM    218  C   ARG A  15      -8.746   5.871  -8.049  1.00  0.00           C  \\nATOM    219  O   ARG A  15      -8.671   5.042  -7.145  1.00  0.00           O  \\nATOM    220  H   ARG A  15      -8.882   3.931  -9.730  1.00  0.00           H  \\nATOM    221  CB  ARG A  15     -11.189   5.958  -8.494  1.00  0.00           C  \\nATOM    222  CG  ARG A  15     -12.153   6.427  -9.580  1.00  0.00           C  \\nATOM    223  CD  ARG A  15     -13.322   7.168  -8.939  1.00  0.00           C  \\nATOM    224  NE  ARG A  15     -13.912   8.132  -9.868  1.00  0.00           N  \\nATOM    225  CZ  ARG A  15     -14.946   8.922  -9.548  1.00  0.00           C  \\nATOM    226 NH1  ARG A  15     -15.487   8.854  -8.324  1.00  0.00           N  \\nATOM    227 NH2  ARG A  15     -15.438   9.781 -10.451  1.00  0.00           N  \\nATOM    228  HA  ARG A  15      -9.609   6.516  -9.840  1.00  0.00           H  \\nATOM    229 HB2  ARG A  15     -11.129   6.714  -7.711  1.00  0.00           H  \\nATOM    230 HB3  ARG A  15     -11.551   5.022  -8.068  1.00  0.00           H  \\nATOM    231 HG2  ARG A  15     -12.528   5.565 -10.131  1.00  0.00           H  \\nATOM    232 HG3  ARG A  15     -11.631   7.096 -10.265  1.00  0.00           H  \\nATOM    233 HD2  ARG A  15     -12.973   7.706  -8.057  1.00  0.00           H  \\nATOM    234 HD3  ARG A  15     -14.090   6.452  -8.646  1.00  0.00           H  \\nATOM    235  HE  ARG A  15     -13.522   8.204 -10.797  1.00  0.00           H  \\nATOM    236 HH11 ARG A  15     -15.117   8.206  -7.643  1.00  0.00           H  \\nATOM    237 HH12 ARG A  15     -16.266   9.450  -8.082  1.00  0.00           H  \\nATOM    238 HH21 ARG A  15     -15.029   9.833 -11.373  1.00  0.00           H  \\nATOM    239 HH22 ARG A  15     -16.216  10.377 -10.209  1.00  0.00           H  \\nATOM    240  N   SER A  16      -7.876   6.938  -8.134  1.00  0.00           N  \\nATOM    241  CA  SER A  16      -7.421   8.302  -8.032  1.00  0.00           C  \\nATOM    242  C   SER A  16      -6.553   8.497  -6.827  1.00  0.00           C  \\nATOM    243  O   SER A  16      -7.029   8.373  -5.701  1.00  0.00           O  \\nATOM    244  H   SER A  16      -6.931   6.794  -8.461  1.00  0.00           H  \\nATOM    245  CB  SER A  16      -8.622   9.242  -7.975  1.00  0.00           C  \\nATOM    246  OG  SER A  16      -9.391   9.096  -9.148  1.00  0.00           O  \\nATOM    247  HA  SER A  16      -6.812   8.548  -8.902  1.00  0.00           H  \\nATOM    248 HB2  SER A  16      -8.275  10.272  -7.895  1.00  0.00           H  \\nATOM    249 HB3  SER A  16      -9.235   8.997  -7.107  1.00  0.00           H  \\nATOM    250  HG  SER A  16     -10.141   9.692  -9.097  1.00  0.00           H  \\nATOM    251  N   THR A  17      -5.233   8.813  -7.067  1.00  0.00           N  \\nATOM    252  CA  THR A  17      -4.212   9.261  -6.152  1.00  0.00           C  \\nATOM    253  C   THR A  17      -4.670  10.472  -5.398  1.00  0.00           C  \\nATOM    254  O   THR A  17      -4.370  11.594  -5.798  1.00  0.00           O  \\nATOM    255  H   THR A  17      -4.858   8.741  -8.002  1.00  0.00           H  \\nATOM    256  CB  THR A  17      -2.930   9.566  -6.921  1.00  0.00           C  \\nATOM    257 OG1  THR A  17      -2.572   8.447  -7.702  1.00  0.00           O  \\nATOM    258 CG2  THR A  17      -1.809   9.886  -5.936  1.00  0.00           C  \\nATOM    259  HA  THR A  17      -4.015   8.481  -5.416  1.00  0.00           H  \\nATOM    260  HB  THR A  17      -3.091  10.425  -7.572  1.00  0.00           H  \\nATOM    261 HG1  THR A  17      -1.765   8.654  -8.179  1.00  0.00           H  \\nATOM    262 HG21 THR A  17      -2.190   9.822  -4.917  1.00  0.00           H  \\nATOM    263 HG22 THR A  17      -0.996   9.172  -6.066  1.00  0.00           H  \\nATOM    264 HG23 THR A  17      -1.439  10.895  -6.122  1.00  0.00           H  \\nATOM    265  N   VAL A  18      -5.429  10.378  -4.251  1.00  0.00           N  \\nATOM    266  CA  VAL A  18      -5.738  11.434  -3.319  1.00  0.00           C  \\nATOM    267  C   VAL A  18      -4.512  11.794  -2.537  1.00  0.00           C  \\nATOM    268  O   VAL A  18      -4.038  10.993  -1.735  1.00  0.00           O  \\nATOM    269  H   VAL A  18      -5.838   9.493  -3.987  1.00  0.00           H  \\nATOM    270  CB  VAL A  18      -6.871  10.991  -2.397  1.00  0.00           C  \\nATOM    271 CG1  VAL A  18      -7.237  12.135  -1.455  1.00  0.00           C  \\nATOM    272 CG2  VAL A  18      -8.066  10.546  -3.235  1.00  0.00           C  \\nATOM    273  HA  VAL A  18      -6.047  12.324  -3.867  1.00  0.00           H  \\nATOM    274  HB  VAL A  18      -6.548  10.129  -1.813  1.00  0.00           H  \\nATOM    275 HG11 VAL A  18      -6.602  12.996  -1.664  1.00  0.00           H  \\nATOM    276 HG12 VAL A  18      -8.281  12.408  -1.603  1.00  0.00           H  \\nATOM    277 HG13 VAL A  18      -7.088  11.817  -0.422  1.00  0.00           H  \\nATOM    278 HG21 VAL A  18      -7.827  10.650  -4.293  1.00  0.00           H  \\nATOM    279 HG22 VAL A  18      -8.295   9.503  -3.015  1.00  0.00           H  \\nATOM    280 HG23 VAL A  18      -8.929  11.166  -2.995  1.00  0.00           H  \\nATOM    281  N   TRP A  19      -3.933  13.030  -2.733  1.00  0.00           N  \\nATOM    282  CA  TRP A  19      -2.856  13.823  -2.194  1.00  0.00           C  \\nATOM    283  C   TRP A  19      -3.172  14.281  -0.803  1.00  0.00           C  \\nATOM    284  O   TRP A  19      -3.566  15.429  -0.608  1.00  0.00           O  \\nATOM    285  H   TRP A  19      -4.293  13.650  -3.445  1.00  0.00           H  \\nATOM    286  CB  TRP A  19      -2.595  15.021  -3.102  1.00  0.00           C  \\nATOM    287  CG  TRP A  19      -2.356  14.700  -4.542  1.00  0.00           C  \\nATOM    288 CD1  TRP A  19      -3.314  14.646  -5.494  1.00  0.00           C  \\nATOM    289 NE1  TRP A  19      -2.724  14.322  -6.699  1.00  0.00           N  \\nATOM    290 CE2  TRP A  19      -1.360  14.156  -6.568  1.00  0.00           C  \\nATOM    291 CZ2  TRP A  19      -0.349  13.832  -7.481  1.00  0.00           C  \\nATOM    292 CH2  TRP A  19       0.978  13.731  -7.049  1.00  0.00           C  \\nATOM    293 CZ3  TRP A  19       1.296  13.954  -5.704  1.00  0.00           C  \\nATOM    294 CE3  TRP A  19       0.285  14.279  -4.791  1.00  0.00           C  \\nATOM    295 CD2  TRP A  19      -1.047  14.380  -5.224  1.00  0.00           C  \\nATOM    296  HA  TRP A  19      -1.953  13.215  -2.129  1.00  0.00           H  \\nATOM    297 HB2  TRP A  19      -1.709  15.554  -2.756  1.00  0.00           H  \\nATOM    298 HB3  TRP A  19      -3.454  15.692  -3.076  1.00  0.00           H  \\nATOM    299 HD1  TRP A  19      -4.344  14.842  -5.235  1.00  0.00           H  \\nATOM    300 HE1  TRP A  19      -3.244  14.224  -7.559  1.00  0.00           H  \\nATOM    301 HZ2  TRP A  19      -0.594  13.659  -8.519  1.00  0.00           H  \\nATOM    302 HH2  TRP A  19       1.758  13.481  -7.753  1.00  0.00           H  \\nATOM    303 HZ3  TRP A  19       2.320  13.877  -5.370  1.00  0.00           H  \\nATOM    304 HE3  TRP A  19       0.529  14.451  -3.753  1.00  0.00           H  \\nATOM    305  N   TYR A  20      -3.044  13.467   0.303  1.00  0.00           N  \\nATOM    306  CA  TYR A  20      -2.937  14.190   1.546  1.00  0.00           C  \\nATOM    307  C   TYR A  20      -1.506  14.484   1.876  1.00  0.00           C  \\nATOM    308  O   TYR A  20      -1.209  15.535   2.440  1.00  0.00           O  \\nATOM    309 OXT  TYR A  20      -0.629  13.675   1.581  1.00  0.00           O  \\nATOM    310  H   TYR A  20      -3.031  12.463   0.193  1.00  0.00           H  \\nATOM    311  CB  TYR A  20      -3.585  13.383   2.668  1.00  0.00           C  \\nATOM    312  CG  TYR A  20      -5.067  13.156   2.485  1.00  0.00           C  \\nATOM    313 CD1  TYR A  20      -5.981  14.126   2.913  1.00  0.00           C  \\nATOM    314 CE1  TYR A  20      -7.355  13.916   2.743  1.00  0.00           C  \\nATOM    315  CZ  TYR A  20      -7.817  12.729   2.142  1.00  0.00           C  \\nATOM    316  OH  TYR A  20      -9.155  12.524   1.977  1.00  0.00           O  \\nATOM    317 CE2  TYR A  20      -6.897  11.753   1.711  1.00  0.00           C  \\nATOM    318 CD2  TYR A  20      -5.523  11.963   1.881  1.00  0.00           C  \\nATOM    319  HA  TYR A  20      -3.445  15.151   1.453  1.00  0.00           H  \\nATOM    320 HB2  TYR A  20      -3.455  13.906   3.615  1.00  0.00           H  \\nATOM    321 HB3  TYR A  20      -3.115  12.402   2.728  1.00  0.00           H  \\nATOM    322 HD1  TYR A  20      -5.627  15.037   3.374  1.00  0.00           H  \\nATOM    323 HE1  TYR A  20      -8.060  14.665   3.073  1.00  0.00           H  \\nATOM    324  HH  TYR A  20      -9.358  11.684   1.557  1.00  0.00           H  \\nATOM    325 HE2  TYR A  20      -7.251  10.842   1.250  1.00  0.00           H  \\nATOM    326 HD2  TYR A  20      -4.817  11.215   1.551  1.00  0.00           H  \\nTER\\nEND          \\n\",\"pdb\",{\"keepH\": true});\n\tviewer_16587856751317174.setStyle({\"cartoon\": {\"color\": \"spectrum\"}, \"stick\": {\"radius\": 0.15}});\n\tviewer_16587856751317174.zoomTo();\nviewer_16587856751317174.render();\n});\n</script>",
      "text/html": [
       "<div id=\"3dmolviewer_16587856751317174\"  style=\"position: relative; width: 640px; height: 480px\">\n",
       "        <p id=\"3dmolwarning_16587856751317174\" style=\"background-color:#ffcccc;color:black\">You appear to be running in JupyterLab (or JavaScript failed to load for some other reason).  You need to install the 3dmol extension: <br>\n",
       "        <tt>jupyter labextension install jupyterlab_3dmol</tt></p>\n",
       "        </div>\n",
       "<script>\n",
       "\n",
       "var loadScriptAsync = function(uri){\n",
       "  return new Promise((resolve, reject) => {\n",
       "    var tag = document.createElement('script');\n",
       "    tag.src = uri;\n",
       "    tag.async = true;\n",
       "    tag.onload = () => {\n",
       "      resolve();\n",
       "    };\n",
       "  var firstScriptTag = document.getElementsByTagName('script')[0];\n",
       "  firstScriptTag.parentNode.insertBefore(tag, firstScriptTag);\n",
       "});\n",
       "};\n",
       "\n",
       "if(typeof $3Dmolpromise === 'undefined') {\n",
       "$3Dmolpromise = null;\n",
       "  $3Dmolpromise = loadScriptAsync('https://3dmol.org/build/3Dmol.js');\n",
       "}\n",
       "\n",
       "var viewer_16587856751317174 = null;\n",
       "var warn = document.getElementById(\"3dmolwarning_16587856751317174\");\n",
       "if(warn) {\n",
       "    warn.parentNode.removeChild(warn);\n",
       "}\n",
       "$3Dmolpromise.then(function() {\n",
       "viewer_16587856751317174 = $3Dmol.createViewer($(\"#3dmolviewer_16587856751317174\"),{backgroundColor:\"white\"});\n",
       "viewer_16587856751317174.zoomTo();\n",
       "\tviewer_16587856751317174.addModel(\"REMARK  pred\\nSEQRES   1 A   20  ALA CYS ASP GLU PHE GLY HIS ILE LYS LEU MET ASN PRO          \\nSEQRES   2 A   20  GLN ARG SER THR VAL TRP TYR                                  \\nATOM      1  N   ALA A   1       0.000   0.000   0.000  1.00  0.00           N  \\nATOM      2  CA  ALA A   1       1.442  -0.000  -0.000  1.00  0.00           C  \\nATOM      3  C   ALA A   1       1.981   1.398   0.000  1.00  0.00           C  \\nATOM      4  O   ALA A   1       2.132   1.998  -1.062  1.00  0.00           O  \\nATOM      5  H1  ALA A   1      -0.505   0.875  -0.000  1.00  0.00           H  \\nATOM      6  H2  ALA A   1      -0.505  -0.437   0.757  1.00  0.00           H  \\nATOM      7  H3  ALA A   1      -0.505  -0.437  -0.757  1.00  0.00           H  \\nATOM      8  CB  ALA A   1       1.956  -0.480  -1.354  1.00  0.00           C  \\nATOM      9  HA  ALA A   1       1.806  -0.667   0.781  1.00  0.00           H  \\nATOM     10 HB1  ALA A   1       1.112  -0.710  -2.004  1.00  0.00           H  \\nATOM     11 HB2  ALA A   1       2.563   0.303  -1.811  1.00  0.00           H  \\nATOM     12 HB3  ALA A   1       2.563  -1.375  -1.217  1.00  0.00           H  \\nATOM     13  N   CYS A   2       2.336   2.103   1.131  1.00  0.00           N  \\nATOM     14  CA  CYS A   2       2.766   3.469   1.297  1.00  0.00           C  \\nATOM     15  C   CYS A   2       4.204   3.630   0.910  1.00  0.00           C  \\nATOM     16  O   CYS A   2       5.060   2.904   1.410  1.00  0.00           O  \\nATOM     17  H   CYS A   2       2.318   1.651   2.034  1.00  0.00           H  \\nATOM     18  CB  CYS A   2       2.556   3.901   2.746  1.00  0.00           C  \\nATOM     19  SG  CYS A   2       3.002   5.649   2.897  1.00  0.00           S  \\nATOM     20  HA  CYS A   2       2.184   4.116   0.640  1.00  0.00           H  \\nATOM     21 HB2  CYS A   2       3.187   3.299   3.400  1.00  0.00           H  \\nATOM     22 HB3  CYS A   2       1.510   3.761   3.020  1.00  0.00           H  \\nATOM     23  HG  CYS A   2       2.734   5.749   4.202  1.00  0.00           H  \\nATOM     24  N   ASP A   3       4.433   4.627  -0.015  1.00  0.00           N  \\nATOM     25  CA  ASP A   3       5.793   4.913  -0.399  1.00  0.00           C  \\nATOM     26  C   ASP A   3       6.461   5.805   0.602  1.00  0.00           C  \\nATOM     27  O   ASP A   3       5.798   6.334   1.493  1.00  0.00           O  \\nATOM     28  H   ASP A   3       3.657   5.140  -0.408  1.00  0.00           H  \\nATOM     29  CB  ASP A   3       5.812   5.554  -1.784  1.00  0.00           C  \\nATOM     30  CG  ASP A   3       5.045   6.869  -1.790  1.00  0.00           C  \\nATOM     31 OD1  ASP A   3       5.529   7.811  -1.125  1.00  0.00           O  \\nATOM     32 OD2  ASP A   3       3.990   6.908  -2.459  1.00  0.00           O  \\nATOM     33  HA  ASP A   3       6.367   3.987  -0.422  1.00  0.00           H  \\nATOM     34 HB2  ASP A   3       5.351   4.879  -2.504  1.00  0.00           H  \\nATOM     35 HB3  ASP A   3       6.843   5.751  -2.080  1.00  0.00           H  \\nATOM     36  N   GLU A   4       7.820   6.011   0.494  1.00  0.00           N  \\nATOM     37  CA  GLU A   4       8.688   6.790   1.342  1.00  0.00           C  \\nATOM     38  C   GLU A   4       8.175   8.189   1.502  1.00  0.00           C  \\nATOM     39  O   GLU A   4       8.675   8.934   2.341  1.00  0.00           O  \\nATOM     40  H   GLU A   4       8.337   5.583  -0.261  1.00  0.00           H  \\nATOM     41  CB  GLU A   4      10.099   6.801   0.762  1.00  0.00           C  \\nATOM     42  CG  GLU A   4      10.710   5.408   0.883  1.00  0.00           C  \\nATOM     43  CD  GLU A   4      12.163   5.405   0.430  1.00  0.00           C  \\nATOM     44 OE1  GLU A   4      13.031   5.608   1.306  1.00  0.00           O  \\nATOM     45 OE2  GLU A   4      12.379   5.201  -0.784  1.00  0.00           O  \\nATOM     46  HA  GLU A   4       8.711   6.353   2.340  1.00  0.00           H  \\nATOM     47 HB2  GLU A   4      10.713   7.515   1.311  1.00  0.00           H  \\nATOM     48 HB3  GLU A   4      10.059   7.089  -0.289  1.00  0.00           H  \\nATOM     49 HG2  GLU A   4      10.150   4.709   0.261  1.00  0.00           H  \\nATOM     50 HG3  GLU A   4      10.669   5.081   1.922  1.00  0.00           H  \\nATOM     51  N   PHE A   5       7.142   8.566   0.671  1.00  0.00           N  \\nATOM     52  CA  PHE A   5       6.666   9.927   0.689  1.00  0.00           C  \\nATOM     53  C   PHE A   5       5.258   9.993   1.197  1.00  0.00           C  \\nATOM     54  O   PHE A   5       4.632  11.049   1.136  1.00  0.00           O  \\nATOM     55  H   PHE A   5       6.719   7.889   0.051  1.00  0.00           H  \\nATOM     56  CB  PHE A   5       6.757  10.523  -0.713  1.00  0.00           C  \\nATOM     57  CG  PHE A   5       8.167  10.634  -1.243  1.00  0.00           C  \\nATOM     58 CD1  PHE A   5       8.927  11.779  -0.975  1.00  0.00           C  \\nATOM     59 CE1  PHE A   5      10.233  11.883  -1.466  1.00  0.00           C  \\nATOM     60  CZ  PHE A   5      10.780  10.841  -2.225  1.00  0.00           C  \\nATOM     61 CE2  PHE A   5      10.021   9.697  -2.493  1.00  0.00           C  \\nATOM     62 CD2  PHE A   5       8.714   9.593  -2.002  1.00  0.00           C  \\nATOM     63  HA  PHE A   5       7.278  10.517   1.372  1.00  0.00           H  \\nATOM     64 HB2  PHE A   5       6.335  11.528  -0.709  1.00  0.00           H  \\nATOM     65 HB3  PHE A   5       6.200   9.898  -1.411  1.00  0.00           H  \\nATOM     66 HD1  PHE A   5       8.505  12.583  -0.389  1.00  0.00           H  \\nATOM     67 HE1  PHE A   5      10.820  12.766  -1.259  1.00  0.00           H  \\nATOM     68  HZ  PHE A   5      11.789  10.921  -2.604  1.00  0.00           H  \\nATOM     69 HE2  PHE A   5      10.443   8.893  -3.079  1.00  0.00           H  \\nATOM     70  N   GLY A   6       4.717   8.839   1.722  1.00  0.00           N  \\nATOM     71  CA  GLY A   6       3.417   8.776   2.343  1.00  0.00           C  \\nATOM     72  C   GLY A   6       2.295   8.682   1.354  1.00  0.00           C  \\nATOM     73  O   GLY A   6       1.141   8.907   1.710  1.00  0.00           O  \\nATOM     74  H   GLY A   6       5.237   7.974   1.684  1.00  0.00           H  \\nATOM     75 HA2  GLY A   6       3.254   9.673   2.940  1.00  0.00           H  \\nATOM     76 HA3  GLY A   6       3.363   7.897   2.986  1.00  0.00           H  \\nATOM     77  N   HIS A   7       2.627   8.337   0.060  1.00  0.00           N  \\nATOM     78  CA  HIS A   7       1.592   8.141  -0.925  1.00  0.00           C  \\nATOM     79  C   HIS A   7       1.062   6.741  -0.879  1.00  0.00           C  \\nATOM     80  O   HIS A   7       1.839   5.789  -0.845  1.00  0.00           O  \\nATOM     81  H   HIS A   7       3.596   8.223  -0.199  1.00  0.00           H  \\nATOM     82  CB  HIS A   7       2.138   8.459  -2.314  1.00  0.00           C  \\nATOM     83  CG  HIS A   7       2.619   9.878  -2.448  1.00  0.00           C  \\nATOM     84 ND1  HIS A   7       3.932  10.196  -2.754  1.00  0.00           N  \\nATOM     85 CE1  HIS A   7       4.035  11.534  -2.800  1.00  0.00           C  \\nATOM     86 NE2  HIS A   7       2.833  12.050  -2.532  1.00  0.00           N  \\nATOM     87 CD2  HIS A   7       1.950  10.993  -2.312  1.00  0.00           C  \\nATOM     88  HA  HIS A   7       0.752   8.800  -0.707  1.00  0.00           H  \\nATOM     89 HB2  HIS A   7       1.355   8.306  -3.056  1.00  0.00           H  \\nATOM     90 HB3  HIS A   7       2.980   7.803  -2.534  1.00  0.00           H  \\nATOM     91 HD1  HIS A   7       4.610   9.461  -2.897  1.00  0.00           H  \\nATOM     92 HE1  HIS A   7       4.985  11.995  -3.025  1.00  0.00           H  \\nATOM     93 HD2  HIS A   7       0.915  11.194  -2.078  1.00  0.00           H  \\nATOM     94  N   ILE A   8      -0.312   6.613  -0.878  1.00  0.00           N  \\nATOM     95  CA  ILE A   8      -0.891   5.293  -0.894  1.00  0.00           C  \\nATOM     96  C   ILE A   8      -1.244   4.913  -2.299  1.00  0.00           C  \\nATOM     97  O   ILE A   8      -2.149   5.502  -2.886  1.00  0.00           O  \\nATOM     98  H   ILE A   8      -0.895   7.438  -0.865  1.00  0.00           H  \\nATOM     99  CB  ILE A   8      -2.118   5.259   0.012  1.00  0.00           C  \\nATOM    100 CG1  ILE A   8      -1.719   5.666   1.427  1.00  0.00           C  \\nATOM    101 CD1  ILE A   8      -2.973   5.896   2.264  1.00  0.00           C  \\nATOM    102 CG2  ILE A   8      -2.742   3.866  -0.028  1.00  0.00           C  \\nATOM    103  HA  ILE A   8      -0.158   4.570  -0.537  1.00  0.00           H  \\nATOM    104  HB  ILE A   8      -2.869   5.952  -0.367  1.00  0.00           H  \\nATOM    105 HG12 ILE A   8      -1.134   6.585   1.390  1.00  0.00           H  \\nATOM    106 HG13 ILE A   8      -1.121   4.873   1.878  1.00  0.00           H  \\nATOM    107 HD11 ILE A   8      -3.857   5.715   1.653  1.00  0.00           H  \\nATOM    108 HD12 ILE A   8      -2.974   5.213   3.114  1.00  0.00           H  \\nATOM    109 HD13 ILE A   8      -2.987   6.924   2.625  1.00  0.00           H  \\nATOM    110 HG21 ILE A   8      -2.162   3.227  -0.694  1.00  0.00           H  \\nATOM    111 HG21 ILE A   8      -2.743   3.439   0.975  1.00  0.00           H  \\nATOM    112 HG21 ILE A   8      -3.766   3.937  -0.393  1.00  0.00           H  \\nATOM    113  N   LYS A   9      -0.489   3.890  -2.834  1.00  0.00           N  \\nATOM    114  CA  LYS A   9      -0.792   3.380  -4.148  1.00  0.00           C  \\nATOM    115  C   LYS A   9      -1.922   2.399  -4.099  1.00  0.00           C  \\nATOM    116  O   LYS A   9      -1.714   1.239  -3.751  1.00  0.00           O  \\nATOM    117  H   LYS A   9       0.276   3.498  -2.305  1.00  0.00           H  \\nATOM    118  CB  LYS A   9       0.454   2.733  -4.748  1.00  0.00           C  \\nATOM    119  CG  LYS A   9       0.273   2.582  -6.256  1.00  0.00           C  \\nATOM    120  CD  LYS A   9       1.578   2.093  -6.878  1.00  0.00           C  \\nATOM    121  CE  LYS A   9       1.635   2.519  -8.343  1.00  0.00           C  \\nATOM    122  NZ  LYS A   9       2.884   2.073  -8.978  1.00  0.00           N  \\nATOM    123  HA  LYS A   9      -1.117   4.199  -4.790  1.00  0.00           H  \\nATOM    124 HB2  LYS A   9       0.604   1.750  -4.301  1.00  0.00           H  \\nATOM    125 HB3  LYS A   9       1.322   3.360  -4.547  1.00  0.00           H  \\nATOM    126 HG2  LYS A   9       0.004   3.546  -6.688  1.00  0.00           H  \\nATOM    127 HG3  LYS A   9      -0.518   1.861  -6.458  1.00  0.00           H  \\nATOM    128 HD2  LYS A   9       1.627   1.006  -6.814  1.00  0.00           H  \\nATOM    129 HD3  LYS A   9       2.422   2.526  -6.342  1.00  0.00           H  \\nATOM    130 HE2  LYS A   9       1.580   3.605  -8.408  1.00  0.00           H  \\nATOM    131 HE3  LYS A   9       0.795   2.080  -8.882  1.00  0.00           H  \\nATOM    132 HZ1  LYS A   9       3.447   1.575  -8.303  1.00  0.00           H  \\nATOM    133 HZ2  LYS A   9       3.396   2.877  -9.314  1.00  0.00           H  \\nATOM    134 HZ3  LYS A   9       2.670   1.463  -9.753  1.00  0.00           H  \\nATOM    135  N   LEU A  10      -3.138   2.935  -4.470  1.00  0.00           N  \\nATOM    136  CA  LEU A  10      -4.291   2.069  -4.477  1.00  0.00           C  \\nATOM    137  C   LEU A  10      -4.421   1.366  -5.794  1.00  0.00           C  \\nATOM    138  O   LEU A  10      -4.875   1.963  -6.767  1.00  0.00           O  \\nATOM    139  H   LEU A  10      -3.203   3.910  -4.726  1.00  0.00           H  \\nATOM    140  CB  LEU A  10      -5.547   2.883  -4.184  1.00  0.00           C  \\nATOM    141  CG  LEU A  10      -5.454   3.478  -2.782  1.00  0.00           C  \\nATOM    142 CD1  LEU A  10      -6.523   4.554  -2.613  1.00  0.00           C  \\nATOM    143 CD2  LEU A  10      -5.670   2.379  -1.747  1.00  0.00           C  \\nATOM    144  HA  LEU A  10      -4.173   1.299  -3.714  1.00  0.00           H  \\nATOM    145 HB2  LEU A  10      -6.423   2.237  -4.246  1.00  0.00           H  \\nATOM    146 HB3  LEU A  10      -5.638   3.687  -4.915  1.00  0.00           H  \\nATOM    147  HG  LEU A  10      -5.608   2.693  -2.043  1.00  0.00           H  \\nATOM    148 HD11 LEU A  10      -7.100   4.642  -3.533  1.00  0.00           H  \\nATOM    149 HD12 LEU A  10      -7.187   4.281  -1.793  1.00  0.00           H  \\nATOM    150 HD13 LEU A  10      -6.046   5.509  -2.391  1.00  0.00           H  \\nATOM    151 HD21 LEU A  10      -5.841   1.430  -2.254  1.00  0.00           H  \\nATOM    152 HD22 LEU A  10      -4.788   2.298  -1.112  1.00  0.00           H  \\nATOM    153 HD23 LEU A  10      -6.537   2.623  -1.133  1.00  0.00           H  \\nATOM    154  N   MET A  11      -4.019   0.049  -5.866  1.00  0.00           N  \\nATOM    155  CA  MET A  11      -4.065  -0.777  -7.047  1.00  0.00           C  \\nATOM    156  C   MET A  11      -5.479  -0.997  -7.490  1.00  0.00           C  \\nATOM    157  O   MET A  11      -5.809  -2.076  -7.977  1.00  0.00           O  \\nATOM    158  H   MET A  11      -3.655  -0.414  -5.045  1.00  0.00           H  \\nATOM    159  CB  MET A  11      -3.379  -2.112  -6.768  1.00  0.00           C  \\nATOM    160  CG  MET A  11      -1.890  -1.879  -6.528  1.00  0.00           C  \\nATOM    161  SD  MET A  11      -0.795  -3.049  -7.370  1.00  0.00           S  \\nATOM    162  CE  MET A  11       0.655  -2.897  -6.298  1.00  0.00           C  \\nATOM    163  HA  MET A  11      -3.552  -0.271  -7.865  1.00  0.00           H  \\nATOM    164 HB2  MET A  11      -3.509  -2.773  -7.625  1.00  0.00           H  \\nATOM    165 HB3  MET A  11      -3.822  -2.571  -5.885  1.00  0.00           H  \\nATOM    166 HG2  MET A  11      -1.677  -1.960  -5.462  1.00  0.00           H  \\nATOM    167 HG3  MET A  11      -1.616  -0.884  -6.877  1.00  0.00           H  \\nATOM    168 HE1  MET A  11       0.387  -3.182  -5.281  1.00  0.00           H  \\nATOM    169 HE2  MET A  11       1.447  -3.552  -6.662  1.00  0.00           H  \\nATOM    170 HE3  MET A  11       1.006  -1.865  -6.305  1.00  0.00           H  \\nATOM    171  N   ASN A  12      -6.348   0.060  -7.318  1.00  0.00           N  \\nATOM    172  CA  ASN A  12      -7.674  -0.057  -7.872  1.00  0.00           C  \\nATOM    173  C   ASN A  12      -7.771   0.608  -9.211  1.00  0.00           C  \\nATOM    174  O   ASN A  12      -7.617   1.823  -9.306  1.00  0.00           O  \\nATOM    175  H   ASN A  12      -6.049   0.883  -6.816  1.00  0.00           H  \\nATOM    176  CB  ASN A  12      -8.692   0.533  -6.901  1.00  0.00           C  \\nATOM    177  CG  ASN A  12     -10.095   0.025  -7.201  1.00  0.00           C  \\nATOM    178 OD1  ASN A  12     -10.261  -1.087  -7.698  1.00  0.00           O  \\nATOM    179 ND2  ASN A  12     -11.105   0.844  -6.899  1.00  0.00           N  \\nATOM    180  HA  ASN A  12      -7.905  -1.109  -8.043  1.00  0.00           H  \\nATOM    181 HB2  ASN A  12      -8.689   1.619  -6.986  1.00  0.00           H  \\nATOM    182 HB3  ASN A  12      -8.429   0.248  -5.882  1.00  0.00           H  \\nATOM    183 HD21 ASN A  12     -10.916   1.749  -6.492  1.00  0.00           H  \\nATOM    184 HD22 ASN A  12     -12.057   0.559  -7.077  1.00  0.00           H  \\nATOM    185  N   PRO A  13      -8.032  -0.123 -10.351  1.00  0.00           N  \\nATOM    186  CA  PRO A  13      -8.014   0.313 -11.726  1.00  0.00           C  \\nATOM    187  C   PRO A  13      -8.996   1.411 -11.998  1.00  0.00           C  \\nATOM    188  O   PRO A  13      -9.019   1.956 -13.099  1.00  0.00           O  \\nATOM    189  CB  PRO A  13      -8.385  -0.969 -12.466  1.00  0.00           C  \\nATOM    190  CG  PRO A  13      -8.889  -1.884 -11.354  1.00  0.00           C  \\nATOM    191  CD  PRO A  13      -8.453  -1.329 -10.001  1.00  0.00           C  \\nATOM    192  HA  PRO A  13      -7.020   0.680 -11.979  1.00  0.00           H  \\nATOM    193 HB2  PRO A  13      -7.503  -1.369 -12.966  1.00  0.00           H  \\nATOM    194 HB3  PRO A  13      -9.155  -0.752 -13.207  1.00  0.00           H  \\nATOM    195 HG2  PRO A  13      -8.473  -2.883 -11.488  1.00  0.00           H  \\nATOM    196 HG3  PRO A  13      -9.978  -1.936 -11.391  1.00  0.00           H  \\nATOM    197 HD2  PRO A  13      -9.334  -1.117  -9.394  1.00  0.00           H  \\nATOM    198 HD3  PRO A  13      -7.829  -2.063  -9.491  1.00  0.00           H  \\nATOM    199  N   GLN A  14      -9.869   1.802 -11.004  1.00  0.00           N  \\nATOM    200  CA  GLN A  14     -10.926   2.743 -11.278  1.00  0.00           C  \\nATOM    201  C   GLN A  14     -10.867   3.910 -10.340  1.00  0.00           C  \\nATOM    202  O   GLN A  14     -11.898   4.504 -10.033  1.00  0.00           O  \\nATOM    203  H   GLN A  14      -9.772   1.428 -10.071  1.00  0.00           H  \\nATOM    204  CB  GLN A  14     -12.278   2.043 -11.177  1.00  0.00           C  \\nATOM    205  CG  GLN A  14     -12.611   1.385 -12.513  1.00  0.00           C  \\nATOM    206  CD  GLN A  14     -13.934   0.635 -12.440  1.00  0.00           C  \\nATOM    207 OE1  GLN A  14     -14.535   0.538 -11.373  1.00  0.00           O  \\nATOM    208 NE2  GLN A  14     -14.385   0.106 -13.580  1.00  0.00           N  \\nATOM    209  HA  GLN A  14     -10.803   3.147 -12.283  1.00  0.00           H  \\nATOM    210 HB2  GLN A  14     -13.049   2.772 -10.930  1.00  0.00           H  \\nATOM    211 HB3  GLN A  14     -12.236   1.281 -10.399  1.00  0.00           H  \\nATOM    212 HG2  GLN A  14     -11.825   0.679 -12.778  1.00  0.00           H  \\nATOM    213 HG3  GLN A  14     -12.687   2.150 -13.286  1.00  0.00           H  \\nATOM    214 HE21 GLN A  14     -13.853   0.214 -14.432  1.00  0.00           H  \\nATOM    215 HE22 GLN A  14     -15.257  -0.403 -13.590  1.00  0.00           H  \\nATOM    216  N   ARG A  15      -9.751   4.446  -9.734  1.00  0.00           N  \\nATOM    217  CA  ARG A  15      -9.806   5.740  -9.100  1.00  0.00           C  \\nATOM    218  C   ARG A  15      -8.746   5.871  -8.049  1.00  0.00           C  \\nATOM    219  O   ARG A  15      -8.671   5.042  -7.145  1.00  0.00           O  \\nATOM    220  H   ARG A  15      -8.882   3.931  -9.730  1.00  0.00           H  \\nATOM    221  CB  ARG A  15     -11.189   5.958  -8.494  1.00  0.00           C  \\nATOM    222  CG  ARG A  15     -12.153   6.427  -9.580  1.00  0.00           C  \\nATOM    223  CD  ARG A  15     -13.322   7.168  -8.939  1.00  0.00           C  \\nATOM    224  NE  ARG A  15     -13.912   8.132  -9.868  1.00  0.00           N  \\nATOM    225  CZ  ARG A  15     -14.946   8.922  -9.548  1.00  0.00           C  \\nATOM    226 NH1  ARG A  15     -15.487   8.854  -8.324  1.00  0.00           N  \\nATOM    227 NH2  ARG A  15     -15.438   9.781 -10.451  1.00  0.00           N  \\nATOM    228  HA  ARG A  15      -9.609   6.516  -9.840  1.00  0.00           H  \\nATOM    229 HB2  ARG A  15     -11.129   6.714  -7.711  1.00  0.00           H  \\nATOM    230 HB3  ARG A  15     -11.551   5.022  -8.068  1.00  0.00           H  \\nATOM    231 HG2  ARG A  15     -12.528   5.565 -10.131  1.00  0.00           H  \\nATOM    232 HG3  ARG A  15     -11.631   7.096 -10.265  1.00  0.00           H  \\nATOM    233 HD2  ARG A  15     -12.973   7.706  -8.057  1.00  0.00           H  \\nATOM    234 HD3  ARG A  15     -14.090   6.452  -8.646  1.00  0.00           H  \\nATOM    235  HE  ARG A  15     -13.522   8.204 -10.797  1.00  0.00           H  \\nATOM    236 HH11 ARG A  15     -15.117   8.206  -7.643  1.00  0.00           H  \\nATOM    237 HH12 ARG A  15     -16.266   9.450  -8.082  1.00  0.00           H  \\nATOM    238 HH21 ARG A  15     -15.029   9.833 -11.373  1.00  0.00           H  \\nATOM    239 HH22 ARG A  15     -16.216  10.377 -10.209  1.00  0.00           H  \\nATOM    240  N   SER A  16      -7.876   6.938  -8.134  1.00  0.00           N  \\nATOM    241  CA  SER A  16      -7.421   8.302  -8.032  1.00  0.00           C  \\nATOM    242  C   SER A  16      -6.553   8.497  -6.827  1.00  0.00           C  \\nATOM    243  O   SER A  16      -7.029   8.373  -5.701  1.00  0.00           O  \\nATOM    244  H   SER A  16      -6.931   6.794  -8.461  1.00  0.00           H  \\nATOM    245  CB  SER A  16      -8.622   9.242  -7.975  1.00  0.00           C  \\nATOM    246  OG  SER A  16      -9.391   9.096  -9.148  1.00  0.00           O  \\nATOM    247  HA  SER A  16      -6.812   8.548  -8.902  1.00  0.00           H  \\nATOM    248 HB2  SER A  16      -8.275  10.272  -7.895  1.00  0.00           H  \\nATOM    249 HB3  SER A  16      -9.235   8.997  -7.107  1.00  0.00           H  \\nATOM    250  HG  SER A  16     -10.141   9.692  -9.097  1.00  0.00           H  \\nATOM    251  N   THR A  17      -5.233   8.813  -7.067  1.00  0.00           N  \\nATOM    252  CA  THR A  17      -4.212   9.261  -6.152  1.00  0.00           C  \\nATOM    253  C   THR A  17      -4.670  10.472  -5.398  1.00  0.00           C  \\nATOM    254  O   THR A  17      -4.370  11.594  -5.798  1.00  0.00           O  \\nATOM    255  H   THR A  17      -4.858   8.741  -8.002  1.00  0.00           H  \\nATOM    256  CB  THR A  17      -2.930   9.566  -6.921  1.00  0.00           C  \\nATOM    257 OG1  THR A  17      -2.572   8.447  -7.702  1.00  0.00           O  \\nATOM    258 CG2  THR A  17      -1.809   9.886  -5.936  1.00  0.00           C  \\nATOM    259  HA  THR A  17      -4.015   8.481  -5.416  1.00  0.00           H  \\nATOM    260  HB  THR A  17      -3.091  10.425  -7.572  1.00  0.00           H  \\nATOM    261 HG1  THR A  17      -1.765   8.654  -8.179  1.00  0.00           H  \\nATOM    262 HG21 THR A  17      -2.190   9.822  -4.917  1.00  0.00           H  \\nATOM    263 HG22 THR A  17      -0.996   9.172  -6.066  1.00  0.00           H  \\nATOM    264 HG23 THR A  17      -1.439  10.895  -6.122  1.00  0.00           H  \\nATOM    265  N   VAL A  18      -5.429  10.378  -4.251  1.00  0.00           N  \\nATOM    266  CA  VAL A  18      -5.738  11.434  -3.319  1.00  0.00           C  \\nATOM    267  C   VAL A  18      -4.512  11.794  -2.537  1.00  0.00           C  \\nATOM    268  O   VAL A  18      -4.038  10.993  -1.735  1.00  0.00           O  \\nATOM    269  H   VAL A  18      -5.838   9.493  -3.987  1.00  0.00           H  \\nATOM    270  CB  VAL A  18      -6.871  10.991  -2.397  1.00  0.00           C  \\nATOM    271 CG1  VAL A  18      -7.237  12.135  -1.455  1.00  0.00           C  \\nATOM    272 CG2  VAL A  18      -8.066  10.546  -3.235  1.00  0.00           C  \\nATOM    273  HA  VAL A  18      -6.047  12.324  -3.867  1.00  0.00           H  \\nATOM    274  HB  VAL A  18      -6.548  10.129  -1.813  1.00  0.00           H  \\nATOM    275 HG11 VAL A  18      -6.602  12.996  -1.664  1.00  0.00           H  \\nATOM    276 HG12 VAL A  18      -8.281  12.408  -1.603  1.00  0.00           H  \\nATOM    277 HG13 VAL A  18      -7.088  11.817  -0.422  1.00  0.00           H  \\nATOM    278 HG21 VAL A  18      -7.827  10.650  -4.293  1.00  0.00           H  \\nATOM    279 HG22 VAL A  18      -8.295   9.503  -3.015  1.00  0.00           H  \\nATOM    280 HG23 VAL A  18      -8.929  11.166  -2.995  1.00  0.00           H  \\nATOM    281  N   TRP A  19      -3.933  13.030  -2.733  1.00  0.00           N  \\nATOM    282  CA  TRP A  19      -2.856  13.823  -2.194  1.00  0.00           C  \\nATOM    283  C   TRP A  19      -3.172  14.281  -0.803  1.00  0.00           C  \\nATOM    284  O   TRP A  19      -3.566  15.429  -0.608  1.00  0.00           O  \\nATOM    285  H   TRP A  19      -4.293  13.650  -3.445  1.00  0.00           H  \\nATOM    286  CB  TRP A  19      -2.595  15.021  -3.102  1.00  0.00           C  \\nATOM    287  CG  TRP A  19      -2.356  14.700  -4.542  1.00  0.00           C  \\nATOM    288 CD1  TRP A  19      -3.314  14.646  -5.494  1.00  0.00           C  \\nATOM    289 NE1  TRP A  19      -2.724  14.322  -6.699  1.00  0.00           N  \\nATOM    290 CE2  TRP A  19      -1.360  14.156  -6.568  1.00  0.00           C  \\nATOM    291 CZ2  TRP A  19      -0.349  13.832  -7.481  1.00  0.00           C  \\nATOM    292 CH2  TRP A  19       0.978  13.731  -7.049  1.00  0.00           C  \\nATOM    293 CZ3  TRP A  19       1.296  13.954  -5.704  1.00  0.00           C  \\nATOM    294 CE3  TRP A  19       0.285  14.279  -4.791  1.00  0.00           C  \\nATOM    295 CD2  TRP A  19      -1.047  14.380  -5.224  1.00  0.00           C  \\nATOM    296  HA  TRP A  19      -1.953  13.215  -2.129  1.00  0.00           H  \\nATOM    297 HB2  TRP A  19      -1.709  15.554  -2.756  1.00  0.00           H  \\nATOM    298 HB3  TRP A  19      -3.454  15.692  -3.076  1.00  0.00           H  \\nATOM    299 HD1  TRP A  19      -4.344  14.842  -5.235  1.00  0.00           H  \\nATOM    300 HE1  TRP A  19      -3.244  14.224  -7.559  1.00  0.00           H  \\nATOM    301 HZ2  TRP A  19      -0.594  13.659  -8.519  1.00  0.00           H  \\nATOM    302 HH2  TRP A  19       1.758  13.481  -7.753  1.00  0.00           H  \\nATOM    303 HZ3  TRP A  19       2.320  13.877  -5.370  1.00  0.00           H  \\nATOM    304 HE3  TRP A  19       0.529  14.451  -3.753  1.00  0.00           H  \\nATOM    305  N   TYR A  20      -3.044  13.467   0.303  1.00  0.00           N  \\nATOM    306  CA  TYR A  20      -2.937  14.190   1.546  1.00  0.00           C  \\nATOM    307  C   TYR A  20      -1.506  14.484   1.876  1.00  0.00           C  \\nATOM    308  O   TYR A  20      -1.209  15.535   2.440  1.00  0.00           O  \\nATOM    309 OXT  TYR A  20      -0.629  13.675   1.581  1.00  0.00           O  \\nATOM    310  H   TYR A  20      -3.031  12.463   0.193  1.00  0.00           H  \\nATOM    311  CB  TYR A  20      -3.585  13.383   2.668  1.00  0.00           C  \\nATOM    312  CG  TYR A  20      -5.067  13.156   2.485  1.00  0.00           C  \\nATOM    313 CD1  TYR A  20      -5.981  14.126   2.913  1.00  0.00           C  \\nATOM    314 CE1  TYR A  20      -7.355  13.916   2.743  1.00  0.00           C  \\nATOM    315  CZ  TYR A  20      -7.817  12.729   2.142  1.00  0.00           C  \\nATOM    316  OH  TYR A  20      -9.155  12.524   1.977  1.00  0.00           O  \\nATOM    317 CE2  TYR A  20      -6.897  11.753   1.711  1.00  0.00           C  \\nATOM    318 CD2  TYR A  20      -5.523  11.963   1.881  1.00  0.00           C  \\nATOM    319  HA  TYR A  20      -3.445  15.151   1.453  1.00  0.00           H  \\nATOM    320 HB2  TYR A  20      -3.455  13.906   3.615  1.00  0.00           H  \\nATOM    321 HB3  TYR A  20      -3.115  12.402   2.728  1.00  0.00           H  \\nATOM    322 HD1  TYR A  20      -5.627  15.037   3.374  1.00  0.00           H  \\nATOM    323 HE1  TYR A  20      -8.060  14.665   3.073  1.00  0.00           H  \\nATOM    324  HH  TYR A  20      -9.358  11.684   1.557  1.00  0.00           H  \\nATOM    325 HE2  TYR A  20      -7.251  10.842   1.250  1.00  0.00           H  \\nATOM    326 HD2  TYR A  20      -4.817  11.215   1.551  1.00  0.00           H  \\nTER\\nEND          \\n\",\"pdb\",{\"keepH\": true});\n",
       "\tviewer_16587856751317174.setStyle({\"cartoon\": {\"color\": \"spectrum\"}, \"stick\": {\"radius\": 0.15}});\n",
       "\tviewer_16587856751317174.zoomTo();\n",
       "viewer_16587856751317174.render();\n",
       "});\n",
       "</script>"
      ]
     },
     "metadata": {},
     "output_type": "display_data"
    },
    {
     "data": {
      "text/plain": [
       "<py3Dmol.view at 0x7f856665c6a0>"
      ]
     },
     "execution_count": 12,
     "metadata": {},
     "output_type": "execute_result"
    }
   ],
   "source": [
    "p.to_3Dmol()"
   ]
  },
  {
   "cell_type": "code",
   "execution_count": 13,
   "id": "d9e515f6",
   "metadata": {},
   "outputs": [
    {
     "data": {
      "text/plain": [
       "(torch.Size([20, 27, 3]), torch.Size([20, 27, 3]))"
      ]
     },
     "execution_count": 13,
     "metadata": {},
     "output_type": "execute_result"
    }
   ],
   "source": [
    "p.hcoords.shape, p.coords.shape"
   ]
  },
  {
   "cell_type": "code",
   "execution_count": 14,
   "id": "34b08c9a",
   "metadata": {},
   "outputs": [],
   "source": [
    "p.to_pdb(\"/home/jok120/Downloads/build_alfa03.pdb\")"
   ]
  },
  {
   "cell_type": "code",
   "execution_count": null,
   "id": "c131d0e8",
   "metadata": {},
   "outputs": [],
   "source": [
    "# Load the protein created by alphafold\n",
    "p2 = scn.load_pdb(\"/home/jok120/Downloads/alfa_af2_pred.pdb\")\n",
    "p2.torch()"
   ]
  },
  {
   "cell_type": "code",
   "execution_count": null,
   "id": "bfda3cad",
   "metadata": {},
   "outputs": [],
   "source": [
    "p2.coords[0]"
   ]
  },
  {
   "cell_type": "code",
   "execution_count": null,
   "id": "1085dc48",
   "metadata": {
    "scrolled": false
   },
   "outputs": [],
   "source": [
    "p2.get_atom_names(True, True)"
   ]
  },
  {
   "cell_type": "code",
   "execution_count": null,
   "id": "18a48066",
   "metadata": {},
   "outputs": [],
   "source": [
    "p2.seq"
   ]
  },
  {
   "cell_type": "code",
   "execution_count": null,
   "id": "11607658",
   "metadata": {},
   "outputs": [],
   "source": [
    "p2.to_3Dmol()"
   ]
  },
  {
   "cell_type": "code",
   "execution_count": null,
   "id": "60772d03",
   "metadata": {},
   "outputs": [],
   "source": [
    "p2.coords.shape"
   ]
  },
  {
   "cell_type": "code",
   "execution_count": null,
   "id": "865d6b98",
   "metadata": {},
   "outputs": [],
   "source": [
    "torch.tensor(p2.angles)"
   ]
  },
  {
   "cell_type": "code",
   "execution_count": null,
   "id": "11c3051e",
   "metadata": {},
   "outputs": [],
   "source": [
    "d = scn.load(\"debug\", with_pytorch='dataloaders', dynamic_batching=False)"
   ]
  },
  {
   "cell_type": "code",
   "execution_count": null,
   "id": "f7cd7159",
   "metadata": {},
   "outputs": [],
   "source": [
    "d.keys()"
   ]
  },
  {
   "cell_type": "code",
   "execution_count": null,
   "id": "711393ae",
   "metadata": {},
   "outputs": [],
   "source": [
    "batch = next(iter(d['train']))"
   ]
  },
  {
   "cell_type": "code",
   "execution_count": null,
   "id": "1baebc5a",
   "metadata": {},
   "outputs": [],
   "source": [
    "batch."
   ]
  },
  {
   "cell_type": "code",
   "execution_count": null,
   "id": "8ce8adf0",
   "metadata": {},
   "outputs": [],
   "source": [
    "(batch.seqs[4] == 0).all(dim=-1)"
   ]
  },
  {
   "cell_type": "code",
   "execution_count": null,
   "id": "4e527a2b",
   "metadata": {},
   "outputs": [],
   "source": [
    "max((max(llist) for llist in [d[split].dataset.lengths for split in d.keys()]))"
   ]
  },
  {
   "cell_type": "code",
   "execution_count": null,
   "id": "55e337bc",
   "metadata": {},
   "outputs": [],
   "source": [
    "hcoords = p.fastbuild(add_hydrogens=True)\n",
    "p.coords = hcoords\n",
    "p.hcoords = hcoords\n",
    "p.has_hydrogens=True\n",
    "p.to_3Dmol()"
   ]
  },
  {
   "cell_type": "markdown",
   "id": "b7bf14a2",
   "metadata": {
    "heading_collapsed": true
   },
   "source": [
    "# Simple energy minimization"
   ]
  },
  {
   "cell_type": "code",
   "execution_count": null,
   "id": "266bbe8d",
   "metadata": {
    "hidden": true
   },
   "outputs": [],
   "source": [
    "p.get_energy()"
   ]
  },
  {
   "cell_type": "code",
   "execution_count": null,
   "id": "b79e58bb",
   "metadata": {
    "hidden": true,
    "scrolled": true
   },
   "outputs": [],
   "source": [
    "p.get_atom_names(pprint=True)"
   ]
  },
  {
   "cell_type": "code",
   "execution_count": null,
   "id": "10704151",
   "metadata": {
    "hidden": true,
    "scrolled": false
   },
   "outputs": [],
   "source": [
    "p.get_forces(pprint=True)"
   ]
  },
  {
   "cell_type": "code",
   "execution_count": null,
   "id": "9c54c84d",
   "metadata": {
    "hidden": true
   },
   "outputs": [],
   "source": [
    "p.to_3Dmol()"
   ]
  },
  {
   "cell_type": "code",
   "execution_count": null,
   "id": "fe7b3567",
   "metadata": {
    "hidden": true
   },
   "outputs": [],
   "source": [
    "p.minimize()"
   ]
  },
  {
   "cell_type": "code",
   "execution_count": null,
   "id": "1f68e34a",
   "metadata": {
    "hidden": true
   },
   "outputs": [],
   "source": [
    "p.write_ending_positions_to_pdbfile(\"/home/jok120/Downloads/predhmin02.pdb\")"
   ]
  },
  {
   "cell_type": "code",
   "execution_count": null,
   "id": "8b7544f5",
   "metadata": {
    "hidden": true
   },
   "outputs": [],
   "source": [
    "p._hcoords_for_openmm"
   ]
  },
  {
   "cell_type": "markdown",
   "id": "4b57f87e",
   "metadata": {},
   "source": [
    "# Trying to optimize hand-written parameters"
   ]
  },
  {
   "cell_type": "code",
   "execution_count": null,
   "id": "8a9e422e",
   "metadata": {},
   "outputs": [],
   "source": [
    "p.system.getForces()"
   ]
  },
  {
   "cell_type": "code",
   "execution_count": null,
   "id": "61855932",
   "metadata": {},
   "outputs": [],
   "source": [
    "p.minimize(nonbonded_interactions=False)"
   ]
  },
  {
   "cell_type": "code",
   "execution_count": null,
   "id": "143ff12d",
   "metadata": {},
   "outputs": [],
   "source": [
    "p.write_ending_positions_to_pdbfile(\"/home/jok120/Downloads/predhmin03.pdb\")"
   ]
  },
  {
   "cell_type": "code",
   "execution_count": null,
   "id": "780ed518",
   "metadata": {},
   "outputs": [],
   "source": [
    "p."
   ]
  }
 ],
 "metadata": {
  "kernelspec": {
   "display_name": "Python [conda env:sidechainnetv2]",
   "language": "python",
   "name": "conda-env-sidechainnetv2-py"
  },
  "language_info": {
   "codemirror_mode": {
    "name": "ipython",
    "version": 3
   },
   "file_extension": ".py",
   "mimetype": "text/x-python",
   "name": "python",
   "nbconvert_exporter": "python",
   "pygments_lexer": "ipython3",
   "version": "3.8.12"
  }
 },
 "nbformat": 4,
 "nbformat_minor": 5
}
