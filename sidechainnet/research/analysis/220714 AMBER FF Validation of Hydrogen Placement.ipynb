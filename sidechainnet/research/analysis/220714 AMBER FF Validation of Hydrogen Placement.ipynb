{
 "cells": [
  {
   "cell_type": "code",
   "execution_count": null,
   "id": "01e48bdb",
   "metadata": {
    "code_folding": [
     6,
     8,
     15
    ]
   },
   "outputs": [],
   "source": [
    "import sidechainnet as scn\n",
    "from sidechainnet.dataloaders.SCNProtein import SCNProtein\n",
    "import numpy as np\n",
    "nan = np.nan\n",
    "import torch\n",
    "np.set_printoptions(suppress=True)\n",
    "\n",
    "def get_p():\n",
    "    # Below uses the new measurement methodology\n",
    "    angles = torch.tensor([\n",
    "        [nan, 2.9864, 3.1411, 1.8979, 2.0560, 2.1353, np.deg2rad(-109.5), -2.9177, -0.0954, nan, nan, nan],\n",
    "        [-2.2205, -2.7720, 3.1174, 1.9913, 2.0165, 2.1277, 1.9315, 1.3732, 2.8204, -1.2943, nan, nan],\n",
    "        [-1.8046, 2.6789, -3.0887, 1.8948, 2.0197, 2.1358, 2.3525, -2.9406, -1.0214, nan, nan, nan],\n",
    "        [-2.6590, 2.7039, 3.0630, 1.9808, 2.0562, 2.1439, 1.5275, 3.0964, 1.1357, -3.0276, nan, nan],\n",
    "        [-2.6066, -0.7829, nan, 1.9416, nan, nan, 1.5148, -3.0244, -2.8980, -0.4080, nan, nan]\n",
    "        ], dtype=torch.float64)\n",
    "    coordinates = torch.tensor([\n",
    "        [  9.1920,  64.2680,   3.3370],\n",
    "        [ 10.0050,  64.7540,   2.1820],\n",
    "        [  9.9800,  63.6780,   1.0680],\n",
    "        [  9.4220,  62.6010,   1.2670],\n",
    "        [ 11.4280,  65.0700,   2.6870],\n",
    "        [ 12.3400,  65.8630,   1.7450],\n",
    "        [ 12.0780,  66.2460,   0.4450],\n",
    "        [ 13.1990,  66.8160,  -0.1220],\n",
    "        [ 14.2060,  66.8290,   0.8060],\n",
    "        [ 15.5160,  67.3040,   0.7030],\n",
    "        [ 16.3170,  67.1960,   1.8120],\n",
    "        [ 15.8440,  66.6310,   3.0130],\n",
    "        [ 14.5450,  66.1570,   3.1180],\n",
    "        [ 13.7010,  66.2500,   2.0000],\n",
    "        [ 10.4980,  63.9990,  -0.1190],\n",
    "        [ 10.5270,  63.0540,  -1.2470],\n",
    "        [ 11.9230,  62.8670,  -1.8760],\n",
    "        [ 12.9590,  63.1150,  -1.2480],\n",
    "        [  9.5600,  63.5110,  -2.3470],\n",
    "        [ 10.0530,  64.6440,  -3.2600],\n",
    "        [  9.2350,  64.6880,  -4.5400],\n",
    "        [ 10.0250,  65.9760,  -2.5330],\n",
    "        [     nan,      nan,      nan],\n",
    "        [     nan,      nan,      nan],\n",
    "        [     nan,      nan,      nan],\n",
    "        [     nan,      nan,      nan],\n",
    "        [     nan,      nan,      nan],\n",
    "        [     nan,      nan,      nan],\n",
    "        [ 11.9330,  62.3970,  -3.1190],\n",
    "        [ 13.1700,  62.1960,  -3.8540],\n",
    "        [ 13.3270,  63.3330,  -4.8620],\n",
    "        [ 12.3410,  63.8710,  -5.3730],\n",
    "        [ 13.1600,  60.8410,  -4.5590],\n",
    "        [ 14.5210,  60.4570,  -5.1070],\n",
    "        [ 15.0780,  61.2080,  -5.9300],\n",
    "        [ 15.0360,  59.3880,  -4.7290],\n",
    "        [     nan,      nan,      nan],\n",
    "        [     nan,      nan,      nan],\n",
    "        [     nan,      nan,      nan],\n",
    "        [     nan,      nan,      nan],\n",
    "        [     nan,      nan,      nan],\n",
    "        [     nan,      nan,      nan],\n",
    "        [ 14.5730,  63.6250,  -5.2110],\n",
    "        [ 14.8940,  64.7260,  -6.1130],\n",
    "        [ 16.2100,  64.5090,  -6.9120],\n",
    "        [ 17.0660,  63.7270,  -6.4870],\n",
    "        [ 15.0310,  65.9650,  -5.2130],\n",
    "        [ 15.4200,  67.3410,  -5.7340],\n",
    "        [ 14.3060,  67.7890,  -6.6420],\n",
    "        [ 15.6320,  68.3370,  -4.5770],\n",
    "        [     nan,      nan,      nan],\n",
    "        [     nan,      nan,      nan],\n",
    "        [     nan,      nan,      nan],\n",
    "        [     nan,      nan,      nan],\n",
    "        [     nan,      nan,      nan],\n",
    "        [     nan,      nan,      nan],\n",
    "        [ 16.3420,  65.1450,  -8.0830],\n",
    "        [ 17.5860,  65.0960,  -8.8890],\n",
    "        [ 17.7800,  66.3900,  -9.6920],\n",
    "        [ 16.7950,  66.8630, -10.2970],\n",
    "        [ 17.6770,  63.8950,  -9.8520],\n",
    "        [ 19.0770,  63.8170, -10.5390],\n",
    "        [ 19.1590,  62.8800, -11.7410],\n",
    "        [ 18.3380,  61.9500, -11.8410],\n",
    "        [ 20.0600,  63.0720, -12.5890],\n",
    "        [     nan,      nan,      nan],\n",
    "        [     nan,      nan,      nan],\n",
    "        [     nan,      nan,      nan],\n",
    "        [     nan,      nan,      nan],\n",
    "        [     nan,      nan,      nan]], dtype=torch.float64)\n",
    "    p = SCNProtein(\n",
    "        coordinates=coordinates,\n",
    "        angles=angles,\n",
    "        sequence=\"WLDLE\",\n",
    "        mask=\"+++++\",\n",
    "        id=\"1A38_2_P\",\n",
    "        split=\"train\"\n",
    "    )\n",
    "    p.torch()\n",
    "    return p\n",
    "\n",
    "\n",
    "p = get_p()\n",
    "p"
   ]
  },
  {
   "cell_type": "code",
   "execution_count": null,
   "id": "92f58f39",
   "metadata": {},
   "outputs": [],
   "source": [
    "hcoords = p.fastbuild(add_hydrogens=True)\n",
    "p.coords = hcoords\n",
    "p.hcoords = hcoords\n",
    "p.has_hydrogens=True"
   ]
  },
  {
   "cell_type": "markdown",
   "id": "2b8b4c20",
   "metadata": {},
   "source": [
    "# Simple energy minimization"
   ]
  },
  {
   "cell_type": "code",
   "execution_count": null,
   "id": "e6e2944f",
   "metadata": {},
   "outputs": [],
   "source": [
    "p.get_energy()"
   ]
  },
  {
   "cell_type": "code",
   "execution_count": null,
   "id": "4a73b662",
   "metadata": {
    "scrolled": true
   },
   "outputs": [],
   "source": [
    "p.get_atom_names(pprint=True)"
   ]
  },
  {
   "cell_type": "code",
   "execution_count": null,
   "id": "aace3297",
   "metadata": {
    "scrolled": false
   },
   "outputs": [],
   "source": [
    "p.get_forces(pprint=True)"
   ]
  },
  {
   "cell_type": "code",
   "execution_count": null,
   "id": "6c5f478e",
   "metadata": {},
   "outputs": [],
   "source": [
    "p.to_3Dmol()"
   ]
  },
  {
   "cell_type": "code",
   "execution_count": null,
   "id": "a3945245",
   "metadata": {},
   "outputs": [],
   "source": [
    "p.minimize()"
   ]
  },
  {
   "cell_type": "code",
   "execution_count": null,
   "id": "deb5d872",
   "metadata": {},
   "outputs": [],
   "source": [
    "p.write_ending_positions_to_pdbfile(\"/home/jok120/Downloads/predhmin02.pdb\")"
   ]
  },
  {
   "cell_type": "code",
   "execution_count": null,
   "id": "3313ff8c",
   "metadata": {},
   "outputs": [],
   "source": [
    "p._hcoords_for_openmm"
   ]
  },
  {
   "cell_type": "markdown",
   "id": "6b9039f6",
   "metadata": {},
   "source": [
    "# Trying to optimize hand-written parameters"
   ]
  },
  {
   "cell_type": "code",
   "execution_count": null,
   "id": "ddd3afe9",
   "metadata": {},
   "outputs": [],
   "source": []
  }
 ],
 "metadata": {
  "kernelspec": {
   "display_name": "Python [conda env:sidechainnetv2]",
   "language": "python",
   "name": "conda-env-sidechainnetv2-py"
  },
  "language_info": {
   "codemirror_mode": {
    "name": "ipython",
    "version": 3
   },
   "file_extension": ".py",
   "mimetype": "text/x-python",
   "name": "python",
   "nbconvert_exporter": "python",
   "pygments_lexer": "ipython3",
   "version": "3.8.12"
  }
 },
 "nbformat": 4,
 "nbformat_minor": 5
}
