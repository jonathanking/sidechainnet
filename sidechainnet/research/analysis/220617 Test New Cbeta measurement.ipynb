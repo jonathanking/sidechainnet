{
 "cells": [
  {
   "cell_type": "code",
   "execution_count": 1,
   "id": "f4318dc3",
   "metadata": {},
   "outputs": [],
   "source": [
    "import numpy as np\n",
    "import prody as pr\n",
    "import pytest\n",
    "import torch\n",
    "\n",
    "import sidechainnet as scn\n",
    "from sidechainnet.dataloaders.SCNProtein import SCNProtein\n",
    "from sidechainnet.structure.build_info import NUM_COORDS_PER_RES\n",
    "from sidechainnet.utils.download import _init_dssp_data, process_id\n",
    "\n",
    "torch.set_printoptions(sci_mode=False)\n",
    "nan = torch.nan"
   ]
  },
  {
   "cell_type": "code",
   "execution_count": 7,
   "id": "d2020bb1",
   "metadata": {
    "code_folding": []
   },
   "outputs": [],
   "source": [
    "def make_p():\n",
    "    # Below uses the new measurement methodology\n",
    "    angles = torch.tensor([\n",
    "        [nan, 2.9864, 3.1411, 1.8979, 2.0560, 2.1353, -1.8335, -2.9177, -0.0954, nan, nan, nan],\n",
    "        [-2.2205, -2.7720, 3.1174, 1.9913, 2.0165, 2.1277, 1.9315, 1.3732, 2.8204, -1.2943, nan, nan],\n",
    "        [-1.8046, 2.6789, -3.0887, 1.8948, 2.0197, 2.1358, 2.3525, -2.9406, -1.0214, nan, nan, nan],\n",
    "        [-2.6590, 2.7039, 3.0630, 1.9808, 2.0562, 2.1439, 1.5275, 3.0964, 1.1357, -3.0276, nan, nan],\n",
    "        [-2.6066, -0.7829, nan, 1.9416, nan, nan, 1.5148, -3.0244, -2.8980, -0.4080, nan, nan]\n",
    "        ], dtype=torch.float64)\n",
    "    # try again\n",
    "    angles = torch.tensor([[    nan,  2.9864,  3.1411,  1.8979,  2.0560,  2.1353, -1.8410, -2.9177,\n",
    "         -0.0954,     nan,     nan,     nan],\n",
    "        [-2.2205, -2.7720,  3.1174,  1.9913,  2.0165,  2.1277,  1.9315,  1.3732,\n",
    "          2.8204, -1.2943,     nan,     nan],\n",
    "        [-1.8046,  2.6789, -3.0887,  1.8948,  2.0197,  2.1358,  2.3525, -2.9406,\n",
    "         -1.0214,     nan,     nan,     nan],\n",
    "        [-2.6590,  2.7039,  3.0630,  1.9808,  2.0562,  2.1439,  1.5275,  3.0964,\n",
    "          1.1357, -3.0276,     nan,     nan],\n",
    "        [-2.6066, -0.7829,     nan,  1.9416,     nan,     nan,  1.5148, -3.0244,\n",
    "         -2.8980, -0.4080,     nan,     nan]], dtype=torch.float64)\n",
    "    # try again again\n",
    "    angles = torch.tensor([[    nan,  2.9864,  3.1411,  1.8979,  2.0560,  2.1353,  0.9887, -2.9177,\n",
    "         -0.0954,     nan,     nan,     nan],\n",
    "        [-2.2205, -2.7720,  3.1174,  1.9913,  2.0165,  2.1277,  1.9315,  1.3732,\n",
    "          2.8204, -1.2943,     nan,     nan],\n",
    "        [-1.8046,  2.6789, -3.0887,  1.8948,  2.0197,  2.1358,  2.3525, -2.9406,\n",
    "         -1.0214,     nan,     nan,     nan],\n",
    "        [-2.6590,  2.7039,  3.0630,  1.9808,  2.0562,  2.1439,  1.5275,  3.0964,\n",
    "          1.1357, -3.0276,     nan,     nan],\n",
    "        [-2.6066, -0.7829,     nan,  1.9416,     nan,     nan,  1.5148, -3.0244,\n",
    "         -2.8980, -0.4080,     nan,     nan]], dtype=torch.float64)\n",
    "    coordinates = torch.tensor([[  9.1920,  64.2680,   3.3370],\n",
    "        [ 10.0050,  64.7540,   2.1820],\n",
    "        [  9.9800,  63.6780,   1.0680],\n",
    "        [  9.4220,  62.6010,   1.2670],\n",
    "        [ 11.4280,  65.0700,   2.6870],\n",
    "        [ 12.3400,  65.8630,   1.7450],\n",
    "        [ 12.0780,  66.2460,   0.4450],\n",
    "        [ 13.1990,  66.8160,  -0.1220],\n",
    "        [ 14.2060,  66.8290,   0.8060],\n",
    "        [ 15.5160,  67.3040,   0.7030],\n",
    "        [ 16.3170,  67.1960,   1.8120],\n",
    "        [ 15.8440,  66.6310,   3.0130],\n",
    "        [ 14.5450,  66.1570,   3.1180],\n",
    "        [ 13.7010,  66.2500,   2.0000],\n",
    "        [ 10.4980,  63.9990,  -0.1190],\n",
    "        [ 10.5270,  63.0540,  -1.2470],\n",
    "        [ 11.9230,  62.8670,  -1.8760],\n",
    "        [ 12.9590,  63.1150,  -1.2480],\n",
    "        [  9.5600,  63.5110,  -2.3470],\n",
    "        [ 10.0530,  64.6440,  -3.2600],\n",
    "        [  9.2350,  64.6880,  -4.5400],\n",
    "        [ 10.0250,  65.9760,  -2.5330],\n",
    "        [     nan,      nan,      nan],\n",
    "        [     nan,      nan,      nan],\n",
    "        [     nan,      nan,      nan],\n",
    "        [     nan,      nan,      nan],\n",
    "        [     nan,      nan,      nan],\n",
    "        [     nan,      nan,      nan],\n",
    "        [ 11.9330,  62.3970,  -3.1190],\n",
    "        [ 13.1700,  62.1960,  -3.8540],\n",
    "        [ 13.3270,  63.3330,  -4.8620],\n",
    "        [ 12.3410,  63.8710,  -5.3730],\n",
    "        [ 13.1600,  60.8410,  -4.5590],\n",
    "        [ 14.5210,  60.4570,  -5.1070],\n",
    "        [ 15.0780,  61.2080,  -5.9300],\n",
    "        [ 15.0360,  59.3880,  -4.7290],\n",
    "        [     nan,      nan,      nan],\n",
    "        [     nan,      nan,      nan],\n",
    "        [     nan,      nan,      nan],\n",
    "        [     nan,      nan,      nan],\n",
    "        [     nan,      nan,      nan],\n",
    "        [     nan,      nan,      nan],\n",
    "        [ 14.5730,  63.6250,  -5.2110],\n",
    "        [ 14.8940,  64.7260,  -6.1130],\n",
    "        [ 16.2100,  64.5090,  -6.9120],\n",
    "        [ 17.0660,  63.7270,  -6.4870],\n",
    "        [ 15.0310,  65.9650,  -5.2130],\n",
    "        [ 15.4200,  67.3410,  -5.7340],\n",
    "        [ 14.3060,  67.7890,  -6.6420],\n",
    "        [ 15.6320,  68.3370,  -4.5770],\n",
    "        [     nan,      nan,      nan],\n",
    "        [     nan,      nan,      nan],\n",
    "        [     nan,      nan,      nan],\n",
    "        [     nan,      nan,      nan],\n",
    "        [     nan,      nan,      nan],\n",
    "        [     nan,      nan,      nan],\n",
    "        [ 16.3420,  65.1450,  -8.0830],\n",
    "        [ 17.5860,  65.0960,  -8.8890],\n",
    "        [ 17.7800,  66.3900,  -9.6920],\n",
    "        [ 16.7950,  66.8630, -10.2970],\n",
    "        [ 17.6770,  63.8950,  -9.8520],\n",
    "        [ 19.0770,  63.8170, -10.5390],\n",
    "        [ 19.1590,  62.8800, -11.7410],\n",
    "        [ 18.3380,  61.9500, -11.8410],\n",
    "        [ 20.0600,  63.0720, -12.5890],\n",
    "        [     nan,      nan,      nan],\n",
    "        [     nan,      nan,      nan],\n",
    "        [     nan,      nan,      nan],\n",
    "        [     nan,      nan,      nan],\n",
    "        [     nan,      nan,      nan]], dtype=torch.float64)\n",
    "    p = SCNProtein(\n",
    "        coordinates=coordinates,\n",
    "        angles=angles,\n",
    "        sequence=\"WLDLE\",\n",
    "        mask=\"+++++\",\n",
    "        id=\"1A38_2_P\",\n",
    "        split=\"train\"\n",
    "    )\n",
    "    p.torch()\n",
    "    return p"
   ]
  },
  {
   "cell_type": "code",
   "execution_count": 8,
   "id": "11a2b3d8",
   "metadata": {},
   "outputs": [],
   "source": [
    "p = make_p()\n",
    "p.numpy()\n",
    "pcopy = p.copy()"
   ]
  },
  {
   "cell_type": "code",
   "execution_count": 9,
   "id": "663e2cb5",
   "metadata": {},
   "outputs": [
    {
     "data": {
      "application/3dmoljs_load.v0": "<div id=\"3dmolviewer_1655492016998674\"  style=\"position: relative; width: 640px; height: 480px\">\n        <p id=\"3dmolwarning_1655492016998674\" style=\"background-color:#ffcccc;color:black\">You appear to be running in JupyterLab (or JavaScript failed to load for some other reason).  You need to install the 3dmol extension: <br>\n        <tt>jupyter labextension install jupyterlab_3dmol</tt></p>\n        </div>\n<script>\n\nvar loadScriptAsync = function(uri){\n  return new Promise((resolve, reject) => {\n    var tag = document.createElement('script');\n    tag.src = uri;\n    tag.async = true;\n    tag.onload = () => {\n      resolve();\n    };\n  var firstScriptTag = document.getElementsByTagName('script')[0];\n  firstScriptTag.parentNode.insertBefore(tag, firstScriptTag);\n});\n};\n\nif(typeof $3Dmolpromise === 'undefined') {\n$3Dmolpromise = null;\n  $3Dmolpromise = loadScriptAsync('https://3dmol.org/build/3Dmol.js');\n}\n\nvar viewer_1655492016998674 = null;\nvar warn = document.getElementById(\"3dmolwarning_1655492016998674\");\nif(warn) {\n    warn.parentNode.removeChild(warn);\n}\n$3Dmolpromise.then(function() {\nviewer_1655492016998674 = $3Dmol.createViewer($(\"#3dmolviewer_1655492016998674\"),{backgroundColor:\"white\"});\nviewer_1655492016998674.zoomTo();\n\tviewer_1655492016998674.addModel(\"REMARK  pred\\nSEQRES   1 A    5  TRP LEU ASP LEU GLU                                          \\nATOM      1  N   TRP A   1       9.192  64.268   3.337  1.00  0.00           N  \\nATOM      2  CA  TRP A   1      10.005  64.754   2.182  1.00  0.00           C  \\nATOM      3  C   TRP A   1       9.980  63.678   1.068  1.00  0.00           C  \\nATOM      4  O   TRP A   1       9.422  62.601   1.267  1.00  0.00           O  \\nATOM      5  CB  TRP A   1      11.428  65.070   2.687  1.00  0.00           C  \\nATOM      6  CG  TRP A   1      12.340  65.863   1.745  1.00  0.00           C  \\nATOM      7 CD1  TRP A   1      12.078  66.246   0.445  1.00  0.00           C  \\nATOM      8 NE1  TRP A   1      13.199  66.816  -0.122  1.00  0.00           N  \\nATOM      9 CE2  TRP A   1      14.206  66.829   0.806  1.00  0.00           C  \\nATOM     10 CZ2  TRP A   1      15.516  67.304   0.703  1.00  0.00           C  \\nATOM     11 CH2  TRP A   1      16.317  67.196   1.812  1.00  0.00           C  \\nATOM     12 CZ3  TRP A   1      15.844  66.631   3.013  1.00  0.00           C  \\nATOM     13 CE3  TRP A   1      14.545  66.157   3.118  1.00  0.00           C  \\nATOM     14 CD2  TRP A   1      13.701  66.250   2.000  1.00  0.00           C  \\nATOM     15  N   LEU A   2      10.498  63.999  -0.119  1.00  0.00           N  \\nATOM     16  CA  LEU A   2      10.527  63.054  -1.247  1.00  0.00           C  \\nATOM     17  C   LEU A   2      11.923  62.867  -1.876  1.00  0.00           C  \\nATOM     18  O   LEU A   2      12.959  63.115  -1.248  1.00  0.00           O  \\nATOM     19  CB  LEU A   2       9.560  63.511  -2.347  1.00  0.00           C  \\nATOM     20  CG  LEU A   2      10.053  64.644  -3.260  1.00  0.00           C  \\nATOM     21 CD1  LEU A   2       9.235  64.688  -4.540  1.00  0.00           C  \\nATOM     22 CD2  LEU A   2      10.025  65.976  -2.533  1.00  0.00           C  \\nATOM     23  N   ASP A   3      11.933  62.397  -3.119  1.00  0.00           N  \\nATOM     24  CA  ASP A   3      13.170  62.196  -3.854  1.00  0.00           C  \\nATOM     25  C   ASP A   3      13.327  63.333  -4.862  1.00  0.00           C  \\nATOM     26  O   ASP A   3      12.341  63.871  -5.373  1.00  0.00           O  \\nATOM     27  CB  ASP A   3      13.160  60.841  -4.559  1.00  0.00           C  \\nATOM     28  CG  ASP A   3      14.521  60.457  -5.107  1.00  0.00           C  \\nATOM     29 OD1  ASP A   3      15.078  61.208  -5.930  1.00  0.00           O  \\nATOM     30 OD2  ASP A   3      15.036  59.388  -4.729  1.00  0.00           O  \\nATOM     31  N   LEU A   4      14.573  63.625  -5.211  1.00  0.00           N  \\nATOM     32  CA  LEU A   4      14.894  64.726  -6.113  1.00  0.00           C  \\nATOM     33  C   LEU A   4      16.210  64.509  -6.912  1.00  0.00           C  \\nATOM     34  O   LEU A   4      17.066  63.727  -6.487  1.00  0.00           O  \\nATOM     35  CB  LEU A   4      15.031  65.965  -5.213  1.00  0.00           C  \\nATOM     36  CG  LEU A   4      15.420  67.341  -5.734  1.00  0.00           C  \\nATOM     37 CD1  LEU A   4      14.306  67.789  -6.642  1.00  0.00           C  \\nATOM     38 CD2  LEU A   4      15.632  68.337  -4.577  1.00  0.00           C  \\nATOM     39  N   GLU A   5      16.342  65.145  -8.083  1.00  0.00           N  \\nATOM     40  CA  GLU A   5      17.586  65.096  -8.889  1.00  0.00           C  \\nATOM     41  C   GLU A   5      17.780  66.390  -9.692  1.00  0.00           C  \\nATOM     42  O   GLU A   5      16.795  66.863 -10.297  1.00  0.00           O  \\nATOM     43  CB  GLU A   5      17.677  63.895  -9.852  1.00  0.00           C  \\nATOM     44  CG  GLU A   5      19.077  63.817 -10.539  1.00  0.00           C  \\nATOM     45  CD  GLU A   5      19.159  62.880 -11.741  1.00  0.00           C  \\nATOM     46 OE1  GLU A   5      18.338  61.950 -11.841  1.00  0.00           O  \\nATOM     47 OE2  GLU A   5      20.060  63.072 -12.589  1.00  0.00           O  \\nTER\\nEND          \\n\",\"pdb\",{\"keepH\": true});\n\tviewer_1655492016998674.setStyle({\"cartoon\": {\"color\": \"spectrum\"}, \"stick\": {\"radius\": 0.15}});\n\tviewer_1655492016998674.zoomTo();\nviewer_1655492016998674.render();\n});\n</script>",
      "text/html": [
       "<div id=\"3dmolviewer_1655492016998674\"  style=\"position: relative; width: 640px; height: 480px\">\n",
       "        <p id=\"3dmolwarning_1655492016998674\" style=\"background-color:#ffcccc;color:black\">You appear to be running in JupyterLab (or JavaScript failed to load for some other reason).  You need to install the 3dmol extension: <br>\n",
       "        <tt>jupyter labextension install jupyterlab_3dmol</tt></p>\n",
       "        </div>\n",
       "<script>\n",
       "\n",
       "var loadScriptAsync = function(uri){\n",
       "  return new Promise((resolve, reject) => {\n",
       "    var tag = document.createElement('script');\n",
       "    tag.src = uri;\n",
       "    tag.async = true;\n",
       "    tag.onload = () => {\n",
       "      resolve();\n",
       "    };\n",
       "  var firstScriptTag = document.getElementsByTagName('script')[0];\n",
       "  firstScriptTag.parentNode.insertBefore(tag, firstScriptTag);\n",
       "});\n",
       "};\n",
       "\n",
       "if(typeof $3Dmolpromise === 'undefined') {\n",
       "$3Dmolpromise = null;\n",
       "  $3Dmolpromise = loadScriptAsync('https://3dmol.org/build/3Dmol.js');\n",
       "}\n",
       "\n",
       "var viewer_1655492016998674 = null;\n",
       "var warn = document.getElementById(\"3dmolwarning_1655492016998674\");\n",
       "if(warn) {\n",
       "    warn.parentNode.removeChild(warn);\n",
       "}\n",
       "$3Dmolpromise.then(function() {\n",
       "viewer_1655492016998674 = $3Dmol.createViewer($(\"#3dmolviewer_1655492016998674\"),{backgroundColor:\"white\"});\n",
       "viewer_1655492016998674.zoomTo();\n",
       "\tviewer_1655492016998674.addModel(\"REMARK  pred\\nSEQRES   1 A    5  TRP LEU ASP LEU GLU                                          \\nATOM      1  N   TRP A   1       9.192  64.268   3.337  1.00  0.00           N  \\nATOM      2  CA  TRP A   1      10.005  64.754   2.182  1.00  0.00           C  \\nATOM      3  C   TRP A   1       9.980  63.678   1.068  1.00  0.00           C  \\nATOM      4  O   TRP A   1       9.422  62.601   1.267  1.00  0.00           O  \\nATOM      5  CB  TRP A   1      11.428  65.070   2.687  1.00  0.00           C  \\nATOM      6  CG  TRP A   1      12.340  65.863   1.745  1.00  0.00           C  \\nATOM      7 CD1  TRP A   1      12.078  66.246   0.445  1.00  0.00           C  \\nATOM      8 NE1  TRP A   1      13.199  66.816  -0.122  1.00  0.00           N  \\nATOM      9 CE2  TRP A   1      14.206  66.829   0.806  1.00  0.00           C  \\nATOM     10 CZ2  TRP A   1      15.516  67.304   0.703  1.00  0.00           C  \\nATOM     11 CH2  TRP A   1      16.317  67.196   1.812  1.00  0.00           C  \\nATOM     12 CZ3  TRP A   1      15.844  66.631   3.013  1.00  0.00           C  \\nATOM     13 CE3  TRP A   1      14.545  66.157   3.118  1.00  0.00           C  \\nATOM     14 CD2  TRP A   1      13.701  66.250   2.000  1.00  0.00           C  \\nATOM     15  N   LEU A   2      10.498  63.999  -0.119  1.00  0.00           N  \\nATOM     16  CA  LEU A   2      10.527  63.054  -1.247  1.00  0.00           C  \\nATOM     17  C   LEU A   2      11.923  62.867  -1.876  1.00  0.00           C  \\nATOM     18  O   LEU A   2      12.959  63.115  -1.248  1.00  0.00           O  \\nATOM     19  CB  LEU A   2       9.560  63.511  -2.347  1.00  0.00           C  \\nATOM     20  CG  LEU A   2      10.053  64.644  -3.260  1.00  0.00           C  \\nATOM     21 CD1  LEU A   2       9.235  64.688  -4.540  1.00  0.00           C  \\nATOM     22 CD2  LEU A   2      10.025  65.976  -2.533  1.00  0.00           C  \\nATOM     23  N   ASP A   3      11.933  62.397  -3.119  1.00  0.00           N  \\nATOM     24  CA  ASP A   3      13.170  62.196  -3.854  1.00  0.00           C  \\nATOM     25  C   ASP A   3      13.327  63.333  -4.862  1.00  0.00           C  \\nATOM     26  O   ASP A   3      12.341  63.871  -5.373  1.00  0.00           O  \\nATOM     27  CB  ASP A   3      13.160  60.841  -4.559  1.00  0.00           C  \\nATOM     28  CG  ASP A   3      14.521  60.457  -5.107  1.00  0.00           C  \\nATOM     29 OD1  ASP A   3      15.078  61.208  -5.930  1.00  0.00           O  \\nATOM     30 OD2  ASP A   3      15.036  59.388  -4.729  1.00  0.00           O  \\nATOM     31  N   LEU A   4      14.573  63.625  -5.211  1.00  0.00           N  \\nATOM     32  CA  LEU A   4      14.894  64.726  -6.113  1.00  0.00           C  \\nATOM     33  C   LEU A   4      16.210  64.509  -6.912  1.00  0.00           C  \\nATOM     34  O   LEU A   4      17.066  63.727  -6.487  1.00  0.00           O  \\nATOM     35  CB  LEU A   4      15.031  65.965  -5.213  1.00  0.00           C  \\nATOM     36  CG  LEU A   4      15.420  67.341  -5.734  1.00  0.00           C  \\nATOM     37 CD1  LEU A   4      14.306  67.789  -6.642  1.00  0.00           C  \\nATOM     38 CD2  LEU A   4      15.632  68.337  -4.577  1.00  0.00           C  \\nATOM     39  N   GLU A   5      16.342  65.145  -8.083  1.00  0.00           N  \\nATOM     40  CA  GLU A   5      17.586  65.096  -8.889  1.00  0.00           C  \\nATOM     41  C   GLU A   5      17.780  66.390  -9.692  1.00  0.00           C  \\nATOM     42  O   GLU A   5      16.795  66.863 -10.297  1.00  0.00           O  \\nATOM     43  CB  GLU A   5      17.677  63.895  -9.852  1.00  0.00           C  \\nATOM     44  CG  GLU A   5      19.077  63.817 -10.539  1.00  0.00           C  \\nATOM     45  CD  GLU A   5      19.159  62.880 -11.741  1.00  0.00           C  \\nATOM     46 OE1  GLU A   5      18.338  61.950 -11.841  1.00  0.00           O  \\nATOM     47 OE2  GLU A   5      20.060  63.072 -12.589  1.00  0.00           O  \\nTER\\nEND          \\n\",\"pdb\",{\"keepH\": true});\n",
       "\tviewer_1655492016998674.setStyle({\"cartoon\": {\"color\": \"spectrum\"}, \"stick\": {\"radius\": 0.15}});\n",
       "\tviewer_1655492016998674.zoomTo();\n",
       "viewer_1655492016998674.render();\n",
       "});\n",
       "</script>"
      ]
     },
     "metadata": {},
     "output_type": "display_data"
    },
    {
     "data": {
      "text/plain": [
       "<py3Dmol.view at 0x7f2e550b8a00>"
      ]
     },
     "execution_count": 9,
     "metadata": {},
     "output_type": "execute_result"
    }
   ],
   "source": [
    "p.to_3Dmol()"
   ]
  },
  {
   "cell_type": "code",
   "execution_count": 10,
   "id": "2ca495ee",
   "metadata": {
    "scrolled": true
   },
   "outputs": [
    {
     "data": {
      "application/3dmoljs_load.v0": "<div id=\"3dmolviewer_1655492017723701\"  style=\"position: relative; width: 640px; height: 480px\">\n        <p id=\"3dmolwarning_1655492017723701\" style=\"background-color:#ffcccc;color:black\">You appear to be running in JupyterLab (or JavaScript failed to load for some other reason).  You need to install the 3dmol extension: <br>\n        <tt>jupyter labextension install jupyterlab_3dmol</tt></p>\n        </div>\n<script>\n\nvar loadScriptAsync = function(uri){\n  return new Promise((resolve, reject) => {\n    var tag = document.createElement('script');\n    tag.src = uri;\n    tag.async = true;\n    tag.onload = () => {\n      resolve();\n    };\n  var firstScriptTag = document.getElementsByTagName('script')[0];\n  firstScriptTag.parentNode.insertBefore(tag, firstScriptTag);\n});\n};\n\nif(typeof $3Dmolpromise === 'undefined') {\n$3Dmolpromise = null;\n  $3Dmolpromise = loadScriptAsync('https://3dmol.org/build/3Dmol.js');\n}\n\nvar viewer_1655492017723701 = null;\nvar warn = document.getElementById(\"3dmolwarning_1655492017723701\");\nif(warn) {\n    warn.parentNode.removeChild(warn);\n}\n$3Dmolpromise.then(function() {\nviewer_1655492017723701 = $3Dmol.createViewer($(\"#3dmolviewer_1655492017723701\"),{backgroundColor:\"white\"});\nviewer_1655492017723701.zoomTo();\n\tviewer_1655492017723701.addModel(\"REMARK  pred\\nSEQRES   1 A    5  TRP LEU ASP LEU GLU                                          \\nATOM      1  N   TRP A   1       0.000   0.000   0.001  1.00  0.00           N  \\nATOM      2  CA  TRP A   1       1.442   0.000   0.001  1.00  0.00           C  \\nATOM      3  C   TRP A   1       1.923   1.419   0.001  1.00  0.00           C  \\nATOM      4  O   TRP A   1       1.125   2.338  -0.164  1.00  0.00           O  \\nATOM      5  CB  TRP A   1       1.956  -0.790  -1.199  1.00  0.00           C  \\nATOM      6  CG  TRP A   1       3.412  -1.131  -1.172  1.00  0.00           C  \\nATOM      7 CD1  TRP A   1       4.291  -0.705  -0.238  1.00  0.00           C  \\nATOM      8 NE1  TRP A   1       5.538  -1.218  -0.536  1.00  0.00           N  \\nATOM      9 CE2  TRP A   1       5.508  -1.995  -1.676  1.00  0.00           C  \\nATOM     10 CZ2  TRP A   1       6.494  -2.711  -2.365  1.00  0.00           C  \\nATOM     11 CH2  TRP A   1       6.160  -3.425  -3.523  1.00  0.00           C  \\nATOM     12 CZ3  TRP A   1       4.841  -3.422  -3.991  1.00  0.00           C  \\nATOM     13 CE3  TRP A   1       3.855  -2.705  -3.302  1.00  0.00           C  \\nATOM     14 CD2  TRP A   1       4.190  -1.989  -2.142  1.00  0.00           C  \\nATOM     15  N   LEU A   2       3.271   1.640   0.190  1.00  0.00           N  \\nATOM     16  CA  LEU A   2       3.840   2.965   0.207  1.00  0.00           C  \\nATOM     17  C   LEU A   2       4.991   3.149  -0.734  1.00  0.00           C  \\nATOM     18  O   LEU A   2       5.132   2.388  -1.689  1.00  0.00           O  \\nATOM     19  CB  LEU A   2       4.306   3.307   1.619  1.00  0.00           C  \\nATOM     20  CG  LEU A   2       5.644   2.626   1.892  1.00  0.00           C  \\nATOM     21 CD1  LEU A   2       6.328   3.304   3.077  1.00  0.00           C  \\nATOM     22 CD2  LEU A   2       5.421   1.133   2.111  1.00  0.00           C  \\nATOM     23  N   ASP A   3       5.836   4.199  -0.443  1.00  0.00           N  \\nATOM     24  CA  ASP A   3       7.003   4.483  -1.240  1.00  0.00           C  \\nATOM     25  C   ASP A   3       8.214   4.002  -0.501  1.00  0.00           C  \\nATOM     26  O   ASP A   3       8.196   3.929   0.726  1.00  0.00           O  \\nATOM     27  CB  ASP A   3       7.083   5.981  -1.521  1.00  0.00           C  \\nATOM     28  CG  ASP A   3       8.130   6.284  -2.583  1.00  0.00           C  \\nATOM     29 OD1  ASP A   3       9.302   5.921  -2.345  1.00  0.00           O  \\nATOM     30 OD2  ASP A   3       7.738   6.873  -3.614  1.00  0.00           O  \\nATOM     31  N   LEU A   4       9.298   3.665  -1.283  1.00  0.00           N  \\nATOM     32  CA  LEU A   4      10.514   3.126  -0.727  1.00  0.00           C  \\nATOM     33  C   LEU A   4      11.732   3.429  -1.545  1.00  0.00           C  \\nATOM     34  O   LEU A   4      11.623   3.651  -2.749  1.00  0.00           O  \\nATOM     35  CB  LEU A   4      10.402   1.608  -0.621  1.00  0.00           C  \\nATOM     36  CG  LEU A   4      11.715   1.036  -0.091  1.00  0.00           C  \\nATOM     37 CD1  LEU A   4      11.943   1.522   1.337  1.00  0.00           C  \\nATOM     38 CD2  LEU A   4      11.662  -0.489  -0.138  1.00  0.00           C  \\nATOM     39  N   GLU A   5      12.951   3.448  -0.902  1.00  0.00           N  \\nATOM     40  CA  GLU A   5      14.200   3.634  -1.598  1.00  0.00           C  \\nATOM     41  C   GLU A   5      15.320   2.920  -0.905  1.00  0.00           C  \\nATOM     42  O   GLU A   5      15.435   2.996   0.316  1.00  0.00           O  \\nATOM     43  CB  GLU A   5      14.492   5.125  -1.743  1.00  0.00           C  \\nATOM     44  CG  GLU A   5      15.723   5.320  -2.622  1.00  0.00           C  \\nATOM     45  CD  GLU A   5      16.251   6.744  -2.517  1.00  0.00           C  \\nATOM     46 OE1  GLU A   5      15.441   7.625  -2.156  1.00  0.00           O  \\nATOM     47 OE2  GLU A   5      17.455   6.925  -2.801  1.00  0.00           O  \\nTER\\nEND          \\n\",\"pdb\",{\"keepH\": true});\n\tviewer_1655492017723701.setStyle({\"cartoon\": {\"color\": \"spectrum\"}, \"stick\": {\"radius\": 0.15}});\n\tviewer_1655492017723701.zoomTo();\nviewer_1655492017723701.render();\n});\n</script>",
      "text/html": [
       "<div id=\"3dmolviewer_1655492017723701\"  style=\"position: relative; width: 640px; height: 480px\">\n",
       "        <p id=\"3dmolwarning_1655492017723701\" style=\"background-color:#ffcccc;color:black\">You appear to be running in JupyterLab (or JavaScript failed to load for some other reason).  You need to install the 3dmol extension: <br>\n",
       "        <tt>jupyter labextension install jupyterlab_3dmol</tt></p>\n",
       "        </div>\n",
       "<script>\n",
       "\n",
       "var loadScriptAsync = function(uri){\n",
       "  return new Promise((resolve, reject) => {\n",
       "    var tag = document.createElement('script');\n",
       "    tag.src = uri;\n",
       "    tag.async = true;\n",
       "    tag.onload = () => {\n",
       "      resolve();\n",
       "    };\n",
       "  var firstScriptTag = document.getElementsByTagName('script')[0];\n",
       "  firstScriptTag.parentNode.insertBefore(tag, firstScriptTag);\n",
       "});\n",
       "};\n",
       "\n",
       "if(typeof $3Dmolpromise === 'undefined') {\n",
       "$3Dmolpromise = null;\n",
       "  $3Dmolpromise = loadScriptAsync('https://3dmol.org/build/3Dmol.js');\n",
       "}\n",
       "\n",
       "var viewer_1655492017723701 = null;\n",
       "var warn = document.getElementById(\"3dmolwarning_1655492017723701\");\n",
       "if(warn) {\n",
       "    warn.parentNode.removeChild(warn);\n",
       "}\n",
       "$3Dmolpromise.then(function() {\n",
       "viewer_1655492017723701 = $3Dmol.createViewer($(\"#3dmolviewer_1655492017723701\"),{backgroundColor:\"white\"});\n",
       "viewer_1655492017723701.zoomTo();\n",
       "\tviewer_1655492017723701.addModel(\"REMARK  pred\\nSEQRES   1 A    5  TRP LEU ASP LEU GLU                                          \\nATOM      1  N   TRP A   1       0.000   0.000   0.001  1.00  0.00           N  \\nATOM      2  CA  TRP A   1       1.442   0.000   0.001  1.00  0.00           C  \\nATOM      3  C   TRP A   1       1.923   1.419   0.001  1.00  0.00           C  \\nATOM      4  O   TRP A   1       1.125   2.338  -0.164  1.00  0.00           O  \\nATOM      5  CB  TRP A   1       1.956  -0.790  -1.199  1.00  0.00           C  \\nATOM      6  CG  TRP A   1       3.412  -1.131  -1.172  1.00  0.00           C  \\nATOM      7 CD1  TRP A   1       4.291  -0.705  -0.238  1.00  0.00           C  \\nATOM      8 NE1  TRP A   1       5.538  -1.218  -0.536  1.00  0.00           N  \\nATOM      9 CE2  TRP A   1       5.508  -1.995  -1.676  1.00  0.00           C  \\nATOM     10 CZ2  TRP A   1       6.494  -2.711  -2.365  1.00  0.00           C  \\nATOM     11 CH2  TRP A   1       6.160  -3.425  -3.523  1.00  0.00           C  \\nATOM     12 CZ3  TRP A   1       4.841  -3.422  -3.991  1.00  0.00           C  \\nATOM     13 CE3  TRP A   1       3.855  -2.705  -3.302  1.00  0.00           C  \\nATOM     14 CD2  TRP A   1       4.190  -1.989  -2.142  1.00  0.00           C  \\nATOM     15  N   LEU A   2       3.271   1.640   0.190  1.00  0.00           N  \\nATOM     16  CA  LEU A   2       3.840   2.965   0.207  1.00  0.00           C  \\nATOM     17  C   LEU A   2       4.991   3.149  -0.734  1.00  0.00           C  \\nATOM     18  O   LEU A   2       5.132   2.388  -1.689  1.00  0.00           O  \\nATOM     19  CB  LEU A   2       4.306   3.307   1.619  1.00  0.00           C  \\nATOM     20  CG  LEU A   2       5.644   2.626   1.892  1.00  0.00           C  \\nATOM     21 CD1  LEU A   2       6.328   3.304   3.077  1.00  0.00           C  \\nATOM     22 CD2  LEU A   2       5.421   1.133   2.111  1.00  0.00           C  \\nATOM     23  N   ASP A   3       5.836   4.199  -0.443  1.00  0.00           N  \\nATOM     24  CA  ASP A   3       7.003   4.483  -1.240  1.00  0.00           C  \\nATOM     25  C   ASP A   3       8.214   4.002  -0.501  1.00  0.00           C  \\nATOM     26  O   ASP A   3       8.196   3.929   0.726  1.00  0.00           O  \\nATOM     27  CB  ASP A   3       7.083   5.981  -1.521  1.00  0.00           C  \\nATOM     28  CG  ASP A   3       8.130   6.284  -2.583  1.00  0.00           C  \\nATOM     29 OD1  ASP A   3       9.302   5.921  -2.345  1.00  0.00           O  \\nATOM     30 OD2  ASP A   3       7.738   6.873  -3.614  1.00  0.00           O  \\nATOM     31  N   LEU A   4       9.298   3.665  -1.283  1.00  0.00           N  \\nATOM     32  CA  LEU A   4      10.514   3.126  -0.727  1.00  0.00           C  \\nATOM     33  C   LEU A   4      11.732   3.429  -1.545  1.00  0.00           C  \\nATOM     34  O   LEU A   4      11.623   3.651  -2.749  1.00  0.00           O  \\nATOM     35  CB  LEU A   4      10.402   1.608  -0.621  1.00  0.00           C  \\nATOM     36  CG  LEU A   4      11.715   1.036  -0.091  1.00  0.00           C  \\nATOM     37 CD1  LEU A   4      11.943   1.522   1.337  1.00  0.00           C  \\nATOM     38 CD2  LEU A   4      11.662  -0.489  -0.138  1.00  0.00           C  \\nATOM     39  N   GLU A   5      12.951   3.448  -0.902  1.00  0.00           N  \\nATOM     40  CA  GLU A   5      14.200   3.634  -1.598  1.00  0.00           C  \\nATOM     41  C   GLU A   5      15.320   2.920  -0.905  1.00  0.00           C  \\nATOM     42  O   GLU A   5      15.435   2.996   0.316  1.00  0.00           O  \\nATOM     43  CB  GLU A   5      14.492   5.125  -1.743  1.00  0.00           C  \\nATOM     44  CG  GLU A   5      15.723   5.320  -2.622  1.00  0.00           C  \\nATOM     45  CD  GLU A   5      16.251   6.744  -2.517  1.00  0.00           C  \\nATOM     46 OE1  GLU A   5      15.441   7.625  -2.156  1.00  0.00           O  \\nATOM     47 OE2  GLU A   5      17.455   6.925  -2.801  1.00  0.00           O  \\nTER\\nEND          \\n\",\"pdb\",{\"keepH\": true});\n",
       "\tviewer_1655492017723701.setStyle({\"cartoon\": {\"color\": \"spectrum\"}, \"stick\": {\"radius\": 0.15}});\n",
       "\tviewer_1655492017723701.zoomTo();\n",
       "viewer_1655492017723701.render();\n",
       "});\n",
       "</script>"
      ]
     },
     "metadata": {},
     "output_type": "display_data"
    },
    {
     "data": {
      "text/plain": [
       "<py3Dmol.view at 0x7f2f8859abb0>"
      ]
     },
     "execution_count": 10,
     "metadata": {},
     "output_type": "execute_result"
    }
   ],
   "source": [
    "built_coords = pcopy.build_coords_from_angles()\n",
    "pcopy.coords = built_coords\n",
    "pcopy.to_3Dmol()"
   ]
  },
  {
   "cell_type": "code",
   "execution_count": 11,
   "id": "f941a0d7",
   "metadata": {},
   "outputs": [
    {
     "data": {
      "application/3dmoljs_load.v0": "<div id=\"3dmolviewer_1655492020478647\"  style=\"position: relative; width: 640px; height: 480px\">\n        <p id=\"3dmolwarning_1655492020478647\" style=\"background-color:#ffcccc;color:black\">You appear to be running in JupyterLab (or JavaScript failed to load for some other reason).  You need to install the 3dmol extension: <br>\n        <tt>jupyter labextension install jupyterlab_3dmol</tt></p>\n        </div>\n<script>\n\nvar loadScriptAsync = function(uri){\n  return new Promise((resolve, reject) => {\n    var tag = document.createElement('script');\n    tag.src = uri;\n    tag.async = true;\n    tag.onload = () => {\n      resolve();\n    };\n  var firstScriptTag = document.getElementsByTagName('script')[0];\n  firstScriptTag.parentNode.insertBefore(tag, firstScriptTag);\n});\n};\n\nif(typeof $3Dmolpromise === 'undefined') {\n$3Dmolpromise = null;\n  $3Dmolpromise = loadScriptAsync('https://3dmol.org/build/3Dmol.js');\n}\n\nvar viewer_1655492020478647 = null;\nvar warn = document.getElementById(\"3dmolwarning_1655492020478647\");\nif(warn) {\n    warn.parentNode.removeChild(warn);\n}\n$3Dmolpromise.then(function() {\nviewer_1655492020478647 = $3Dmol.createViewer($(\"#3dmolviewer_1655492020478647\"),{backgroundColor:\"white\"});\nviewer_1655492020478647.zoomTo();\n\tviewer_1655492020478647.addModel(\"REMARK  pred\\nSEQRES   1 A    5  TRP LEU ASP LEU GLU                                          \\nATOM      1  N   TRP A   1       9.192  64.268   3.337  1.00  0.00           N  \\nATOM      2  CA  TRP A   1      10.005  64.754   2.182  1.00  0.00           C  \\nATOM      3  C   TRP A   1       9.980  63.678   1.068  1.00  0.00           C  \\nATOM      4  O   TRP A   1       9.422  62.601   1.267  1.00  0.00           O  \\nATOM      5  CB  TRP A   1      11.428  65.070   2.687  1.00  0.00           C  \\nATOM      6  CG  TRP A   1      12.340  65.863   1.745  1.00  0.00           C  \\nATOM      7 CD1  TRP A   1      12.078  66.246   0.445  1.00  0.00           C  \\nATOM      8 NE1  TRP A   1      13.199  66.816  -0.122  1.00  0.00           N  \\nATOM      9 CE2  TRP A   1      14.206  66.829   0.806  1.00  0.00           C  \\nATOM     10 CZ2  TRP A   1      15.516  67.304   0.703  1.00  0.00           C  \\nATOM     11 CH2  TRP A   1      16.317  67.196   1.812  1.00  0.00           C  \\nATOM     12 CZ3  TRP A   1      15.844  66.631   3.013  1.00  0.00           C  \\nATOM     13 CE3  TRP A   1      14.545  66.157   3.118  1.00  0.00           C  \\nATOM     14 CD2  TRP A   1      13.701  66.250   2.000  1.00  0.00           C  \\nATOM     15  N   LEU A   2      10.498  63.999  -0.119  1.00  0.00           N  \\nATOM     16  CA  LEU A   2      10.527  63.054  -1.247  1.00  0.00           C  \\nATOM     17  C   LEU A   2      11.923  62.867  -1.876  1.00  0.00           C  \\nATOM     18  O   LEU A   2      12.959  63.115  -1.248  1.00  0.00           O  \\nATOM     19  CB  LEU A   2       9.560  63.511  -2.347  1.00  0.00           C  \\nATOM     20  CG  LEU A   2      10.053  64.644  -3.260  1.00  0.00           C  \\nATOM     21 CD1  LEU A   2       9.235  64.688  -4.540  1.00  0.00           C  \\nATOM     22 CD2  LEU A   2      10.025  65.976  -2.533  1.00  0.00           C  \\nATOM     23  N   ASP A   3      11.933  62.397  -3.119  1.00  0.00           N  \\nATOM     24  CA  ASP A   3      13.170  62.196  -3.854  1.00  0.00           C  \\nATOM     25  C   ASP A   3      13.327  63.333  -4.862  1.00  0.00           C  \\nATOM     26  O   ASP A   3      12.341  63.871  -5.373  1.00  0.00           O  \\nATOM     27  CB  ASP A   3      13.160  60.841  -4.559  1.00  0.00           C  \\nATOM     28  CG  ASP A   3      14.521  60.457  -5.107  1.00  0.00           C  \\nATOM     29 OD1  ASP A   3      15.078  61.208  -5.930  1.00  0.00           O  \\nATOM     30 OD2  ASP A   3      15.036  59.388  -4.729  1.00  0.00           O  \\nATOM     31  N   LEU A   4      14.573  63.625  -5.211  1.00  0.00           N  \\nATOM     32  CA  LEU A   4      14.894  64.726  -6.113  1.00  0.00           C  \\nATOM     33  C   LEU A   4      16.210  64.509  -6.912  1.00  0.00           C  \\nATOM     34  O   LEU A   4      17.066  63.727  -6.487  1.00  0.00           O  \\nATOM     35  CB  LEU A   4      15.031  65.965  -5.213  1.00  0.00           C  \\nATOM     36  CG  LEU A   4      15.420  67.341  -5.734  1.00  0.00           C  \\nATOM     37 CD1  LEU A   4      14.306  67.789  -6.642  1.00  0.00           C  \\nATOM     38 CD2  LEU A   4      15.632  68.337  -4.577  1.00  0.00           C  \\nATOM     39  N   GLU A   5      16.342  65.145  -8.083  1.00  0.00           N  \\nATOM     40  CA  GLU A   5      17.586  65.096  -8.889  1.00  0.00           C  \\nATOM     41  C   GLU A   5      17.780  66.390  -9.692  1.00  0.00           C  \\nATOM     42  O   GLU A   5      16.795  66.863 -10.297  1.00  0.00           O  \\nATOM     43  CB  GLU A   5      17.677  63.895  -9.852  1.00  0.00           C  \\nATOM     44  CG  GLU A   5      19.077  63.817 -10.539  1.00  0.00           C  \\nATOM     45  CD  GLU A   5      19.159  62.880 -11.741  1.00  0.00           C  \\nATOM     46 OE1  GLU A   5      18.338  61.950 -11.841  1.00  0.00           O  \\nATOM     47 OE2  GLU A   5      20.060  63.072 -12.589  1.00  0.00           O  \\nTER\\nEND          \\n\",\"pdb\",{\"keepH\": true});\n\tviewer_1655492020478647.addModel(\"REMARK  1A38_2_P\\nSEQRES   1 A    5  TRP LEU ASP LEU GLU                                          \\nATOM      1  N   TRP A   1       9.200  64.123   3.269  1.00  0.00           N  \\nATOM      2  CA  TRP A   1      10.005  64.608   2.175  1.00  0.00           C  \\nATOM      3  C   TRP A   1       9.974  63.596   1.070  1.00  0.00           C  \\nATOM      4  O   TRP A   1       9.466  62.494   1.261  1.00  0.00           O  \\nATOM      5  CB  TRP A   1      11.422  64.891   2.665  1.00  0.00           C  \\nATOM      6  CG  TRP A   1      12.285  65.674   1.728  1.00  0.00           C  \\nATOM      7 CD1  TRP A   1      11.936  66.039   0.474  1.00  0.00           C  \\nATOM      8 NE1  TRP A   1      12.980  66.747  -0.088  1.00  0.00           N  \\nATOM      9 CE2  TRP A   1      14.042  66.864   0.786  1.00  0.00           C  \\nATOM     10 CZ2  TRP A   1      15.297  67.477   0.681  1.00  0.00           C  \\nATOM     11 CH2  TRP A   1      16.190  67.432   1.758  1.00  0.00           C  \\nATOM     12 CZ3  TRP A   1      15.829  66.775   2.940  1.00  0.00           C  \\nATOM     13 CE3  TRP A   1      14.574  66.162   3.045  1.00  0.00           C  \\nATOM     14 CD2  TRP A   1      13.678  66.207   1.965  1.00  0.00           C  \\nATOM     15  N   LEU A   2      10.528  63.951  -0.142  1.00  0.00           N  \\nATOM     16  CA  LEU A   2      10.552  63.054  -1.271  1.00  0.00           C  \\nATOM     17  C   LEU A   2      11.911  62.864  -1.872  1.00  0.00           C  \\nATOM     18  O   LEU A   2      12.916  63.110  -1.209  1.00  0.00           O  \\nATOM     19  CB  LEU A   2       9.607  63.566  -2.354  1.00  0.00           C  \\nATOM     20  CG  LEU A   2      10.279  64.701  -3.121  1.00  0.00           C  \\nATOM     21 CD1  LEU A   2       9.567  64.905  -4.455  1.00  0.00           C  \\nATOM     22 CD2  LEU A   2      10.294  65.960  -2.259  1.00  0.00           C  \\nATOM     23  N   ASP A   3      11.926  62.410  -3.174  1.00  0.00           N  \\nATOM     24  CA  ASP A   3      13.158  62.208  -3.896  1.00  0.00           C  \\nATOM     25  C   ASP A   3      13.343  63.346  -4.853  1.00  0.00           C  \\nATOM     26  O   ASP A   3      12.364  63.954  -5.281  1.00  0.00           O  \\nATOM     27  CB  ASP A   3      13.111  60.870  -4.629  1.00  0.00           C  \\nATOM     28  CG  ASP A   3      14.484  60.491  -5.166  1.00  0.00           C  \\nATOM     29 OD1  ASP A   3      15.024  61.292  -5.959  1.00  0.00           O  \\nATOM     30 OD2  ASP A   3      14.967  59.407  -4.773  1.00  0.00           O  \\nATOM     31  N   LEU A   4      14.647  63.635  -5.194  1.00  0.00           N  \\nATOM     32  CA  LEU A   4      14.993  64.741  -6.053  1.00  0.00           C  \\nATOM     33  C   LEU A   4      16.265  64.529  -6.815  1.00  0.00           C  \\nATOM     34  O   LEU A   4      17.124  63.766  -6.378  1.00  0.00           O  \\nATOM     35  CB  LEU A   4      15.167  66.006  -5.218  1.00  0.00           C  \\nATOM     36  CG  LEU A   4      15.596  67.158  -6.122  1.00  0.00           C  \\nATOM     37 CD1  LEU A   4      14.475  67.477  -7.107  1.00  0.00           C  \\nATOM     38 CD2  LEU A   4      15.926  68.380  -5.269  1.00  0.00           C  \\nATOM     39  N   GLU A   5      16.426  65.213  -8.002  1.00  0.00           N  \\nATOM     40  CA  GLU A   5      17.643  65.164  -8.774  1.00  0.00           C  \\nATOM     41  C   GLU A   5      17.863  66.444  -9.522  1.00  0.00           C  \\nATOM     42  O   GLU A   5      16.932  66.970 -10.126  1.00  0.00           O  \\nATOM     43  CB  GLU A   5      17.606  63.964  -9.716  1.00  0.00           C  \\nATOM     44  CG  GLU A   5      18.958  63.819 -10.409  1.00  0.00           C  \\nATOM     45  CD  GLU A   5      18.868  62.867 -11.593  1.00  0.00           C  \\nATOM     46 OE1  GLU A   5      17.940  62.030 -11.578  1.00  0.00           O  \\nATOM     47 OE2  GLU A   5      19.729  62.994 -12.490  1.00  0.00           O  \\nTER\\nEND          \\n\");\n\tviewer_1655492020478647.setStyle({\"model\": 0},{\"cartoon\": {\"color\": \"#599BFB\"}, \"stick\": {\"radius\": 0.07, \"color\": \"#599BFB\"}});\n\tviewer_1655492020478647.setStyle({\"model\": 1},{\"cartoon\": {\"color\": \"#FB5960\"}, \"stick\": {\"radius\": 0.15, \"color\": \"#FB5960\"}});\n\tviewer_1655492020478647.zoomTo();\nviewer_1655492020478647.render();\n});\n</script>",
      "text/html": [
       "<div id=\"3dmolviewer_1655492020478647\"  style=\"position: relative; width: 640px; height: 480px\">\n",
       "        <p id=\"3dmolwarning_1655492020478647\" style=\"background-color:#ffcccc;color:black\">You appear to be running in JupyterLab (or JavaScript failed to load for some other reason).  You need to install the 3dmol extension: <br>\n",
       "        <tt>jupyter labextension install jupyterlab_3dmol</tt></p>\n",
       "        </div>\n",
       "<script>\n",
       "\n",
       "var loadScriptAsync = function(uri){\n",
       "  return new Promise((resolve, reject) => {\n",
       "    var tag = document.createElement('script');\n",
       "    tag.src = uri;\n",
       "    tag.async = true;\n",
       "    tag.onload = () => {\n",
       "      resolve();\n",
       "    };\n",
       "  var firstScriptTag = document.getElementsByTagName('script')[0];\n",
       "  firstScriptTag.parentNode.insertBefore(tag, firstScriptTag);\n",
       "});\n",
       "};\n",
       "\n",
       "if(typeof $3Dmolpromise === 'undefined') {\n",
       "$3Dmolpromise = null;\n",
       "  $3Dmolpromise = loadScriptAsync('https://3dmol.org/build/3Dmol.js');\n",
       "}\n",
       "\n",
       "var viewer_1655492020478647 = null;\n",
       "var warn = document.getElementById(\"3dmolwarning_1655492020478647\");\n",
       "if(warn) {\n",
       "    warn.parentNode.removeChild(warn);\n",
       "}\n",
       "$3Dmolpromise.then(function() {\n",
       "viewer_1655492020478647 = $3Dmol.createViewer($(\"#3dmolviewer_1655492020478647\"),{backgroundColor:\"white\"});\n",
       "viewer_1655492020478647.zoomTo();\n",
       "\tviewer_1655492020478647.addModel(\"REMARK  pred\\nSEQRES   1 A    5  TRP LEU ASP LEU GLU                                          \\nATOM      1  N   TRP A   1       9.192  64.268   3.337  1.00  0.00           N  \\nATOM      2  CA  TRP A   1      10.005  64.754   2.182  1.00  0.00           C  \\nATOM      3  C   TRP A   1       9.980  63.678   1.068  1.00  0.00           C  \\nATOM      4  O   TRP A   1       9.422  62.601   1.267  1.00  0.00           O  \\nATOM      5  CB  TRP A   1      11.428  65.070   2.687  1.00  0.00           C  \\nATOM      6  CG  TRP A   1      12.340  65.863   1.745  1.00  0.00           C  \\nATOM      7 CD1  TRP A   1      12.078  66.246   0.445  1.00  0.00           C  \\nATOM      8 NE1  TRP A   1      13.199  66.816  -0.122  1.00  0.00           N  \\nATOM      9 CE2  TRP A   1      14.206  66.829   0.806  1.00  0.00           C  \\nATOM     10 CZ2  TRP A   1      15.516  67.304   0.703  1.00  0.00           C  \\nATOM     11 CH2  TRP A   1      16.317  67.196   1.812  1.00  0.00           C  \\nATOM     12 CZ3  TRP A   1      15.844  66.631   3.013  1.00  0.00           C  \\nATOM     13 CE3  TRP A   1      14.545  66.157   3.118  1.00  0.00           C  \\nATOM     14 CD2  TRP A   1      13.701  66.250   2.000  1.00  0.00           C  \\nATOM     15  N   LEU A   2      10.498  63.999  -0.119  1.00  0.00           N  \\nATOM     16  CA  LEU A   2      10.527  63.054  -1.247  1.00  0.00           C  \\nATOM     17  C   LEU A   2      11.923  62.867  -1.876  1.00  0.00           C  \\nATOM     18  O   LEU A   2      12.959  63.115  -1.248  1.00  0.00           O  \\nATOM     19  CB  LEU A   2       9.560  63.511  -2.347  1.00  0.00           C  \\nATOM     20  CG  LEU A   2      10.053  64.644  -3.260  1.00  0.00           C  \\nATOM     21 CD1  LEU A   2       9.235  64.688  -4.540  1.00  0.00           C  \\nATOM     22 CD2  LEU A   2      10.025  65.976  -2.533  1.00  0.00           C  \\nATOM     23  N   ASP A   3      11.933  62.397  -3.119  1.00  0.00           N  \\nATOM     24  CA  ASP A   3      13.170  62.196  -3.854  1.00  0.00           C  \\nATOM     25  C   ASP A   3      13.327  63.333  -4.862  1.00  0.00           C  \\nATOM     26  O   ASP A   3      12.341  63.871  -5.373  1.00  0.00           O  \\nATOM     27  CB  ASP A   3      13.160  60.841  -4.559  1.00  0.00           C  \\nATOM     28  CG  ASP A   3      14.521  60.457  -5.107  1.00  0.00           C  \\nATOM     29 OD1  ASP A   3      15.078  61.208  -5.930  1.00  0.00           O  \\nATOM     30 OD2  ASP A   3      15.036  59.388  -4.729  1.00  0.00           O  \\nATOM     31  N   LEU A   4      14.573  63.625  -5.211  1.00  0.00           N  \\nATOM     32  CA  LEU A   4      14.894  64.726  -6.113  1.00  0.00           C  \\nATOM     33  C   LEU A   4      16.210  64.509  -6.912  1.00  0.00           C  \\nATOM     34  O   LEU A   4      17.066  63.727  -6.487  1.00  0.00           O  \\nATOM     35  CB  LEU A   4      15.031  65.965  -5.213  1.00  0.00           C  \\nATOM     36  CG  LEU A   4      15.420  67.341  -5.734  1.00  0.00           C  \\nATOM     37 CD1  LEU A   4      14.306  67.789  -6.642  1.00  0.00           C  \\nATOM     38 CD2  LEU A   4      15.632  68.337  -4.577  1.00  0.00           C  \\nATOM     39  N   GLU A   5      16.342  65.145  -8.083  1.00  0.00           N  \\nATOM     40  CA  GLU A   5      17.586  65.096  -8.889  1.00  0.00           C  \\nATOM     41  C   GLU A   5      17.780  66.390  -9.692  1.00  0.00           C  \\nATOM     42  O   GLU A   5      16.795  66.863 -10.297  1.00  0.00           O  \\nATOM     43  CB  GLU A   5      17.677  63.895  -9.852  1.00  0.00           C  \\nATOM     44  CG  GLU A   5      19.077  63.817 -10.539  1.00  0.00           C  \\nATOM     45  CD  GLU A   5      19.159  62.880 -11.741  1.00  0.00           C  \\nATOM     46 OE1  GLU A   5      18.338  61.950 -11.841  1.00  0.00           O  \\nATOM     47 OE2  GLU A   5      20.060  63.072 -12.589  1.00  0.00           O  \\nTER\\nEND          \\n\",\"pdb\",{\"keepH\": true});\n",
       "\tviewer_1655492020478647.addModel(\"REMARK  1A38_2_P\\nSEQRES   1 A    5  TRP LEU ASP LEU GLU                                          \\nATOM      1  N   TRP A   1       9.200  64.123   3.269  1.00  0.00           N  \\nATOM      2  CA  TRP A   1      10.005  64.608   2.175  1.00  0.00           C  \\nATOM      3  C   TRP A   1       9.974  63.596   1.070  1.00  0.00           C  \\nATOM      4  O   TRP A   1       9.466  62.494   1.261  1.00  0.00           O  \\nATOM      5  CB  TRP A   1      11.422  64.891   2.665  1.00  0.00           C  \\nATOM      6  CG  TRP A   1      12.285  65.674   1.728  1.00  0.00           C  \\nATOM      7 CD1  TRP A   1      11.936  66.039   0.474  1.00  0.00           C  \\nATOM      8 NE1  TRP A   1      12.980  66.747  -0.088  1.00  0.00           N  \\nATOM      9 CE2  TRP A   1      14.042  66.864   0.786  1.00  0.00           C  \\nATOM     10 CZ2  TRP A   1      15.297  67.477   0.681  1.00  0.00           C  \\nATOM     11 CH2  TRP A   1      16.190  67.432   1.758  1.00  0.00           C  \\nATOM     12 CZ3  TRP A   1      15.829  66.775   2.940  1.00  0.00           C  \\nATOM     13 CE3  TRP A   1      14.574  66.162   3.045  1.00  0.00           C  \\nATOM     14 CD2  TRP A   1      13.678  66.207   1.965  1.00  0.00           C  \\nATOM     15  N   LEU A   2      10.528  63.951  -0.142  1.00  0.00           N  \\nATOM     16  CA  LEU A   2      10.552  63.054  -1.271  1.00  0.00           C  \\nATOM     17  C   LEU A   2      11.911  62.864  -1.872  1.00  0.00           C  \\nATOM     18  O   LEU A   2      12.916  63.110  -1.209  1.00  0.00           O  \\nATOM     19  CB  LEU A   2       9.607  63.566  -2.354  1.00  0.00           C  \\nATOM     20  CG  LEU A   2      10.279  64.701  -3.121  1.00  0.00           C  \\nATOM     21 CD1  LEU A   2       9.567  64.905  -4.455  1.00  0.00           C  \\nATOM     22 CD2  LEU A   2      10.294  65.960  -2.259  1.00  0.00           C  \\nATOM     23  N   ASP A   3      11.926  62.410  -3.174  1.00  0.00           N  \\nATOM     24  CA  ASP A   3      13.158  62.208  -3.896  1.00  0.00           C  \\nATOM     25  C   ASP A   3      13.343  63.346  -4.853  1.00  0.00           C  \\nATOM     26  O   ASP A   3      12.364  63.954  -5.281  1.00  0.00           O  \\nATOM     27  CB  ASP A   3      13.111  60.870  -4.629  1.00  0.00           C  \\nATOM     28  CG  ASP A   3      14.484  60.491  -5.166  1.00  0.00           C  \\nATOM     29 OD1  ASP A   3      15.024  61.292  -5.959  1.00  0.00           O  \\nATOM     30 OD2  ASP A   3      14.967  59.407  -4.773  1.00  0.00           O  \\nATOM     31  N   LEU A   4      14.647  63.635  -5.194  1.00  0.00           N  \\nATOM     32  CA  LEU A   4      14.993  64.741  -6.053  1.00  0.00           C  \\nATOM     33  C   LEU A   4      16.265  64.529  -6.815  1.00  0.00           C  \\nATOM     34  O   LEU A   4      17.124  63.766  -6.378  1.00  0.00           O  \\nATOM     35  CB  LEU A   4      15.167  66.006  -5.218  1.00  0.00           C  \\nATOM     36  CG  LEU A   4      15.596  67.158  -6.122  1.00  0.00           C  \\nATOM     37 CD1  LEU A   4      14.475  67.477  -7.107  1.00  0.00           C  \\nATOM     38 CD2  LEU A   4      15.926  68.380  -5.269  1.00  0.00           C  \\nATOM     39  N   GLU A   5      16.426  65.213  -8.002  1.00  0.00           N  \\nATOM     40  CA  GLU A   5      17.643  65.164  -8.774  1.00  0.00           C  \\nATOM     41  C   GLU A   5      17.863  66.444  -9.522  1.00  0.00           C  \\nATOM     42  O   GLU A   5      16.932  66.970 -10.126  1.00  0.00           O  \\nATOM     43  CB  GLU A   5      17.606  63.964  -9.716  1.00  0.00           C  \\nATOM     44  CG  GLU A   5      18.958  63.819 -10.409  1.00  0.00           C  \\nATOM     45  CD  GLU A   5      18.868  62.867 -11.593  1.00  0.00           C  \\nATOM     46 OE1  GLU A   5      17.940  62.030 -11.578  1.00  0.00           O  \\nATOM     47 OE2  GLU A   5      19.729  62.994 -12.490  1.00  0.00           O  \\nTER\\nEND          \\n\");\n",
       "\tviewer_1655492020478647.setStyle({\"model\": 0},{\"cartoon\": {\"color\": \"#599BFB\"}, \"stick\": {\"radius\": 0.07, \"color\": \"#599BFB\"}});\n",
       "\tviewer_1655492020478647.setStyle({\"model\": 1},{\"cartoon\": {\"color\": \"#FB5960\"}, \"stick\": {\"radius\": 0.15, \"color\": \"#FB5960\"}});\n",
       "\tviewer_1655492020478647.zoomTo();\n",
       "viewer_1655492020478647.render();\n",
       "});\n",
       "</script>"
      ]
     },
     "metadata": {},
     "output_type": "display_data"
    },
    {
     "data": {
      "text/plain": [
       "<py3Dmol.view at 0x7f2f88594f70>"
      ]
     },
     "execution_count": 11,
     "metadata": {},
     "output_type": "execute_result"
    }
   ],
   "source": [
    "p.to_3Dmol(other_protein=pcopy)"
   ]
  },
  {
   "cell_type": "code",
   "execution_count": null,
   "id": "98ac036c",
   "metadata": {},
   "outputs": [],
   "source": []
  }
 ],
 "metadata": {
  "kernelspec": {
   "display_name": "Python [conda env:sidechainnetv2] *",
   "language": "python",
   "name": "conda-env-sidechainnetv2-py"
  },
  "language_info": {
   "codemirror_mode": {
    "name": "ipython",
    "version": 3
   },
   "file_extension": ".py",
   "mimetype": "text/x-python",
   "name": "python",
   "nbconvert_exporter": "python",
   "pygments_lexer": "ipython3",
   "version": "3.8.12"
  }
 },
 "nbformat": 4,
 "nbformat_minor": 5
}
