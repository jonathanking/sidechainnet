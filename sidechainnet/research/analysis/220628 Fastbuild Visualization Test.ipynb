{
 "cells": [
  {
   "cell_type": "code",
   "execution_count": 1,
   "id": "e94bbeea",
   "metadata": {
    "code_folding": [
     6
    ]
   },
   "outputs": [
    {
     "data": {
      "text/plain": [
       "SCNProtein(1A38_2_P, len=5, missing=0, split='train')"
      ]
     },
     "execution_count": 1,
     "metadata": {},
     "output_type": "execute_result"
    }
   ],
   "source": [
    "import sidechainnet as scn\n",
    "from sidechainnet.dataloaders.SCNProtein import SCNProtein\n",
    "import numpy as np\n",
    "nan = np.nan\n",
    "import torch\n",
    "\n",
    "def get_p():\n",
    "    # Below uses the new measurement methodology\n",
    "    angles = torch.tensor([\n",
    "        [nan, 2.9864, 3.1411, 1.8979, 2.0560, 2.1353, np.deg2rad(-109.5), -2.9177, -0.0954, nan, nan, nan],\n",
    "        [-2.2205, -2.7720, 3.1174, 1.9913, 2.0165, 2.1277, 1.9315, 1.3732, 2.8204, -1.2943, nan, nan],\n",
    "        [-1.8046, 2.6789, -3.0887, 1.8948, 2.0197, 2.1358, 2.3525, -2.9406, -1.0214, nan, nan, nan],\n",
    "        [-2.6590, 2.7039, 3.0630, 1.9808, 2.0562, 2.1439, 1.5275, 3.0964, 1.1357, -3.0276, nan, nan],\n",
    "        [-2.6066, -0.7829, nan, 1.9416, nan, nan, 1.5148, -3.0244, -2.8980, -0.4080, nan, nan]\n",
    "        ], dtype=torch.float64)\n",
    "    coordinates = torch.tensor([\n",
    "        [  9.1920,  64.2680,   3.3370],\n",
    "        [ 10.0050,  64.7540,   2.1820],\n",
    "        [  9.9800,  63.6780,   1.0680],\n",
    "        [  9.4220,  62.6010,   1.2670],\n",
    "        [ 11.4280,  65.0700,   2.6870],\n",
    "        [ 12.3400,  65.8630,   1.7450],\n",
    "        [ 12.0780,  66.2460,   0.4450],\n",
    "        [ 13.1990,  66.8160,  -0.1220],\n",
    "        [ 14.2060,  66.8290,   0.8060],\n",
    "        [ 15.5160,  67.3040,   0.7030],\n",
    "        [ 16.3170,  67.1960,   1.8120],\n",
    "        [ 15.8440,  66.6310,   3.0130],\n",
    "        [ 14.5450,  66.1570,   3.1180],\n",
    "        [ 13.7010,  66.2500,   2.0000],\n",
    "        [ 10.4980,  63.9990,  -0.1190],\n",
    "        [ 10.5270,  63.0540,  -1.2470],\n",
    "        [ 11.9230,  62.8670,  -1.8760],\n",
    "        [ 12.9590,  63.1150,  -1.2480],\n",
    "        [  9.5600,  63.5110,  -2.3470],\n",
    "        [ 10.0530,  64.6440,  -3.2600],\n",
    "        [  9.2350,  64.6880,  -4.5400],\n",
    "        [ 10.0250,  65.9760,  -2.5330],\n",
    "        [     nan,      nan,      nan],\n",
    "        [     nan,      nan,      nan],\n",
    "        [     nan,      nan,      nan],\n",
    "        [     nan,      nan,      nan],\n",
    "        [     nan,      nan,      nan],\n",
    "        [     nan,      nan,      nan],\n",
    "        [ 11.9330,  62.3970,  -3.1190],\n",
    "        [ 13.1700,  62.1960,  -3.8540],\n",
    "        [ 13.3270,  63.3330,  -4.8620],\n",
    "        [ 12.3410,  63.8710,  -5.3730],\n",
    "        [ 13.1600,  60.8410,  -4.5590],\n",
    "        [ 14.5210,  60.4570,  -5.1070],\n",
    "        [ 15.0780,  61.2080,  -5.9300],\n",
    "        [ 15.0360,  59.3880,  -4.7290],\n",
    "        [     nan,      nan,      nan],\n",
    "        [     nan,      nan,      nan],\n",
    "        [     nan,      nan,      nan],\n",
    "        [     nan,      nan,      nan],\n",
    "        [     nan,      nan,      nan],\n",
    "        [     nan,      nan,      nan],\n",
    "        [ 14.5730,  63.6250,  -5.2110],\n",
    "        [ 14.8940,  64.7260,  -6.1130],\n",
    "        [ 16.2100,  64.5090,  -6.9120],\n",
    "        [ 17.0660,  63.7270,  -6.4870],\n",
    "        [ 15.0310,  65.9650,  -5.2130],\n",
    "        [ 15.4200,  67.3410,  -5.7340],\n",
    "        [ 14.3060,  67.7890,  -6.6420],\n",
    "        [ 15.6320,  68.3370,  -4.5770],\n",
    "        [     nan,      nan,      nan],\n",
    "        [     nan,      nan,      nan],\n",
    "        [     nan,      nan,      nan],\n",
    "        [     nan,      nan,      nan],\n",
    "        [     nan,      nan,      nan],\n",
    "        [     nan,      nan,      nan],\n",
    "        [ 16.3420,  65.1450,  -8.0830],\n",
    "        [ 17.5860,  65.0960,  -8.8890],\n",
    "        [ 17.7800,  66.3900,  -9.6920],\n",
    "        [ 16.7950,  66.8630, -10.2970],\n",
    "        [ 17.6770,  63.8950,  -9.8520],\n",
    "        [ 19.0770,  63.8170, -10.5390],\n",
    "        [ 19.1590,  62.8800, -11.7410],\n",
    "        [ 18.3380,  61.9500, -11.8410],\n",
    "        [ 20.0600,  63.0720, -12.5890],\n",
    "        [     nan,      nan,      nan],\n",
    "        [     nan,      nan,      nan],\n",
    "        [     nan,      nan,      nan],\n",
    "        [     nan,      nan,      nan],\n",
    "        [     nan,      nan,      nan]], dtype=torch.float64)\n",
    "    p = SCNProtein(\n",
    "        coordinates=coordinates,\n",
    "        angles=angles,\n",
    "        sequence=\"WLDLE\",\n",
    "        mask=\"+++++\",\n",
    "        id=\"1A38_2_P\",\n",
    "        split=\"train\"\n",
    "    )\n",
    "    p.torch()\n",
    "    return p\n",
    "\n",
    "\n",
    "p = get_p()\n",
    "p"
   ]
  },
  {
   "cell_type": "code",
   "execution_count": 2,
   "id": "511627a1",
   "metadata": {},
   "outputs": [],
   "source": [
    "# coords = p.fastbuild()\n",
    "# p.coords = coords\n",
    "# coords.shape\n"
   ]
  },
  {
   "cell_type": "code",
   "execution_count": 3,
   "id": "e462071f",
   "metadata": {},
   "outputs": [],
   "source": [
    "# p.mask = '-' + p.mask[1:]\n",
    "# print(p.mask)\n",
    "# p.trim_edges()\n",
    "# print(p.mask)\n",
    "# # p.coords = coords[1:]"
   ]
  },
  {
   "cell_type": "code",
   "execution_count": 2,
   "id": "e3a418d8",
   "metadata": {},
   "outputs": [],
   "source": [
    "p.coords = p.coords.reshape(5, 14, 3)"
   ]
  },
  {
   "cell_type": "code",
   "execution_count": 3,
   "id": "b07e77a7",
   "metadata": {},
   "outputs": [
    {
     "data": {
      "text/plain": [
       "'WLDLE'"
      ]
     },
     "execution_count": 3,
     "metadata": {},
     "output_type": "execute_result"
    }
   ],
   "source": [
    "p.seq"
   ]
  },
  {
   "cell_type": "code",
   "execution_count": 4,
   "id": "f534d7ae",
   "metadata": {},
   "outputs": [
    {
     "ename": "AssertionError",
     "evalue": "",
     "output_type": "error",
     "traceback": [
      "\u001b[0;31m---------------------------------------------------------------------------\u001b[0m",
      "\u001b[0;31mAssertionError\u001b[0m                            Traceback (most recent call last)",
      "Input \u001b[0;32mIn [4]\u001b[0m, in \u001b[0;36m<module>\u001b[0;34m\u001b[0m\n\u001b[1;32m      1\u001b[0m \u001b[38;5;66;03m# p.to_pdb(\"/home/jok120/Downloads/ref00.pdb\", title='reference')\u001b[39;00m\n\u001b[0;32m----> 2\u001b[0m \u001b[43mp\u001b[49m\u001b[38;5;241;43m.\u001b[39;49m\u001b[43mto_3Dmol\u001b[49m\u001b[43m(\u001b[49m\u001b[43m)\u001b[49m\n",
      "File \u001b[0;32m~/sidechainnet/sidechainnet/dataloaders/SCNProtein.py:118\u001b[0m, in \u001b[0;36mSCNProtein.to_3Dmol\u001b[0;34m(self, from_angles, style, other_protein)\u001b[0m\n\u001b[1;32m    114\u001b[0m     \u001b[38;5;28;01melse\u001b[39;00m:\n\u001b[1;32m    115\u001b[0m         \u001b[38;5;28mself\u001b[39m\u001b[38;5;241m.\u001b[39msb \u001b[38;5;241m=\u001b[39m sidechainnet\u001b[38;5;241m.\u001b[39mStructureBuilder(\u001b[38;5;28mself\u001b[39m\u001b[38;5;241m.\u001b[39mseq,\n\u001b[1;32m    116\u001b[0m                                                 \u001b[38;5;28mself\u001b[39m\u001b[38;5;241m.\u001b[39mcoords,\n\u001b[1;32m    117\u001b[0m                                                 has_hydrogens\u001b[38;5;241m=\u001b[39m\u001b[38;5;28mself\u001b[39m\u001b[38;5;241m.\u001b[39mhas_hydrogens)\n\u001b[0;32m--> 118\u001b[0m \u001b[38;5;28;01mreturn\u001b[39;00m \u001b[38;5;28;43mself\u001b[39;49m\u001b[38;5;241;43m.\u001b[39;49m\u001b[43msb\u001b[49m\u001b[38;5;241;43m.\u001b[39;49m\u001b[43mto_3Dmol\u001b[49m\u001b[43m(\u001b[49m\u001b[43mstyle\u001b[49m\u001b[38;5;241;43m=\u001b[39;49m\u001b[43mstyle\u001b[49m\u001b[43m,\u001b[49m\u001b[43m \u001b[49m\u001b[43mother_protein\u001b[49m\u001b[38;5;241;43m=\u001b[39;49m\u001b[43mother_protein\u001b[49m\u001b[43m)\u001b[49m\n",
      "File \u001b[0;32m~/sidechainnet/sidechainnet/structure/StructureBuilder.py:284\u001b[0m, in \u001b[0;36mStructureBuilder.to_3Dmol\u001b[0;34m(self, style, other_protein, **kwargs)\u001b[0m\n\u001b[1;32m    281\u001b[0m \u001b[38;5;28;01mimport\u001b[39;00m \u001b[38;5;21;01mpy3Dmol\u001b[39;00m\n\u001b[1;32m    283\u001b[0m view \u001b[38;5;241m=\u001b[39m py3Dmol\u001b[38;5;241m.\u001b[39mview(\u001b[38;5;241m*\u001b[39m\u001b[38;5;241m*\u001b[39mkwargs)\n\u001b[0;32m--> 284\u001b[0m view\u001b[38;5;241m.\u001b[39maddModel(\u001b[38;5;28;43mself\u001b[39;49m\u001b[38;5;241;43m.\u001b[39;49m\u001b[43mto_pdbstr\u001b[49m\u001b[43m(\u001b[49m\u001b[43m)\u001b[49m, \u001b[38;5;124m'\u001b[39m\u001b[38;5;124mpdb\u001b[39m\u001b[38;5;124m'\u001b[39m, {\u001b[38;5;124m'\u001b[39m\u001b[38;5;124mkeepH\u001b[39m\u001b[38;5;124m'\u001b[39m: \u001b[38;5;28;01mTrue\u001b[39;00m})\n\u001b[1;32m    286\u001b[0m \u001b[38;5;66;03m# If we have another protein to compare, align the other protein and add to viz\u001b[39;00m\n\u001b[1;32m    287\u001b[0m \u001b[38;5;28;01mif\u001b[39;00m other_protein \u001b[38;5;129;01mis\u001b[39;00m \u001b[38;5;129;01mnot\u001b[39;00m \u001b[38;5;28;01mNone\u001b[39;00m:\n\u001b[1;32m    288\u001b[0m     \u001b[38;5;66;03m# Create copies and nan-masks of coordinate data\u001b[39;00m\n",
      "File \u001b[0;32m~/sidechainnet/sidechainnet/structure/StructureBuilder.py:243\u001b[0m, in \u001b[0;36mStructureBuilder.to_pdbstr\u001b[0;34m(self, title)\u001b[0m\n\u001b[1;32m    237\u001b[0m \u001b[38;5;28;01mdef\u001b[39;00m \u001b[38;5;21mto_pdbstr\u001b[39m(\u001b[38;5;28mself\u001b[39m, title\u001b[38;5;241m=\u001b[39m\u001b[38;5;124m\"\u001b[39m\u001b[38;5;124mpred\u001b[39m\u001b[38;5;124m\"\u001b[39m):\n\u001b[1;32m    238\u001b[0m     \u001b[38;5;124;03m\"\"\"Return protein structure as a PDB string.\u001b[39;00m\n\u001b[1;32m    239\u001b[0m \n\u001b[1;32m    240\u001b[0m \u001b[38;5;124;03m    Args:\u001b[39;00m\n\u001b[1;32m    241\u001b[0m \u001b[38;5;124;03m        title (str, optional): Title of structure for PDB file. Defaults to \"pred\".\u001b[39;00m\n\u001b[1;32m    242\u001b[0m \u001b[38;5;124;03m    \"\"\"\u001b[39;00m\n\u001b[0;32m--> 243\u001b[0m     \u001b[38;5;28;43mself\u001b[39;49m\u001b[38;5;241;43m.\u001b[39;49m\u001b[43m_initialize_coordinates_and_PdbCreator\u001b[49m\u001b[43m(\u001b[49m\u001b[43m)\u001b[49m\n\u001b[1;32m    244\u001b[0m     \u001b[38;5;28;01mreturn\u001b[39;00m \u001b[38;5;28mself\u001b[39m\u001b[38;5;241m.\u001b[39mpdb_creator\u001b[38;5;241m.\u001b[39mget_pdb_string(title)\n",
      "File \u001b[0;32m~/sidechainnet/sidechainnet/structure/StructureBuilder.py:212\u001b[0m, in \u001b[0;36mStructureBuilder._initialize_coordinates_and_PdbCreator\u001b[0;34m(self)\u001b[0m\n\u001b[1;32m    207\u001b[0m     \u001b[38;5;28mself\u001b[39m\u001b[38;5;241m.\u001b[39mpdb_creator \u001b[38;5;241m=\u001b[39m PdbBuilder(\u001b[38;5;28mself\u001b[39m\u001b[38;5;241m.\u001b[39mseq_as_str,\n\u001b[1;32m    208\u001b[0m                                   \u001b[38;5;28mself\u001b[39m\u001b[38;5;241m.\u001b[39mcoords,\n\u001b[1;32m    209\u001b[0m                                   terminal_atoms\u001b[38;5;241m=\u001b[39m\u001b[38;5;28mself\u001b[39m\u001b[38;5;241m.\u001b[39mterminal_atoms,\n\u001b[1;32m    210\u001b[0m                                   has_hydrogens\u001b[38;5;241m=\u001b[39m\u001b[38;5;28mself\u001b[39m\u001b[38;5;241m.\u001b[39mhas_hydrogens)\n\u001b[1;32m    211\u001b[0m \u001b[38;5;28;01melse\u001b[39;00m:\n\u001b[0;32m--> 212\u001b[0m     \u001b[38;5;28mself\u001b[39m\u001b[38;5;241m.\u001b[39mpdb_creator \u001b[38;5;241m=\u001b[39m \u001b[43mPdbBuilder\u001b[49m\u001b[43m(\u001b[49m\u001b[38;5;28;43mself\u001b[39;49m\u001b[38;5;241;43m.\u001b[39;49m\u001b[43mseq_as_str\u001b[49m\u001b[43m,\u001b[49m\n\u001b[1;32m    213\u001b[0m \u001b[43m                                  \u001b[49m\u001b[38;5;28;43mself\u001b[39;49m\u001b[38;5;241;43m.\u001b[39;49m\u001b[43mcoords\u001b[49m\u001b[38;5;241;43m.\u001b[39;49m\u001b[43mcpu\u001b[49m\u001b[43m(\u001b[49m\u001b[43m)\u001b[49m\u001b[38;5;241;43m.\u001b[39;49m\u001b[43mdetach\u001b[49m\u001b[43m(\u001b[49m\u001b[43m)\u001b[49m\u001b[38;5;241;43m.\u001b[39;49m\u001b[43mnumpy\u001b[49m\u001b[43m(\u001b[49m\u001b[43m)\u001b[49m\u001b[43m,\u001b[49m\n\u001b[1;32m    214\u001b[0m \u001b[43m                                  \u001b[49m\u001b[43mterminal_atoms\u001b[49m\u001b[38;5;241;43m=\u001b[39;49m\u001b[38;5;28;43mself\u001b[39;49m\u001b[38;5;241;43m.\u001b[39;49m\u001b[43mterminal_atoms\u001b[49m\u001b[43m,\u001b[49m\n\u001b[1;32m    215\u001b[0m \u001b[43m                                  \u001b[49m\u001b[43mhas_hydrogens\u001b[49m\u001b[38;5;241;43m=\u001b[39;49m\u001b[38;5;28;43mself\u001b[39;49m\u001b[38;5;241;43m.\u001b[39;49m\u001b[43mhas_hydrogens\u001b[49m\u001b[43m)\u001b[49m\n",
      "File \u001b[0;32m~/sidechainnet/sidechainnet/structure/PdbBuilder.py:50\u001b[0m, in \u001b[0;36mPdbBuilder.__init__\u001b[0;34m(self, seq, coords, terminal_atoms, has_hydrogens)\u001b[0m\n\u001b[1;32m     48\u001b[0m \u001b[38;5;28mself\u001b[39m\u001b[38;5;241m.\u001b[39mcoords \u001b[38;5;241m=\u001b[39m coords\n\u001b[1;32m     49\u001b[0m \u001b[38;5;28mself\u001b[39m\u001b[38;5;241m.\u001b[39mseq \u001b[38;5;241m=\u001b[39m seq\n\u001b[0;32m---> 50\u001b[0m \u001b[38;5;28mself\u001b[39m\u001b[38;5;241m.\u001b[39mmapping \u001b[38;5;241m=\u001b[39m \u001b[38;5;28;43mself\u001b[39;49m\u001b[38;5;241;43m.\u001b[39;49m\u001b[43m_make_mapping_from_seq\u001b[49m\u001b[43m(\u001b[49m\u001b[43m)\u001b[49m\n\u001b[1;32m     51\u001b[0m \u001b[38;5;28mself\u001b[39m\u001b[38;5;241m.\u001b[39mterminal_atoms \u001b[38;5;241m=\u001b[39m terminal_atoms\n\u001b[1;32m     53\u001b[0m \u001b[38;5;66;03m# PDB Formatting Information\u001b[39;00m\n",
      "File \u001b[0;32m~/sidechainnet/sidechainnet/structure/PdbBuilder.py:161\u001b[0m, in \u001b[0;36mPdbBuilder._make_mapping_from_seq\u001b[0;34m(self)\u001b[0m\n\u001b[1;32m    159\u001b[0m \u001b[38;5;66;03m# The first residue, if N-terminal, actually calls its N-H hydrogen H1, not H\u001b[39;00m\n\u001b[1;32m    160\u001b[0m \u001b[38;5;28;01mif\u001b[39;00m i \u001b[38;5;241m==\u001b[39m \u001b[38;5;241m0\u001b[39m:\n\u001b[0;32m--> 161\u001b[0m     \u001b[38;5;28;01massert\u001b[39;00m an[\u001b[38;5;241m5\u001b[39m] \u001b[38;5;241m==\u001b[39m \u001b[38;5;124m\"\u001b[39m\u001b[38;5;124mH\u001b[39m\u001b[38;5;124m\"\u001b[39m\n\u001b[1;32m    162\u001b[0m     an \u001b[38;5;241m=\u001b[39m an[\u001b[38;5;241m0\u001b[39m:\u001b[38;5;241m5\u001b[39m] \u001b[38;5;241m+\u001b[39m [\u001b[38;5;124m\"\u001b[39m\u001b[38;5;124mH1\u001b[39m\u001b[38;5;124m\"\u001b[39m] \u001b[38;5;241m+\u001b[39m an[\u001b[38;5;241m6\u001b[39m:]\n\u001b[1;32m    163\u001b[0m mapping\u001b[38;5;241m.\u001b[39mappend((residue, an))\n",
      "\u001b[0;31mAssertionError\u001b[0m: "
     ]
    }
   ],
   "source": [
    "# p.to_pdb(\"/home/jok120/Downloads/ref00.pdb\", title='reference')\n",
    "p.to_3Dmol()"
   ]
  },
  {
   "cell_type": "code",
   "execution_count": 7,
   "id": "4c5918a4",
   "metadata": {},
   "outputs": [],
   "source": [
    "p.angles[0,6] = np.deg2rad(-109.5)"
   ]
  },
  {
   "cell_type": "code",
   "execution_count": 8,
   "id": "65614f04",
   "metadata": {
    "collapsed": true
   },
   "outputs": [
    {
     "ename": "AssertionError",
     "evalue": "",
     "output_type": "error",
     "traceback": [
      "\u001b[0;31m---------------------------------------------------------------------------\u001b[0m",
      "\u001b[0;31mAssertionError\u001b[0m                            Traceback (most recent call last)",
      "Input \u001b[0;32mIn [8]\u001b[0m, in \u001b[0;36m<module>\u001b[0;34m\u001b[0m\n\u001b[1;32m      2\u001b[0m coords \u001b[38;5;241m=\u001b[39m p\u001b[38;5;241m.\u001b[39mfastbuild()\n\u001b[1;32m      3\u001b[0m p\u001b[38;5;241m.\u001b[39mcoords \u001b[38;5;241m=\u001b[39m coords\n\u001b[0;32m----> 5\u001b[0m \u001b[43mp\u001b[49m\u001b[38;5;241;43m.\u001b[39;49m\u001b[43mto_3Dmol\u001b[49m\u001b[43m(\u001b[49m\u001b[43m)\u001b[49m\n",
      "File \u001b[0;32m~/sidechainnet/sidechainnet/dataloaders/SCNProtein.py:117\u001b[0m, in \u001b[0;36mSCNProtein.to_3Dmol\u001b[0;34m(self, from_angles, style, other_protein)\u001b[0m\n\u001b[1;32m    113\u001b[0m     \u001b[38;5;28;01melse\u001b[39;00m:\n\u001b[1;32m    114\u001b[0m         \u001b[38;5;28mself\u001b[39m\u001b[38;5;241m.\u001b[39msb \u001b[38;5;241m=\u001b[39m sidechainnet\u001b[38;5;241m.\u001b[39mStructureBuilder(\u001b[38;5;28mself\u001b[39m\u001b[38;5;241m.\u001b[39mseq,\n\u001b[1;32m    115\u001b[0m                                                 \u001b[38;5;28mself\u001b[39m\u001b[38;5;241m.\u001b[39mcoords,\n\u001b[1;32m    116\u001b[0m                                                 has_hydrogens\u001b[38;5;241m=\u001b[39m\u001b[38;5;28mself\u001b[39m\u001b[38;5;241m.\u001b[39mhas_hydrogens)\n\u001b[0;32m--> 117\u001b[0m \u001b[38;5;28;01mreturn\u001b[39;00m \u001b[38;5;28;43mself\u001b[39;49m\u001b[38;5;241;43m.\u001b[39;49m\u001b[43msb\u001b[49m\u001b[38;5;241;43m.\u001b[39;49m\u001b[43mto_3Dmol\u001b[49m\u001b[43m(\u001b[49m\u001b[43mstyle\u001b[49m\u001b[38;5;241;43m=\u001b[39;49m\u001b[43mstyle\u001b[49m\u001b[43m,\u001b[49m\u001b[43m \u001b[49m\u001b[43mother_protein\u001b[49m\u001b[38;5;241;43m=\u001b[39;49m\u001b[43mother_protein\u001b[49m\u001b[43m)\u001b[49m\n",
      "File \u001b[0;32m~/sidechainnet/sidechainnet/structure/StructureBuilder.py:284\u001b[0m, in \u001b[0;36mStructureBuilder.to_3Dmol\u001b[0;34m(self, style, other_protein, **kwargs)\u001b[0m\n\u001b[1;32m    281\u001b[0m \u001b[38;5;28;01mimport\u001b[39;00m \u001b[38;5;21;01mpy3Dmol\u001b[39;00m\n\u001b[1;32m    283\u001b[0m view \u001b[38;5;241m=\u001b[39m py3Dmol\u001b[38;5;241m.\u001b[39mview(\u001b[38;5;241m*\u001b[39m\u001b[38;5;241m*\u001b[39mkwargs)\n\u001b[0;32m--> 284\u001b[0m view\u001b[38;5;241m.\u001b[39maddModel(\u001b[38;5;28;43mself\u001b[39;49m\u001b[38;5;241;43m.\u001b[39;49m\u001b[43mto_pdbstr\u001b[49m\u001b[43m(\u001b[49m\u001b[43m)\u001b[49m, \u001b[38;5;124m'\u001b[39m\u001b[38;5;124mpdb\u001b[39m\u001b[38;5;124m'\u001b[39m, {\u001b[38;5;124m'\u001b[39m\u001b[38;5;124mkeepH\u001b[39m\u001b[38;5;124m'\u001b[39m: \u001b[38;5;28;01mTrue\u001b[39;00m})\n\u001b[1;32m    286\u001b[0m \u001b[38;5;66;03m# If we have another protein to compare, align the other protein and add to viz\u001b[39;00m\n\u001b[1;32m    287\u001b[0m \u001b[38;5;28;01mif\u001b[39;00m other_protein \u001b[38;5;129;01mis\u001b[39;00m \u001b[38;5;129;01mnot\u001b[39;00m \u001b[38;5;28;01mNone\u001b[39;00m:\n\u001b[1;32m    288\u001b[0m     \u001b[38;5;66;03m# Create copies and nan-masks of coordinate data\u001b[39;00m\n",
      "File \u001b[0;32m~/sidechainnet/sidechainnet/structure/StructureBuilder.py:243\u001b[0m, in \u001b[0;36mStructureBuilder.to_pdbstr\u001b[0;34m(self, title)\u001b[0m\n\u001b[1;32m    237\u001b[0m \u001b[38;5;28;01mdef\u001b[39;00m \u001b[38;5;21mto_pdbstr\u001b[39m(\u001b[38;5;28mself\u001b[39m, title\u001b[38;5;241m=\u001b[39m\u001b[38;5;124m\"\u001b[39m\u001b[38;5;124mpred\u001b[39m\u001b[38;5;124m\"\u001b[39m):\n\u001b[1;32m    238\u001b[0m     \u001b[38;5;124;03m\"\"\"Return protein structure as a PDB string.\u001b[39;00m\n\u001b[1;32m    239\u001b[0m \n\u001b[1;32m    240\u001b[0m \u001b[38;5;124;03m    Args:\u001b[39;00m\n\u001b[1;32m    241\u001b[0m \u001b[38;5;124;03m        title (str, optional): Title of structure for PDB file. Defaults to \"pred\".\u001b[39;00m\n\u001b[1;32m    242\u001b[0m \u001b[38;5;124;03m    \"\"\"\u001b[39;00m\n\u001b[0;32m--> 243\u001b[0m     \u001b[38;5;28;43mself\u001b[39;49m\u001b[38;5;241;43m.\u001b[39;49m\u001b[43m_initialize_coordinates_and_PdbCreator\u001b[49m\u001b[43m(\u001b[49m\u001b[43m)\u001b[49m\n\u001b[1;32m    244\u001b[0m     \u001b[38;5;28;01mreturn\u001b[39;00m \u001b[38;5;28mself\u001b[39m\u001b[38;5;241m.\u001b[39mpdb_creator\u001b[38;5;241m.\u001b[39mget_pdb_string(title)\n",
      "File \u001b[0;32m~/sidechainnet/sidechainnet/structure/StructureBuilder.py:212\u001b[0m, in \u001b[0;36mStructureBuilder._initialize_coordinates_and_PdbCreator\u001b[0;34m(self)\u001b[0m\n\u001b[1;32m    207\u001b[0m     \u001b[38;5;28mself\u001b[39m\u001b[38;5;241m.\u001b[39mpdb_creator \u001b[38;5;241m=\u001b[39m PdbBuilder(\u001b[38;5;28mself\u001b[39m\u001b[38;5;241m.\u001b[39mseq_as_str,\n\u001b[1;32m    208\u001b[0m                                   \u001b[38;5;28mself\u001b[39m\u001b[38;5;241m.\u001b[39mcoords,\n\u001b[1;32m    209\u001b[0m                                   terminal_atoms\u001b[38;5;241m=\u001b[39m\u001b[38;5;28mself\u001b[39m\u001b[38;5;241m.\u001b[39mterminal_atoms,\n\u001b[1;32m    210\u001b[0m                                   has_hydrogens\u001b[38;5;241m=\u001b[39m\u001b[38;5;28mself\u001b[39m\u001b[38;5;241m.\u001b[39mhas_hydrogens)\n\u001b[1;32m    211\u001b[0m \u001b[38;5;28;01melse\u001b[39;00m:\n\u001b[0;32m--> 212\u001b[0m     \u001b[38;5;28mself\u001b[39m\u001b[38;5;241m.\u001b[39mpdb_creator \u001b[38;5;241m=\u001b[39m \u001b[43mPdbBuilder\u001b[49m\u001b[43m(\u001b[49m\u001b[38;5;28;43mself\u001b[39;49m\u001b[38;5;241;43m.\u001b[39;49m\u001b[43mseq_as_str\u001b[49m\u001b[43m,\u001b[49m\n\u001b[1;32m    213\u001b[0m \u001b[43m                                  \u001b[49m\u001b[38;5;28;43mself\u001b[39;49m\u001b[38;5;241;43m.\u001b[39;49m\u001b[43mcoords\u001b[49m\u001b[38;5;241;43m.\u001b[39;49m\u001b[43mcpu\u001b[49m\u001b[43m(\u001b[49m\u001b[43m)\u001b[49m\u001b[38;5;241;43m.\u001b[39;49m\u001b[43mdetach\u001b[49m\u001b[43m(\u001b[49m\u001b[43m)\u001b[49m\u001b[38;5;241;43m.\u001b[39;49m\u001b[43mnumpy\u001b[49m\u001b[43m(\u001b[49m\u001b[43m)\u001b[49m\u001b[43m,\u001b[49m\n\u001b[1;32m    214\u001b[0m \u001b[43m                                  \u001b[49m\u001b[43mterminal_atoms\u001b[49m\u001b[38;5;241;43m=\u001b[39;49m\u001b[38;5;28;43mself\u001b[39;49m\u001b[38;5;241;43m.\u001b[39;49m\u001b[43mterminal_atoms\u001b[49m\u001b[43m,\u001b[49m\n\u001b[1;32m    215\u001b[0m \u001b[43m                                  \u001b[49m\u001b[43mhas_hydrogens\u001b[49m\u001b[38;5;241;43m=\u001b[39;49m\u001b[38;5;28;43mself\u001b[39;49m\u001b[38;5;241;43m.\u001b[39;49m\u001b[43mhas_hydrogens\u001b[49m\u001b[43m)\u001b[49m\n",
      "File \u001b[0;32m~/sidechainnet/sidechainnet/structure/PdbBuilder.py:50\u001b[0m, in \u001b[0;36mPdbBuilder.__init__\u001b[0;34m(self, seq, coords, terminal_atoms, has_hydrogens)\u001b[0m\n\u001b[1;32m     48\u001b[0m \u001b[38;5;28mself\u001b[39m\u001b[38;5;241m.\u001b[39mcoords \u001b[38;5;241m=\u001b[39m coords\n\u001b[1;32m     49\u001b[0m \u001b[38;5;28mself\u001b[39m\u001b[38;5;241m.\u001b[39mseq \u001b[38;5;241m=\u001b[39m seq\n\u001b[0;32m---> 50\u001b[0m \u001b[38;5;28mself\u001b[39m\u001b[38;5;241m.\u001b[39mmapping \u001b[38;5;241m=\u001b[39m \u001b[38;5;28;43mself\u001b[39;49m\u001b[38;5;241;43m.\u001b[39;49m\u001b[43m_make_mapping_from_seq\u001b[49m\u001b[43m(\u001b[49m\u001b[43m)\u001b[49m\n\u001b[1;32m     51\u001b[0m \u001b[38;5;28mself\u001b[39m\u001b[38;5;241m.\u001b[39mterminal_atoms \u001b[38;5;241m=\u001b[39m terminal_atoms\n\u001b[1;32m     53\u001b[0m \u001b[38;5;66;03m# PDB Formatting Information\u001b[39;00m\n",
      "File \u001b[0;32m~/sidechainnet/sidechainnet/structure/PdbBuilder.py:161\u001b[0m, in \u001b[0;36mPdbBuilder._make_mapping_from_seq\u001b[0;34m(self)\u001b[0m\n\u001b[1;32m    159\u001b[0m \u001b[38;5;66;03m# The first residue, if N-terminal, actually calls its N-H hydrogen H1, not H\u001b[39;00m\n\u001b[1;32m    160\u001b[0m \u001b[38;5;28;01mif\u001b[39;00m i \u001b[38;5;241m==\u001b[39m \u001b[38;5;241m0\u001b[39m:\n\u001b[0;32m--> 161\u001b[0m     \u001b[38;5;28;01massert\u001b[39;00m an[\u001b[38;5;241m5\u001b[39m] \u001b[38;5;241m==\u001b[39m \u001b[38;5;124m\"\u001b[39m\u001b[38;5;124mH\u001b[39m\u001b[38;5;124m\"\u001b[39m\n\u001b[1;32m    162\u001b[0m     an \u001b[38;5;241m=\u001b[39m an[\u001b[38;5;241m0\u001b[39m:\u001b[38;5;241m5\u001b[39m] \u001b[38;5;241m+\u001b[39m [\u001b[38;5;124m\"\u001b[39m\u001b[38;5;124mH1\u001b[39m\u001b[38;5;124m\"\u001b[39m] \u001b[38;5;241m+\u001b[39m an[\u001b[38;5;241m6\u001b[39m:]\n\u001b[1;32m    163\u001b[0m mapping\u001b[38;5;241m.\u001b[39mappend((residue, an))\n",
      "\u001b[0;31mAssertionError\u001b[0m: "
     ]
    }
   ],
   "source": [
    "p.sb = None\n",
    "coords = p.fastbuild()\n",
    "p.coords = coords\n",
    "\n",
    "p.to_3Dmol()\n"
   ]
  },
  {
   "cell_type": "code",
   "execution_count": 9,
   "id": "bb5f0fe2",
   "metadata": {},
   "outputs": [],
   "source": [
    "# p.coords"
   ]
  },
  {
   "cell_type": "code",
   "execution_count": 5,
   "id": "f66ca580",
   "metadata": {},
   "outputs": [
    {
     "data": {
      "text/plain": [
       "torch.Size([5, 27, 3])"
      ]
     },
     "execution_count": 5,
     "metadata": {},
     "output_type": "execute_result"
    }
   ],
   "source": [
    "hcoords = p.fastbuild(add_hydrogens=True)\n",
    "p.coords = hcoords\n",
    "p.hcoords = hcoords\n",
    "p.has_hydrogens=True\n",
    "p.coords.shape"
   ]
  },
  {
   "cell_type": "code",
   "execution_count": null,
   "id": "41a29b5d",
   "metadata": {},
   "outputs": [],
   "source": []
  },
  {
   "cell_type": "code",
   "execution_count": 11,
   "id": "649141c8",
   "metadata": {},
   "outputs": [
    {
     "data": {
      "application/3dmoljs_load.v0": "<div id=\"3dmolviewer_16578122599250395\"  style=\"position: relative; width: 640px; height: 480px\">\n        <p id=\"3dmolwarning_16578122599250395\" style=\"background-color:#ffcccc;color:black\">You appear to be running in JupyterLab (or JavaScript failed to load for some other reason).  You need to install the 3dmol extension: <br>\n        <tt>jupyter labextension install jupyterlab_3dmol</tt></p>\n        </div>\n<script>\n\nvar loadScriptAsync = function(uri){\n  return new Promise((resolve, reject) => {\n    var tag = document.createElement('script');\n    tag.src = uri;\n    tag.async = true;\n    tag.onload = () => {\n      resolve();\n    };\n  var firstScriptTag = document.getElementsByTagName('script')[0];\n  firstScriptTag.parentNode.insertBefore(tag, firstScriptTag);\n});\n};\n\nif(typeof $3Dmolpromise === 'undefined') {\n$3Dmolpromise = null;\n  $3Dmolpromise = loadScriptAsync('https://3dmol.org/build/3Dmol.js');\n}\n\nvar viewer_16578122599250395 = null;\nvar warn = document.getElementById(\"3dmolwarning_16578122599250395\");\nif(warn) {\n    warn.parentNode.removeChild(warn);\n}\n$3Dmolpromise.then(function() {\nviewer_16578122599250395 = $3Dmol.createViewer($(\"#3dmolviewer_16578122599250395\"),{backgroundColor:\"white\"});\nviewer_16578122599250395.zoomTo();\n\tviewer_16578122599250395.addModel(\"REMARK  pred\\nSEQRES   1 A    5  TRP LEU ASP LEU GLU                                          \\nATOM      1  N   TRP A   1       0.000   0.000   0.000  1.00  0.00           N  \\nATOM      2  CA  TRP A   1       1.442  -0.000  -0.000  1.00  0.00           C  \\nATOM      3  C   TRP A   1       1.923   1.419   0.000  1.00  0.00           C  \\nATOM      4  O   TRP A   1       1.125   2.338  -0.165  1.00  0.00           O  \\nATOM      5  H1  TRP A   1      -0.505   0.875  -0.000  1.00  0.00           H  \\nATOM      6  H2  TRP A   1      -0.505  -0.437   0.757  1.00  0.00           H  \\nATOM      7  H3  TRP A   1      -0.505  -0.437  -0.757  1.00  0.00           H  \\nATOM      8  CB  TRP A   1       1.956  -0.480  -1.354  1.00  0.00           C  \\nATOM      9  CG  TRP A   1       3.412  -0.817  -1.410  1.00  0.00           C  \\nATOM     10 CD1  TRP A   1       4.291  -0.627  -0.400  1.00  0.00           C  \\nATOM     11 NE1  TRP A   1       5.538  -1.054  -0.813  1.00  0.00           N  \\nATOM     12 CE2  TRP A   1       5.508  -1.535  -2.106  1.00  0.00           C  \\nATOM     13 CZ2  TRP A   1       6.494  -2.066  -2.947  1.00  0.00           C  \\nATOM     14 CH2  TRP A   1       6.160  -2.482  -4.241  1.00  0.00           C  \\nATOM     15 CZ3  TRP A   1       4.841  -2.366  -4.695  1.00  0.00           C  \\nATOM     16 CE3  TRP A   1       3.855  -1.835  -3.855  1.00  0.00           C  \\nATOM     17 CD2  TRP A   1       4.190  -1.418  -2.557  1.00  0.00           C  \\nATOM     18  HA  TRP A   1       1.806  -0.667   0.781  1.00  0.00           H  \\nATOM     19 HB2  TRP A   1       1.793   0.297  -2.101  1.00  0.00           H  \\nATOM     20 HB3  TRP A   1       1.421  -1.383  -1.648  1.00  0.00           H  \\nATOM     21 HD1  TRP A   1       3.956  -0.202   0.534  1.00  0.00           H  \\nATOM     22 HE1  TRP A   1       6.358  -1.010  -0.225  1.00  0.00           H  \\nATOM     23 HE3  TRP A   1       2.837  -1.746  -4.205  1.00  0.00           H  \\nATOM     24 HH2  TRP A   1       6.920  -2.892  -4.889  1.00  0.00           H  \\nATOM     25 HZ2  TRP A   1       7.511  -2.155  -2.596  1.00  0.00           H  \\nATOM     26 HZ3  TRP A   1       4.583  -2.687  -5.694  1.00  0.00           H  \\nATOM     27  N   LEU A   2       3.271   1.640   0.189  1.00  0.00           N  \\nATOM     28  CA  LEU A   2       3.840   2.965   0.206  1.00  0.00           C  \\nATOM     29  C   LEU A   2       4.991   3.149  -0.735  1.00  0.00           C  \\nATOM     30  O   LEU A   2       5.132   2.388  -1.690  1.00  0.00           O  \\nATOM     31  H   LEU A   2       3.898   0.859   0.321  1.00  0.00           H  \\nATOM     32  CB  LEU A   2       4.306   3.307   1.618  1.00  0.00           C  \\nATOM     33  CG  LEU A   2       5.644   2.626   1.891  1.00  0.00           C  \\nATOM     34 CD1  LEU A   2       6.328   3.304   3.076  1.00  0.00           C  \\nATOM     35 CD2  LEU A   2       5.421   1.133   2.110  1.00  0.00           C  \\nATOM     36  HA  LEU A   2       3.088   3.688  -0.111  1.00  0.00           H  \\nATOM     37 HB2  LEU A   2       3.567   2.958   2.339  1.00  0.00           H  \\nATOM     38 HB3  LEU A   2       4.422   4.387   1.712  1.00  0.00           H  \\nATOM     39 HD11 LEU A   2       5.697   4.113   3.446  1.00  0.00           H  \\nATOM     40 HD12 LEU A   2       6.485   2.574   3.871  1.00  0.00           H  \\nATOM     41 HD13 LEU A   2       7.289   3.708   2.759  1.00  0.00           H  \\nATOM     42 HD21 LEU A   2       4.359   0.907   2.019  1.00  0.00           H  \\nATOM     43 HD22 LEU A   2       5.977   0.568   1.362  1.00  0.00           H  \\nATOM     44 HD23 LEU A   2       5.767   0.855   3.106  1.00  0.00           H  \\nATOM     45  HG  LEU A   2       6.281   2.708   1.010  1.00  0.00           H  \\nATOM     46  N   ASP A   3       5.836   4.199  -0.444  1.00  0.00           N  \\nATOM     47  CA  ASP A   3       7.003   4.483  -1.241  1.00  0.00           C  \\nATOM     48  C   ASP A   3       8.214   4.002  -0.502  1.00  0.00           C  \\nATOM     49  O   ASP A   3       8.196   3.929   0.725  1.00  0.00           O  \\nATOM     50  H   ASP A   3       5.644   4.797   0.348  1.00  0.00           H  \\nATOM     51  CB  ASP A   3       7.083   5.981  -1.522  1.00  0.00           C  \\nATOM     52  CG  ASP A   3       8.130   6.284  -2.584  1.00  0.00           C  \\nATOM     53 OD1  ASP A   3       9.302   5.921  -2.346  1.00  0.00           O  \\nATOM     54 OD2  ASP A   3       7.738   6.873  -3.615  1.00  0.00           O  \\nATOM     55  HA  ASP A   3       6.939   3.942  -2.185  1.00  0.00           H  \\nATOM     56 HB2  ASP A   3       7.353   6.508  -0.607  1.00  0.00           H  \\nATOM     57 HB3  ASP A   3       6.115   6.337  -1.874  1.00  0.00           H  \\nATOM     58  N   LEU A   4       9.298   3.665  -1.284  1.00  0.00           N  \\nATOM     59  CA  LEU A   4      10.514   3.126  -0.728  1.00  0.00           C  \\nATOM     60  C   LEU A   4      11.732   3.429  -1.546  1.00  0.00           C  \\nATOM     61  O   LEU A   4      11.623   3.651  -2.750  1.00  0.00           O  \\nATOM     62  H   LEU A   4       9.258   3.793  -2.285  1.00  0.00           H  \\nATOM     63  CB  LEU A   4      10.402   1.608  -0.622  1.00  0.00           C  \\nATOM     64  CG  LEU A   4      11.715   1.036  -0.092  1.00  0.00           C  \\nATOM     65 CD1  LEU A   4      11.943   1.522   1.336  1.00  0.00           C  \\nATOM     66 CD2  LEU A   4      11.662  -0.489  -0.139  1.00  0.00           C  \\nATOM     67  HA  LEU A   4      10.678   3.546   0.265  1.00  0.00           H  \\nATOM     68 HB2  LEU A   4      10.195   1.188  -1.606  1.00  0.00           H  \\nATOM     69 HB3  LEU A   4       9.593   1.349   0.061  1.00  0.00           H  \\nATOM     70 HD11 LEU A   4      11.115   2.163   1.639  1.00  0.00           H  \\nATOM     71 HD12 LEU A   4      12.004   0.665   2.007  1.00  0.00           H  \\nATOM     72 HD13 LEU A   4      12.874   2.087   1.383  1.00  0.00           H  \\nATOM     73 HD21 LEU A   4      10.699  -0.807  -0.539  1.00  0.00           H  \\nATOM     74 HD22 LEU A   4      12.462  -0.861  -0.779  1.00  0.00           H  \\nATOM     75 HD23 LEU A   4      11.786  -0.888   0.867  1.00  0.00           H  \\nATOM     76  HG  LEU A   4      12.538   1.368  -0.725  1.00  0.00           H  \\nATOM     77  N   GLU A   5      12.951   3.448  -0.903  1.00  0.00           N  \\nATOM     78  CA  GLU A   5      14.200   3.634  -1.599  1.00  0.00           C  \\nATOM     79  C   GLU A   5      15.320   2.920  -0.906  1.00  0.00           C  \\nATOM     80  O   GLU A   5      16.123   2.257  -1.559  1.00  0.00           O  \\nATOM     81 OXT  GLU A   5      15.435   2.996   0.315  1.00  0.00           O  \\nATOM     82  H   GLU A   5      12.995   3.329   0.099  1.00  0.00           H  \\nATOM     83  CB  GLU A   5      14.492   5.125  -1.744  1.00  0.00           C  \\nATOM     84  CG  GLU A   5      15.723   5.320  -2.623  1.00  0.00           C  \\nATOM     85  CD  GLU A   5      16.251   6.744  -2.518  1.00  0.00           C  \\nATOM     86 OE1  GLU A   5      15.441   7.625  -2.157  1.00  0.00           O  \\nATOM     87 OE2  GLU A   5      17.455   6.925  -2.802  1.00  0.00           O  \\nATOM     88  HA  GLU A   5      14.135   3.181  -2.589  1.00  0.00           H  \\nATOM     89 HB2  GLU A   5      14.676   5.556  -0.760  1.00  0.00           H  \\nATOM     90 HB3  GLU A   5      13.636   5.620  -2.202  1.00  0.00           H  \\nATOM     91 HG2  GLU A   5      15.463   5.121  -3.663  1.00  0.00           H  \\nATOM     92 HG3  GLU A   5      16.508   4.633  -2.308  1.00  0.00           H  \\nTER\\nEND          \\n\",\"pdb\",{\"keepH\": true});\n\tviewer_16578122599250395.setStyle({\"cartoon\": {\"color\": \"spectrum\"}, \"stick\": {\"radius\": 0.15}});\n\tviewer_16578122599250395.zoomTo();\nviewer_16578122599250395.render();\n});\n</script>",
      "text/html": [
       "<div id=\"3dmolviewer_16578122599250395\"  style=\"position: relative; width: 640px; height: 480px\">\n",
       "        <p id=\"3dmolwarning_16578122599250395\" style=\"background-color:#ffcccc;color:black\">You appear to be running in JupyterLab (or JavaScript failed to load for some other reason).  You need to install the 3dmol extension: <br>\n",
       "        <tt>jupyter labextension install jupyterlab_3dmol</tt></p>\n",
       "        </div>\n",
       "<script>\n",
       "\n",
       "var loadScriptAsync = function(uri){\n",
       "  return new Promise((resolve, reject) => {\n",
       "    var tag = document.createElement('script');\n",
       "    tag.src = uri;\n",
       "    tag.async = true;\n",
       "    tag.onload = () => {\n",
       "      resolve();\n",
       "    };\n",
       "  var firstScriptTag = document.getElementsByTagName('script')[0];\n",
       "  firstScriptTag.parentNode.insertBefore(tag, firstScriptTag);\n",
       "});\n",
       "};\n",
       "\n",
       "if(typeof $3Dmolpromise === 'undefined') {\n",
       "$3Dmolpromise = null;\n",
       "  $3Dmolpromise = loadScriptAsync('https://3dmol.org/build/3Dmol.js');\n",
       "}\n",
       "\n",
       "var viewer_16578122599250395 = null;\n",
       "var warn = document.getElementById(\"3dmolwarning_16578122599250395\");\n",
       "if(warn) {\n",
       "    warn.parentNode.removeChild(warn);\n",
       "}\n",
       "$3Dmolpromise.then(function() {\n",
       "viewer_16578122599250395 = $3Dmol.createViewer($(\"#3dmolviewer_16578122599250395\"),{backgroundColor:\"white\"});\n",
       "viewer_16578122599250395.zoomTo();\n",
       "\tviewer_16578122599250395.addModel(\"REMARK  pred\\nSEQRES   1 A    5  TRP LEU ASP LEU GLU                                          \\nATOM      1  N   TRP A   1       0.000   0.000   0.000  1.00  0.00           N  \\nATOM      2  CA  TRP A   1       1.442  -0.000  -0.000  1.00  0.00           C  \\nATOM      3  C   TRP A   1       1.923   1.419   0.000  1.00  0.00           C  \\nATOM      4  O   TRP A   1       1.125   2.338  -0.165  1.00  0.00           O  \\nATOM      5  H1  TRP A   1      -0.505   0.875  -0.000  1.00  0.00           H  \\nATOM      6  H2  TRP A   1      -0.505  -0.437   0.757  1.00  0.00           H  \\nATOM      7  H3  TRP A   1      -0.505  -0.437  -0.757  1.00  0.00           H  \\nATOM      8  CB  TRP A   1       1.956  -0.480  -1.354  1.00  0.00           C  \\nATOM      9  CG  TRP A   1       3.412  -0.817  -1.410  1.00  0.00           C  \\nATOM     10 CD1  TRP A   1       4.291  -0.627  -0.400  1.00  0.00           C  \\nATOM     11 NE1  TRP A   1       5.538  -1.054  -0.813  1.00  0.00           N  \\nATOM     12 CE2  TRP A   1       5.508  -1.535  -2.106  1.00  0.00           C  \\nATOM     13 CZ2  TRP A   1       6.494  -2.066  -2.947  1.00  0.00           C  \\nATOM     14 CH2  TRP A   1       6.160  -2.482  -4.241  1.00  0.00           C  \\nATOM     15 CZ3  TRP A   1       4.841  -2.366  -4.695  1.00  0.00           C  \\nATOM     16 CE3  TRP A   1       3.855  -1.835  -3.855  1.00  0.00           C  \\nATOM     17 CD2  TRP A   1       4.190  -1.418  -2.557  1.00  0.00           C  \\nATOM     18  HA  TRP A   1       1.806  -0.667   0.781  1.00  0.00           H  \\nATOM     19 HB2  TRP A   1       1.793   0.297  -2.101  1.00  0.00           H  \\nATOM     20 HB3  TRP A   1       1.421  -1.383  -1.648  1.00  0.00           H  \\nATOM     21 HD1  TRP A   1       3.956  -0.202   0.534  1.00  0.00           H  \\nATOM     22 HE1  TRP A   1       6.358  -1.010  -0.225  1.00  0.00           H  \\nATOM     23 HE3  TRP A   1       2.837  -1.746  -4.205  1.00  0.00           H  \\nATOM     24 HH2  TRP A   1       6.920  -2.892  -4.889  1.00  0.00           H  \\nATOM     25 HZ2  TRP A   1       7.511  -2.155  -2.596  1.00  0.00           H  \\nATOM     26 HZ3  TRP A   1       4.583  -2.687  -5.694  1.00  0.00           H  \\nATOM     27  N   LEU A   2       3.271   1.640   0.189  1.00  0.00           N  \\nATOM     28  CA  LEU A   2       3.840   2.965   0.206  1.00  0.00           C  \\nATOM     29  C   LEU A   2       4.991   3.149  -0.735  1.00  0.00           C  \\nATOM     30  O   LEU A   2       5.132   2.388  -1.690  1.00  0.00           O  \\nATOM     31  H   LEU A   2       3.898   0.859   0.321  1.00  0.00           H  \\nATOM     32  CB  LEU A   2       4.306   3.307   1.618  1.00  0.00           C  \\nATOM     33  CG  LEU A   2       5.644   2.626   1.891  1.00  0.00           C  \\nATOM     34 CD1  LEU A   2       6.328   3.304   3.076  1.00  0.00           C  \\nATOM     35 CD2  LEU A   2       5.421   1.133   2.110  1.00  0.00           C  \\nATOM     36  HA  LEU A   2       3.088   3.688  -0.111  1.00  0.00           H  \\nATOM     37 HB2  LEU A   2       3.567   2.958   2.339  1.00  0.00           H  \\nATOM     38 HB3  LEU A   2       4.422   4.387   1.712  1.00  0.00           H  \\nATOM     39 HD11 LEU A   2       5.697   4.113   3.446  1.00  0.00           H  \\nATOM     40 HD12 LEU A   2       6.485   2.574   3.871  1.00  0.00           H  \\nATOM     41 HD13 LEU A   2       7.289   3.708   2.759  1.00  0.00           H  \\nATOM     42 HD21 LEU A   2       4.359   0.907   2.019  1.00  0.00           H  \\nATOM     43 HD22 LEU A   2       5.977   0.568   1.362  1.00  0.00           H  \\nATOM     44 HD23 LEU A   2       5.767   0.855   3.106  1.00  0.00           H  \\nATOM     45  HG  LEU A   2       6.281   2.708   1.010  1.00  0.00           H  \\nATOM     46  N   ASP A   3       5.836   4.199  -0.444  1.00  0.00           N  \\nATOM     47  CA  ASP A   3       7.003   4.483  -1.241  1.00  0.00           C  \\nATOM     48  C   ASP A   3       8.214   4.002  -0.502  1.00  0.00           C  \\nATOM     49  O   ASP A   3       8.196   3.929   0.725  1.00  0.00           O  \\nATOM     50  H   ASP A   3       5.644   4.797   0.348  1.00  0.00           H  \\nATOM     51  CB  ASP A   3       7.083   5.981  -1.522  1.00  0.00           C  \\nATOM     52  CG  ASP A   3       8.130   6.284  -2.584  1.00  0.00           C  \\nATOM     53 OD1  ASP A   3       9.302   5.921  -2.346  1.00  0.00           O  \\nATOM     54 OD2  ASP A   3       7.738   6.873  -3.615  1.00  0.00           O  \\nATOM     55  HA  ASP A   3       6.939   3.942  -2.185  1.00  0.00           H  \\nATOM     56 HB2  ASP A   3       7.353   6.508  -0.607  1.00  0.00           H  \\nATOM     57 HB3  ASP A   3       6.115   6.337  -1.874  1.00  0.00           H  \\nATOM     58  N   LEU A   4       9.298   3.665  -1.284  1.00  0.00           N  \\nATOM     59  CA  LEU A   4      10.514   3.126  -0.728  1.00  0.00           C  \\nATOM     60  C   LEU A   4      11.732   3.429  -1.546  1.00  0.00           C  \\nATOM     61  O   LEU A   4      11.623   3.651  -2.750  1.00  0.00           O  \\nATOM     62  H   LEU A   4       9.258   3.793  -2.285  1.00  0.00           H  \\nATOM     63  CB  LEU A   4      10.402   1.608  -0.622  1.00  0.00           C  \\nATOM     64  CG  LEU A   4      11.715   1.036  -0.092  1.00  0.00           C  \\nATOM     65 CD1  LEU A   4      11.943   1.522   1.336  1.00  0.00           C  \\nATOM     66 CD2  LEU A   4      11.662  -0.489  -0.139  1.00  0.00           C  \\nATOM     67  HA  LEU A   4      10.678   3.546   0.265  1.00  0.00           H  \\nATOM     68 HB2  LEU A   4      10.195   1.188  -1.606  1.00  0.00           H  \\nATOM     69 HB3  LEU A   4       9.593   1.349   0.061  1.00  0.00           H  \\nATOM     70 HD11 LEU A   4      11.115   2.163   1.639  1.00  0.00           H  \\nATOM     71 HD12 LEU A   4      12.004   0.665   2.007  1.00  0.00           H  \\nATOM     72 HD13 LEU A   4      12.874   2.087   1.383  1.00  0.00           H  \\nATOM     73 HD21 LEU A   4      10.699  -0.807  -0.539  1.00  0.00           H  \\nATOM     74 HD22 LEU A   4      12.462  -0.861  -0.779  1.00  0.00           H  \\nATOM     75 HD23 LEU A   4      11.786  -0.888   0.867  1.00  0.00           H  \\nATOM     76  HG  LEU A   4      12.538   1.368  -0.725  1.00  0.00           H  \\nATOM     77  N   GLU A   5      12.951   3.448  -0.903  1.00  0.00           N  \\nATOM     78  CA  GLU A   5      14.200   3.634  -1.599  1.00  0.00           C  \\nATOM     79  C   GLU A   5      15.320   2.920  -0.906  1.00  0.00           C  \\nATOM     80  O   GLU A   5      16.123   2.257  -1.559  1.00  0.00           O  \\nATOM     81 OXT  GLU A   5      15.435   2.996   0.315  1.00  0.00           O  \\nATOM     82  H   GLU A   5      12.995   3.329   0.099  1.00  0.00           H  \\nATOM     83  CB  GLU A   5      14.492   5.125  -1.744  1.00  0.00           C  \\nATOM     84  CG  GLU A   5      15.723   5.320  -2.623  1.00  0.00           C  \\nATOM     85  CD  GLU A   5      16.251   6.744  -2.518  1.00  0.00           C  \\nATOM     86 OE1  GLU A   5      15.441   7.625  -2.157  1.00  0.00           O  \\nATOM     87 OE2  GLU A   5      17.455   6.925  -2.802  1.00  0.00           O  \\nATOM     88  HA  GLU A   5      14.135   3.181  -2.589  1.00  0.00           H  \\nATOM     89 HB2  GLU A   5      14.676   5.556  -0.760  1.00  0.00           H  \\nATOM     90 HB3  GLU A   5      13.636   5.620  -2.202  1.00  0.00           H  \\nATOM     91 HG2  GLU A   5      15.463   5.121  -3.663  1.00  0.00           H  \\nATOM     92 HG3  GLU A   5      16.508   4.633  -2.308  1.00  0.00           H  \\nTER\\nEND          \\n\",\"pdb\",{\"keepH\": true});\n",
       "\tviewer_16578122599250395.setStyle({\"cartoon\": {\"color\": \"spectrum\"}, \"stick\": {\"radius\": 0.15}});\n",
       "\tviewer_16578122599250395.zoomTo();\n",
       "viewer_16578122599250395.render();\n",
       "});\n",
       "</script>"
      ]
     },
     "metadata": {},
     "output_type": "display_data"
    },
    {
     "data": {
      "text/plain": [
       "<py3Dmol.view at 0x7f417fddd520>"
      ]
     },
     "execution_count": 11,
     "metadata": {},
     "output_type": "execute_result"
    }
   ],
   "source": [
    "p.sb = None\n",
    "p.to_3Dmol()"
   ]
  },
  {
   "cell_type": "code",
   "execution_count": 12,
   "id": "ee489a48",
   "metadata": {},
   "outputs": [],
   "source": [
    "p.to_pdb(\"/home/jok120/Downloads/predh33.pdb\", title='predh')"
   ]
  },
  {
   "cell_type": "code",
   "execution_count": null,
   "id": "44175049",
   "metadata": {},
   "outputs": [],
   "source": [
    "print(p.to_pdbstr())"
   ]
  },
  {
   "cell_type": "code",
   "execution_count": null,
   "id": "9ded44e5",
   "metadata": {},
   "outputs": [],
   "source": []
  }
 ],
 "metadata": {
  "kernelspec": {
   "display_name": "Python [conda env:sidechainnetv2]",
   "language": "python",
   "name": "conda-env-sidechainnetv2-py"
  },
  "language_info": {
   "codemirror_mode": {
    "name": "ipython",
    "version": 3
   },
   "file_extension": ".py",
   "mimetype": "text/x-python",
   "name": "python",
   "nbconvert_exporter": "python",
   "pygments_lexer": "ipython3",
   "version": "3.8.12"
  }
 },
 "nbformat": 4,
 "nbformat_minor": 5
}
