{
 "cells": [
  {
   "cell_type": "code",
   "execution_count": 1,
   "id": "62b45b2e",
   "metadata": {
    "code_folding": [
     6
    ]
   },
   "outputs": [
    {
     "name": "stdout",
     "output_type": "stream",
     "text": [
      "\n"
     ]
    },
    {
     "data": {
      "text/plain": [
       "SCNProtein(1A38_2_P, len=5, missing=0, split='train')"
      ]
     },
     "execution_count": 1,
     "metadata": {},
     "output_type": "execute_result"
    }
   ],
   "source": [
    "import sidechainnet as scn\n",
    "from sidechainnet.dataloaders.SCNProtein import SCNProtein\n",
    "import numpy as np\n",
    "nan = np.nan\n",
    "import torch\n",
    "\n",
    "def get_p():\n",
    "    # Below uses the new measurement methodology\n",
    "    angles = torch.tensor([\n",
    "        [nan, 2.9864, 3.1411, 1.8979, 2.0560, 2.1353, 0.9887, -2.9177, -0.0954, nan, nan, nan],\n",
    "        [-2.2205, -2.7720, 3.1174, 1.9913, 2.0165, 2.1277, 1.9315, 1.3732, 2.8204, -1.2943, nan, nan],\n",
    "        [-1.8046, 2.6789, -3.0887, 1.8948, 2.0197, 2.1358, 2.3525, -2.9406, -1.0214, nan, nan, nan],\n",
    "        [-2.6590, 2.7039, 3.0630, 1.9808, 2.0562, 2.1439, 1.5275, 3.0964, 1.1357, -3.0276, nan, nan],\n",
    "        [-2.6066, -0.7829, nan, 1.9416, nan, nan, 1.5148, -3.0244, -2.8980, -0.4080, nan, nan]\n",
    "        ], dtype=torch.float64)\n",
    "    coordinates = torch.tensor([\n",
    "        [  9.1920,  64.2680,   3.3370],\n",
    "        [ 10.0050,  64.7540,   2.1820],\n",
    "        [  9.9800,  63.6780,   1.0680],\n",
    "        [  9.4220,  62.6010,   1.2670],\n",
    "        [ 11.4280,  65.0700,   2.6870],\n",
    "        [ 12.3400,  65.8630,   1.7450],\n",
    "        [ 12.0780,  66.2460,   0.4450],\n",
    "        [ 13.1990,  66.8160,  -0.1220],\n",
    "        [ 14.2060,  66.8290,   0.8060],\n",
    "        [ 15.5160,  67.3040,   0.7030],\n",
    "        [ 16.3170,  67.1960,   1.8120],\n",
    "        [ 15.8440,  66.6310,   3.0130],\n",
    "        [ 14.5450,  66.1570,   3.1180],\n",
    "        [ 13.7010,  66.2500,   2.0000],\n",
    "        [ 10.4980,  63.9990,  -0.1190],\n",
    "        [ 10.5270,  63.0540,  -1.2470],\n",
    "        [ 11.9230,  62.8670,  -1.8760],\n",
    "        [ 12.9590,  63.1150,  -1.2480],\n",
    "        [  9.5600,  63.5110,  -2.3470],\n",
    "        [ 10.0530,  64.6440,  -3.2600],\n",
    "        [  9.2350,  64.6880,  -4.5400],\n",
    "        [ 10.0250,  65.9760,  -2.5330],\n",
    "        [     nan,      nan,      nan],\n",
    "        [     nan,      nan,      nan],\n",
    "        [     nan,      nan,      nan],\n",
    "        [     nan,      nan,      nan],\n",
    "        [     nan,      nan,      nan],\n",
    "        [     nan,      nan,      nan],\n",
    "        [ 11.9330,  62.3970,  -3.1190],\n",
    "        [ 13.1700,  62.1960,  -3.8540],\n",
    "        [ 13.3270,  63.3330,  -4.8620],\n",
    "        [ 12.3410,  63.8710,  -5.3730],\n",
    "        [ 13.1600,  60.8410,  -4.5590],\n",
    "        [ 14.5210,  60.4570,  -5.1070],\n",
    "        [ 15.0780,  61.2080,  -5.9300],\n",
    "        [ 15.0360,  59.3880,  -4.7290],\n",
    "        [     nan,      nan,      nan],\n",
    "        [     nan,      nan,      nan],\n",
    "        [     nan,      nan,      nan],\n",
    "        [     nan,      nan,      nan],\n",
    "        [     nan,      nan,      nan],\n",
    "        [     nan,      nan,      nan],\n",
    "        [ 14.5730,  63.6250,  -5.2110],\n",
    "        [ 14.8940,  64.7260,  -6.1130],\n",
    "        [ 16.2100,  64.5090,  -6.9120],\n",
    "        [ 17.0660,  63.7270,  -6.4870],\n",
    "        [ 15.0310,  65.9650,  -5.2130],\n",
    "        [ 15.4200,  67.3410,  -5.7340],\n",
    "        [ 14.3060,  67.7890,  -6.6420],\n",
    "        [ 15.6320,  68.3370,  -4.5770],\n",
    "        [     nan,      nan,      nan],\n",
    "        [     nan,      nan,      nan],\n",
    "        [     nan,      nan,      nan],\n",
    "        [     nan,      nan,      nan],\n",
    "        [     nan,      nan,      nan],\n",
    "        [     nan,      nan,      nan],\n",
    "        [ 16.3420,  65.1450,  -8.0830],\n",
    "        [ 17.5860,  65.0960,  -8.8890],\n",
    "        [ 17.7800,  66.3900,  -9.6920],\n",
    "        [ 16.7950,  66.8630, -10.2970],\n",
    "        [ 17.6770,  63.8950,  -9.8520],\n",
    "        [ 19.0770,  63.8170, -10.5390],\n",
    "        [ 19.1590,  62.8800, -11.7410],\n",
    "        [ 18.3380,  61.9500, -11.8410],\n",
    "        [ 20.0600,  63.0720, -12.5890],\n",
    "        [     nan,      nan,      nan],\n",
    "        [     nan,      nan,      nan],\n",
    "        [     nan,      nan,      nan],\n",
    "        [     nan,      nan,      nan],\n",
    "        [     nan,      nan,      nan]], dtype=torch.float64)\n",
    "    p = SCNProtein(\n",
    "        coordinates=coordinates,\n",
    "        angles=angles,\n",
    "        sequence=\"WLDLE\",\n",
    "        mask=\"+++++\",\n",
    "        id=\"1A38_2_P\",\n",
    "        split=\"train\"\n",
    "    )\n",
    "    p.torch()\n",
    "    return p\n",
    "\n",
    "\n",
    "p = get_p()\n",
    "p"
   ]
  },
  {
   "cell_type": "code",
   "execution_count": 2,
   "id": "55e69474",
   "metadata": {},
   "outputs": [],
   "source": [
    "# coords = p.fastbuild()\n",
    "# p.coords = coords\n",
    "# coords.shape\n"
   ]
  },
  {
   "cell_type": "code",
   "execution_count": 3,
   "id": "54cf6736",
   "metadata": {},
   "outputs": [],
   "source": [
    "# p.mask = '-' + p.mask[1:]\n",
    "# print(p.mask)\n",
    "# p.trim_edges()\n",
    "# print(p.mask)\n",
    "# # p.coords = coords[1:]"
   ]
  },
  {
   "cell_type": "code",
   "execution_count": 4,
   "id": "a46546dd",
   "metadata": {},
   "outputs": [],
   "source": [
    "p.coords = p.coords.reshape(5, 14, 3)"
   ]
  },
  {
   "cell_type": "code",
   "execution_count": 5,
   "id": "f9dca980",
   "metadata": {},
   "outputs": [
    {
     "data": {
      "text/plain": [
       "torch.Size([5, 14, 3])"
      ]
     },
     "execution_count": 5,
     "metadata": {},
     "output_type": "execute_result"
    }
   ],
   "source": [
    "p.coords.shape"
   ]
  },
  {
   "cell_type": "code",
   "execution_count": 6,
   "id": "5d81187a",
   "metadata": {},
   "outputs": [
    {
     "data": {
      "text/plain": [
       "'WLDLE'"
      ]
     },
     "execution_count": 6,
     "metadata": {},
     "output_type": "execute_result"
    }
   ],
   "source": [
    "p.seq"
   ]
  },
  {
   "cell_type": "code",
   "execution_count": 7,
   "id": "ece0bb16",
   "metadata": {},
   "outputs": [
    {
     "data": {
      "application/3dmoljs_load.v0": "<div id=\"3dmolviewer_1657137946311092\"  style=\"position: relative; width: 640px; height: 480px\">\n        <p id=\"3dmolwarning_1657137946311092\" style=\"background-color:#ffcccc;color:black\">You appear to be running in JupyterLab (or JavaScript failed to load for some other reason).  You need to install the 3dmol extension: <br>\n        <tt>jupyter labextension install jupyterlab_3dmol</tt></p>\n        </div>\n<script>\n\nvar loadScriptAsync = function(uri){\n  return new Promise((resolve, reject) => {\n    var tag = document.createElement('script');\n    tag.src = uri;\n    tag.async = true;\n    tag.onload = () => {\n      resolve();\n    };\n  var firstScriptTag = document.getElementsByTagName('script')[0];\n  firstScriptTag.parentNode.insertBefore(tag, firstScriptTag);\n});\n};\n\nif(typeof $3Dmolpromise === 'undefined') {\n$3Dmolpromise = null;\n  $3Dmolpromise = loadScriptAsync('https://3dmol.org/build/3Dmol.js');\n}\n\nvar viewer_1657137946311092 = null;\nvar warn = document.getElementById(\"3dmolwarning_1657137946311092\");\nif(warn) {\n    warn.parentNode.removeChild(warn);\n}\n$3Dmolpromise.then(function() {\nviewer_1657137946311092 = $3Dmol.createViewer($(\"#3dmolviewer_1657137946311092\"),{backgroundColor:\"white\"});\nviewer_1657137946311092.zoomTo();\n\tviewer_1657137946311092.addModel(\"REMARK  reference\\nSEQRES   1 A    5  TRP LEU ASP LEU GLU                                          \\nATOM      1  N   TRP A   1       9.192  64.268   3.337  1.00  0.00           N  \\nATOM      2  CA  TRP A   1      10.005  64.754   2.182  1.00  0.00           C  \\nATOM      3  C   TRP A   1       9.980  63.678   1.068  1.00  0.00           C  \\nATOM      4  O   TRP A   1       9.422  62.601   1.267  1.00  0.00           O  \\nATOM      5  CB  TRP A   1      11.428  65.070   2.687  1.00  0.00           C  \\nATOM      6  CG  TRP A   1      12.340  65.863   1.745  1.00  0.00           C  \\nATOM      7 CD1  TRP A   1      12.078  66.246   0.445  1.00  0.00           C  \\nATOM      8 NE1  TRP A   1      13.199  66.816  -0.122  1.00  0.00           N  \\nATOM      9 CE2  TRP A   1      14.206  66.829   0.806  1.00  0.00           C  \\nATOM     10 CZ2  TRP A   1      15.516  67.304   0.703  1.00  0.00           C  \\nATOM     11 CH2  TRP A   1      16.317  67.196   1.812  1.00  0.00           C  \\nATOM     12 CZ3  TRP A   1      15.844  66.631   3.013  1.00  0.00           C  \\nATOM     13 CE3  TRP A   1      14.545  66.157   3.118  1.00  0.00           C  \\nATOM     14 CD2  TRP A   1      13.701  66.250   2.000  1.00  0.00           C  \\nATOM     15  N   LEU A   2      10.498  63.999  -0.119  1.00  0.00           N  \\nATOM     16  CA  LEU A   2      10.527  63.054  -1.247  1.00  0.00           C  \\nATOM     17  C   LEU A   2      11.923  62.867  -1.876  1.00  0.00           C  \\nATOM     18  O   LEU A   2      12.959  63.115  -1.248  1.00  0.00           O  \\nATOM     19  CB  LEU A   2       9.560  63.511  -2.347  1.00  0.00           C  \\nATOM     20  CG  LEU A   2      10.053  64.644  -3.260  1.00  0.00           C  \\nATOM     21 CD1  LEU A   2       9.235  64.688  -4.540  1.00  0.00           C  \\nATOM     22 CD2  LEU A   2      10.025  65.976  -2.533  1.00  0.00           C  \\nATOM     23  N   ASP A   3      11.933  62.397  -3.119  1.00  0.00           N  \\nATOM     24  CA  ASP A   3      13.170  62.196  -3.854  1.00  0.00           C  \\nATOM     25  C   ASP A   3      13.327  63.333  -4.862  1.00  0.00           C  \\nATOM     26  O   ASP A   3      12.341  63.871  -5.373  1.00  0.00           O  \\nATOM     27  CB  ASP A   3      13.160  60.841  -4.559  1.00  0.00           C  \\nATOM     28  CG  ASP A   3      14.521  60.457  -5.107  1.00  0.00           C  \\nATOM     29 OD1  ASP A   3      15.078  61.208  -5.930  1.00  0.00           O  \\nATOM     30 OD2  ASP A   3      15.036  59.388  -4.729  1.00  0.00           O  \\nATOM     31  N   LEU A   4      14.573  63.625  -5.211  1.00  0.00           N  \\nATOM     32  CA  LEU A   4      14.894  64.726  -6.113  1.00  0.00           C  \\nATOM     33  C   LEU A   4      16.210  64.509  -6.912  1.00  0.00           C  \\nATOM     34  O   LEU A   4      17.066  63.727  -6.487  1.00  0.00           O  \\nATOM     35  CB  LEU A   4      15.031  65.965  -5.213  1.00  0.00           C  \\nATOM     36  CG  LEU A   4      15.420  67.341  -5.734  1.00  0.00           C  \\nATOM     37 CD1  LEU A   4      14.306  67.789  -6.642  1.00  0.00           C  \\nATOM     38 CD2  LEU A   4      15.632  68.337  -4.577  1.00  0.00           C  \\nATOM     39  N   GLU A   5      16.342  65.145  -8.083  1.00  0.00           N  \\nATOM     40  CA  GLU A   5      17.586  65.096  -8.889  1.00  0.00           C  \\nATOM     41  C   GLU A   5      17.780  66.390  -9.692  1.00  0.00           C  \\nATOM     42  O   GLU A   5      16.795  66.863 -10.297  1.00  0.00           O  \\nATOM     43  CB  GLU A   5      17.677  63.895  -9.852  1.00  0.00           C  \\nATOM     44  CG  GLU A   5      19.077  63.817 -10.539  1.00  0.00           C  \\nATOM     45  CD  GLU A   5      19.159  62.880 -11.741  1.00  0.00           C  \\nATOM     46 OE1  GLU A   5      18.338  61.950 -11.841  1.00  0.00           O  \\nATOM     47 OE2  GLU A   5      20.060  63.072 -12.589  1.00  0.00           O  \\nTER\\nEND          \\n\",\"pdb\",{\"keepH\": true});\n\tviewer_1657137946311092.setStyle({\"cartoon\": {\"color\": \"spectrum\"}, \"stick\": {\"radius\": 0.15}});\n\tviewer_1657137946311092.zoomTo();\nviewer_1657137946311092.render();\n});\n</script>",
      "text/html": [
       "<div id=\"3dmolviewer_1657137946311092\"  style=\"position: relative; width: 640px; height: 480px\">\n",
       "        <p id=\"3dmolwarning_1657137946311092\" style=\"background-color:#ffcccc;color:black\">You appear to be running in JupyterLab (or JavaScript failed to load for some other reason).  You need to install the 3dmol extension: <br>\n",
       "        <tt>jupyter labextension install jupyterlab_3dmol</tt></p>\n",
       "        </div>\n",
       "<script>\n",
       "\n",
       "var loadScriptAsync = function(uri){\n",
       "  return new Promise((resolve, reject) => {\n",
       "    var tag = document.createElement('script');\n",
       "    tag.src = uri;\n",
       "    tag.async = true;\n",
       "    tag.onload = () => {\n",
       "      resolve();\n",
       "    };\n",
       "  var firstScriptTag = document.getElementsByTagName('script')[0];\n",
       "  firstScriptTag.parentNode.insertBefore(tag, firstScriptTag);\n",
       "});\n",
       "};\n",
       "\n",
       "if(typeof $3Dmolpromise === 'undefined') {\n",
       "$3Dmolpromise = null;\n",
       "  $3Dmolpromise = loadScriptAsync('https://3dmol.org/build/3Dmol.js');\n",
       "}\n",
       "\n",
       "var viewer_1657137946311092 = null;\n",
       "var warn = document.getElementById(\"3dmolwarning_1657137946311092\");\n",
       "if(warn) {\n",
       "    warn.parentNode.removeChild(warn);\n",
       "}\n",
       "$3Dmolpromise.then(function() {\n",
       "viewer_1657137946311092 = $3Dmol.createViewer($(\"#3dmolviewer_1657137946311092\"),{backgroundColor:\"white\"});\n",
       "viewer_1657137946311092.zoomTo();\n",
       "\tviewer_1657137946311092.addModel(\"REMARK  reference\\nSEQRES   1 A    5  TRP LEU ASP LEU GLU                                          \\nATOM      1  N   TRP A   1       9.192  64.268   3.337  1.00  0.00           N  \\nATOM      2  CA  TRP A   1      10.005  64.754   2.182  1.00  0.00           C  \\nATOM      3  C   TRP A   1       9.980  63.678   1.068  1.00  0.00           C  \\nATOM      4  O   TRP A   1       9.422  62.601   1.267  1.00  0.00           O  \\nATOM      5  CB  TRP A   1      11.428  65.070   2.687  1.00  0.00           C  \\nATOM      6  CG  TRP A   1      12.340  65.863   1.745  1.00  0.00           C  \\nATOM      7 CD1  TRP A   1      12.078  66.246   0.445  1.00  0.00           C  \\nATOM      8 NE1  TRP A   1      13.199  66.816  -0.122  1.00  0.00           N  \\nATOM      9 CE2  TRP A   1      14.206  66.829   0.806  1.00  0.00           C  \\nATOM     10 CZ2  TRP A   1      15.516  67.304   0.703  1.00  0.00           C  \\nATOM     11 CH2  TRP A   1      16.317  67.196   1.812  1.00  0.00           C  \\nATOM     12 CZ3  TRP A   1      15.844  66.631   3.013  1.00  0.00           C  \\nATOM     13 CE3  TRP A   1      14.545  66.157   3.118  1.00  0.00           C  \\nATOM     14 CD2  TRP A   1      13.701  66.250   2.000  1.00  0.00           C  \\nATOM     15  N   LEU A   2      10.498  63.999  -0.119  1.00  0.00           N  \\nATOM     16  CA  LEU A   2      10.527  63.054  -1.247  1.00  0.00           C  \\nATOM     17  C   LEU A   2      11.923  62.867  -1.876  1.00  0.00           C  \\nATOM     18  O   LEU A   2      12.959  63.115  -1.248  1.00  0.00           O  \\nATOM     19  CB  LEU A   2       9.560  63.511  -2.347  1.00  0.00           C  \\nATOM     20  CG  LEU A   2      10.053  64.644  -3.260  1.00  0.00           C  \\nATOM     21 CD1  LEU A   2       9.235  64.688  -4.540  1.00  0.00           C  \\nATOM     22 CD2  LEU A   2      10.025  65.976  -2.533  1.00  0.00           C  \\nATOM     23  N   ASP A   3      11.933  62.397  -3.119  1.00  0.00           N  \\nATOM     24  CA  ASP A   3      13.170  62.196  -3.854  1.00  0.00           C  \\nATOM     25  C   ASP A   3      13.327  63.333  -4.862  1.00  0.00           C  \\nATOM     26  O   ASP A   3      12.341  63.871  -5.373  1.00  0.00           O  \\nATOM     27  CB  ASP A   3      13.160  60.841  -4.559  1.00  0.00           C  \\nATOM     28  CG  ASP A   3      14.521  60.457  -5.107  1.00  0.00           C  \\nATOM     29 OD1  ASP A   3      15.078  61.208  -5.930  1.00  0.00           O  \\nATOM     30 OD2  ASP A   3      15.036  59.388  -4.729  1.00  0.00           O  \\nATOM     31  N   LEU A   4      14.573  63.625  -5.211  1.00  0.00           N  \\nATOM     32  CA  LEU A   4      14.894  64.726  -6.113  1.00  0.00           C  \\nATOM     33  C   LEU A   4      16.210  64.509  -6.912  1.00  0.00           C  \\nATOM     34  O   LEU A   4      17.066  63.727  -6.487  1.00  0.00           O  \\nATOM     35  CB  LEU A   4      15.031  65.965  -5.213  1.00  0.00           C  \\nATOM     36  CG  LEU A   4      15.420  67.341  -5.734  1.00  0.00           C  \\nATOM     37 CD1  LEU A   4      14.306  67.789  -6.642  1.00  0.00           C  \\nATOM     38 CD2  LEU A   4      15.632  68.337  -4.577  1.00  0.00           C  \\nATOM     39  N   GLU A   5      16.342  65.145  -8.083  1.00  0.00           N  \\nATOM     40  CA  GLU A   5      17.586  65.096  -8.889  1.00  0.00           C  \\nATOM     41  C   GLU A   5      17.780  66.390  -9.692  1.00  0.00           C  \\nATOM     42  O   GLU A   5      16.795  66.863 -10.297  1.00  0.00           O  \\nATOM     43  CB  GLU A   5      17.677  63.895  -9.852  1.00  0.00           C  \\nATOM     44  CG  GLU A   5      19.077  63.817 -10.539  1.00  0.00           C  \\nATOM     45  CD  GLU A   5      19.159  62.880 -11.741  1.00  0.00           C  \\nATOM     46 OE1  GLU A   5      18.338  61.950 -11.841  1.00  0.00           O  \\nATOM     47 OE2  GLU A   5      20.060  63.072 -12.589  1.00  0.00           O  \\nTER\\nEND          \\n\",\"pdb\",{\"keepH\": true});\n",
       "\tviewer_1657137946311092.setStyle({\"cartoon\": {\"color\": \"spectrum\"}, \"stick\": {\"radius\": 0.15}});\n",
       "\tviewer_1657137946311092.zoomTo();\n",
       "viewer_1657137946311092.render();\n",
       "});\n",
       "</script>"
      ]
     },
     "metadata": {},
     "output_type": "display_data"
    },
    {
     "data": {
      "text/plain": [
       "<py3Dmol.view at 0x7f3ce47b0940>"
      ]
     },
     "execution_count": 7,
     "metadata": {},
     "output_type": "execute_result"
    }
   ],
   "source": [
    "p.to_pdb(\"/home/jok120/Downloads/ref00.pdb\", title='reference')\n",
    "p.to_3Dmol()"
   ]
  },
  {
   "cell_type": "code",
   "execution_count": 8,
   "id": "5de92e41",
   "metadata": {},
   "outputs": [],
   "source": [
    "p.angles[0,6] = np.deg2rad(-109.5)"
   ]
  },
  {
   "cell_type": "code",
   "execution_count": 9,
   "id": "87f30649",
   "metadata": {},
   "outputs": [
    {
     "data": {
      "application/3dmoljs_load.v0": "<div id=\"3dmolviewer_165713794644604\"  style=\"position: relative; width: 640px; height: 480px\">\n        <p id=\"3dmolwarning_165713794644604\" style=\"background-color:#ffcccc;color:black\">You appear to be running in JupyterLab (or JavaScript failed to load for some other reason).  You need to install the 3dmol extension: <br>\n        <tt>jupyter labextension install jupyterlab_3dmol</tt></p>\n        </div>\n<script>\n\nvar loadScriptAsync = function(uri){\n  return new Promise((resolve, reject) => {\n    var tag = document.createElement('script');\n    tag.src = uri;\n    tag.async = true;\n    tag.onload = () => {\n      resolve();\n    };\n  var firstScriptTag = document.getElementsByTagName('script')[0];\n  firstScriptTag.parentNode.insertBefore(tag, firstScriptTag);\n});\n};\n\nif(typeof $3Dmolpromise === 'undefined') {\n$3Dmolpromise = null;\n  $3Dmolpromise = loadScriptAsync('https://3dmol.org/build/3Dmol.js');\n}\n\nvar viewer_165713794644604 = null;\nvar warn = document.getElementById(\"3dmolwarning_165713794644604\");\nif(warn) {\n    warn.parentNode.removeChild(warn);\n}\n$3Dmolpromise.then(function() {\nviewer_165713794644604 = $3Dmol.createViewer($(\"#3dmolviewer_165713794644604\"),{backgroundColor:\"white\"});\nviewer_165713794644604.zoomTo();\n\tviewer_165713794644604.addModel(\"REMARK  pred\\nSEQRES   1 A    5  TRP LEU ASP LEU GLU                                          \\nATOM      1  N   TRP A   1       0.000   0.000   0.000  1.00  0.00           N  \\nATOM      2  CA  TRP A   1       1.442  -0.000  -0.000  1.00  0.00           C  \\nATOM      3  C   TRP A   1       1.923   1.419   0.000  1.00  0.00           C  \\nATOM      4  O   TRP A   1       1.125   2.338  -0.165  1.00  0.00           O  \\nATOM      5  CB  TRP A   1       1.956  -0.480  -1.354  1.00  0.00           C  \\nATOM      6  CG  TRP A   1       3.412  -0.817  -1.410  1.00  0.00           C  \\nATOM      7 CD1  TRP A   1       4.291  -0.627  -0.400  1.00  0.00           C  \\nATOM      8 NE1  TRP A   1       5.538  -1.054  -0.813  1.00  0.00           N  \\nATOM      9 CE2  TRP A   1       5.508  -1.535  -2.106  1.00  0.00           C  \\nATOM     10 CZ2  TRP A   1       6.494  -2.066  -2.947  1.00  0.00           C  \\nATOM     11 CH2  TRP A   1       6.160  -2.482  -4.241  1.00  0.00           C  \\nATOM     12 CZ3  TRP A   1       4.841  -2.366  -4.695  1.00  0.00           C  \\nATOM     13 CE3  TRP A   1       3.855  -1.835  -3.855  1.00  0.00           C  \\nATOM     14 CD2  TRP A   1       4.190  -1.418  -2.557  1.00  0.00           C  \\nATOM     15  N   LEU A   2       3.271   1.640   0.189  1.00  0.00           N  \\nATOM     16  CA  LEU A   2       3.840   2.965   0.206  1.00  0.00           C  \\nATOM     17  C   LEU A   2       4.991   3.149  -0.735  1.00  0.00           C  \\nATOM     18  O   LEU A   2       5.132   2.388  -1.690  1.00  0.00           O  \\nATOM     19  CB  LEU A   2       4.306   3.307   1.618  1.00  0.00           C  \\nATOM     20  CG  LEU A   2       5.644   2.626   1.891  1.00  0.00           C  \\nATOM     21 CD1  LEU A   2       6.328   3.304   3.076  1.00  0.00           C  \\nATOM     22 CD2  LEU A   2       5.421   1.133   2.110  1.00  0.00           C  \\nATOM     23  N   ASP A   3       5.836   4.199  -0.444  1.00  0.00           N  \\nATOM     24  CA  ASP A   3       7.003   4.483  -1.241  1.00  0.00           C  \\nATOM     25  C   ASP A   3       8.214   4.002  -0.502  1.00  0.00           C  \\nATOM     26  O   ASP A   3       8.196   3.929   0.725  1.00  0.00           O  \\nATOM     27  CB  ASP A   3       7.083   5.981  -1.522  1.00  0.00           C  \\nATOM     28  CG  ASP A   3       8.130   6.284  -2.584  1.00  0.00           C  \\nATOM     29 OD1  ASP A   3       9.302   5.921  -2.346  1.00  0.00           O  \\nATOM     30 OD2  ASP A   3       7.738   6.873  -3.615  1.00  0.00           O  \\nATOM     31  N   LEU A   4       9.298   3.665  -1.284  1.00  0.00           N  \\nATOM     32  CA  LEU A   4      10.514   3.126  -0.728  1.00  0.00           C  \\nATOM     33  C   LEU A   4      11.732   3.429  -1.546  1.00  0.00           C  \\nATOM     34  O   LEU A   4      11.623   3.651  -2.750  1.00  0.00           O  \\nATOM     35  CB  LEU A   4      10.402   1.608  -0.622  1.00  0.00           C  \\nATOM     36  CG  LEU A   4      11.715   1.036  -0.092  1.00  0.00           C  \\nATOM     37 CD1  LEU A   4      11.943   1.522   1.336  1.00  0.00           C  \\nATOM     38 CD2  LEU A   4      11.662  -0.489  -0.139  1.00  0.00           C  \\nATOM     39  N   GLU A   5      12.951   3.448  -0.903  1.00  0.00           N  \\nATOM     40  CA  GLU A   5      14.200   3.634  -1.599  1.00  0.00           C  \\nATOM     41  C   GLU A   5      15.320   2.920  -0.906  1.00  0.00           C  \\nATOM     42  O   GLU A   5      16.123   2.257  -1.559  1.00  0.00           O  \\nATOM     43  CB  GLU A   5      14.492   5.125  -1.744  1.00  0.00           C  \\nATOM     44  CG  GLU A   5      15.723   5.320  -2.623  1.00  0.00           C  \\nATOM     45  CD  GLU A   5      16.251   6.744  -2.518  1.00  0.00           C  \\nATOM     46 OE1  GLU A   5      15.441   7.625  -2.157  1.00  0.00           O  \\nATOM     47 OE2  GLU A   5      17.455   6.925  -2.802  1.00  0.00           O  \\nTER\\nEND          \\n\",\"pdb\",{\"keepH\": true});\n\tviewer_165713794644604.setStyle({\"cartoon\": {\"color\": \"spectrum\"}, \"stick\": {\"radius\": 0.15}});\n\tviewer_165713794644604.zoomTo();\nviewer_165713794644604.render();\n});\n</script>",
      "text/html": [
       "<div id=\"3dmolviewer_165713794644604\"  style=\"position: relative; width: 640px; height: 480px\">\n",
       "        <p id=\"3dmolwarning_165713794644604\" style=\"background-color:#ffcccc;color:black\">You appear to be running in JupyterLab (or JavaScript failed to load for some other reason).  You need to install the 3dmol extension: <br>\n",
       "        <tt>jupyter labextension install jupyterlab_3dmol</tt></p>\n",
       "        </div>\n",
       "<script>\n",
       "\n",
       "var loadScriptAsync = function(uri){\n",
       "  return new Promise((resolve, reject) => {\n",
       "    var tag = document.createElement('script');\n",
       "    tag.src = uri;\n",
       "    tag.async = true;\n",
       "    tag.onload = () => {\n",
       "      resolve();\n",
       "    };\n",
       "  var firstScriptTag = document.getElementsByTagName('script')[0];\n",
       "  firstScriptTag.parentNode.insertBefore(tag, firstScriptTag);\n",
       "});\n",
       "};\n",
       "\n",
       "if(typeof $3Dmolpromise === 'undefined') {\n",
       "$3Dmolpromise = null;\n",
       "  $3Dmolpromise = loadScriptAsync('https://3dmol.org/build/3Dmol.js');\n",
       "}\n",
       "\n",
       "var viewer_165713794644604 = null;\n",
       "var warn = document.getElementById(\"3dmolwarning_165713794644604\");\n",
       "if(warn) {\n",
       "    warn.parentNode.removeChild(warn);\n",
       "}\n",
       "$3Dmolpromise.then(function() {\n",
       "viewer_165713794644604 = $3Dmol.createViewer($(\"#3dmolviewer_165713794644604\"),{backgroundColor:\"white\"});\n",
       "viewer_165713794644604.zoomTo();\n",
       "\tviewer_165713794644604.addModel(\"REMARK  pred\\nSEQRES   1 A    5  TRP LEU ASP LEU GLU                                          \\nATOM      1  N   TRP A   1       0.000   0.000   0.000  1.00  0.00           N  \\nATOM      2  CA  TRP A   1       1.442  -0.000  -0.000  1.00  0.00           C  \\nATOM      3  C   TRP A   1       1.923   1.419   0.000  1.00  0.00           C  \\nATOM      4  O   TRP A   1       1.125   2.338  -0.165  1.00  0.00           O  \\nATOM      5  CB  TRP A   1       1.956  -0.480  -1.354  1.00  0.00           C  \\nATOM      6  CG  TRP A   1       3.412  -0.817  -1.410  1.00  0.00           C  \\nATOM      7 CD1  TRP A   1       4.291  -0.627  -0.400  1.00  0.00           C  \\nATOM      8 NE1  TRP A   1       5.538  -1.054  -0.813  1.00  0.00           N  \\nATOM      9 CE2  TRP A   1       5.508  -1.535  -2.106  1.00  0.00           C  \\nATOM     10 CZ2  TRP A   1       6.494  -2.066  -2.947  1.00  0.00           C  \\nATOM     11 CH2  TRP A   1       6.160  -2.482  -4.241  1.00  0.00           C  \\nATOM     12 CZ3  TRP A   1       4.841  -2.366  -4.695  1.00  0.00           C  \\nATOM     13 CE3  TRP A   1       3.855  -1.835  -3.855  1.00  0.00           C  \\nATOM     14 CD2  TRP A   1       4.190  -1.418  -2.557  1.00  0.00           C  \\nATOM     15  N   LEU A   2       3.271   1.640   0.189  1.00  0.00           N  \\nATOM     16  CA  LEU A   2       3.840   2.965   0.206  1.00  0.00           C  \\nATOM     17  C   LEU A   2       4.991   3.149  -0.735  1.00  0.00           C  \\nATOM     18  O   LEU A   2       5.132   2.388  -1.690  1.00  0.00           O  \\nATOM     19  CB  LEU A   2       4.306   3.307   1.618  1.00  0.00           C  \\nATOM     20  CG  LEU A   2       5.644   2.626   1.891  1.00  0.00           C  \\nATOM     21 CD1  LEU A   2       6.328   3.304   3.076  1.00  0.00           C  \\nATOM     22 CD2  LEU A   2       5.421   1.133   2.110  1.00  0.00           C  \\nATOM     23  N   ASP A   3       5.836   4.199  -0.444  1.00  0.00           N  \\nATOM     24  CA  ASP A   3       7.003   4.483  -1.241  1.00  0.00           C  \\nATOM     25  C   ASP A   3       8.214   4.002  -0.502  1.00  0.00           C  \\nATOM     26  O   ASP A   3       8.196   3.929   0.725  1.00  0.00           O  \\nATOM     27  CB  ASP A   3       7.083   5.981  -1.522  1.00  0.00           C  \\nATOM     28  CG  ASP A   3       8.130   6.284  -2.584  1.00  0.00           C  \\nATOM     29 OD1  ASP A   3       9.302   5.921  -2.346  1.00  0.00           O  \\nATOM     30 OD2  ASP A   3       7.738   6.873  -3.615  1.00  0.00           O  \\nATOM     31  N   LEU A   4       9.298   3.665  -1.284  1.00  0.00           N  \\nATOM     32  CA  LEU A   4      10.514   3.126  -0.728  1.00  0.00           C  \\nATOM     33  C   LEU A   4      11.732   3.429  -1.546  1.00  0.00           C  \\nATOM     34  O   LEU A   4      11.623   3.651  -2.750  1.00  0.00           O  \\nATOM     35  CB  LEU A   4      10.402   1.608  -0.622  1.00  0.00           C  \\nATOM     36  CG  LEU A   4      11.715   1.036  -0.092  1.00  0.00           C  \\nATOM     37 CD1  LEU A   4      11.943   1.522   1.336  1.00  0.00           C  \\nATOM     38 CD2  LEU A   4      11.662  -0.489  -0.139  1.00  0.00           C  \\nATOM     39  N   GLU A   5      12.951   3.448  -0.903  1.00  0.00           N  \\nATOM     40  CA  GLU A   5      14.200   3.634  -1.599  1.00  0.00           C  \\nATOM     41  C   GLU A   5      15.320   2.920  -0.906  1.00  0.00           C  \\nATOM     42  O   GLU A   5      16.123   2.257  -1.559  1.00  0.00           O  \\nATOM     43  CB  GLU A   5      14.492   5.125  -1.744  1.00  0.00           C  \\nATOM     44  CG  GLU A   5      15.723   5.320  -2.623  1.00  0.00           C  \\nATOM     45  CD  GLU A   5      16.251   6.744  -2.518  1.00  0.00           C  \\nATOM     46 OE1  GLU A   5      15.441   7.625  -2.157  1.00  0.00           O  \\nATOM     47 OE2  GLU A   5      17.455   6.925  -2.802  1.00  0.00           O  \\nTER\\nEND          \\n\",\"pdb\",{\"keepH\": true});\n",
       "\tviewer_165713794644604.setStyle({\"cartoon\": {\"color\": \"spectrum\"}, \"stick\": {\"radius\": 0.15}});\n",
       "\tviewer_165713794644604.zoomTo();\n",
       "viewer_165713794644604.render();\n",
       "});\n",
       "</script>"
      ]
     },
     "metadata": {},
     "output_type": "display_data"
    },
    {
     "data": {
      "text/plain": [
       "<py3Dmol.view at 0x7f3bb2d808e0>"
      ]
     },
     "execution_count": 9,
     "metadata": {},
     "output_type": "execute_result"
    }
   ],
   "source": [
    "p.sb = None\n",
    "coords = p.fastbuild()\n",
    "p.coords = coords\n",
    "\n",
    "p.to_3Dmol()\n"
   ]
  },
  {
   "cell_type": "code",
   "execution_count": 10,
   "id": "362b828d",
   "metadata": {},
   "outputs": [],
   "source": [
    "# p.coords"
   ]
  },
  {
   "cell_type": "code",
   "execution_count": 11,
   "id": "cf57ed54",
   "metadata": {},
   "outputs": [
    {
     "data": {
      "text/plain": [
       "torch.Size([5, 27, 3])"
      ]
     },
     "execution_count": 11,
     "metadata": {},
     "output_type": "execute_result"
    }
   ],
   "source": [
    "hcoords = p.fastbuild(add_hydrogens=True)\n",
    "p.coords = hcoords\n",
    "p.hcoords = hcoords\n",
    "p.has_hydrogens=True\n",
    "p.coords.shape"
   ]
  },
  {
   "cell_type": "code",
   "execution_count": 12,
   "id": "7a82db1c",
   "metadata": {},
   "outputs": [
    {
     "data": {
      "application/3dmoljs_load.v0": "<div id=\"3dmolviewer_16571379467490358\"  style=\"position: relative; width: 640px; height: 480px\">\n        <p id=\"3dmolwarning_16571379467490358\" style=\"background-color:#ffcccc;color:black\">You appear to be running in JupyterLab (or JavaScript failed to load for some other reason).  You need to install the 3dmol extension: <br>\n        <tt>jupyter labextension install jupyterlab_3dmol</tt></p>\n        </div>\n<script>\n\nvar loadScriptAsync = function(uri){\n  return new Promise((resolve, reject) => {\n    var tag = document.createElement('script');\n    tag.src = uri;\n    tag.async = true;\n    tag.onload = () => {\n      resolve();\n    };\n  var firstScriptTag = document.getElementsByTagName('script')[0];\n  firstScriptTag.parentNode.insertBefore(tag, firstScriptTag);\n});\n};\n\nif(typeof $3Dmolpromise === 'undefined') {\n$3Dmolpromise = null;\n  $3Dmolpromise = loadScriptAsync('https://3dmol.org/build/3Dmol.js');\n}\n\nvar viewer_16571379467490358 = null;\nvar warn = document.getElementById(\"3dmolwarning_16571379467490358\");\nif(warn) {\n    warn.parentNode.removeChild(warn);\n}\n$3Dmolpromise.then(function() {\nviewer_16571379467490358 = $3Dmol.createViewer($(\"#3dmolviewer_16571379467490358\"),{backgroundColor:\"white\"});\nviewer_16571379467490358.zoomTo();\n\tviewer_16571379467490358.addModel(\"REMARK  pred\\nSEQRES   1 A    5  TRP LEU ASP LEU GLU                                          \\nATOM      1  N   TRP A   1       0.000   0.000   0.000  1.00  0.00           N  \\nATOM      2  CA  TRP A   1       1.442  -0.000  -0.000  1.00  0.00           C  \\nATOM      3  C   TRP A   1       1.923   1.419   0.000  1.00  0.00           C  \\nATOM      4  O   TRP A   1       1.125   2.338  -0.165  1.00  0.00           O  \\nATOM      5  H   TRP A   1      -0.505   0.875  -0.000  1.00  0.00           H  \\nATOM      6  CB  TRP A   1       1.956  -0.480  -1.354  1.00  0.00           C  \\nATOM      7  CG  TRP A   1       3.412  -0.817  -1.410  1.00  0.00           C  \\nATOM      8 CD1  TRP A   1       4.291  -0.627  -0.400  1.00  0.00           C  \\nATOM      9 NE1  TRP A   1       5.538  -1.054  -0.813  1.00  0.00           N  \\nATOM     10 CE2  TRP A   1       5.508  -1.535  -2.106  1.00  0.00           C  \\nATOM     11 CZ2  TRP A   1       6.494  -2.066  -2.947  1.00  0.00           C  \\nATOM     12 CH2  TRP A   1       6.160  -2.482  -4.241  1.00  0.00           C  \\nATOM     13 CZ3  TRP A   1       4.841  -2.366  -4.695  1.00  0.00           C  \\nATOM     14 CE3  TRP A   1       3.855  -1.835  -3.855  1.00  0.00           C  \\nATOM     15 CD2  TRP A   1       4.190  -1.418  -2.557  1.00  0.00           C  \\nATOM     16 HB2  TRP A   1       1.793   0.297  -2.101  1.00  0.00           H  \\nATOM     17 HB3  TRP A   1       1.421  -1.383  -1.648  1.00  0.00           H  \\nATOM     18 HD1  TRP A   1       3.956  -0.202   0.534  1.00  0.00           H  \\nATOM     19 HE1  TRP A   1       6.358  -1.010  -0.225  1.00  0.00           H  \\nATOM     20 HE3  TRP A   1       2.837  -1.746  -4.205  1.00  0.00           H  \\nATOM     21 HH2  TRP A   1       6.920  -2.892  -4.889  1.00  0.00           H  \\nATOM     22 HZ2  TRP A   1       7.511  -2.155  -2.596  1.00  0.00           H  \\nATOM     23 HZ3  TRP A   1       4.583  -2.687  -5.694  1.00  0.00           H  \\nATOM     24  N   LEU A   2       3.271   1.640   0.189  1.00  0.00           N  \\nATOM     25  CA  LEU A   2       3.840   2.965   0.206  1.00  0.00           C  \\nATOM     26  C   LEU A   2       4.991   3.149  -0.735  1.00  0.00           C  \\nATOM     27  O   LEU A   2       5.132   2.388  -1.690  1.00  0.00           O  \\nATOM     28  H   LEU A   2       3.898   0.859   0.321  1.00  0.00           H  \\nATOM     29  CB  LEU A   2       4.306   3.307   1.618  1.00  0.00           C  \\nATOM     30  CG  LEU A   2       5.644   2.626   1.891  1.00  0.00           C  \\nATOM     31 CD1  LEU A   2       6.328   3.304   3.076  1.00  0.00           C  \\nATOM     32 CD2  LEU A   2       5.421   1.133   2.110  1.00  0.00           C  \\nATOM     33  HA  LEU A   2       3.088   3.688  -0.111  1.00  0.00           H  \\nATOM     34 HB2  LEU A   2       3.567   2.958   2.339  1.00  0.00           H  \\nATOM     35 HB3  LEU A   2       4.422   4.387   1.712  1.00  0.00           H  \\nATOM     36 HD11 LEU A   2       5.697   4.113   3.446  1.00  0.00           H  \\nATOM     37 HD12 LEU A   2       6.485   2.574   3.871  1.00  0.00           H  \\nATOM     38 HD13 LEU A   2       7.289   3.708   2.759  1.00  0.00           H  \\nATOM     39 HD21 LEU A   2       4.359   0.907   2.019  1.00  0.00           H  \\nATOM     40 HD22 LEU A   2       5.977   0.568   1.362  1.00  0.00           H  \\nATOM     41 HD23 LEU A   2       5.767   0.855   3.106  1.00  0.00           H  \\nATOM     42  HG  LEU A   2       6.281   2.708   1.010  1.00  0.00           H  \\nATOM     43  N   ASP A   3       5.836   4.199  -0.444  1.00  0.00           N  \\nATOM     44  CA  ASP A   3       7.003   4.483  -1.241  1.00  0.00           C  \\nATOM     45  C   ASP A   3       8.214   4.002  -0.502  1.00  0.00           C  \\nATOM     46  O   ASP A   3       8.196   3.929   0.725  1.00  0.00           O  \\nATOM     47  H   ASP A   3       5.644   4.797   0.348  1.00  0.00           H  \\nATOM     48  CB  ASP A   3       7.083   5.981  -1.522  1.00  0.00           C  \\nATOM     49  CG  ASP A   3       8.130   6.284  -2.584  1.00  0.00           C  \\nATOM     50 OD1  ASP A   3       9.302   5.921  -2.346  1.00  0.00           O  \\nATOM     51 OD2  ASP A   3       7.738   6.873  -3.615  1.00  0.00           O  \\nATOM     52 HB2  ASP A   3       7.353   6.508  -0.607  1.00  0.00           H  \\nATOM     53 HB3  ASP A   3       6.115   6.337  -1.874  1.00  0.00           H  \\nATOM     54  N   LEU A   4       9.298   3.665  -1.284  1.00  0.00           N  \\nATOM     55  CA  LEU A   4      10.514   3.126  -0.728  1.00  0.00           C  \\nATOM     56  C   LEU A   4      11.732   3.429  -1.546  1.00  0.00           C  \\nATOM     57  O   LEU A   4      11.623   3.651  -2.750  1.00  0.00           O  \\nATOM     58  H   LEU A   4       9.258   3.793  -2.285  1.00  0.00           H  \\nATOM     59  CB  LEU A   4      10.402   1.608  -0.622  1.00  0.00           C  \\nATOM     60  CG  LEU A   4      11.715   1.036  -0.092  1.00  0.00           C  \\nATOM     61 CD1  LEU A   4      11.943   1.522   1.336  1.00  0.00           C  \\nATOM     62 CD2  LEU A   4      11.662  -0.489  -0.139  1.00  0.00           C  \\nATOM     63  HA  LEU A   4      10.678   3.546   0.265  1.00  0.00           H  \\nATOM     64 HB2  LEU A   4      10.195   1.188  -1.606  1.00  0.00           H  \\nATOM     65 HB3  LEU A   4       9.593   1.349   0.061  1.00  0.00           H  \\nATOM     66 HD11 LEU A   4      11.115   2.163   1.639  1.00  0.00           H  \\nATOM     67 HD12 LEU A   4      12.004   0.665   2.007  1.00  0.00           H  \\nATOM     68 HD13 LEU A   4      12.874   2.087   1.383  1.00  0.00           H  \\nATOM     69 HD21 LEU A   4      10.699  -0.807  -0.539  1.00  0.00           H  \\nATOM     70 HD22 LEU A   4      12.462  -0.861  -0.779  1.00  0.00           H  \\nATOM     71 HD23 LEU A   4      11.786  -0.888   0.867  1.00  0.00           H  \\nATOM     72  HG  LEU A   4      12.538   1.368  -0.725  1.00  0.00           H  \\nATOM     73  N   GLU A   5      12.951   3.448  -0.903  1.00  0.00           N  \\nATOM     74  CA  GLU A   5      14.200   3.634  -1.599  1.00  0.00           C  \\nATOM     75  C   GLU A   5      15.320   2.920  -0.906  1.00  0.00           C  \\nATOM     76  O   GLU A   5      16.123   2.257  -1.559  1.00  0.00           O  \\nATOM     77  H   GLU A   5      12.995   3.329   0.099  1.00  0.00           H  \\nATOM     78  CB  GLU A   5      14.492   5.125  -1.744  1.00  0.00           C  \\nATOM     79  CG  GLU A   5      15.723   5.320  -2.623  1.00  0.00           C  \\nATOM     80  CD  GLU A   5      16.251   6.744  -2.518  1.00  0.00           C  \\nATOM     81 OE1  GLU A   5      15.441   7.625  -2.157  1.00  0.00           O  \\nATOM     82 OE2  GLU A   5      17.455   6.925  -2.802  1.00  0.00           O  \\nATOM     83 HB2  GLU A   5      14.676   5.556  -0.760  1.00  0.00           H  \\nATOM     84 HB3  GLU A   5      13.636   5.620  -2.202  1.00  0.00           H  \\nATOM     85 HG2  GLU A   5      15.463   5.121  -3.663  1.00  0.00           H  \\nATOM     86 HG3  GLU A   5      16.508   4.633  -2.308  1.00  0.00           H  \\nTER\\nEND          \\n\",\"pdb\",{\"keepH\": true});\n\tviewer_16571379467490358.setStyle({\"cartoon\": {\"color\": \"spectrum\"}, \"stick\": {\"radius\": 0.15}});\n\tviewer_16571379467490358.zoomTo();\nviewer_16571379467490358.render();\n});\n</script>",
      "text/html": [
       "<div id=\"3dmolviewer_16571379467490358\"  style=\"position: relative; width: 640px; height: 480px\">\n",
       "        <p id=\"3dmolwarning_16571379467490358\" style=\"background-color:#ffcccc;color:black\">You appear to be running in JupyterLab (or JavaScript failed to load for some other reason).  You need to install the 3dmol extension: <br>\n",
       "        <tt>jupyter labextension install jupyterlab_3dmol</tt></p>\n",
       "        </div>\n",
       "<script>\n",
       "\n",
       "var loadScriptAsync = function(uri){\n",
       "  return new Promise((resolve, reject) => {\n",
       "    var tag = document.createElement('script');\n",
       "    tag.src = uri;\n",
       "    tag.async = true;\n",
       "    tag.onload = () => {\n",
       "      resolve();\n",
       "    };\n",
       "  var firstScriptTag = document.getElementsByTagName('script')[0];\n",
       "  firstScriptTag.parentNode.insertBefore(tag, firstScriptTag);\n",
       "});\n",
       "};\n",
       "\n",
       "if(typeof $3Dmolpromise === 'undefined') {\n",
       "$3Dmolpromise = null;\n",
       "  $3Dmolpromise = loadScriptAsync('https://3dmol.org/build/3Dmol.js');\n",
       "}\n",
       "\n",
       "var viewer_16571379467490358 = null;\n",
       "var warn = document.getElementById(\"3dmolwarning_16571379467490358\");\n",
       "if(warn) {\n",
       "    warn.parentNode.removeChild(warn);\n",
       "}\n",
       "$3Dmolpromise.then(function() {\n",
       "viewer_16571379467490358 = $3Dmol.createViewer($(\"#3dmolviewer_16571379467490358\"),{backgroundColor:\"white\"});\n",
       "viewer_16571379467490358.zoomTo();\n",
       "\tviewer_16571379467490358.addModel(\"REMARK  pred\\nSEQRES   1 A    5  TRP LEU ASP LEU GLU                                          \\nATOM      1  N   TRP A   1       0.000   0.000   0.000  1.00  0.00           N  \\nATOM      2  CA  TRP A   1       1.442  -0.000  -0.000  1.00  0.00           C  \\nATOM      3  C   TRP A   1       1.923   1.419   0.000  1.00  0.00           C  \\nATOM      4  O   TRP A   1       1.125   2.338  -0.165  1.00  0.00           O  \\nATOM      5  H   TRP A   1      -0.505   0.875  -0.000  1.00  0.00           H  \\nATOM      6  CB  TRP A   1       1.956  -0.480  -1.354  1.00  0.00           C  \\nATOM      7  CG  TRP A   1       3.412  -0.817  -1.410  1.00  0.00           C  \\nATOM      8 CD1  TRP A   1       4.291  -0.627  -0.400  1.00  0.00           C  \\nATOM      9 NE1  TRP A   1       5.538  -1.054  -0.813  1.00  0.00           N  \\nATOM     10 CE2  TRP A   1       5.508  -1.535  -2.106  1.00  0.00           C  \\nATOM     11 CZ2  TRP A   1       6.494  -2.066  -2.947  1.00  0.00           C  \\nATOM     12 CH2  TRP A   1       6.160  -2.482  -4.241  1.00  0.00           C  \\nATOM     13 CZ3  TRP A   1       4.841  -2.366  -4.695  1.00  0.00           C  \\nATOM     14 CE3  TRP A   1       3.855  -1.835  -3.855  1.00  0.00           C  \\nATOM     15 CD2  TRP A   1       4.190  -1.418  -2.557  1.00  0.00           C  \\nATOM     16 HB2  TRP A   1       1.793   0.297  -2.101  1.00  0.00           H  \\nATOM     17 HB3  TRP A   1       1.421  -1.383  -1.648  1.00  0.00           H  \\nATOM     18 HD1  TRP A   1       3.956  -0.202   0.534  1.00  0.00           H  \\nATOM     19 HE1  TRP A   1       6.358  -1.010  -0.225  1.00  0.00           H  \\nATOM     20 HE3  TRP A   1       2.837  -1.746  -4.205  1.00  0.00           H  \\nATOM     21 HH2  TRP A   1       6.920  -2.892  -4.889  1.00  0.00           H  \\nATOM     22 HZ2  TRP A   1       7.511  -2.155  -2.596  1.00  0.00           H  \\nATOM     23 HZ3  TRP A   1       4.583  -2.687  -5.694  1.00  0.00           H  \\nATOM     24  N   LEU A   2       3.271   1.640   0.189  1.00  0.00           N  \\nATOM     25  CA  LEU A   2       3.840   2.965   0.206  1.00  0.00           C  \\nATOM     26  C   LEU A   2       4.991   3.149  -0.735  1.00  0.00           C  \\nATOM     27  O   LEU A   2       5.132   2.388  -1.690  1.00  0.00           O  \\nATOM     28  H   LEU A   2       3.898   0.859   0.321  1.00  0.00           H  \\nATOM     29  CB  LEU A   2       4.306   3.307   1.618  1.00  0.00           C  \\nATOM     30  CG  LEU A   2       5.644   2.626   1.891  1.00  0.00           C  \\nATOM     31 CD1  LEU A   2       6.328   3.304   3.076  1.00  0.00           C  \\nATOM     32 CD2  LEU A   2       5.421   1.133   2.110  1.00  0.00           C  \\nATOM     33  HA  LEU A   2       3.088   3.688  -0.111  1.00  0.00           H  \\nATOM     34 HB2  LEU A   2       3.567   2.958   2.339  1.00  0.00           H  \\nATOM     35 HB3  LEU A   2       4.422   4.387   1.712  1.00  0.00           H  \\nATOM     36 HD11 LEU A   2       5.697   4.113   3.446  1.00  0.00           H  \\nATOM     37 HD12 LEU A   2       6.485   2.574   3.871  1.00  0.00           H  \\nATOM     38 HD13 LEU A   2       7.289   3.708   2.759  1.00  0.00           H  \\nATOM     39 HD21 LEU A   2       4.359   0.907   2.019  1.00  0.00           H  \\nATOM     40 HD22 LEU A   2       5.977   0.568   1.362  1.00  0.00           H  \\nATOM     41 HD23 LEU A   2       5.767   0.855   3.106  1.00  0.00           H  \\nATOM     42  HG  LEU A   2       6.281   2.708   1.010  1.00  0.00           H  \\nATOM     43  N   ASP A   3       5.836   4.199  -0.444  1.00  0.00           N  \\nATOM     44  CA  ASP A   3       7.003   4.483  -1.241  1.00  0.00           C  \\nATOM     45  C   ASP A   3       8.214   4.002  -0.502  1.00  0.00           C  \\nATOM     46  O   ASP A   3       8.196   3.929   0.725  1.00  0.00           O  \\nATOM     47  H   ASP A   3       5.644   4.797   0.348  1.00  0.00           H  \\nATOM     48  CB  ASP A   3       7.083   5.981  -1.522  1.00  0.00           C  \\nATOM     49  CG  ASP A   3       8.130   6.284  -2.584  1.00  0.00           C  \\nATOM     50 OD1  ASP A   3       9.302   5.921  -2.346  1.00  0.00           O  \\nATOM     51 OD2  ASP A   3       7.738   6.873  -3.615  1.00  0.00           O  \\nATOM     52 HB2  ASP A   3       7.353   6.508  -0.607  1.00  0.00           H  \\nATOM     53 HB3  ASP A   3       6.115   6.337  -1.874  1.00  0.00           H  \\nATOM     54  N   LEU A   4       9.298   3.665  -1.284  1.00  0.00           N  \\nATOM     55  CA  LEU A   4      10.514   3.126  -0.728  1.00  0.00           C  \\nATOM     56  C   LEU A   4      11.732   3.429  -1.546  1.00  0.00           C  \\nATOM     57  O   LEU A   4      11.623   3.651  -2.750  1.00  0.00           O  \\nATOM     58  H   LEU A   4       9.258   3.793  -2.285  1.00  0.00           H  \\nATOM     59  CB  LEU A   4      10.402   1.608  -0.622  1.00  0.00           C  \\nATOM     60  CG  LEU A   4      11.715   1.036  -0.092  1.00  0.00           C  \\nATOM     61 CD1  LEU A   4      11.943   1.522   1.336  1.00  0.00           C  \\nATOM     62 CD2  LEU A   4      11.662  -0.489  -0.139  1.00  0.00           C  \\nATOM     63  HA  LEU A   4      10.678   3.546   0.265  1.00  0.00           H  \\nATOM     64 HB2  LEU A   4      10.195   1.188  -1.606  1.00  0.00           H  \\nATOM     65 HB3  LEU A   4       9.593   1.349   0.061  1.00  0.00           H  \\nATOM     66 HD11 LEU A   4      11.115   2.163   1.639  1.00  0.00           H  \\nATOM     67 HD12 LEU A   4      12.004   0.665   2.007  1.00  0.00           H  \\nATOM     68 HD13 LEU A   4      12.874   2.087   1.383  1.00  0.00           H  \\nATOM     69 HD21 LEU A   4      10.699  -0.807  -0.539  1.00  0.00           H  \\nATOM     70 HD22 LEU A   4      12.462  -0.861  -0.779  1.00  0.00           H  \\nATOM     71 HD23 LEU A   4      11.786  -0.888   0.867  1.00  0.00           H  \\nATOM     72  HG  LEU A   4      12.538   1.368  -0.725  1.00  0.00           H  \\nATOM     73  N   GLU A   5      12.951   3.448  -0.903  1.00  0.00           N  \\nATOM     74  CA  GLU A   5      14.200   3.634  -1.599  1.00  0.00           C  \\nATOM     75  C   GLU A   5      15.320   2.920  -0.906  1.00  0.00           C  \\nATOM     76  O   GLU A   5      16.123   2.257  -1.559  1.00  0.00           O  \\nATOM     77  H   GLU A   5      12.995   3.329   0.099  1.00  0.00           H  \\nATOM     78  CB  GLU A   5      14.492   5.125  -1.744  1.00  0.00           C  \\nATOM     79  CG  GLU A   5      15.723   5.320  -2.623  1.00  0.00           C  \\nATOM     80  CD  GLU A   5      16.251   6.744  -2.518  1.00  0.00           C  \\nATOM     81 OE1  GLU A   5      15.441   7.625  -2.157  1.00  0.00           O  \\nATOM     82 OE2  GLU A   5      17.455   6.925  -2.802  1.00  0.00           O  \\nATOM     83 HB2  GLU A   5      14.676   5.556  -0.760  1.00  0.00           H  \\nATOM     84 HB3  GLU A   5      13.636   5.620  -2.202  1.00  0.00           H  \\nATOM     85 HG2  GLU A   5      15.463   5.121  -3.663  1.00  0.00           H  \\nATOM     86 HG3  GLU A   5      16.508   4.633  -2.308  1.00  0.00           H  \\nTER\\nEND          \\n\",\"pdb\",{\"keepH\": true});\n",
       "\tviewer_16571379467490358.setStyle({\"cartoon\": {\"color\": \"spectrum\"}, \"stick\": {\"radius\": 0.15}});\n",
       "\tviewer_16571379467490358.zoomTo();\n",
       "viewer_16571379467490358.render();\n",
       "});\n",
       "</script>"
      ]
     },
     "metadata": {},
     "output_type": "display_data"
    },
    {
     "data": {
      "text/plain": [
       "<py3Dmol.view at 0x7f3bb2d80e80>"
      ]
     },
     "execution_count": 12,
     "metadata": {},
     "output_type": "execute_result"
    }
   ],
   "source": [
    "p.sb = None\n",
    "p.to_3Dmol()"
   ]
  },
  {
   "cell_type": "code",
   "execution_count": 13,
   "id": "259675be",
   "metadata": {},
   "outputs": [],
   "source": [
    "p.to_pdb(\"/home/jok120/Downloads/predh27.pdb\", title='predh')"
   ]
  },
  {
   "cell_type": "code",
   "execution_count": 14,
   "id": "035c92fa",
   "metadata": {},
   "outputs": [
    {
     "name": "stdout",
     "output_type": "stream",
     "text": [
      "REMARK  pred\n",
      "SEQRES   1 A    5  TRP LEU ASP LEU GLU                                          \n",
      "ATOM      1  N   TRP A   1       0.000   0.000   0.000  1.00  0.00           N  \n",
      "ATOM      2  CA  TRP A   1       1.442  -0.000  -0.000  1.00  0.00           C  \n",
      "ATOM      3  C   TRP A   1       1.923   1.419   0.000  1.00  0.00           C  \n",
      "ATOM      4  O   TRP A   1       1.125   2.338  -0.165  1.00  0.00           O  \n",
      "ATOM      5  H   TRP A   1      -0.505   0.875  -0.000  1.00  0.00           H  \n",
      "ATOM      6  CB  TRP A   1       1.956  -0.480  -1.354  1.00  0.00           C  \n",
      "ATOM      7  CG  TRP A   1       3.412  -0.817  -1.410  1.00  0.00           C  \n",
      "ATOM      8 CD1  TRP A   1       4.291  -0.627  -0.400  1.00  0.00           C  \n",
      "ATOM      9 NE1  TRP A   1       5.538  -1.054  -0.813  1.00  0.00           N  \n",
      "ATOM     10 CE2  TRP A   1       5.508  -1.535  -2.106  1.00  0.00           C  \n",
      "ATOM     11 CZ2  TRP A   1       6.494  -2.066  -2.947  1.00  0.00           C  \n",
      "ATOM     12 CH2  TRP A   1       6.160  -2.482  -4.241  1.00  0.00           C  \n",
      "ATOM     13 CZ3  TRP A   1       4.841  -2.366  -4.695  1.00  0.00           C  \n",
      "ATOM     14 CE3  TRP A   1       3.855  -1.835  -3.855  1.00  0.00           C  \n",
      "ATOM     15 CD2  TRP A   1       4.190  -1.418  -2.557  1.00  0.00           C  \n",
      "ATOM     16 HB2  TRP A   1       1.793   0.297  -2.101  1.00  0.00           H  \n",
      "ATOM     17 HB3  TRP A   1       1.421  -1.383  -1.648  1.00  0.00           H  \n",
      "ATOM     18 HD1  TRP A   1       3.956  -0.202   0.534  1.00  0.00           H  \n",
      "ATOM     19 HE1  TRP A   1       6.358  -1.010  -0.225  1.00  0.00           H  \n",
      "ATOM     20 HE3  TRP A   1       2.837  -1.746  -4.205  1.00  0.00           H  \n",
      "ATOM     21 HH2  TRP A   1       6.920  -2.892  -4.889  1.00  0.00           H  \n",
      "ATOM     22 HZ2  TRP A   1       7.511  -2.155  -2.596  1.00  0.00           H  \n",
      "ATOM     23 HZ3  TRP A   1       4.583  -2.687  -5.694  1.00  0.00           H  \n",
      "ATOM     24  N   LEU A   2       3.271   1.640   0.189  1.00  0.00           N  \n",
      "ATOM     25  CA  LEU A   2       3.840   2.965   0.206  1.00  0.00           C  \n",
      "ATOM     26  C   LEU A   2       4.991   3.149  -0.735  1.00  0.00           C  \n",
      "ATOM     27  O   LEU A   2       5.132   2.388  -1.690  1.00  0.00           O  \n",
      "ATOM     28  H   LEU A   2       3.898   0.859   0.321  1.00  0.00           H  \n",
      "ATOM     29  CB  LEU A   2       4.306   3.307   1.618  1.00  0.00           C  \n",
      "ATOM     30  CG  LEU A   2       5.644   2.626   1.891  1.00  0.00           C  \n",
      "ATOM     31 CD1  LEU A   2       6.328   3.304   3.076  1.00  0.00           C  \n",
      "ATOM     32 CD2  LEU A   2       5.421   1.133   2.110  1.00  0.00           C  \n",
      "ATOM     33  HA  LEU A   2       3.088   3.688  -0.111  1.00  0.00           H  \n",
      "ATOM     34 HB2  LEU A   2       3.567   2.958   2.339  1.00  0.00           H  \n",
      "ATOM     35 HB3  LEU A   2       4.422   4.387   1.712  1.00  0.00           H  \n",
      "ATOM     36 HD11 LEU A   2       5.697   4.113   3.446  1.00  0.00           H  \n",
      "ATOM     37 HD12 LEU A   2       6.485   2.574   3.871  1.00  0.00           H  \n",
      "ATOM     38 HD13 LEU A   2       7.289   3.708   2.759  1.00  0.00           H  \n",
      "ATOM     39 HD21 LEU A   2       4.359   0.907   2.019  1.00  0.00           H  \n",
      "ATOM     40 HD22 LEU A   2       5.977   0.568   1.362  1.00  0.00           H  \n",
      "ATOM     41 HD23 LEU A   2       5.767   0.855   3.106  1.00  0.00           H  \n",
      "ATOM     42  HG  LEU A   2       6.281   2.708   1.010  1.00  0.00           H  \n",
      "ATOM     43  N   ASP A   3       5.836   4.199  -0.444  1.00  0.00           N  \n",
      "ATOM     44  CA  ASP A   3       7.003   4.483  -1.241  1.00  0.00           C  \n",
      "ATOM     45  C   ASP A   3       8.214   4.002  -0.502  1.00  0.00           C  \n",
      "ATOM     46  O   ASP A   3       8.196   3.929   0.725  1.00  0.00           O  \n",
      "ATOM     47  H   ASP A   3       5.644   4.797   0.348  1.00  0.00           H  \n",
      "ATOM     48  CB  ASP A   3       7.083   5.981  -1.522  1.00  0.00           C  \n",
      "ATOM     49  CG  ASP A   3       8.130   6.284  -2.584  1.00  0.00           C  \n",
      "ATOM     50 OD1  ASP A   3       9.302   5.921  -2.346  1.00  0.00           O  \n",
      "ATOM     51 OD2  ASP A   3       7.738   6.873  -3.615  1.00  0.00           O  \n",
      "ATOM     52 HB2  ASP A   3       7.353   6.508  -0.607  1.00  0.00           H  \n",
      "ATOM     53 HB3  ASP A   3       6.115   6.337  -1.874  1.00  0.00           H  \n",
      "ATOM     54  N   LEU A   4       9.298   3.665  -1.284  1.00  0.00           N  \n",
      "ATOM     55  CA  LEU A   4      10.514   3.126  -0.728  1.00  0.00           C  \n",
      "ATOM     56  C   LEU A   4      11.732   3.429  -1.546  1.00  0.00           C  \n",
      "ATOM     57  O   LEU A   4      11.623   3.651  -2.750  1.00  0.00           O  \n",
      "ATOM     58  H   LEU A   4       9.258   3.793  -2.285  1.00  0.00           H  \n",
      "ATOM     59  CB  LEU A   4      10.402   1.608  -0.622  1.00  0.00           C  \n",
      "ATOM     60  CG  LEU A   4      11.715   1.036  -0.092  1.00  0.00           C  \n",
      "ATOM     61 CD1  LEU A   4      11.943   1.522   1.336  1.00  0.00           C  \n",
      "ATOM     62 CD2  LEU A   4      11.662  -0.489  -0.139  1.00  0.00           C  \n",
      "ATOM     63  HA  LEU A   4      10.678   3.546   0.265  1.00  0.00           H  \n",
      "ATOM     64 HB2  LEU A   4      10.195   1.188  -1.606  1.00  0.00           H  \n",
      "ATOM     65 HB3  LEU A   4       9.593   1.349   0.061  1.00  0.00           H  \n",
      "ATOM     66 HD11 LEU A   4      11.115   2.163   1.639  1.00  0.00           H  \n",
      "ATOM     67 HD12 LEU A   4      12.004   0.665   2.007  1.00  0.00           H  \n",
      "ATOM     68 HD13 LEU A   4      12.874   2.087   1.383  1.00  0.00           H  \n",
      "ATOM     69 HD21 LEU A   4      10.699  -0.807  -0.539  1.00  0.00           H  \n",
      "ATOM     70 HD22 LEU A   4      12.462  -0.861  -0.779  1.00  0.00           H  \n",
      "ATOM     71 HD23 LEU A   4      11.786  -0.888   0.867  1.00  0.00           H  \n",
      "ATOM     72  HG  LEU A   4      12.538   1.368  -0.725  1.00  0.00           H  \n",
      "ATOM     73  N   GLU A   5      12.951   3.448  -0.903  1.00  0.00           N  \n",
      "ATOM     74  CA  GLU A   5      14.200   3.634  -1.599  1.00  0.00           C  \n",
      "ATOM     75  C   GLU A   5      15.320   2.920  -0.906  1.00  0.00           C  \n",
      "ATOM     76  O   GLU A   5      16.123   2.257  -1.559  1.00  0.00           O  \n",
      "ATOM     77  H   GLU A   5      12.995   3.329   0.099  1.00  0.00           H  \n",
      "ATOM     78  CB  GLU A   5      14.492   5.125  -1.744  1.00  0.00           C  \n",
      "ATOM     79  CG  GLU A   5      15.723   5.320  -2.623  1.00  0.00           C  \n",
      "ATOM     80  CD  GLU A   5      16.251   6.744  -2.518  1.00  0.00           C  \n",
      "ATOM     81 OE1  GLU A   5      15.441   7.625  -2.157  1.00  0.00           O  \n",
      "ATOM     82 OE2  GLU A   5      17.455   6.925  -2.802  1.00  0.00           O  \n",
      "ATOM     83 HB2  GLU A   5      14.676   5.556  -0.760  1.00  0.00           H  \n",
      "ATOM     84 HB3  GLU A   5      13.636   5.620  -2.202  1.00  0.00           H  \n",
      "ATOM     85 HG2  GLU A   5      15.463   5.121  -3.663  1.00  0.00           H  \n",
      "ATOM     86 HG3  GLU A   5      16.508   4.633  -2.308  1.00  0.00           H  \n",
      "TER\n",
      "END          \n",
      "\n"
     ]
    }
   ],
   "source": [
    "print(p.to_pdbstr())"
   ]
  },
  {
   "cell_type": "code",
   "execution_count": null,
   "id": "95d2ec4e",
   "metadata": {},
   "outputs": [],
   "source": []
  }
 ],
 "metadata": {
  "kernelspec": {
   "display_name": "Python [conda env:sidechainnetv2] *",
   "language": "python",
   "name": "conda-env-sidechainnetv2-py"
  },
  "language_info": {
   "codemirror_mode": {
    "name": "ipython",
    "version": 3
   },
   "file_extension": ".py",
   "mimetype": "text/x-python",
   "name": "python",
   "nbconvert_exporter": "python",
   "pygments_lexer": "ipython3",
   "version": "3.8.12"
  }
 },
 "nbformat": 4,
 "nbformat_minor": 5
}
