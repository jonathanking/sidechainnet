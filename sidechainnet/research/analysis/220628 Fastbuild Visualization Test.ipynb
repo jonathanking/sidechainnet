{
 "cells": [
  {
   "cell_type": "code",
   "execution_count": 1,
   "id": "e94bbeea",
   "metadata": {
    "code_folding": [
     6
    ]
   },
   "outputs": [
    {
     "data": {
      "text/plain": [
       "SCNProtein(1A38_2_P, len=5, missing=0, split='train')"
      ]
     },
     "execution_count": 1,
     "metadata": {},
     "output_type": "execute_result"
    }
   ],
   "source": [
    "import sidechainnet as scn\n",
    "from sidechainnet.dataloaders.SCNProtein import SCNProtein\n",
    "import numpy as np\n",
    "nan = np.nan\n",
    "import torch\n",
    "\n",
    "def get_p():\n",
    "    # Below uses the new measurement methodology\n",
    "    angles = torch.tensor([\n",
    "        [nan, 2.9864, 3.1411, 1.8979, 2.0560, 2.1353, np.deg2rad(-109.5), -2.9177, -0.0954, nan, nan, nan],\n",
    "        [-2.2205, -2.7720, 3.1174, 1.9913, 2.0165, 2.1277, 1.9315, 1.3732, 2.8204, -1.2943, nan, nan],\n",
    "        [-1.8046, 2.6789, -3.0887, 1.8948, 2.0197, 2.1358, 2.3525, -2.9406, -1.0214, nan, nan, nan],\n",
    "        [-2.6590, 2.7039, 3.0630, 1.9808, 2.0562, 2.1439, 1.5275, 3.0964, 1.1357, -3.0276, nan, nan],\n",
    "        [-2.6066, -0.7829, nan, 1.9416, nan, nan, 1.5148, -3.0244, -2.8980, -0.4080, nan, nan]\n",
    "        ], dtype=torch.float64)\n",
    "    coordinates = torch.tensor([\n",
    "        [  9.1920,  64.2680,   3.3370],\n",
    "        [ 10.0050,  64.7540,   2.1820],\n",
    "        [  9.9800,  63.6780,   1.0680],\n",
    "        [  9.4220,  62.6010,   1.2670],\n",
    "        [ 11.4280,  65.0700,   2.6870],\n",
    "        [ 12.3400,  65.8630,   1.7450],\n",
    "        [ 12.0780,  66.2460,   0.4450],\n",
    "        [ 13.1990,  66.8160,  -0.1220],\n",
    "        [ 14.2060,  66.8290,   0.8060],\n",
    "        [ 15.5160,  67.3040,   0.7030],\n",
    "        [ 16.3170,  67.1960,   1.8120],\n",
    "        [ 15.8440,  66.6310,   3.0130],\n",
    "        [ 14.5450,  66.1570,   3.1180],\n",
    "        [ 13.7010,  66.2500,   2.0000],\n",
    "        [ 10.4980,  63.9990,  -0.1190],\n",
    "        [ 10.5270,  63.0540,  -1.2470],\n",
    "        [ 11.9230,  62.8670,  -1.8760],\n",
    "        [ 12.9590,  63.1150,  -1.2480],\n",
    "        [  9.5600,  63.5110,  -2.3470],\n",
    "        [ 10.0530,  64.6440,  -3.2600],\n",
    "        [  9.2350,  64.6880,  -4.5400],\n",
    "        [ 10.0250,  65.9760,  -2.5330],\n",
    "        [     nan,      nan,      nan],\n",
    "        [     nan,      nan,      nan],\n",
    "        [     nan,      nan,      nan],\n",
    "        [     nan,      nan,      nan],\n",
    "        [     nan,      nan,      nan],\n",
    "        [     nan,      nan,      nan],\n",
    "        [ 11.9330,  62.3970,  -3.1190],\n",
    "        [ 13.1700,  62.1960,  -3.8540],\n",
    "        [ 13.3270,  63.3330,  -4.8620],\n",
    "        [ 12.3410,  63.8710,  -5.3730],\n",
    "        [ 13.1600,  60.8410,  -4.5590],\n",
    "        [ 14.5210,  60.4570,  -5.1070],\n",
    "        [ 15.0780,  61.2080,  -5.9300],\n",
    "        [ 15.0360,  59.3880,  -4.7290],\n",
    "        [     nan,      nan,      nan],\n",
    "        [     nan,      nan,      nan],\n",
    "        [     nan,      nan,      nan],\n",
    "        [     nan,      nan,      nan],\n",
    "        [     nan,      nan,      nan],\n",
    "        [     nan,      nan,      nan],\n",
    "        [ 14.5730,  63.6250,  -5.2110],\n",
    "        [ 14.8940,  64.7260,  -6.1130],\n",
    "        [ 16.2100,  64.5090,  -6.9120],\n",
    "        [ 17.0660,  63.7270,  -6.4870],\n",
    "        [ 15.0310,  65.9650,  -5.2130],\n",
    "        [ 15.4200,  67.3410,  -5.7340],\n",
    "        [ 14.3060,  67.7890,  -6.6420],\n",
    "        [ 15.6320,  68.3370,  -4.5770],\n",
    "        [     nan,      nan,      nan],\n",
    "        [     nan,      nan,      nan],\n",
    "        [     nan,      nan,      nan],\n",
    "        [     nan,      nan,      nan],\n",
    "        [     nan,      nan,      nan],\n",
    "        [     nan,      nan,      nan],\n",
    "        [ 16.3420,  65.1450,  -8.0830],\n",
    "        [ 17.5860,  65.0960,  -8.8890],\n",
    "        [ 17.7800,  66.3900,  -9.6920],\n",
    "        [ 16.7950,  66.8630, -10.2970],\n",
    "        [ 17.6770,  63.8950,  -9.8520],\n",
    "        [ 19.0770,  63.8170, -10.5390],\n",
    "        [ 19.1590,  62.8800, -11.7410],\n",
    "        [ 18.3380,  61.9500, -11.8410],\n",
    "        [ 20.0600,  63.0720, -12.5890],\n",
    "        [     nan,      nan,      nan],\n",
    "        [     nan,      nan,      nan],\n",
    "        [     nan,      nan,      nan],\n",
    "        [     nan,      nan,      nan],\n",
    "        [     nan,      nan,      nan]], dtype=torch.float64)\n",
    "    p = SCNProtein(\n",
    "        coordinates=coordinates,\n",
    "        angles=angles,\n",
    "        sequence=\"WLDLE\",\n",
    "        mask=\"+++++\",\n",
    "        id=\"1A38_2_P\",\n",
    "        split=\"train\"\n",
    "    )\n",
    "    p.torch()\n",
    "    return p\n",
    "\n",
    "\n",
    "p = get_p()\n",
    "p"
   ]
  },
  {
   "cell_type": "code",
   "execution_count": 2,
   "id": "511627a1",
   "metadata": {},
   "outputs": [],
   "source": [
    "# coords = p.fastbuild()\n",
    "# p.coords = coords\n",
    "# coords.shape\n"
   ]
  },
  {
   "cell_type": "code",
   "execution_count": 3,
   "id": "e462071f",
   "metadata": {},
   "outputs": [],
   "source": [
    "# p.mask = '-' + p.mask[1:]\n",
    "# print(p.mask)\n",
    "# p.trim_edges()\n",
    "# print(p.mask)\n",
    "# # p.coords = coords[1:]"
   ]
  },
  {
   "cell_type": "code",
   "execution_count": 4,
   "id": "e3a418d8",
   "metadata": {},
   "outputs": [],
   "source": [
    "p.coords = p.coords.reshape(5, 14, 3)"
   ]
  },
  {
   "cell_type": "code",
   "execution_count": 5,
   "id": "b07e77a7",
   "metadata": {},
   "outputs": [
    {
     "data": {
      "text/plain": [
       "'WLDLE'"
      ]
     },
     "execution_count": 5,
     "metadata": {},
     "output_type": "execute_result"
    }
   ],
   "source": [
    "p.seq"
   ]
  },
  {
   "cell_type": "code",
   "execution_count": 6,
   "id": "f534d7ae",
   "metadata": {},
   "outputs": [
    {
     "data": {
      "application/3dmoljs_load.v0": "<div id=\"3dmolviewer_16577523168407211\"  style=\"position: relative; width: 640px; height: 480px\">\n        <p id=\"3dmolwarning_16577523168407211\" style=\"background-color:#ffcccc;color:black\">You appear to be running in JupyterLab (or JavaScript failed to load for some other reason).  You need to install the 3dmol extension: <br>\n        <tt>jupyter labextension install jupyterlab_3dmol</tt></p>\n        </div>\n<script>\n\nvar loadScriptAsync = function(uri){\n  return new Promise((resolve, reject) => {\n    var tag = document.createElement('script');\n    tag.src = uri;\n    tag.async = true;\n    tag.onload = () => {\n      resolve();\n    };\n  var firstScriptTag = document.getElementsByTagName('script')[0];\n  firstScriptTag.parentNode.insertBefore(tag, firstScriptTag);\n});\n};\n\nif(typeof $3Dmolpromise === 'undefined') {\n$3Dmolpromise = null;\n  $3Dmolpromise = loadScriptAsync('https://3dmol.org/build/3Dmol.js');\n}\n\nvar viewer_16577523168407211 = null;\nvar warn = document.getElementById(\"3dmolwarning_16577523168407211\");\nif(warn) {\n    warn.parentNode.removeChild(warn);\n}\n$3Dmolpromise.then(function() {\nviewer_16577523168407211 = $3Dmol.createViewer($(\"#3dmolviewer_16577523168407211\"),{backgroundColor:\"white\"});\nviewer_16577523168407211.zoomTo();\n\tviewer_16577523168407211.addModel(\"REMARK  pred\\nSEQRES   1 A    5  TRP LEU ASP LEU GLU                                          \\nATOM      1  N   TRP A   1       9.192  64.268   3.337  1.00  0.00           N  \\nATOM      2  CA  TRP A   1      10.005  64.754   2.182  1.00  0.00           C  \\nATOM      3  C   TRP A   1       9.980  63.678   1.068  1.00  0.00           C  \\nATOM      4  O   TRP A   1       9.422  62.601   1.267  1.00  0.00           O  \\nATOM      5  CB  TRP A   1      11.428  65.070   2.687  1.00  0.00           C  \\nATOM      6  CG  TRP A   1      12.340  65.863   1.745  1.00  0.00           C  \\nATOM      7 CD1  TRP A   1      12.078  66.246   0.445  1.00  0.00           C  \\nATOM      8 NE1  TRP A   1      13.199  66.816  -0.122  1.00  0.00           N  \\nATOM      9 CE2  TRP A   1      14.206  66.829   0.806  1.00  0.00           C  \\nATOM     10 CZ2  TRP A   1      15.516  67.304   0.703  1.00  0.00           C  \\nATOM     11 CH2  TRP A   1      16.317  67.196   1.812  1.00  0.00           C  \\nATOM     12 CZ3  TRP A   1      15.844  66.631   3.013  1.00  0.00           C  \\nATOM     13 CE3  TRP A   1      14.545  66.157   3.118  1.00  0.00           C  \\nATOM     14 CD2  TRP A   1      13.701  66.250   2.000  1.00  0.00           C  \\nATOM     15  N   LEU A   2      10.498  63.999  -0.119  1.00  0.00           N  \\nATOM     16  CA  LEU A   2      10.527  63.054  -1.247  1.00  0.00           C  \\nATOM     17  C   LEU A   2      11.923  62.867  -1.876  1.00  0.00           C  \\nATOM     18  O   LEU A   2      12.959  63.115  -1.248  1.00  0.00           O  \\nATOM     19  CB  LEU A   2       9.560  63.511  -2.347  1.00  0.00           C  \\nATOM     20  CG  LEU A   2      10.053  64.644  -3.260  1.00  0.00           C  \\nATOM     21 CD1  LEU A   2       9.235  64.688  -4.540  1.00  0.00           C  \\nATOM     22 CD2  LEU A   2      10.025  65.976  -2.533  1.00  0.00           C  \\nATOM     23  N   ASP A   3      11.933  62.397  -3.119  1.00  0.00           N  \\nATOM     24  CA  ASP A   3      13.170  62.196  -3.854  1.00  0.00           C  \\nATOM     25  C   ASP A   3      13.327  63.333  -4.862  1.00  0.00           C  \\nATOM     26  O   ASP A   3      12.341  63.871  -5.373  1.00  0.00           O  \\nATOM     27  CB  ASP A   3      13.160  60.841  -4.559  1.00  0.00           C  \\nATOM     28  CG  ASP A   3      14.521  60.457  -5.107  1.00  0.00           C  \\nATOM     29 OD1  ASP A   3      15.078  61.208  -5.930  1.00  0.00           O  \\nATOM     30 OD2  ASP A   3      15.036  59.388  -4.729  1.00  0.00           O  \\nATOM     31  N   LEU A   4      14.573  63.625  -5.211  1.00  0.00           N  \\nATOM     32  CA  LEU A   4      14.894  64.726  -6.113  1.00  0.00           C  \\nATOM     33  C   LEU A   4      16.210  64.509  -6.912  1.00  0.00           C  \\nATOM     34  O   LEU A   4      17.066  63.727  -6.487  1.00  0.00           O  \\nATOM     35  CB  LEU A   4      15.031  65.965  -5.213  1.00  0.00           C  \\nATOM     36  CG  LEU A   4      15.420  67.341  -5.734  1.00  0.00           C  \\nATOM     37 CD1  LEU A   4      14.306  67.789  -6.642  1.00  0.00           C  \\nATOM     38 CD2  LEU A   4      15.632  68.337  -4.577  1.00  0.00           C  \\nATOM     39  N   GLU A   5      16.342  65.145  -8.083  1.00  0.00           N  \\nATOM     40  CA  GLU A   5      17.586  65.096  -8.889  1.00  0.00           C  \\nATOM     41  C   GLU A   5      17.780  66.390  -9.692  1.00  0.00           C  \\nATOM     42  O   GLU A   5      16.795  66.863 -10.297  1.00  0.00           O  \\nATOM     43  CB  GLU A   5      17.677  63.895  -9.852  1.00  0.00           C  \\nATOM     44  CG  GLU A   5      19.077  63.817 -10.539  1.00  0.00           C  \\nATOM     45  CD  GLU A   5      19.159  62.880 -11.741  1.00  0.00           C  \\nATOM     46 OE1  GLU A   5      18.338  61.950 -11.841  1.00  0.00           O  \\nATOM     47 OE2  GLU A   5      20.060  63.072 -12.589  1.00  0.00           O  \\nTER\\nEND          \\n\",\"pdb\",{\"keepH\": true});\n\tviewer_16577523168407211.setStyle({\"cartoon\": {\"color\": \"spectrum\"}, \"stick\": {\"radius\": 0.15}});\n\tviewer_16577523168407211.zoomTo();\nviewer_16577523168407211.render();\n});\n</script>",
      "text/html": [
       "<div id=\"3dmolviewer_16577523168407211\"  style=\"position: relative; width: 640px; height: 480px\">\n",
       "        <p id=\"3dmolwarning_16577523168407211\" style=\"background-color:#ffcccc;color:black\">You appear to be running in JupyterLab (or JavaScript failed to load for some other reason).  You need to install the 3dmol extension: <br>\n",
       "        <tt>jupyter labextension install jupyterlab_3dmol</tt></p>\n",
       "        </div>\n",
       "<script>\n",
       "\n",
       "var loadScriptAsync = function(uri){\n",
       "  return new Promise((resolve, reject) => {\n",
       "    var tag = document.createElement('script');\n",
       "    tag.src = uri;\n",
       "    tag.async = true;\n",
       "    tag.onload = () => {\n",
       "      resolve();\n",
       "    };\n",
       "  var firstScriptTag = document.getElementsByTagName('script')[0];\n",
       "  firstScriptTag.parentNode.insertBefore(tag, firstScriptTag);\n",
       "});\n",
       "};\n",
       "\n",
       "if(typeof $3Dmolpromise === 'undefined') {\n",
       "$3Dmolpromise = null;\n",
       "  $3Dmolpromise = loadScriptAsync('https://3dmol.org/build/3Dmol.js');\n",
       "}\n",
       "\n",
       "var viewer_16577523168407211 = null;\n",
       "var warn = document.getElementById(\"3dmolwarning_16577523168407211\");\n",
       "if(warn) {\n",
       "    warn.parentNode.removeChild(warn);\n",
       "}\n",
       "$3Dmolpromise.then(function() {\n",
       "viewer_16577523168407211 = $3Dmol.createViewer($(\"#3dmolviewer_16577523168407211\"),{backgroundColor:\"white\"});\n",
       "viewer_16577523168407211.zoomTo();\n",
       "\tviewer_16577523168407211.addModel(\"REMARK  pred\\nSEQRES   1 A    5  TRP LEU ASP LEU GLU                                          \\nATOM      1  N   TRP A   1       9.192  64.268   3.337  1.00  0.00           N  \\nATOM      2  CA  TRP A   1      10.005  64.754   2.182  1.00  0.00           C  \\nATOM      3  C   TRP A   1       9.980  63.678   1.068  1.00  0.00           C  \\nATOM      4  O   TRP A   1       9.422  62.601   1.267  1.00  0.00           O  \\nATOM      5  CB  TRP A   1      11.428  65.070   2.687  1.00  0.00           C  \\nATOM      6  CG  TRP A   1      12.340  65.863   1.745  1.00  0.00           C  \\nATOM      7 CD1  TRP A   1      12.078  66.246   0.445  1.00  0.00           C  \\nATOM      8 NE1  TRP A   1      13.199  66.816  -0.122  1.00  0.00           N  \\nATOM      9 CE2  TRP A   1      14.206  66.829   0.806  1.00  0.00           C  \\nATOM     10 CZ2  TRP A   1      15.516  67.304   0.703  1.00  0.00           C  \\nATOM     11 CH2  TRP A   1      16.317  67.196   1.812  1.00  0.00           C  \\nATOM     12 CZ3  TRP A   1      15.844  66.631   3.013  1.00  0.00           C  \\nATOM     13 CE3  TRP A   1      14.545  66.157   3.118  1.00  0.00           C  \\nATOM     14 CD2  TRP A   1      13.701  66.250   2.000  1.00  0.00           C  \\nATOM     15  N   LEU A   2      10.498  63.999  -0.119  1.00  0.00           N  \\nATOM     16  CA  LEU A   2      10.527  63.054  -1.247  1.00  0.00           C  \\nATOM     17  C   LEU A   2      11.923  62.867  -1.876  1.00  0.00           C  \\nATOM     18  O   LEU A   2      12.959  63.115  -1.248  1.00  0.00           O  \\nATOM     19  CB  LEU A   2       9.560  63.511  -2.347  1.00  0.00           C  \\nATOM     20  CG  LEU A   2      10.053  64.644  -3.260  1.00  0.00           C  \\nATOM     21 CD1  LEU A   2       9.235  64.688  -4.540  1.00  0.00           C  \\nATOM     22 CD2  LEU A   2      10.025  65.976  -2.533  1.00  0.00           C  \\nATOM     23  N   ASP A   3      11.933  62.397  -3.119  1.00  0.00           N  \\nATOM     24  CA  ASP A   3      13.170  62.196  -3.854  1.00  0.00           C  \\nATOM     25  C   ASP A   3      13.327  63.333  -4.862  1.00  0.00           C  \\nATOM     26  O   ASP A   3      12.341  63.871  -5.373  1.00  0.00           O  \\nATOM     27  CB  ASP A   3      13.160  60.841  -4.559  1.00  0.00           C  \\nATOM     28  CG  ASP A   3      14.521  60.457  -5.107  1.00  0.00           C  \\nATOM     29 OD1  ASP A   3      15.078  61.208  -5.930  1.00  0.00           O  \\nATOM     30 OD2  ASP A   3      15.036  59.388  -4.729  1.00  0.00           O  \\nATOM     31  N   LEU A   4      14.573  63.625  -5.211  1.00  0.00           N  \\nATOM     32  CA  LEU A   4      14.894  64.726  -6.113  1.00  0.00           C  \\nATOM     33  C   LEU A   4      16.210  64.509  -6.912  1.00  0.00           C  \\nATOM     34  O   LEU A   4      17.066  63.727  -6.487  1.00  0.00           O  \\nATOM     35  CB  LEU A   4      15.031  65.965  -5.213  1.00  0.00           C  \\nATOM     36  CG  LEU A   4      15.420  67.341  -5.734  1.00  0.00           C  \\nATOM     37 CD1  LEU A   4      14.306  67.789  -6.642  1.00  0.00           C  \\nATOM     38 CD2  LEU A   4      15.632  68.337  -4.577  1.00  0.00           C  \\nATOM     39  N   GLU A   5      16.342  65.145  -8.083  1.00  0.00           N  \\nATOM     40  CA  GLU A   5      17.586  65.096  -8.889  1.00  0.00           C  \\nATOM     41  C   GLU A   5      17.780  66.390  -9.692  1.00  0.00           C  \\nATOM     42  O   GLU A   5      16.795  66.863 -10.297  1.00  0.00           O  \\nATOM     43  CB  GLU A   5      17.677  63.895  -9.852  1.00  0.00           C  \\nATOM     44  CG  GLU A   5      19.077  63.817 -10.539  1.00  0.00           C  \\nATOM     45  CD  GLU A   5      19.159  62.880 -11.741  1.00  0.00           C  \\nATOM     46 OE1  GLU A   5      18.338  61.950 -11.841  1.00  0.00           O  \\nATOM     47 OE2  GLU A   5      20.060  63.072 -12.589  1.00  0.00           O  \\nTER\\nEND          \\n\",\"pdb\",{\"keepH\": true});\n",
       "\tviewer_16577523168407211.setStyle({\"cartoon\": {\"color\": \"spectrum\"}, \"stick\": {\"radius\": 0.15}});\n",
       "\tviewer_16577523168407211.zoomTo();\n",
       "viewer_16577523168407211.render();\n",
       "});\n",
       "</script>"
      ]
     },
     "metadata": {},
     "output_type": "display_data"
    },
    {
     "data": {
      "text/plain": [
       "<py3Dmol.view at 0x7f686c4a2eb0>"
      ]
     },
     "execution_count": 6,
     "metadata": {},
     "output_type": "execute_result"
    }
   ],
   "source": [
    "# p.to_pdb(\"/home/jok120/Downloads/ref00.pdb\", title='reference')\n",
    "p.to_3Dmol()"
   ]
  },
  {
   "cell_type": "code",
   "execution_count": 7,
   "id": "4c5918a4",
   "metadata": {},
   "outputs": [],
   "source": [
    "p.angles[0,6] = np.deg2rad(-109.5)"
   ]
  },
  {
   "cell_type": "code",
   "execution_count": 8,
   "id": "65614f04",
   "metadata": {},
   "outputs": [
    {
     "data": {
      "application/3dmoljs_load.v0": "<div id=\"3dmolviewer_16577523179144976\"  style=\"position: relative; width: 640px; height: 480px\">\n        <p id=\"3dmolwarning_16577523179144976\" style=\"background-color:#ffcccc;color:black\">You appear to be running in JupyterLab (or JavaScript failed to load for some other reason).  You need to install the 3dmol extension: <br>\n        <tt>jupyter labextension install jupyterlab_3dmol</tt></p>\n        </div>\n<script>\n\nvar loadScriptAsync = function(uri){\n  return new Promise((resolve, reject) => {\n    var tag = document.createElement('script');\n    tag.src = uri;\n    tag.async = true;\n    tag.onload = () => {\n      resolve();\n    };\n  var firstScriptTag = document.getElementsByTagName('script')[0];\n  firstScriptTag.parentNode.insertBefore(tag, firstScriptTag);\n});\n};\n\nif(typeof $3Dmolpromise === 'undefined') {\n$3Dmolpromise = null;\n  $3Dmolpromise = loadScriptAsync('https://3dmol.org/build/3Dmol.js');\n}\n\nvar viewer_16577523179144976 = null;\nvar warn = document.getElementById(\"3dmolwarning_16577523179144976\");\nif(warn) {\n    warn.parentNode.removeChild(warn);\n}\n$3Dmolpromise.then(function() {\nviewer_16577523179144976 = $3Dmol.createViewer($(\"#3dmolviewer_16577523179144976\"),{backgroundColor:\"white\"});\nviewer_16577523179144976.zoomTo();\n\tviewer_16577523179144976.addModel(\"REMARK  pred\\nSEQRES   1 A    5  TRP LEU ASP LEU GLU                                          \\nATOM      1  N   TRP A   1       0.000   0.000   0.000  1.00  0.00           N  \\nATOM      2  CA  TRP A   1       1.442  -0.000  -0.000  1.00  0.00           C  \\nATOM      3  C   TRP A   1       1.923   1.419   0.000  1.00  0.00           C  \\nATOM      4  O   TRP A   1       1.125   2.338  -0.165  1.00  0.00           O  \\nATOM      5  N   LEU A   2       3.271   1.640   0.189  1.00  0.00           N  \\nATOM      6  CA  LEU A   2       3.840   2.965   0.206  1.00  0.00           C  \\nATOM      7  C   LEU A   2       4.991   3.149  -0.735  1.00  0.00           C  \\nATOM      8  O   LEU A   2       5.132   2.388  -1.690  1.00  0.00           O  \\nATOM      9  CB  LEU A   2       4.306   3.307   1.618  1.00  0.00           C  \\nATOM     10  CG  LEU A   2       5.644   2.626   1.891  1.00  0.00           C  \\nATOM     11 CD1  LEU A   2       6.328   3.304   3.076  1.00  0.00           C  \\nATOM     12 CD2  LEU A   2       5.421   1.133   2.110  1.00  0.00           C  \\nATOM     13  N   ASP A   3       5.836   4.199  -0.444  1.00  0.00           N  \\nATOM     14  CA  ASP A   3       7.003   4.483  -1.241  1.00  0.00           C  \\nATOM     15  C   ASP A   3       8.214   4.002  -0.502  1.00  0.00           C  \\nATOM     16  O   ASP A   3       8.196   3.929   0.725  1.00  0.00           O  \\nATOM     17  CB  ASP A   3       7.083   5.981  -1.522  1.00  0.00           C  \\nATOM     18  CG  ASP A   3       8.130   6.284  -2.584  1.00  0.00           C  \\nATOM     19 OD1  ASP A   3       9.302   5.921  -2.346  1.00  0.00           O  \\nATOM     20 OD2  ASP A   3       7.738   6.873  -3.615  1.00  0.00           O  \\nATOM     21  N   LEU A   4       9.298   3.665  -1.284  1.00  0.00           N  \\nATOM     22  CA  LEU A   4      10.514   3.126  -0.728  1.00  0.00           C  \\nATOM     23  C   LEU A   4      11.732   3.429  -1.546  1.00  0.00           C  \\nATOM     24  O   LEU A   4      11.623   3.651  -2.750  1.00  0.00           O  \\nATOM     25  CB  LEU A   4      10.402   1.608  -0.622  1.00  0.00           C  \\nATOM     26  CG  LEU A   4      11.715   1.036  -0.092  1.00  0.00           C  \\nATOM     27 CD1  LEU A   4      11.943   1.522   1.336  1.00  0.00           C  \\nATOM     28 CD2  LEU A   4      11.662  -0.489  -0.139  1.00  0.00           C  \\nATOM     29  N   GLU A   5      12.951   3.448  -0.903  1.00  0.00           N  \\nATOM     30  CA  GLU A   5      14.200   3.634  -1.599  1.00  0.00           C  \\nATOM     31  C   GLU A   5      15.320   2.920  -0.906  1.00  0.00           C  \\nATOM     32  O   GLU A   5      16.123   2.257  -1.559  1.00  0.00           O  \\nTER\\nEND          \\n\",\"pdb\",{\"keepH\": true});\n\tviewer_16577523179144976.setStyle({\"cartoon\": {\"color\": \"spectrum\"}, \"stick\": {\"radius\": 0.15}});\n\tviewer_16577523179144976.zoomTo();\nviewer_16577523179144976.render();\n});\n</script>",
      "text/html": [
       "<div id=\"3dmolviewer_16577523179144976\"  style=\"position: relative; width: 640px; height: 480px\">\n",
       "        <p id=\"3dmolwarning_16577523179144976\" style=\"background-color:#ffcccc;color:black\">You appear to be running in JupyterLab (or JavaScript failed to load for some other reason).  You need to install the 3dmol extension: <br>\n",
       "        <tt>jupyter labextension install jupyterlab_3dmol</tt></p>\n",
       "        </div>\n",
       "<script>\n",
       "\n",
       "var loadScriptAsync = function(uri){\n",
       "  return new Promise((resolve, reject) => {\n",
       "    var tag = document.createElement('script');\n",
       "    tag.src = uri;\n",
       "    tag.async = true;\n",
       "    tag.onload = () => {\n",
       "      resolve();\n",
       "    };\n",
       "  var firstScriptTag = document.getElementsByTagName('script')[0];\n",
       "  firstScriptTag.parentNode.insertBefore(tag, firstScriptTag);\n",
       "});\n",
       "};\n",
       "\n",
       "if(typeof $3Dmolpromise === 'undefined') {\n",
       "$3Dmolpromise = null;\n",
       "  $3Dmolpromise = loadScriptAsync('https://3dmol.org/build/3Dmol.js');\n",
       "}\n",
       "\n",
       "var viewer_16577523179144976 = null;\n",
       "var warn = document.getElementById(\"3dmolwarning_16577523179144976\");\n",
       "if(warn) {\n",
       "    warn.parentNode.removeChild(warn);\n",
       "}\n",
       "$3Dmolpromise.then(function() {\n",
       "viewer_16577523179144976 = $3Dmol.createViewer($(\"#3dmolviewer_16577523179144976\"),{backgroundColor:\"white\"});\n",
       "viewer_16577523179144976.zoomTo();\n",
       "\tviewer_16577523179144976.addModel(\"REMARK  pred\\nSEQRES   1 A    5  TRP LEU ASP LEU GLU                                          \\nATOM      1  N   TRP A   1       0.000   0.000   0.000  1.00  0.00           N  \\nATOM      2  CA  TRP A   1       1.442  -0.000  -0.000  1.00  0.00           C  \\nATOM      3  C   TRP A   1       1.923   1.419   0.000  1.00  0.00           C  \\nATOM      4  O   TRP A   1       1.125   2.338  -0.165  1.00  0.00           O  \\nATOM      5  N   LEU A   2       3.271   1.640   0.189  1.00  0.00           N  \\nATOM      6  CA  LEU A   2       3.840   2.965   0.206  1.00  0.00           C  \\nATOM      7  C   LEU A   2       4.991   3.149  -0.735  1.00  0.00           C  \\nATOM      8  O   LEU A   2       5.132   2.388  -1.690  1.00  0.00           O  \\nATOM      9  CB  LEU A   2       4.306   3.307   1.618  1.00  0.00           C  \\nATOM     10  CG  LEU A   2       5.644   2.626   1.891  1.00  0.00           C  \\nATOM     11 CD1  LEU A   2       6.328   3.304   3.076  1.00  0.00           C  \\nATOM     12 CD2  LEU A   2       5.421   1.133   2.110  1.00  0.00           C  \\nATOM     13  N   ASP A   3       5.836   4.199  -0.444  1.00  0.00           N  \\nATOM     14  CA  ASP A   3       7.003   4.483  -1.241  1.00  0.00           C  \\nATOM     15  C   ASP A   3       8.214   4.002  -0.502  1.00  0.00           C  \\nATOM     16  O   ASP A   3       8.196   3.929   0.725  1.00  0.00           O  \\nATOM     17  CB  ASP A   3       7.083   5.981  -1.522  1.00  0.00           C  \\nATOM     18  CG  ASP A   3       8.130   6.284  -2.584  1.00  0.00           C  \\nATOM     19 OD1  ASP A   3       9.302   5.921  -2.346  1.00  0.00           O  \\nATOM     20 OD2  ASP A   3       7.738   6.873  -3.615  1.00  0.00           O  \\nATOM     21  N   LEU A   4       9.298   3.665  -1.284  1.00  0.00           N  \\nATOM     22  CA  LEU A   4      10.514   3.126  -0.728  1.00  0.00           C  \\nATOM     23  C   LEU A   4      11.732   3.429  -1.546  1.00  0.00           C  \\nATOM     24  O   LEU A   4      11.623   3.651  -2.750  1.00  0.00           O  \\nATOM     25  CB  LEU A   4      10.402   1.608  -0.622  1.00  0.00           C  \\nATOM     26  CG  LEU A   4      11.715   1.036  -0.092  1.00  0.00           C  \\nATOM     27 CD1  LEU A   4      11.943   1.522   1.336  1.00  0.00           C  \\nATOM     28 CD2  LEU A   4      11.662  -0.489  -0.139  1.00  0.00           C  \\nATOM     29  N   GLU A   5      12.951   3.448  -0.903  1.00  0.00           N  \\nATOM     30  CA  GLU A   5      14.200   3.634  -1.599  1.00  0.00           C  \\nATOM     31  C   GLU A   5      15.320   2.920  -0.906  1.00  0.00           C  \\nATOM     32  O   GLU A   5      16.123   2.257  -1.559  1.00  0.00           O  \\nTER\\nEND          \\n\",\"pdb\",{\"keepH\": true});\n",
       "\tviewer_16577523179144976.setStyle({\"cartoon\": {\"color\": \"spectrum\"}, \"stick\": {\"radius\": 0.15}});\n",
       "\tviewer_16577523179144976.zoomTo();\n",
       "viewer_16577523179144976.render();\n",
       "});\n",
       "</script>"
      ]
     },
     "metadata": {},
     "output_type": "display_data"
    },
    {
     "data": {
      "text/plain": [
       "<py3Dmol.view at 0x7f6870d3bee0>"
      ]
     },
     "execution_count": 8,
     "metadata": {},
     "output_type": "execute_result"
    }
   ],
   "source": [
    "p.sb = None\n",
    "coords = p.fastbuild()\n",
    "p.coords = coords\n",
    "\n",
    "p.to_3Dmol()\n"
   ]
  },
  {
   "cell_type": "code",
   "execution_count": 9,
   "id": "bb5f0fe2",
   "metadata": {},
   "outputs": [],
   "source": [
    "# p.coords"
   ]
  },
  {
   "cell_type": "code",
   "execution_count": 10,
   "id": "f66ca580",
   "metadata": {},
   "outputs": [
    {
     "data": {
      "text/plain": [
       "torch.Size([5, 29, 3])"
      ]
     },
     "execution_count": 10,
     "metadata": {},
     "output_type": "execute_result"
    }
   ],
   "source": [
    "hcoords = p.fastbuild(add_hydrogens=True)\n",
    "p.coords = hcoords\n",
    "p.hcoords = hcoords\n",
    "p.has_hydrogens=True\n",
    "p.coords.shape"
   ]
  },
  {
   "cell_type": "code",
   "execution_count": 11,
   "id": "649141c8",
   "metadata": {},
   "outputs": [
    {
     "data": {
      "application/3dmoljs_load.v0": "<div id=\"3dmolviewer_16577523229234629\"  style=\"position: relative; width: 640px; height: 480px\">\n        <p id=\"3dmolwarning_16577523229234629\" style=\"background-color:#ffcccc;color:black\">You appear to be running in JupyterLab (or JavaScript failed to load for some other reason).  You need to install the 3dmol extension: <br>\n        <tt>jupyter labextension install jupyterlab_3dmol</tt></p>\n        </div>\n<script>\n\nvar loadScriptAsync = function(uri){\n  return new Promise((resolve, reject) => {\n    var tag = document.createElement('script');\n    tag.src = uri;\n    tag.async = true;\n    tag.onload = () => {\n      resolve();\n    };\n  var firstScriptTag = document.getElementsByTagName('script')[0];\n  firstScriptTag.parentNode.insertBefore(tag, firstScriptTag);\n});\n};\n\nif(typeof $3Dmolpromise === 'undefined') {\n$3Dmolpromise = null;\n  $3Dmolpromise = loadScriptAsync('https://3dmol.org/build/3Dmol.js');\n}\n\nvar viewer_16577523229234629 = null;\nvar warn = document.getElementById(\"3dmolwarning_16577523229234629\");\nif(warn) {\n    warn.parentNode.removeChild(warn);\n}\n$3Dmolpromise.then(function() {\nviewer_16577523229234629 = $3Dmol.createViewer($(\"#3dmolviewer_16577523229234629\"),{backgroundColor:\"white\"});\nviewer_16577523229234629.zoomTo();\n\tviewer_16577523229234629.addModel(\"REMARK  pred\\nSEQRES   1 A    5  TRP LEU ASP LEU GLU                                          \\nATOM      1  N   TRP A   1       0.000   0.000   0.000  1.00  0.00           N  \\nATOM      2  CA  TRP A   1       1.442  -0.000  -0.000  1.00  0.00           C  \\nATOM      3  C   TRP A   1       1.923   1.419   0.000  1.00  0.00           C  \\nATOM      4  O   TRP A   1       1.125   2.338  -0.165  1.00  0.00           O  \\nATOM      5  CB  TRP A   1      -0.505   0.875  -0.000  1.00  0.00           C  \\nATOM      6  CG  TRP A   1      -0.505  -0.875  -0.000  1.00  0.00           C  \\nATOM      7  N   LEU A   2       3.271   1.640   0.189  1.00  0.00           N  \\nATOM      8  CA  LEU A   2       3.840   2.965   0.206  1.00  0.00           C  \\nATOM      9  C   LEU A   2       4.991   3.149  -0.735  1.00  0.00           C  \\nATOM     10  O   LEU A   2       5.132   2.388  -1.690  1.00  0.00           O  \\nATOM     11  CB  LEU A   2       3.898   0.859   0.321  1.00  0.00           C  \\nATOM     12 CD1  LEU A   2       4.306   3.307   1.618  1.00  0.00           C  \\nATOM     13 CD2  LEU A   2       5.644   2.626   1.891  1.00  0.00           C  \\nATOM     14  HA  LEU A   2       6.328   3.304   3.076  1.00  0.00           H  \\nATOM     15 HB2  LEU A   2       5.421   1.133   2.110  1.00  0.00           H  \\nATOM     16 HB3  LEU A   2       3.088   3.688  -0.111  1.00  0.00           H  \\nATOM     17 HD11 LEU A   2       3.567   2.958   2.339  1.00  0.00           H  \\nATOM     18 HD12 LEU A   2       4.422   4.387   1.712  1.00  0.00           H  \\nATOM     19 HD13 LEU A   2       5.697   4.113   3.446  1.00  0.00           H  \\nATOM     20 HD21 LEU A   2       6.485   2.574   3.871  1.00  0.00           H  \\nATOM     21 HD22 LEU A   2       7.289   3.708   2.759  1.00  0.00           H  \\nATOM     22 HD23 LEU A   2       4.359   0.907   2.019  1.00  0.00           H  \\nATOM     23  HG  LEU A   2       5.977   0.568   1.362  1.00  0.00           H  \\nATOM     24  N   ASP A   3       5.836   4.199  -0.444  1.00  0.00           N  \\nATOM     25  CA  ASP A   3       7.003   4.483  -1.241  1.00  0.00           C  \\nATOM     26  C   ASP A   3       8.214   4.002  -0.502  1.00  0.00           C  \\nATOM     27  O   ASP A   3       8.196   3.929   0.725  1.00  0.00           O  \\nATOM     28  CB  ASP A   3       5.644   4.797   0.348  1.00  0.00           C  \\nATOM     29 OD1  ASP A   3       7.083   5.981  -1.522  1.00  0.00           O  \\nATOM     30 OD2  ASP A   3       8.130   6.284  -2.584  1.00  0.00           O  \\nATOM     31 HB2  ASP A   3       9.302   5.921  -2.346  1.00  0.00           H  \\nATOM     32 HB3  ASP A   3       7.738   6.873  -3.615  1.00  0.00           H  \\nATOM     33  N   LEU A   4       9.298   3.665  -1.284  1.00  0.00           N  \\nATOM     34  CA  LEU A   4      10.514   3.126  -0.728  1.00  0.00           C  \\nATOM     35  C   LEU A   4      11.732   3.429  -1.546  1.00  0.00           C  \\nATOM     36  O   LEU A   4      11.623   3.651  -2.750  1.00  0.00           O  \\nATOM     37  CB  LEU A   4       9.258   3.793  -2.285  1.00  0.00           C  \\nATOM     38 CD1  LEU A   4      10.402   1.608  -0.622  1.00  0.00           C  \\nATOM     39 CD2  LEU A   4      11.715   1.036  -0.092  1.00  0.00           C  \\nATOM     40  HA  LEU A   4      11.943   1.522   1.336  1.00  0.00           H  \\nATOM     41 HB2  LEU A   4      11.662  -0.489  -0.139  1.00  0.00           H  \\nATOM     42 HB3  LEU A   4      10.678   3.546   0.265  1.00  0.00           H  \\nATOM     43 HD11 LEU A   4      10.195   1.188  -1.606  1.00  0.00           H  \\nATOM     44 HD12 LEU A   4       9.593   1.349   0.061  1.00  0.00           H  \\nATOM     45 HD13 LEU A   4      11.115   2.163   1.639  1.00  0.00           H  \\nATOM     46 HD21 LEU A   4      12.004   0.665   2.007  1.00  0.00           H  \\nATOM     47 HD22 LEU A   4      12.874   2.087   1.383  1.00  0.00           H  \\nATOM     48 HD23 LEU A   4      10.699  -0.807  -0.539  1.00  0.00           H  \\nATOM     49  HG  LEU A   4      12.462  -0.861  -0.779  1.00  0.00           H  \\nATOM     50  N   GLU A   5      12.951   3.448  -0.903  1.00  0.00           N  \\nATOM     51  CA  GLU A   5      14.200   3.634  -1.599  1.00  0.00           C  \\nATOM     52  C   GLU A   5      15.320   2.920  -0.906  1.00  0.00           C  \\nATOM     53  O   GLU A   5      16.123   2.257  -1.559  1.00  0.00           O  \\nATOM     54  H   GLU A   5      15.435   2.996   0.315  1.00  0.00           H  \\nATOM     55  CB  GLU A   5      12.995   3.329   0.099  1.00  0.00           C  \\nTER\\nEND          \\n\",\"pdb\",{\"keepH\": true});\n\tviewer_16577523229234629.setStyle({\"cartoon\": {\"color\": \"spectrum\"}, \"stick\": {\"radius\": 0.15}});\n\tviewer_16577523229234629.zoomTo();\nviewer_16577523229234629.render();\n});\n</script>",
      "text/html": [
       "<div id=\"3dmolviewer_16577523229234629\"  style=\"position: relative; width: 640px; height: 480px\">\n",
       "        <p id=\"3dmolwarning_16577523229234629\" style=\"background-color:#ffcccc;color:black\">You appear to be running in JupyterLab (or JavaScript failed to load for some other reason).  You need to install the 3dmol extension: <br>\n",
       "        <tt>jupyter labextension install jupyterlab_3dmol</tt></p>\n",
       "        </div>\n",
       "<script>\n",
       "\n",
       "var loadScriptAsync = function(uri){\n",
       "  return new Promise((resolve, reject) => {\n",
       "    var tag = document.createElement('script');\n",
       "    tag.src = uri;\n",
       "    tag.async = true;\n",
       "    tag.onload = () => {\n",
       "      resolve();\n",
       "    };\n",
       "  var firstScriptTag = document.getElementsByTagName('script')[0];\n",
       "  firstScriptTag.parentNode.insertBefore(tag, firstScriptTag);\n",
       "});\n",
       "};\n",
       "\n",
       "if(typeof $3Dmolpromise === 'undefined') {\n",
       "$3Dmolpromise = null;\n",
       "  $3Dmolpromise = loadScriptAsync('https://3dmol.org/build/3Dmol.js');\n",
       "}\n",
       "\n",
       "var viewer_16577523229234629 = null;\n",
       "var warn = document.getElementById(\"3dmolwarning_16577523229234629\");\n",
       "if(warn) {\n",
       "    warn.parentNode.removeChild(warn);\n",
       "}\n",
       "$3Dmolpromise.then(function() {\n",
       "viewer_16577523229234629 = $3Dmol.createViewer($(\"#3dmolviewer_16577523229234629\"),{backgroundColor:\"white\"});\n",
       "viewer_16577523229234629.zoomTo();\n",
       "\tviewer_16577523229234629.addModel(\"REMARK  pred\\nSEQRES   1 A    5  TRP LEU ASP LEU GLU                                          \\nATOM      1  N   TRP A   1       0.000   0.000   0.000  1.00  0.00           N  \\nATOM      2  CA  TRP A   1       1.442  -0.000  -0.000  1.00  0.00           C  \\nATOM      3  C   TRP A   1       1.923   1.419   0.000  1.00  0.00           C  \\nATOM      4  O   TRP A   1       1.125   2.338  -0.165  1.00  0.00           O  \\nATOM      5  CB  TRP A   1      -0.505   0.875  -0.000  1.00  0.00           C  \\nATOM      6  CG  TRP A   1      -0.505  -0.875  -0.000  1.00  0.00           C  \\nATOM      7  N   LEU A   2       3.271   1.640   0.189  1.00  0.00           N  \\nATOM      8  CA  LEU A   2       3.840   2.965   0.206  1.00  0.00           C  \\nATOM      9  C   LEU A   2       4.991   3.149  -0.735  1.00  0.00           C  \\nATOM     10  O   LEU A   2       5.132   2.388  -1.690  1.00  0.00           O  \\nATOM     11  CB  LEU A   2       3.898   0.859   0.321  1.00  0.00           C  \\nATOM     12 CD1  LEU A   2       4.306   3.307   1.618  1.00  0.00           C  \\nATOM     13 CD2  LEU A   2       5.644   2.626   1.891  1.00  0.00           C  \\nATOM     14  HA  LEU A   2       6.328   3.304   3.076  1.00  0.00           H  \\nATOM     15 HB2  LEU A   2       5.421   1.133   2.110  1.00  0.00           H  \\nATOM     16 HB3  LEU A   2       3.088   3.688  -0.111  1.00  0.00           H  \\nATOM     17 HD11 LEU A   2       3.567   2.958   2.339  1.00  0.00           H  \\nATOM     18 HD12 LEU A   2       4.422   4.387   1.712  1.00  0.00           H  \\nATOM     19 HD13 LEU A   2       5.697   4.113   3.446  1.00  0.00           H  \\nATOM     20 HD21 LEU A   2       6.485   2.574   3.871  1.00  0.00           H  \\nATOM     21 HD22 LEU A   2       7.289   3.708   2.759  1.00  0.00           H  \\nATOM     22 HD23 LEU A   2       4.359   0.907   2.019  1.00  0.00           H  \\nATOM     23  HG  LEU A   2       5.977   0.568   1.362  1.00  0.00           H  \\nATOM     24  N   ASP A   3       5.836   4.199  -0.444  1.00  0.00           N  \\nATOM     25  CA  ASP A   3       7.003   4.483  -1.241  1.00  0.00           C  \\nATOM     26  C   ASP A   3       8.214   4.002  -0.502  1.00  0.00           C  \\nATOM     27  O   ASP A   3       8.196   3.929   0.725  1.00  0.00           O  \\nATOM     28  CB  ASP A   3       5.644   4.797   0.348  1.00  0.00           C  \\nATOM     29 OD1  ASP A   3       7.083   5.981  -1.522  1.00  0.00           O  \\nATOM     30 OD2  ASP A   3       8.130   6.284  -2.584  1.00  0.00           O  \\nATOM     31 HB2  ASP A   3       9.302   5.921  -2.346  1.00  0.00           H  \\nATOM     32 HB3  ASP A   3       7.738   6.873  -3.615  1.00  0.00           H  \\nATOM     33  N   LEU A   4       9.298   3.665  -1.284  1.00  0.00           N  \\nATOM     34  CA  LEU A   4      10.514   3.126  -0.728  1.00  0.00           C  \\nATOM     35  C   LEU A   4      11.732   3.429  -1.546  1.00  0.00           C  \\nATOM     36  O   LEU A   4      11.623   3.651  -2.750  1.00  0.00           O  \\nATOM     37  CB  LEU A   4       9.258   3.793  -2.285  1.00  0.00           C  \\nATOM     38 CD1  LEU A   4      10.402   1.608  -0.622  1.00  0.00           C  \\nATOM     39 CD2  LEU A   4      11.715   1.036  -0.092  1.00  0.00           C  \\nATOM     40  HA  LEU A   4      11.943   1.522   1.336  1.00  0.00           H  \\nATOM     41 HB2  LEU A   4      11.662  -0.489  -0.139  1.00  0.00           H  \\nATOM     42 HB3  LEU A   4      10.678   3.546   0.265  1.00  0.00           H  \\nATOM     43 HD11 LEU A   4      10.195   1.188  -1.606  1.00  0.00           H  \\nATOM     44 HD12 LEU A   4       9.593   1.349   0.061  1.00  0.00           H  \\nATOM     45 HD13 LEU A   4      11.115   2.163   1.639  1.00  0.00           H  \\nATOM     46 HD21 LEU A   4      12.004   0.665   2.007  1.00  0.00           H  \\nATOM     47 HD22 LEU A   4      12.874   2.087   1.383  1.00  0.00           H  \\nATOM     48 HD23 LEU A   4      10.699  -0.807  -0.539  1.00  0.00           H  \\nATOM     49  HG  LEU A   4      12.462  -0.861  -0.779  1.00  0.00           H  \\nATOM     50  N   GLU A   5      12.951   3.448  -0.903  1.00  0.00           N  \\nATOM     51  CA  GLU A   5      14.200   3.634  -1.599  1.00  0.00           C  \\nATOM     52  C   GLU A   5      15.320   2.920  -0.906  1.00  0.00           C  \\nATOM     53  O   GLU A   5      16.123   2.257  -1.559  1.00  0.00           O  \\nATOM     54  H   GLU A   5      15.435   2.996   0.315  1.00  0.00           H  \\nATOM     55  CB  GLU A   5      12.995   3.329   0.099  1.00  0.00           C  \\nTER\\nEND          \\n\",\"pdb\",{\"keepH\": true});\n",
       "\tviewer_16577523229234629.setStyle({\"cartoon\": {\"color\": \"spectrum\"}, \"stick\": {\"radius\": 0.15}});\n",
       "\tviewer_16577523229234629.zoomTo();\n",
       "viewer_16577523229234629.render();\n",
       "});\n",
       "</script>"
      ]
     },
     "metadata": {},
     "output_type": "display_data"
    },
    {
     "data": {
      "text/plain": [
       "<py3Dmol.view at 0x7f673b2755e0>"
      ]
     },
     "execution_count": 11,
     "metadata": {},
     "output_type": "execute_result"
    }
   ],
   "source": [
    "p.sb = None\n",
    "p.to_3Dmol()"
   ]
  },
  {
   "cell_type": "code",
   "execution_count": null,
   "id": "ee489a48",
   "metadata": {},
   "outputs": [],
   "source": [
    "p.to_pdb(\"/home/jok120/Downloads/predh27.pdb\", title='predh')"
   ]
  },
  {
   "cell_type": "code",
   "execution_count": null,
   "id": "44175049",
   "metadata": {},
   "outputs": [],
   "source": [
    "print(p.to_pdbstr())"
   ]
  },
  {
   "cell_type": "code",
   "execution_count": null,
   "id": "9ded44e5",
   "metadata": {},
   "outputs": [],
   "source": []
  }
 ],
 "metadata": {
  "kernelspec": {
   "display_name": "Python [conda env:sidechainnetv2]",
   "language": "python",
   "name": "conda-env-sidechainnetv2-py"
  },
  "language_info": {
   "codemirror_mode": {
    "name": "ipython",
    "version": 3
   },
   "file_extension": ".py",
   "mimetype": "text/x-python",
   "name": "python",
   "nbconvert_exporter": "python",
   "pygments_lexer": "ipython3",
   "version": "3.8.12"
  }
 },
 "nbformat": 4,
 "nbformat_minor": 5
}
