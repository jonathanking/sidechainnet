{
 "cells": [
  {
   "cell_type": "code",
   "execution_count": 60,
   "id": "bbb54941",
   "metadata": {},
   "outputs": [
    {
     "name": "stdout",
     "output_type": "stream",
     "text": [
      "['/home/jok120/build/amber18/dat/leap/parm/frcmod.ff14SB', '/home/jok120/build/amber18/dat/leap/parm/parm99.dat']\n"
     ]
    }
   ],
   "source": [
    "amber_files = [\"/home/jok120/build/amber18/dat/leap/parm/\" + s for s in (\n",
    "    \"frcmod.ff14SB\", \"parm99.dat\")]\n",
    "atomnames_file = \"/home/jok120/build/amber18/dat/leap/lib/all_amino94.lib\"\n",
    "\n",
    "print(amber_files)"
   ]
  },
  {
   "cell_type": "code",
   "execution_count": 61,
   "id": "c6713f7b",
   "metadata": {},
   "outputs": [],
   "source": [
    "import re"
   ]
  },
  {
   "cell_type": "code",
   "execution_count": 71,
   "id": "71c39931",
   "metadata": {},
   "outputs": [],
   "source": [
    "import sidechainnet\n",
    "from sidechainnet.structure.fastbuild import AA3to1\n",
    "from sidechainnet.structure.HydrogenBuilder import HYDROGEN_NAMES"
   ]
  },
  {
   "cell_type": "code",
   "execution_count": 103,
   "id": "8bb4e807",
   "metadata": {},
   "outputs": [],
   "source": [
    "def get_atom_names_for_res(resname3, amber_atomname_file):\n",
    "    \"\"\"Extract (atom_name, amber_atom_type) tuples from AMBER data.\"\"\"\n",
    "    pattern = (rf'(?<=!entry\\.{resname3.upper()}\\.unit\\.atoms table  str name  str type '\n",
    "        \" int typex  int resx  int flags  int seq  int elmnt \"\n",
    "        r' dbl chg)(\\n \"[\\w\\*]+\" \"[\\w\\*]+\"[^\\n]*$)+')\n",
    "    with open(amber_atomname_file, \"r\") as f:\n",
    "        atomname_str = f.read()  \n",
    "    match = re.search(pattern, atomname_str, re.MULTILINE)\n",
    "    if match is None:\n",
    "        print(f\"Unable to find atom names for {resname3}.\")\n",
    "        return {}\n",
    "    atom_name_data = match.group(0).strip()\n",
    "    name_type_list = []\n",
    "    for line in atom_name_data.split(\"\\n\"):\n",
    "        fields = line.split()\n",
    "        name_type_list.append((fields[0].strip(\"\\\"\"), fields[1].strip(\"\\\"\")))\n",
    "    \n",
    "    return dict(name_type_list)"
   ]
  },
  {
   "cell_type": "code",
   "execution_count": 104,
   "id": "b1d7a5c3",
   "metadata": {},
   "outputs": [
    {
     "data": {
      "text/plain": [
       "{'N': 'N',\n",
       " 'H': 'H',\n",
       " 'CA': 'CT',\n",
       " 'HA': 'H1',\n",
       " 'CB': 'CT',\n",
       " 'HB2': 'HC',\n",
       " 'HB3': 'HC',\n",
       " 'CG': 'C*',\n",
       " 'CD1': 'CW',\n",
       " 'HD1': 'H4',\n",
       " 'NE1': 'NA',\n",
       " 'HE1': 'H',\n",
       " 'CE2': 'CN',\n",
       " 'CZ2': 'CA',\n",
       " 'HZ2': 'HA',\n",
       " 'CH2': 'CA',\n",
       " 'HH2': 'HA',\n",
       " 'CZ3': 'CA',\n",
       " 'HZ3': 'HA',\n",
       " 'CE3': 'CA',\n",
       " 'HE3': 'HA',\n",
       " 'CD2': 'CB',\n",
       " 'C': 'C',\n",
       " 'O': 'O'}"
      ]
     },
     "execution_count": 104,
     "metadata": {},
     "output_type": "execute_result"
    }
   ],
   "source": [
    "get_atom_names_for_res(\"TRP\", atomnames_file)"
   ]
  },
  {
   "cell_type": "code",
   "execution_count": 105,
   "id": "5350ac71",
   "metadata": {},
   "outputs": [],
   "source": [
    "def get_all_atom_names_dict():\n",
    "    \"\"\"Create a dictionary mapping RES3 -> {atomname: atomtype}.\"\"\"\n",
    "    all_dict = {}\n",
    "    for res3 in AA3to1.keys():\n",
    "        if res3 == \"HIS\":\n",
    "            all_dict[\"HIS\"] = get_atom_names_for_res(\"HID\", atomnames_file)\n",
    "        else:\n",
    "            all_dict[res3] = get_atom_names_for_res(res3, atomnames_file)\n",
    "    return all_dict"
   ]
  },
  {
   "cell_type": "code",
   "execution_count": 106,
   "id": "99abefb7",
   "metadata": {},
   "outputs": [],
   "source": [
    "at_dict = get_all_atom_names_dict()"
   ]
  },
  {
   "cell_type": "code",
   "execution_count": 107,
   "id": "3bc8594d",
   "metadata": {},
   "outputs": [
    {
     "name": "stdout",
     "output_type": "stream",
     "text": [
      "ALA ['H', 'HA', 'HB1', 'HB2', 'HB3']\n",
      "ARG ['H', 'HA', 'HB2', 'HB3', 'HD2', 'HD3', 'HG2', 'HG3', 'HE', 'HH11', 'HH12', 'HH21', 'HH22']\n",
      "ASN ['H', 'HA', 'HB2', 'HB3', 'HD21', 'HD22']\n",
      "ASP ['H', 'HA', 'HB2', 'HB3']\n",
      "CYS ['H', 'HA', 'HB2', 'HB3', 'HG']\n",
      "GLN ['H', 'HA', 'HB2', 'HB3', 'HG2', 'HG3', 'HE21', 'HE22']\n",
      "GLU ['H', 'HA', 'HB2', 'HB3', 'HG2', 'HG3']\n",
      "GLY ['H', 'HA2', 'HA3']\n",
      "HIS ['H', 'HA', 'HB2', 'HB3', 'HE1', 'HD2', 'HD1']\n",
      "ILE ['H', 'HA', 'HB', 'HD11', 'HD12', 'HD13', 'HG12', 'HG13', 'HG21', 'HG22', 'HG23']\n",
      "LEU ['H', 'HA', 'HB2', 'HB3', 'HD11', 'HD12', 'HD13', 'HD21', 'HD22', 'HD23', 'HG']\n",
      "LYS ['H', 'HA', 'HB2', 'HB3', 'HD2', 'HD3', 'HE2', 'HE3', 'HG2', 'HG3', 'HZ1', 'HZ2', 'HZ3']\n",
      "MET ['H', 'HA', 'HB2', 'HB3', 'HE1', 'HE2', 'HE3', 'HG2', 'HG3']\n",
      "PHE ['H', 'HA', 'HB2', 'HB3', 'HD1', 'HD2', 'HE1', 'HE2', 'HZ']\n",
      "PRO ['HA', 'HB2', 'HB3', 'HD2', 'HD3', 'HG2', 'HG3']\n",
      "SER ['H', 'HA', 'HB2', 'HB3', 'HG']\n",
      "THR ['H', 'HA', 'HB', 'HG1', 'HG21', 'HG22', 'HG23']\n",
      "TRP ['H', 'HA', 'HB2', 'HB3', 'HD1', 'HE1', 'HE3', 'HH2', 'HZ2', 'HZ3']\n",
      "TYR ['H', 'HA', 'HB2', 'HB3', 'HD1', 'HD2', 'HE1', 'HE2', 'HH']\n",
      "VAL ['H', 'HA', 'HB', 'HG11', 'HG12', 'HG13', 'HG21', 'HG22', 'HG23']\n"
     ]
    }
   ],
   "source": [
    "HYDROGEN_TYPES = HYDROGEN_NAMES.copy()\n",
    "for resname, atomnames in HYDROGEN_NAMES.items():\n",
    "    print(resname, atomnames)\n",
    "    HYDROGEN_TYPES[resname] = [at_dict[resname][an] for an in  atomnames]"
   ]
  },
  {
   "cell_type": "code",
   "execution_count": 110,
   "id": "d8b30a4a",
   "metadata": {},
   "outputs": [
    {
     "name": "stdout",
     "output_type": "stream",
     "text": [
      "{'ALA': ['H', 'H1', 'HC', 'HC', 'HC'],\n",
      " 'ARG': ['H',\n",
      "         'H1',\n",
      "         'HC',\n",
      "         'HC',\n",
      "         'H1',\n",
      "         'H1',\n",
      "         'HC',\n",
      "         'HC',\n",
      "         'H',\n",
      "         'H',\n",
      "         'H',\n",
      "         'H',\n",
      "         'H'],\n",
      " 'ASN': ['H', 'H1', 'HC', 'HC', 'H', 'H'],\n",
      " 'ASP': ['H', 'H1', 'HC', 'HC'],\n",
      " 'CYS': ['H', 'H1', 'H1', 'H1', 'HS'],\n",
      " 'GLN': ['H', 'H1', 'HC', 'HC', 'HC', 'HC', 'H', 'H'],\n",
      " 'GLU': ['H', 'H1', 'HC', 'HC', 'HC', 'HC'],\n",
      " 'GLY': ['H', 'H1', 'H1'],\n",
      " 'HIS': ['H', 'H1', 'HC', 'HC', 'H5', 'H4', 'H'],\n",
      " 'ILE': ['H', 'H1', 'HC', 'HC', 'HC', 'HC', 'HC', 'HC', 'HC', 'HC', 'HC'],\n",
      " 'LEU': ['H', 'H1', 'HC', 'HC', 'HC', 'HC', 'HC', 'HC', 'HC', 'HC', 'HC'],\n",
      " 'LYS': ['H',\n",
      "         'H1',\n",
      "         'HC',\n",
      "         'HC',\n",
      "         'HC',\n",
      "         'HC',\n",
      "         'HP',\n",
      "         'HP',\n",
      "         'HC',\n",
      "         'HC',\n",
      "         'H',\n",
      "         'H',\n",
      "         'H'],\n",
      " 'MET': ['H', 'H1', 'HC', 'HC', 'H1', 'H1', 'H1', 'H1', 'H1'],\n",
      " 'PHE': ['H', 'H1', 'HC', 'HC', 'HA', 'HA', 'HA', 'HA', 'HA'],\n",
      " 'PRO': ['H1', 'HC', 'HC', 'H1', 'H1', 'HC', 'HC'],\n",
      " 'SER': ['H', 'H1', 'H1', 'H1', 'HO'],\n",
      " 'THR': ['H', 'H1', 'H1', 'HO', 'HC', 'HC', 'HC'],\n",
      " 'TRP': ['H', 'H1', 'HC', 'HC', 'H4', 'H', 'HA', 'HA', 'HA', 'HA'],\n",
      " 'TYR': ['H', 'H1', 'HC', 'HC', 'HA', 'HA', 'HA', 'HA', 'HO'],\n",
      " 'VAL': ['H', 'H1', 'HC', 'HC', 'HC', 'HC', 'HC', 'HC', 'HC']}\n"
     ]
    }
   ],
   "source": [
    "import pprint\n",
    "pprint.pprint(HYDROGEN_TYPES)"
   ]
  },
  {
   "cell_type": "code",
   "execution_count": 70,
   "id": "5ca3dd20",
   "metadata": {},
   "outputs": [],
   "source": [
    "# Let's get this working first for TRP LEU ASP GLU\n",
    "bonded_pairs = {\n",
    "    \"ASP\": [(\"CA\", \"CB\"), (\"CB\", \"CG\"), (\"CG\", \"OD1\"), (\"CG\", \"OD2\")] + \\\n",
    "           [(\"CB\", \"HB2\"), (\"CB\", \"HB3\")],\n",
    "    \n",
    "    \"GLU\": [(\"CA\", \"CB\"), (\"CB\", \"CG\"), (\"CG\", \"CD\"), (\"CD\", \"OE1\"), (\"CD\", \"OE2\")] + \\\n",
    "           [('CB', 'HB2'), ('CB', 'HB3'), ('CG','HG2'), ('CG','HG3')],\n",
    "    \n",
    "    \"LEU\": [(\"CA\", \"CB\"), (\"CB\", \"CG\"), (\"CG\", \"CD1\"), (\"CG\", \"CD2\")] + \\\n",
    "           [('CB', 'HB2'), ('CB', 'HB3'), ('CD1', 'HD11'), ('CD1', 'HD12'),\n",
    "            ('CD1', 'HD13'), ('CD2', 'HD21'), ('CD2', 'HD22'), ('CD2', 'HD23'),\n",
    "            ('CG', 'HG')],\n",
    "    \n",
    "    \"TRP\": [('CA', 'CB'), ('CB', 'CG'), ('CG', 'CD1'), ('CD1', 'NE1'),\n",
    "            ('NE1', 'CE2'), ('CE2', 'CZ2'), ('CZ2', 'CH2'), ('CH2', 'CZ3'),\n",
    "            ('CZ3', 'CE3'), ('CE3', 'CD2')] + \\\n",
    "           [('C', 'HB2'), ('C', 'HB3'), ('C', 'HD1'), ('C', 'HE1'), ('C', 'HE3'), ('C', 'HH2'), ('C', 'HZ2'), ('C', 'HZ3')]\n",
    "}"
   ]
  },
  {
   "cell_type": "code",
   "execution_count": null,
   "id": "1f90be87",
   "metadata": {},
   "outputs": [],
   "source": [
    "C"
   ]
  }
 ],
 "metadata": {
  "kernelspec": {
   "display_name": "Python [conda env:sidechainnetv2] *",
   "language": "python",
   "name": "conda-env-sidechainnetv2-py"
  },
  "language_info": {
   "codemirror_mode": {
    "name": "ipython",
    "version": 3
   },
   "file_extension": ".py",
   "mimetype": "text/x-python",
   "name": "python",
   "nbconvert_exporter": "python",
   "pygments_lexer": "ipython3",
   "version": "3.8.12"
  }
 },
 "nbformat": 4,
 "nbformat_minor": 5
}
