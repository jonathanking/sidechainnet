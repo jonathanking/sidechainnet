{
 "cells": [
  {
   "cell_type": "code",
   "execution_count": 1,
   "id": "a53c5327",
   "metadata": {},
   "outputs": [
    {
     "name": "stdout",
     "output_type": "stream",
     "text": [
      "The padding character for missing data will be nan\n"
     ]
    }
   ],
   "source": [
    "import sidechainnet as scn\n",
    "from sidechainnet.create import generate_all_from_proteinnet\n",
    "print(\"The padding character for missing data will be\",\n",
    "      scn.utils.measure.GLOBAL_PAD_CHAR)"
   ]
  },
  {
   "cell_type": "code",
   "execution_count": 2,
   "id": "043b2aa1",
   "metadata": {},
   "outputs": [],
   "source": [
    "generate_all_from_proteinnet?"
   ]
  },
  {
   "cell_type": "code",
   "execution_count": 3,
   "id": "a1056a0a",
   "metadata": {
    "scrolled": true
   },
   "outputs": [
    {
     "name": "stdout",
     "output_type": "stream",
     "text": [
      "CASP 7\n",
      "Downloading SidechainNet specific data from RSCB PDB.\n",
      "148 IDs OK for parallel downloading.\n"
     ]
    },
    {
     "name": "stderr",
     "output_type": "stream",
     "text": [
      "100%|███████████████████████████████████████████████████████████████████████████████████████████████| 148/148 [00:24<00:00,  6.14it/s]"
     ]
    },
    {
     "name": "stdout",
     "output_type": "stream",
     "text": [
      "27 IDs OK for parallel downloading.\n"
     ]
    },
    {
     "name": "stderr",
     "output_type": "stream",
     "text": [
      "\n",
      "100%|█████████████████████████████████████████████████████████████████████████████████████████████████| 27/27 [00:05<00:00,  5.01it/s]\n"
     ]
    },
    {
     "name": "stdout",
     "output_type": "stream",
     "text": [
      "Downloading remaining 12  sequentially.\n"
     ]
    },
    {
     "name": "stderr",
     "output_type": "stream",
     "text": [
      "1A22_d1a22b2: 100%|███████████████████████████████████████████████████████████████████████████████████| 12/12 [00:21<00:00,  1.80s/it]"
     ]
    },
    {
     "name": "stdout",
     "output_type": "stream",
     "text": [
      "\n",
      "200 ProteinNet IDs were processed to extract sidechain data.\n",
      "No errors recorded.\n",
      "Be aware that 19 files may be using a different model number than the one\n",
      "specified by ProteinNet. See errors/MODIFIED_MODEL_WARNING.txt for a list of\n",
      "these proteins.\n",
      "Preparing to merge ProteinNet data with downloaded sidechain data.\n"
     ]
    },
    {
     "ename": "FileNotFoundError",
     "evalue": "[Errno 2] No such file or directory: '/home/jok120/proteinnet/data/casp7/torch/training_100.pkl'",
     "output_type": "error",
     "traceback": [
      "\u001b[0;31m---------------------------------------------------------------------------\u001b[0m",
      "\u001b[0;31mFileNotFoundError\u001b[0m                         Traceback (most recent call last)",
      "Input \u001b[0;32mIn [3]\u001b[0m, in \u001b[0;36m<module>\u001b[0;34m\u001b[0m\n\u001b[0;32m----> 1\u001b[0m \u001b[43mgenerate_all_from_proteinnet\u001b[49m\u001b[43m(\u001b[49m\n\u001b[1;32m      2\u001b[0m \u001b[43m    \u001b[49m\u001b[38;5;124;43m\"\u001b[39;49m\u001b[38;5;124;43m/home/jok120/proteinnet/data/\u001b[39;49m\u001b[38;5;124;43m\"\u001b[39;49m\u001b[43m,\u001b[49m\n\u001b[1;32m      3\u001b[0m \u001b[43m    \u001b[49m\u001b[38;5;124;43m\"\u001b[39;49m\u001b[38;5;124;43m/home/jok120/scn220502\u001b[39;49m\u001b[38;5;124;43m\"\u001b[39;49m\u001b[43m,\u001b[49m\n\u001b[1;32m      4\u001b[0m \u001b[43m    \u001b[49m\u001b[43mlimit\u001b[49m\u001b[38;5;241;43m=\u001b[39;49m\u001b[38;5;241;43m200\u001b[39;49m\u001b[43m,\u001b[49m\n\u001b[1;32m      5\u001b[0m \u001b[43m    \u001b[49m\u001b[43mregenerate_scdata\u001b[49m\u001b[38;5;241;43m=\u001b[39;49m\u001b[38;5;28;43;01mTrue\u001b[39;49;00m\u001b[43m)\u001b[49m\n",
      "File \u001b[0;32m~/sidechainnet/sidechainnet/create.py:506\u001b[0m, in \u001b[0;36mgenerate_all_from_proteinnet\u001b[0;34m(proteinnet_dir, sidechainnet_out, num_cores, limit, regenerate_scdata)\u001b[0m\n\u001b[1;32m    496\u001b[0m args \u001b[38;5;241m=\u001b[39m ArgsTuple(\n\u001b[1;32m    497\u001b[0m     casp_version\u001b[38;5;241m=\u001b[39mc,\n\u001b[1;32m    498\u001b[0m     thinning\u001b[38;5;241m=\u001b[39m\u001b[38;5;124m'\u001b[39m\u001b[38;5;124mall\u001b[39m\u001b[38;5;124m'\u001b[39m,\n\u001b[0;32m   (...)\u001b[0m\n\u001b[1;32m    503\u001b[0m     limit\u001b[38;5;241m=\u001b[39mlimit,\n\u001b[1;32m    504\u001b[0m     num_cores\u001b[38;5;241m=\u001b[39mnum_cores)\n\u001b[1;32m    505\u001b[0m \u001b[38;5;66;03m# Create all thinnings for the current CASP version\u001b[39;00m\n\u001b[0;32m--> 506\u001b[0m \u001b[43m_create_all\u001b[49m\u001b[43m(\u001b[49m\u001b[43margs\u001b[49m\u001b[43m)\u001b[49m\n",
      "File \u001b[0;32m~/sidechainnet/sidechainnet/create.py:293\u001b[0m, in \u001b[0;36m_create_all\u001b[0;34m(args)\u001b[0m\n\u001b[1;32m    282\u001b[0m sc_only_data, sc_filename \u001b[38;5;241m=\u001b[39m download_sidechain_data(\n\u001b[1;32m    283\u001b[0m     pnids,\n\u001b[1;32m    284\u001b[0m     args\u001b[38;5;241m.\u001b[39msidechainnet_out,\n\u001b[0;32m   (...)\u001b[0m\n\u001b[1;32m    289\u001b[0m     regenerate_scdata\u001b[38;5;241m=\u001b[39margs\u001b[38;5;241m.\u001b[39mregenerate_scdata,\n\u001b[1;32m    290\u001b[0m     num_cores\u001b[38;5;241m=\u001b[39margs\u001b[38;5;241m.\u001b[39mnum_cores)\n\u001b[1;32m    292\u001b[0m \u001b[38;5;66;03m# Finally, unify the sidechain data with ProteinNet\u001b[39;00m\n\u001b[0;32m--> 293\u001b[0m sidechainnet_raw_100 \u001b[38;5;241m=\u001b[39m \u001b[43mcombine_datasets\u001b[49m\u001b[43m(\u001b[49m\u001b[43margs\u001b[49m\u001b[38;5;241;43m.\u001b[39;49m\u001b[43mproteinnet_out\u001b[49m\u001b[43m,\u001b[49m\u001b[43m \u001b[49m\u001b[43msc_only_data\u001b[49m\u001b[43m)\u001b[49m\n\u001b[1;32m    295\u001b[0m \u001b[38;5;66;03m# Generate debug dataset with 200 training examples\u001b[39;00m\n\u001b[1;32m    296\u001b[0m sc_outfile \u001b[38;5;241m=\u001b[39m os\u001b[38;5;241m.\u001b[39mpath\u001b[38;5;241m.\u001b[39mjoin(\n\u001b[1;32m    297\u001b[0m     args\u001b[38;5;241m.\u001b[39msidechainnet_out,\n\u001b[1;32m    298\u001b[0m     format_sidechainnet_path(\u001b[38;5;124m\"\u001b[39m\u001b[38;5;124mdebug\u001b[39m\u001b[38;5;124m\"\u001b[39m, \u001b[38;5;241m0\u001b[39m)\u001b[38;5;241m.\u001b[39mreplace(\u001b[38;5;124m\"\u001b[39m\u001b[38;5;124mdebug\u001b[39m\u001b[38;5;124m\"\u001b[39m,\n\u001b[1;32m    299\u001b[0m                                                  \u001b[38;5;124mf\u001b[39m\u001b[38;5;124m\"\u001b[39m\u001b[38;5;124mdebug\u001b[39m\u001b[38;5;132;01m{\u001b[39;00margs\u001b[38;5;241m.\u001b[39mcasp_version\u001b[38;5;132;01m}\u001b[39;00m\u001b[38;5;124m\"\u001b[39m))\n",
      "File \u001b[0;32m~/sidechainnet/sidechainnet/create.py:172\u001b[0m, in \u001b[0;36mcombine_datasets\u001b[0;34m(proteinnet_out, sc_data, thinning)\u001b[0m\n\u001b[1;32m    170\u001b[0m pn_data \u001b[38;5;241m=\u001b[39m {}\n\u001b[1;32m    171\u001b[0m \u001b[38;5;28;01mfor\u001b[39;00m f \u001b[38;5;129;01min\u001b[39;00m pn_files:\n\u001b[0;32m--> 172\u001b[0m     d \u001b[38;5;241m=\u001b[39m \u001b[43mload_data\u001b[49m\u001b[43m(\u001b[49m\u001b[43mf\u001b[49m\u001b[43m)\u001b[49m\n\u001b[1;32m    173\u001b[0m     pn_data\u001b[38;5;241m.\u001b[39mupdate(d)\n\u001b[1;32m    174\u001b[0m \u001b[38;5;28;01mdel\u001b[39;00m d\n",
      "File \u001b[0;32m~/sidechainnet/sidechainnet/utils/organize.py:203\u001b[0m, in \u001b[0;36mload_data\u001b[0;34m(path)\u001b[0m\n\u001b[1;32m    201\u001b[0m \u001b[38;5;28;01mdef\u001b[39;00m \u001b[38;5;21mload_data\u001b[39m(path):\n\u001b[1;32m    202\u001b[0m     \u001b[38;5;124;03m\"\"\"Loads SidechainNet data dict from a given, local filepath.\"\"\"\u001b[39;00m\n\u001b[0;32m--> 203\u001b[0m     \u001b[38;5;28;01mwith\u001b[39;00m \u001b[38;5;28;43mopen\u001b[39;49m\u001b[43m(\u001b[49m\u001b[43mpath\u001b[49m\u001b[43m,\u001b[49m\u001b[43m \u001b[49m\u001b[38;5;124;43m\"\u001b[39;49m\u001b[38;5;124;43mrb\u001b[39;49m\u001b[38;5;124;43m\"\u001b[39;49m\u001b[43m)\u001b[49m \u001b[38;5;28;01mas\u001b[39;00m f:\n\u001b[1;32m    204\u001b[0m         \u001b[38;5;28;01mreturn\u001b[39;00m pickle\u001b[38;5;241m.\u001b[39mload(f)\n",
      "\u001b[0;31mFileNotFoundError\u001b[0m: [Errno 2] No such file or directory: '/home/jok120/proteinnet/data/casp7/torch/training_100.pkl'"
     ]
    }
   ],
   "source": [
    "generate_all_from_proteinnet(\n",
    "    \"/home/jok120/proteinnet/data/\",\n",
    "    \"/home/jok120/scn220502\",\n",
    "    limit=200,\n",
    "    regenerate_scdata=True)"
   ]
  },
  {
   "cell_type": "code",
   "execution_count": null,
   "id": "c1136fad",
   "metadata": {},
   "outputs": [],
   "source": [
    "print(ArgsTuple())"
   ]
  },
  {
   "cell_type": "code",
   "execution_count": null,
   "id": "ec57918e",
   "metadata": {},
   "outputs": [],
   "source": [
    "casp_version = 12\n",
    "casp_thinning = 100\n",
    "proteinnet_in = \n",
    "args = ArgsTuple(12,\n",
    "                100,\n",
    "                )"
   ]
  },
  {
   "cell_type": "code",
   "execution_count": null,
   "id": "ffd8629a",
   "metadata": {},
   "outputs": [],
   "source": [
    "!python /home/jok120/sidechainnet/sidechainnet/create.py --help"
   ]
  },
  {
   "cell_type": "code",
   "execution_count": null,
   "id": "bf3cd3a4",
   "metadata": {},
   "outputs": [],
   "source": [
    "%%bash\n",
    "PATH_TO_PROTEINNET_FILES=\"/home/jok120/proteinnet/data/casp12/casp12\"\n",
    "SCN_OUT=\"/home/jok120/scn220502\"\n",
    "PTN_OUT=\"/home/jok120/ptn220502\"\n",
    "python /home/jok120/sidechainnet/sidechainnet/create.py $PATH_TO_PROTEINNET_FILES \\\n",
    "--thinning=30 --sidechainnet_out=$SCN_OUT --casp_version=12"
   ]
  },
  {
   "cell_type": "code",
   "execution_count": null,
   "id": "da2d4498",
   "metadata": {},
   "outputs": [],
   "source": [
    "import torch\n",
    "torch.__version__"
   ]
  },
  {
   "cell_type": "code",
   "execution_count": null,
   "id": "6f1979fc",
   "metadata": {},
   "outputs": [],
   "source": []
  }
 ],
 "metadata": {
  "kernelspec": {
   "display_name": "Python [conda env:sidechainnetv2]",
   "language": "python",
   "name": "conda-env-sidechainnetv2-py"
  },
  "language_info": {
   "codemirror_mode": {
    "name": "ipython",
    "version": 3
   },
   "file_extension": ".py",
   "mimetype": "text/x-python",
   "name": "python",
   "nbconvert_exporter": "python",
   "pygments_lexer": "ipython3",
   "version": "3.8.12"
  }
 },
 "nbformat": 4,
 "nbformat_minor": 5
}
